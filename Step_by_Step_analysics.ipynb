{
 "cells": [
  {
   "cell_type": "code",
   "execution_count": 1,
   "metadata": {},
   "outputs": [],
   "source": [
    "import tweepy\n",
    "#from textblob import Textblob "
   ]
  },
  {
   "cell_type": "code",
   "execution_count": 2,
   "metadata": {},
   "outputs": [],
   "source": [
    "consumer_key = ################################"
   ]
  },
  {
   "cell_type": "code",
   "execution_count": 3,
   "metadata": {},
   "outputs": [],
   "source": [
    "consumer_secret = ##################################"
   ]
  },
  {
   "cell_type": "code",
   "execution_count": 4,
   "metadata": {},
   "outputs": [],
   "source": [
    "access_key = ###############################"
   ]
  },
  {
   "cell_type": "code",
   "execution_count": 5,
   "metadata": {},
   "outputs": [],
   "source": [
    "access_secret = #####################################"
   ]
  },
  {
   "cell_type": "code",
   "execution_count": 6,
   "metadata": {},
   "outputs": [],
   "source": [
    "auth = tweepy.OAuthHandler(consumer_key,consumer_secret)"
   ]
  },
  {
   "cell_type": "code",
   "execution_count": 7,
   "metadata": {},
   "outputs": [],
   "source": [
    "auth.set_access_token(access_key,access_secret)"
   ]
  },
  {
   "cell_type": "code",
   "execution_count": 8,
   "metadata": {},
   "outputs": [],
   "source": [
    "api = tweepy.API(auth)"
   ]
  },
  {
   "cell_type": "code",
   "execution_count": 9,
   "metadata": {},
   "outputs": [],
   "source": [
    "public_tweets = api.search('Trump') "
   ]
  },
  {
   "cell_type": "code",
   "execution_count": 10,
   "metadata": {},
   "outputs": [
    {
     "name": "stdout",
     "output_type": "stream",
     "text": [
      "[Status(_api=<tweepy.api.API object at 0x7fa1c6d13490>, _json={'created_at': 'Tue Jun 23 16:14:43 +0000 2020', 'id': 1275462300061835266, 'id_str': '1275462300061835266', 'text': '@GOP @TeamTrump Enthusiasm for Trump ??? ah ah ah  !!!! https://t.co/jW9QTqQQOu', 'truncated': False, 'entities': {'hashtags': [], 'symbols': [], 'user_mentions': [{'screen_name': 'GOP', 'name': 'GOP', 'id': 11134252, 'id_str': '11134252', 'indices': [0, 4]}, {'screen_name': 'TeamTrump', 'name': 'Team Trump (Text TRUMP to 88022)', 'id': 729676086632656900, 'id_str': '729676086632656900', 'indices': [5, 15]}], 'urls': [], 'media': [{'id': 1275462289987186690, 'id_str': '1275462289987186690', 'indices': [56, 79], 'media_url': 'http://pbs.twimg.com/media/EbNaMe8XsAIkAmO.jpg', 'media_url_https': 'https://pbs.twimg.com/media/EbNaMe8XsAIkAmO.jpg', 'url': 'https://t.co/jW9QTqQQOu', 'display_url': 'pic.twitter.com/jW9QTqQQOu', 'expanded_url': 'https://twitter.com/ZeFilou/status/1275462300061835266/photo/1', 'type': 'photo', 'sizes': {'thumb': {'w': 150, 'h': 150, 'resize': 'crop'}, 'small': {'w': 680, 'h': 680, 'resize': 'fit'}, 'large': {'w': 1024, 'h': 1024, 'resize': 'fit'}, 'medium': {'w': 1024, 'h': 1024, 'resize': 'fit'}}}]}, 'extended_entities': {'media': [{'id': 1275462289987186690, 'id_str': '1275462289987186690', 'indices': [56, 79], 'media_url': 'http://pbs.twimg.com/media/EbNaMe8XsAIkAmO.jpg', 'media_url_https': 'https://pbs.twimg.com/media/EbNaMe8XsAIkAmO.jpg', 'url': 'https://t.co/jW9QTqQQOu', 'display_url': 'pic.twitter.com/jW9QTqQQOu', 'expanded_url': 'https://twitter.com/ZeFilou/status/1275462300061835266/photo/1', 'type': 'photo', 'sizes': {'thumb': {'w': 150, 'h': 150, 'resize': 'crop'}, 'small': {'w': 680, 'h': 680, 'resize': 'fit'}, 'large': {'w': 1024, 'h': 1024, 'resize': 'fit'}, 'medium': {'w': 1024, 'h': 1024, 'resize': 'fit'}}}]}, 'metadata': {'iso_language_code': 'en', 'result_type': 'recent'}, 'source': '<a href=\"https://mobile.twitter.com\" rel=\"nofollow\">Twitter Web App</a>', 'in_reply_to_status_id': 1275186858381791232, 'in_reply_to_status_id_str': '1275186858381791232', 'in_reply_to_user_id': 11134252, 'in_reply_to_user_id_str': '11134252', 'in_reply_to_screen_name': 'GOP', 'user': {'id': 17398656, 'id_str': '17398656', 'name': 'GoldFinger', 'screen_name': 'ZeFilou', 'location': '', 'description': 'Juste un doigt, pas plus.', 'url': None, 'entities': {'description': {'urls': []}}, 'protected': False, 'followers_count': 11, 'friends_count': 65, 'listed_count': 0, 'created_at': 'Fri Nov 14 23:52:18 +0000 2008', 'favourites_count': 275, 'utc_offset': None, 'time_zone': None, 'geo_enabled': False, 'verified': False, 'statuses_count': 4507, 'lang': None, 'contributors_enabled': False, 'is_translator': False, 'is_translation_enabled': False, 'profile_background_color': '000000', 'profile_background_image_url': 'http://abs.twimg.com/images/themes/theme15/bg.png', 'profile_background_image_url_https': 'https://abs.twimg.com/images/themes/theme15/bg.png', 'profile_background_tile': False, 'profile_image_url': 'http://pbs.twimg.com/profile_images/1146385401982193665/ILeUS4BU_normal.png', 'profile_image_url_https': 'https://pbs.twimg.com/profile_images/1146385401982193665/ILeUS4BU_normal.png', 'profile_banner_url': 'https://pbs.twimg.com/profile_banners/17398656/1562934146', 'profile_link_color': 'ABB8C2', 'profile_sidebar_border_color': '000000', 'profile_sidebar_fill_color': '000000', 'profile_text_color': '000000', 'profile_use_background_image': False, 'has_extended_profile': True, 'default_profile': False, 'default_profile_image': False, 'following': False, 'follow_request_sent': False, 'notifications': False, 'translator_type': 'none'}, 'geo': None, 'coordinates': None, 'place': None, 'contributors': None, 'is_quote_status': False, 'retweet_count': 0, 'favorite_count': 0, 'favorited': False, 'retweeted': False, 'possibly_sensitive': False, 'lang': 'en'}, created_at=datetime.datetime(2020, 6, 23, 16, 14, 43), id=1275462300061835266, id_str='1275462300061835266', text='@GOP @TeamTrump Enthusiasm for Trump ??? ah ah ah  !!!! https://t.co/jW9QTqQQOu', truncated=False, entities={'hashtags': [], 'symbols': [], 'user_mentions': [{'screen_name': 'GOP', 'name': 'GOP', 'id': 11134252, 'id_str': '11134252', 'indices': [0, 4]}, {'screen_name': 'TeamTrump', 'name': 'Team Trump (Text TRUMP to 88022)', 'id': 729676086632656900, 'id_str': '729676086632656900', 'indices': [5, 15]}], 'urls': [], 'media': [{'id': 1275462289987186690, 'id_str': '1275462289987186690', 'indices': [56, 79], 'media_url': 'http://pbs.twimg.com/media/EbNaMe8XsAIkAmO.jpg', 'media_url_https': 'https://pbs.twimg.com/media/EbNaMe8XsAIkAmO.jpg', 'url': 'https://t.co/jW9QTqQQOu', 'display_url': 'pic.twitter.com/jW9QTqQQOu', 'expanded_url': 'https://twitter.com/ZeFilou/status/1275462300061835266/photo/1', 'type': 'photo', 'sizes': {'thumb': {'w': 150, 'h': 150, 'resize': 'crop'}, 'small': {'w': 680, 'h': 680, 'resize': 'fit'}, 'large': {'w': 1024, 'h': 1024, 'resize': 'fit'}, 'medium': {'w': 1024, 'h': 1024, 'resize': 'fit'}}}]}, extended_entities={'media': [{'id': 1275462289987186690, 'id_str': '1275462289987186690', 'indices': [56, 79], 'media_url': 'http://pbs.twimg.com/media/EbNaMe8XsAIkAmO.jpg', 'media_url_https': 'https://pbs.twimg.com/media/EbNaMe8XsAIkAmO.jpg', 'url': 'https://t.co/jW9QTqQQOu', 'display_url': 'pic.twitter.com/jW9QTqQQOu', 'expanded_url': 'https://twitter.com/ZeFilou/status/1275462300061835266/photo/1', 'type': 'photo', 'sizes': {'thumb': {'w': 150, 'h': 150, 'resize': 'crop'}, 'small': {'w': 680, 'h': 680, 'resize': 'fit'}, 'large': {'w': 1024, 'h': 1024, 'resize': 'fit'}, 'medium': {'w': 1024, 'h': 1024, 'resize': 'fit'}}}]}, metadata={'iso_language_code': 'en', 'result_type': 'recent'}, source='Twitter Web App', source_url='https://mobile.twitter.com', in_reply_to_status_id=1275186858381791232, in_reply_to_status_id_str='1275186858381791232', in_reply_to_user_id=11134252, in_reply_to_user_id_str='11134252', in_reply_to_screen_name='GOP', author=User(_api=<tweepy.api.API object at 0x7fa1c6d13490>, _json={'id': 17398656, 'id_str': '17398656', 'name': 'GoldFinger', 'screen_name': 'ZeFilou', 'location': '', 'description': 'Juste un doigt, pas plus.', 'url': None, 'entities': {'description': {'urls': []}}, 'protected': False, 'followers_count': 11, 'friends_count': 65, 'listed_count': 0, 'created_at': 'Fri Nov 14 23:52:18 +0000 2008', 'favourites_count': 275, 'utc_offset': None, 'time_zone': None, 'geo_enabled': False, 'verified': False, 'statuses_count': 4507, 'lang': None, 'contributors_enabled': False, 'is_translator': False, 'is_translation_enabled': False, 'profile_background_color': '000000', 'profile_background_image_url': 'http://abs.twimg.com/images/themes/theme15/bg.png', 'profile_background_image_url_https': 'https://abs.twimg.com/images/themes/theme15/bg.png', 'profile_background_tile': False, 'profile_image_url': 'http://pbs.twimg.com/profile_images/1146385401982193665/ILeUS4BU_normal.png', 'profile_image_url_https': 'https://pbs.twimg.com/profile_images/1146385401982193665/ILeUS4BU_normal.png', 'profile_banner_url': 'https://pbs.twimg.com/profile_banners/17398656/1562934146', 'profile_link_color': 'ABB8C2', 'profile_sidebar_border_color': '000000', 'profile_sidebar_fill_color': '000000', 'profile_text_color': '000000', 'profile_use_background_image': False, 'has_extended_profile': True, 'default_profile': False, 'default_profile_image': False, 'following': False, 'follow_request_sent': False, 'notifications': False, 'translator_type': 'none'}, id=17398656, id_str='17398656', name='GoldFinger', screen_name='ZeFilou', location='', description='Juste un doigt, pas plus.', url=None, entities={'description': {'urls': []}}, protected=False, followers_count=11, friends_count=65, listed_count=0, created_at=datetime.datetime(2008, 11, 14, 23, 52, 18), favourites_count=275, utc_offset=None, time_zone=None, geo_enabled=False, verified=False, statuses_count=4507, lang=None, contributors_enabled=False, is_translator=False, is_translation_enabled=False, profile_background_color='000000', profile_background_image_url='http://abs.twimg.com/images/themes/theme15/bg.png', profile_background_image_url_https='https://abs.twimg.com/images/themes/theme15/bg.png', profile_background_tile=False, profile_image_url='http://pbs.twimg.com/profile_images/1146385401982193665/ILeUS4BU_normal.png', profile_image_url_https='https://pbs.twimg.com/profile_images/1146385401982193665/ILeUS4BU_normal.png', profile_banner_url='https://pbs.twimg.com/profile_banners/17398656/1562934146', profile_link_color='ABB8C2', profile_sidebar_border_color='000000', profile_sidebar_fill_color='000000', profile_text_color='000000', profile_use_background_image=False, has_extended_profile=True, default_profile=False, default_profile_image=False, following=False, follow_request_sent=False, notifications=False, translator_type='none'), user=User(_api=<tweepy.api.API object at 0x7fa1c6d13490>, _json={'id': 17398656, 'id_str': '17398656', 'name': 'GoldFinger', 'screen_name': 'ZeFilou', 'location': '', 'description': 'Juste un doigt, pas plus.', 'url': None, 'entities': {'description': {'urls': []}}, 'protected': False, 'followers_count': 11, 'friends_count': 65, 'listed_count': 0, 'created_at': 'Fri Nov 14 23:52:18 +0000 2008', 'favourites_count': 275, 'utc_offset': None, 'time_zone': None, 'geo_enabled': False, 'verified': False, 'statuses_count': 4507, 'lang': None, 'contributors_enabled': False, 'is_translator': False, 'is_translation_enabled': False, 'profile_background_color': '000000', 'profile_background_image_url': 'http://abs.twimg.com/images/themes/theme15/bg.png', 'profile_background_image_url_https': 'https://abs.twimg.com/images/themes/theme15/bg.png', 'profile_background_tile': False, 'profile_image_url': 'http://pbs.twimg.com/profile_images/1146385401982193665/ILeUS4BU_normal.png', 'profile_image_url_https': 'https://pbs.twimg.com/profile_images/1146385401982193665/ILeUS4BU_normal.png', 'profile_banner_url': 'https://pbs.twimg.com/profile_banners/17398656/1562934146', 'profile_link_color': 'ABB8C2', 'profile_sidebar_border_color': '000000', 'profile_sidebar_fill_color': '000000', 'profile_text_color': '000000', 'profile_use_background_image': False, 'has_extended_profile': True, 'default_profile': False, 'default_profile_image': False, 'following': False, 'follow_request_sent': False, 'notifications': False, 'translator_type': 'none'}, id=17398656, id_str='17398656', name='GoldFinger', screen_name='ZeFilou', location='', description='Juste un doigt, pas plus.', url=None, entities={'description': {'urls': []}}, protected=False, followers_count=11, friends_count=65, listed_count=0, created_at=datetime.datetime(2008, 11, 14, 23, 52, 18), favourites_count=275, utc_offset=None, time_zone=None, geo_enabled=False, verified=False, statuses_count=4507, lang=None, contributors_enabled=False, is_translator=False, is_translation_enabled=False, profile_background_color='000000', profile_background_image_url='http://abs.twimg.com/images/themes/theme15/bg.png', profile_background_image_url_https='https://abs.twimg.com/images/themes/theme15/bg.png', profile_background_tile=False, profile_image_url='http://pbs.twimg.com/profile_images/1146385401982193665/ILeUS4BU_normal.png', profile_image_url_https='https://pbs.twimg.com/profile_images/1146385401982193665/ILeUS4BU_normal.png', profile_banner_url='https://pbs.twimg.com/profile_banners/17398656/1562934146', profile_link_color='ABB8C2', profile_sidebar_border_color='000000', profile_sidebar_fill_color='000000', profile_text_color='000000', profile_use_background_image=False, has_extended_profile=True, default_profile=False, default_profile_image=False, following=False, follow_request_sent=False, notifications=False, translator_type='none'), geo=None, coordinates=None, place=None, contributors=None, is_quote_status=False, retweet_count=0, favorite_count=0, favorited=False, retweeted=False, possibly_sensitive=False, lang='en'), Status(_api=<tweepy.api.API object at 0x7fa1c6d13490>, _json={'created_at': 'Tue Jun 23 16:14:43 +0000 2020', 'id': 1275462299898257409, 'id_str': '1275462299898257409', 'text': 'RT @PetrSvab: Some @Facebook content moderators were recorded as saying that they delete anything #conservative or pro-#Trump.\\nSome, it app…', 'truncated': False, 'entities': {'hashtags': [{'text': 'conservative', 'indices': [98, 111]}, {'text': 'Trump', 'indices': [119, 125]}], 'symbols': [], 'user_mentions': [{'screen_name': 'PetrSvab', 'name': 'Petr Svab', 'id': 59116050, 'id_str': '59116050', 'indices': [3, 12]}, {'screen_name': 'Facebook', 'name': 'Facebook', 'id': 2425151, 'id_str': '2425151', 'indices': [19, 28]}], 'urls': []}, 'metadata': {'iso_language_code': 'en', 'result_type': 'recent'}, 'source': '<a href=\"https://mobile.twitter.com\" rel=\"nofollow\">Twitter Web App</a>', 'in_reply_to_status_id': None, 'in_reply_to_status_id_str': None, 'in_reply_to_user_id': None, 'in_reply_to_user_id_str': None, 'in_reply_to_screen_name': None, 'user': {'id': 233657633, 'id_str': '233657633', 'name': 'Dave Root ♿🇺🇸☕', 'screen_name': 'dave_root', 'location': 'Kentucky, USA', 'description': 'Father of 2 Combat Veteran Sons. Grandfather of 5. Retired Army Master Sergeant. Disabled Vietnam Veteran. Cold War Era Veteran     #TwitterPhilanthropy', 'url': None, 'entities': {'description': {'urls': []}}, 'protected': False, 'followers_count': 241, 'friends_count': 108, 'listed_count': 1, 'created_at': 'Mon Jan 03 20:07:02 +0000 2011', 'favourites_count': 68842, 'utc_offset': None, 'time_zone': None, 'geo_enabled': False, 'verified': False, 'statuses_count': 67424, 'lang': None, 'contributors_enabled': False, 'is_translator': False, 'is_translation_enabled': False, 'profile_background_color': '000000', 'profile_background_image_url': 'http://abs.twimg.com/images/themes/theme1/bg.png', 'profile_background_image_url_https': 'https://abs.twimg.com/images/themes/theme1/bg.png', 'profile_background_tile': False, 'profile_image_url': 'http://pbs.twimg.com/profile_images/674700995784548352/8k1rpCeh_normal.jpg', 'profile_image_url_https': 'https://pbs.twimg.com/profile_images/674700995784548352/8k1rpCeh_normal.jpg', 'profile_link_color': '91D2FA', 'profile_sidebar_border_color': '000000', 'profile_sidebar_fill_color': '000000', 'profile_text_color': '000000', 'profile_use_background_image': False, 'has_extended_profile': False, 'default_profile': False, 'default_profile_image': False, 'following': False, 'follow_request_sent': False, 'notifications': False, 'translator_type': 'none'}, 'geo': None, 'coordinates': None, 'place': None, 'contributors': None, 'retweeted_status': {'created_at': 'Tue Jun 23 14:27:52 +0000 2020', 'id': 1275435409707687936, 'id_str': '1275435409707687936', 'text': 'Some @Facebook content moderators were recorded as saying that they delete anything #conservative or pro-#Trump.\\nSo… https://t.co/5bPQ9mqU9V', 'truncated': True, 'entities': {'hashtags': [{'text': 'conservative', 'indices': [84, 97]}, {'text': 'Trump', 'indices': [105, 111]}], 'symbols': [], 'user_mentions': [{'screen_name': 'Facebook', 'name': 'Facebook', 'id': 2425151, 'id_str': '2425151', 'indices': [5, 14]}], 'urls': [{'url': 'https://t.co/5bPQ9mqU9V', 'expanded_url': 'https://twitter.com/i/web/status/1275435409707687936', 'display_url': 'twitter.com/i/web/status/1…', 'indices': [117, 140]}]}, 'metadata': {'iso_language_code': 'en', 'result_type': 'recent'}, 'source': '<a href=\"https://mobile.twitter.com\" rel=\"nofollow\">Twitter Web App</a>', 'in_reply_to_status_id': None, 'in_reply_to_status_id_str': None, 'in_reply_to_user_id': None, 'in_reply_to_user_id_str': None, 'in_reply_to_screen_name': None, 'user': {'id': 59116050, 'id_str': '59116050', 'name': 'Petr Svab', 'screen_name': 'PetrSvab', 'location': 'NY', 'description': 'Reporter with The Epoch Times (these views are my own). Reach me at: petr.svab(at)epochtimes(dot)com', 'url': 'http://t.co/gDy6YEcd52', 'entities': {'url': {'urls': [{'url': 'http://t.co/gDy6YEcd52', 'expanded_url': 'http://theepochtimes.com', 'display_url': 'theepochtimes.com', 'indices': [0, 22]}]}, 'description': {'urls': []}}, 'protected': False, 'followers_count': 8748, 'friends_count': 605, 'listed_count': 71, 'created_at': 'Wed Jul 22 12:48:16 +0000 2009', 'favourites_count': 438, 'utc_offset': None, 'time_zone': None, 'geo_enabled': False, 'verified': False, 'statuses_count': 2083, 'lang': None, 'contributors_enabled': False, 'is_translator': False, 'is_translation_enabled': False, 'profile_background_color': 'FFFFFF', 'profile_background_image_url': 'http://abs.twimg.com/images/themes/theme1/bg.png', 'profile_background_image_url_https': 'https://abs.twimg.com/images/themes/theme1/bg.png', 'profile_background_tile': False, 'profile_image_url': 'http://pbs.twimg.com/profile_images/1275162092652429315/S6CbUbhW_normal.jpg', 'profile_image_url_https': 'https://pbs.twimg.com/profile_images/1275162092652429315/S6CbUbhW_normal.jpg', 'profile_banner_url': 'https://pbs.twimg.com/profile_banners/59116050/1582310357', 'profile_link_color': '8021DE', 'profile_sidebar_border_color': '1C4008', 'profile_sidebar_fill_color': '7795DB', 'profile_text_color': '333333', 'profile_use_background_image': True, 'has_extended_profile': False, 'default_profile': False, 'default_profile_image': False, 'following': False, 'follow_request_sent': False, 'notifications': False, 'translator_type': 'none'}, 'geo': None, 'coordinates': None, 'place': None, 'contributors': None, 'is_quote_status': False, 'retweet_count': 446, 'favorite_count': 518, 'favorited': False, 'retweeted': False, 'possibly_sensitive': False, 'lang': 'en'}, 'is_quote_status': False, 'retweet_count': 446, 'favorite_count': 0, 'favorited': False, 'retweeted': False, 'lang': 'en'}, created_at=datetime.datetime(2020, 6, 23, 16, 14, 43), id=1275462299898257409, id_str='1275462299898257409', text='RT @PetrSvab: Some @Facebook content moderators were recorded as saying that they delete anything #conservative or pro-#Trump.\\nSome, it app…', truncated=False, entities={'hashtags': [{'text': 'conservative', 'indices': [98, 111]}, {'text': 'Trump', 'indices': [119, 125]}], 'symbols': [], 'user_mentions': [{'screen_name': 'PetrSvab', 'name': 'Petr Svab', 'id': 59116050, 'id_str': '59116050', 'indices': [3, 12]}, {'screen_name': 'Facebook', 'name': 'Facebook', 'id': 2425151, 'id_str': '2425151', 'indices': [19, 28]}], 'urls': []}, metadata={'iso_language_code': 'en', 'result_type': 'recent'}, source='Twitter Web App', source_url='https://mobile.twitter.com', in_reply_to_status_id=None, in_reply_to_status_id_str=None, in_reply_to_user_id=None, in_reply_to_user_id_str=None, in_reply_to_screen_name=None, author=User(_api=<tweepy.api.API object at 0x7fa1c6d13490>, _json={'id': 233657633, 'id_str': '233657633', 'name': 'Dave Root ♿🇺🇸☕', 'screen_name': 'dave_root', 'location': 'Kentucky, USA', 'description': 'Father of 2 Combat Veteran Sons. Grandfather of 5. Retired Army Master Sergeant. Disabled Vietnam Veteran. Cold War Era Veteran     #TwitterPhilanthropy', 'url': None, 'entities': {'description': {'urls': []}}, 'protected': False, 'followers_count': 241, 'friends_count': 108, 'listed_count': 1, 'created_at': 'Mon Jan 03 20:07:02 +0000 2011', 'favourites_count': 68842, 'utc_offset': None, 'time_zone': None, 'geo_enabled': False, 'verified': False, 'statuses_count': 67424, 'lang': None, 'contributors_enabled': False, 'is_translator': False, 'is_translation_enabled': False, 'profile_background_color': '000000', 'profile_background_image_url': 'http://abs.twimg.com/images/themes/theme1/bg.png', 'profile_background_image_url_https': 'https://abs.twimg.com/images/themes/theme1/bg.png', 'profile_background_tile': False, 'profile_image_url': 'http://pbs.twimg.com/profile_images/674700995784548352/8k1rpCeh_normal.jpg', 'profile_image_url_https': 'https://pbs.twimg.com/profile_images/674700995784548352/8k1rpCeh_normal.jpg', 'profile_link_color': '91D2FA', 'profile_sidebar_border_color': '000000', 'profile_sidebar_fill_color': '000000', 'profile_text_color': '000000', 'profile_use_background_image': False, 'has_extended_profile': False, 'default_profile': False, 'default_profile_image': False, 'following': False, 'follow_request_sent': False, 'notifications': False, 'translator_type': 'none'}, id=233657633, id_str='233657633', name='Dave Root ♿🇺🇸☕', screen_name='dave_root', location='Kentucky, USA', description='Father of 2 Combat Veteran Sons. Grandfather of 5. Retired Army Master Sergeant. Disabled Vietnam Veteran. Cold War Era Veteran     #TwitterPhilanthropy', url=None, entities={'description': {'urls': []}}, protected=False, followers_count=241, friends_count=108, listed_count=1, created_at=datetime.datetime(2011, 1, 3, 20, 7, 2), favourites_count=68842, utc_offset=None, time_zone=None, geo_enabled=False, verified=False, statuses_count=67424, lang=None, contributors_enabled=False, is_translator=False, is_translation_enabled=False, profile_background_color='000000', profile_background_image_url='http://abs.twimg.com/images/themes/theme1/bg.png', profile_background_image_url_https='https://abs.twimg.com/images/themes/theme1/bg.png', profile_background_tile=False, profile_image_url='http://pbs.twimg.com/profile_images/674700995784548352/8k1rpCeh_normal.jpg', profile_image_url_https='https://pbs.twimg.com/profile_images/674700995784548352/8k1rpCeh_normal.jpg', profile_link_color='91D2FA', profile_sidebar_border_color='000000', profile_sidebar_fill_color='000000', profile_text_color='000000', profile_use_background_image=False, has_extended_profile=False, default_profile=False, default_profile_image=False, following=False, follow_request_sent=False, notifications=False, translator_type='none'), user=User(_api=<tweepy.api.API object at 0x7fa1c6d13490>, _json={'id': 233657633, 'id_str': '233657633', 'name': 'Dave Root ♿🇺🇸☕', 'screen_name': 'dave_root', 'location': 'Kentucky, USA', 'description': 'Father of 2 Combat Veteran Sons. Grandfather of 5. Retired Army Master Sergeant. Disabled Vietnam Veteran. Cold War Era Veteran     #TwitterPhilanthropy', 'url': None, 'entities': {'description': {'urls': []}}, 'protected': False, 'followers_count': 241, 'friends_count': 108, 'listed_count': 1, 'created_at': 'Mon Jan 03 20:07:02 +0000 2011', 'favourites_count': 68842, 'utc_offset': None, 'time_zone': None, 'geo_enabled': False, 'verified': False, 'statuses_count': 67424, 'lang': None, 'contributors_enabled': False, 'is_translator': False, 'is_translation_enabled': False, 'profile_background_color': '000000', 'profile_background_image_url': 'http://abs.twimg.com/images/themes/theme1/bg.png', 'profile_background_image_url_https': 'https://abs.twimg.com/images/themes/theme1/bg.png', 'profile_background_tile': False, 'profile_image_url': 'http://pbs.twimg.com/profile_images/674700995784548352/8k1rpCeh_normal.jpg', 'profile_image_url_https': 'https://pbs.twimg.com/profile_images/674700995784548352/8k1rpCeh_normal.jpg', 'profile_link_color': '91D2FA', 'profile_sidebar_border_color': '000000', 'profile_sidebar_fill_color': '000000', 'profile_text_color': '000000', 'profile_use_background_image': False, 'has_extended_profile': False, 'default_profile': False, 'default_profile_image': False, 'following': False, 'follow_request_sent': False, 'notifications': False, 'translator_type': 'none'}, id=233657633, id_str='233657633', name='Dave Root ♿🇺🇸☕', screen_name='dave_root', location='Kentucky, USA', description='Father of 2 Combat Veteran Sons. Grandfather of 5. Retired Army Master Sergeant. Disabled Vietnam Veteran. Cold War Era Veteran     #TwitterPhilanthropy', url=None, entities={'description': {'urls': []}}, protected=False, followers_count=241, friends_count=108, listed_count=1, created_at=datetime.datetime(2011, 1, 3, 20, 7, 2), favourites_count=68842, utc_offset=None, time_zone=None, geo_enabled=False, verified=False, statuses_count=67424, lang=None, contributors_enabled=False, is_translator=False, is_translation_enabled=False, profile_background_color='000000', profile_background_image_url='http://abs.twimg.com/images/themes/theme1/bg.png', profile_background_image_url_https='https://abs.twimg.com/images/themes/theme1/bg.png', profile_background_tile=False, profile_image_url='http://pbs.twimg.com/profile_images/674700995784548352/8k1rpCeh_normal.jpg', profile_image_url_https='https://pbs.twimg.com/profile_images/674700995784548352/8k1rpCeh_normal.jpg', profile_link_color='91D2FA', profile_sidebar_border_color='000000', profile_sidebar_fill_color='000000', profile_text_color='000000', profile_use_background_image=False, has_extended_profile=False, default_profile=False, default_profile_image=False, following=False, follow_request_sent=False, notifications=False, translator_type='none'), geo=None, coordinates=None, place=None, contributors=None, retweeted_status=Status(_api=<tweepy.api.API object at 0x7fa1c6d13490>, _json={'created_at': 'Tue Jun 23 14:27:52 +0000 2020', 'id': 1275435409707687936, 'id_str': '1275435409707687936', 'text': 'Some @Facebook content moderators were recorded as saying that they delete anything #conservative or pro-#Trump.\\nSo… https://t.co/5bPQ9mqU9V', 'truncated': True, 'entities': {'hashtags': [{'text': 'conservative', 'indices': [84, 97]}, {'text': 'Trump', 'indices': [105, 111]}], 'symbols': [], 'user_mentions': [{'screen_name': 'Facebook', 'name': 'Facebook', 'id': 2425151, 'id_str': '2425151', 'indices': [5, 14]}], 'urls': [{'url': 'https://t.co/5bPQ9mqU9V', 'expanded_url': 'https://twitter.com/i/web/status/1275435409707687936', 'display_url': 'twitter.com/i/web/status/1…', 'indices': [117, 140]}]}, 'metadata': {'iso_language_code': 'en', 'result_type': 'recent'}, 'source': '<a href=\"https://mobile.twitter.com\" rel=\"nofollow\">Twitter Web App</a>', 'in_reply_to_status_id': None, 'in_reply_to_status_id_str': None, 'in_reply_to_user_id': None, 'in_reply_to_user_id_str': None, 'in_reply_to_screen_name': None, 'user': {'id': 59116050, 'id_str': '59116050', 'name': 'Petr Svab', 'screen_name': 'PetrSvab', 'location': 'NY', 'description': 'Reporter with The Epoch Times (these views are my own). Reach me at: petr.svab(at)epochtimes(dot)com', 'url': 'http://t.co/gDy6YEcd52', 'entities': {'url': {'urls': [{'url': 'http://t.co/gDy6YEcd52', 'expanded_url': 'http://theepochtimes.com', 'display_url': 'theepochtimes.com', 'indices': [0, 22]}]}, 'description': {'urls': []}}, 'protected': False, 'followers_count': 8748, 'friends_count': 605, 'listed_count': 71, 'created_at': 'Wed Jul 22 12:48:16 +0000 2009', 'favourites_count': 438, 'utc_offset': None, 'time_zone': None, 'geo_enabled': False, 'verified': False, 'statuses_count': 2083, 'lang': None, 'contributors_enabled': False, 'is_translator': False, 'is_translation_enabled': False, 'profile_background_color': 'FFFFFF', 'profile_background_image_url': 'http://abs.twimg.com/images/themes/theme1/bg.png', 'profile_background_image_url_https': 'https://abs.twimg.com/images/themes/theme1/bg.png', 'profile_background_tile': False, 'profile_image_url': 'http://pbs.twimg.com/profile_images/1275162092652429315/S6CbUbhW_normal.jpg', 'profile_image_url_https': 'https://pbs.twimg.com/profile_images/1275162092652429315/S6CbUbhW_normal.jpg', 'profile_banner_url': 'https://pbs.twimg.com/profile_banners/59116050/1582310357', 'profile_link_color': '8021DE', 'profile_sidebar_border_color': '1C4008', 'profile_sidebar_fill_color': '7795DB', 'profile_text_color': '333333', 'profile_use_background_image': True, 'has_extended_profile': False, 'default_profile': False, 'default_profile_image': False, 'following': False, 'follow_request_sent': False, 'notifications': False, 'translator_type': 'none'}, 'geo': None, 'coordinates': None, 'place': None, 'contributors': None, 'is_quote_status': False, 'retweet_count': 446, 'favorite_count': 518, 'favorited': False, 'retweeted': False, 'possibly_sensitive': False, 'lang': 'en'}, created_at=datetime.datetime(2020, 6, 23, 14, 27, 52), id=1275435409707687936, id_str='1275435409707687936', text='Some @Facebook content moderators were recorded as saying that they delete anything #conservative or pro-#Trump.\\nSo… https://t.co/5bPQ9mqU9V', truncated=True, entities={'hashtags': [{'text': 'conservative', 'indices': [84, 97]}, {'text': 'Trump', 'indices': [105, 111]}], 'symbols': [], 'user_mentions': [{'screen_name': 'Facebook', 'name': 'Facebook', 'id': 2425151, 'id_str': '2425151', 'indices': [5, 14]}], 'urls': [{'url': 'https://t.co/5bPQ9mqU9V', 'expanded_url': 'https://twitter.com/i/web/status/1275435409707687936', 'display_url': 'twitter.com/i/web/status/1…', 'indices': [117, 140]}]}, metadata={'iso_language_code': 'en', 'result_type': 'recent'}, source='Twitter Web App', source_url='https://mobile.twitter.com', in_reply_to_status_id=None, in_reply_to_status_id_str=None, in_reply_to_user_id=None, in_reply_to_user_id_str=None, in_reply_to_screen_name=None, author=User(_api=<tweepy.api.API object at 0x7fa1c6d13490>, _json={'id': 59116050, 'id_str': '59116050', 'name': 'Petr Svab', 'screen_name': 'PetrSvab', 'location': 'NY', 'description': 'Reporter with The Epoch Times (these views are my own). Reach me at: petr.svab(at)epochtimes(dot)com', 'url': 'http://t.co/gDy6YEcd52', 'entities': {'url': {'urls': [{'url': 'http://t.co/gDy6YEcd52', 'expanded_url': 'http://theepochtimes.com', 'display_url': 'theepochtimes.com', 'indices': [0, 22]}]}, 'description': {'urls': []}}, 'protected': False, 'followers_count': 8748, 'friends_count': 605, 'listed_count': 71, 'created_at': 'Wed Jul 22 12:48:16 +0000 2009', 'favourites_count': 438, 'utc_offset': None, 'time_zone': None, 'geo_enabled': False, 'verified': False, 'statuses_count': 2083, 'lang': None, 'contributors_enabled': False, 'is_translator': False, 'is_translation_enabled': False, 'profile_background_color': 'FFFFFF', 'profile_background_image_url': 'http://abs.twimg.com/images/themes/theme1/bg.png', 'profile_background_image_url_https': 'https://abs.twimg.com/images/themes/theme1/bg.png', 'profile_background_tile': False, 'profile_image_url': 'http://pbs.twimg.com/profile_images/1275162092652429315/S6CbUbhW_normal.jpg', 'profile_image_url_https': 'https://pbs.twimg.com/profile_images/1275162092652429315/S6CbUbhW_normal.jpg', 'profile_banner_url': 'https://pbs.twimg.com/profile_banners/59116050/1582310357', 'profile_link_color': '8021DE', 'profile_sidebar_border_color': '1C4008', 'profile_sidebar_fill_color': '7795DB', 'profile_text_color': '333333', 'profile_use_background_image': True, 'has_extended_profile': False, 'default_profile': False, 'default_profile_image': False, 'following': False, 'follow_request_sent': False, 'notifications': False, 'translator_type': 'none'}, id=59116050, id_str='59116050', name='Petr Svab', screen_name='PetrSvab', location='NY', description='Reporter with The Epoch Times (these views are my own). Reach me at: petr.svab(at)epochtimes(dot)com', url='http://t.co/gDy6YEcd52', entities={'url': {'urls': [{'url': 'http://t.co/gDy6YEcd52', 'expanded_url': 'http://theepochtimes.com', 'display_url': 'theepochtimes.com', 'indices': [0, 22]}]}, 'description': {'urls': []}}, protected=False, followers_count=8748, friends_count=605, listed_count=71, created_at=datetime.datetime(2009, 7, 22, 12, 48, 16), favourites_count=438, utc_offset=None, time_zone=None, geo_enabled=False, verified=False, statuses_count=2083, lang=None, contributors_enabled=False, is_translator=False, is_translation_enabled=False, profile_background_color='FFFFFF', profile_background_image_url='http://abs.twimg.com/images/themes/theme1/bg.png', profile_background_image_url_https='https://abs.twimg.com/images/themes/theme1/bg.png', profile_background_tile=False, profile_image_url='http://pbs.twimg.com/profile_images/1275162092652429315/S6CbUbhW_normal.jpg', profile_image_url_https='https://pbs.twimg.com/profile_images/1275162092652429315/S6CbUbhW_normal.jpg', profile_banner_url='https://pbs.twimg.com/profile_banners/59116050/1582310357', profile_link_color='8021DE', profile_sidebar_border_color='1C4008', profile_sidebar_fill_color='7795DB', profile_text_color='333333', profile_use_background_image=True, has_extended_profile=False, default_profile=False, default_profile_image=False, following=False, follow_request_sent=False, notifications=False, translator_type='none'), user=User(_api=<tweepy.api.API object at 0x7fa1c6d13490>, _json={'id': 59116050, 'id_str': '59116050', 'name': 'Petr Svab', 'screen_name': 'PetrSvab', 'location': 'NY', 'description': 'Reporter with The Epoch Times (these views are my own). Reach me at: petr.svab(at)epochtimes(dot)com', 'url': 'http://t.co/gDy6YEcd52', 'entities': {'url': {'urls': [{'url': 'http://t.co/gDy6YEcd52', 'expanded_url': 'http://theepochtimes.com', 'display_url': 'theepochtimes.com', 'indices': [0, 22]}]}, 'description': {'urls': []}}, 'protected': False, 'followers_count': 8748, 'friends_count': 605, 'listed_count': 71, 'created_at': 'Wed Jul 22 12:48:16 +0000 2009', 'favourites_count': 438, 'utc_offset': None, 'time_zone': None, 'geo_enabled': False, 'verified': False, 'statuses_count': 2083, 'lang': None, 'contributors_enabled': False, 'is_translator': False, 'is_translation_enabled': False, 'profile_background_color': 'FFFFFF', 'profile_background_image_url': 'http://abs.twimg.com/images/themes/theme1/bg.png', 'profile_background_image_url_https': 'https://abs.twimg.com/images/themes/theme1/bg.png', 'profile_background_tile': False, 'profile_image_url': 'http://pbs.twimg.com/profile_images/1275162092652429315/S6CbUbhW_normal.jpg', 'profile_image_url_https': 'https://pbs.twimg.com/profile_images/1275162092652429315/S6CbUbhW_normal.jpg', 'profile_banner_url': 'https://pbs.twimg.com/profile_banners/59116050/1582310357', 'profile_link_color': '8021DE', 'profile_sidebar_border_color': '1C4008', 'profile_sidebar_fill_color': '7795DB', 'profile_text_color': '333333', 'profile_use_background_image': True, 'has_extended_profile': False, 'default_profile': False, 'default_profile_image': False, 'following': False, 'follow_request_sent': False, 'notifications': False, 'translator_type': 'none'}, id=59116050, id_str='59116050', name='Petr Svab', screen_name='PetrSvab', location='NY', description='Reporter with The Epoch Times (these views are my own). Reach me at: petr.svab(at)epochtimes(dot)com', url='http://t.co/gDy6YEcd52', entities={'url': {'urls': [{'url': 'http://t.co/gDy6YEcd52', 'expanded_url': 'http://theepochtimes.com', 'display_url': 'theepochtimes.com', 'indices': [0, 22]}]}, 'description': {'urls': []}}, protected=False, followers_count=8748, friends_count=605, listed_count=71, created_at=datetime.datetime(2009, 7, 22, 12, 48, 16), favourites_count=438, utc_offset=None, time_zone=None, geo_enabled=False, verified=False, statuses_count=2083, lang=None, contributors_enabled=False, is_translator=False, is_translation_enabled=False, profile_background_color='FFFFFF', profile_background_image_url='http://abs.twimg.com/images/themes/theme1/bg.png', profile_background_image_url_https='https://abs.twimg.com/images/themes/theme1/bg.png', profile_background_tile=False, profile_image_url='http://pbs.twimg.com/profile_images/1275162092652429315/S6CbUbhW_normal.jpg', profile_image_url_https='https://pbs.twimg.com/profile_images/1275162092652429315/S6CbUbhW_normal.jpg', profile_banner_url='https://pbs.twimg.com/profile_banners/59116050/1582310357', profile_link_color='8021DE', profile_sidebar_border_color='1C4008', profile_sidebar_fill_color='7795DB', profile_text_color='333333', profile_use_background_image=True, has_extended_profile=False, default_profile=False, default_profile_image=False, following=False, follow_request_sent=False, notifications=False, translator_type='none'), geo=None, coordinates=None, place=None, contributors=None, is_quote_status=False, retweet_count=446, favorite_count=518, favorited=False, retweeted=False, possibly_sensitive=False, lang='en'), is_quote_status=False, retweet_count=446, favorite_count=0, favorited=False, retweeted=False, lang='en'), Status(_api=<tweepy.api.API object at 0x7fa1c6d13490>, _json={'created_at': 'Tue Jun 23 16:14:43 +0000 2020', 'id': 1275462299843735552, 'id_str': '1275462299843735552', 'text': '@lisastark351 yes that what Trump does  !!\\nthis is why his weight is down😂🤣😅', 'truncated': False, 'entities': {'hashtags': [], 'symbols': [], 'user_mentions': [{'screen_name': 'lisastark351', 'name': 'lisastark35', 'id': 1034665733005959168, 'id_str': '1034665733005959168', 'indices': [0, 13]}], 'urls': []}, 'metadata': {'iso_language_code': 'en', 'result_type': 'recent'}, 'source': '<a href=\"http://twitter.com/download/android\" rel=\"nofollow\">Twitter for Android</a>', 'in_reply_to_status_id': 1275441525829169153, 'in_reply_to_status_id_str': '1275441525829169153', 'in_reply_to_user_id': 1034665733005959168, 'in_reply_to_user_id_str': '1034665733005959168', 'in_reply_to_screen_name': 'lisastark351', 'user': {'id': 421933415, 'id_str': '421933415', 'name': 'Rosemarie Brown', 'screen_name': 'RosemarieBrown3', 'location': '', 'description': '', 'url': None, 'entities': {'description': {'urls': []}}, 'protected': False, 'followers_count': 4427, 'friends_count': 4522, 'listed_count': 6, 'created_at': 'Sat Nov 26 15:44:38 +0000 2011', 'favourites_count': 426566, 'utc_offset': None, 'time_zone': None, 'geo_enabled': True, 'verified': False, 'statuses_count': 304180, 'lang': None, 'contributors_enabled': False, 'is_translator': False, 'is_translation_enabled': False, 'profile_background_color': 'C0DEED', 'profile_background_image_url': 'http://abs.twimg.com/images/themes/theme1/bg.png', 'profile_background_image_url_https': 'https://abs.twimg.com/images/themes/theme1/bg.png', 'profile_background_tile': False, 'profile_image_url': 'http://pbs.twimg.com/profile_images/1251058334700122113/M9o5HlHs_normal.jpg', 'profile_image_url_https': 'https://pbs.twimg.com/profile_images/1251058334700122113/M9o5HlHs_normal.jpg', 'profile_banner_url': 'https://pbs.twimg.com/profile_banners/421933415/1570170309', 'profile_link_color': '1DA1F2', 'profile_sidebar_border_color': 'C0DEED', 'profile_sidebar_fill_color': 'DDEEF6', 'profile_text_color': '333333', 'profile_use_background_image': True, 'has_extended_profile': True, 'default_profile': True, 'default_profile_image': False, 'following': False, 'follow_request_sent': False, 'notifications': False, 'translator_type': 'none'}, 'geo': None, 'coordinates': None, 'place': None, 'contributors': None, 'is_quote_status': False, 'retweet_count': 0, 'favorite_count': 0, 'favorited': False, 'retweeted': False, 'lang': 'en'}, created_at=datetime.datetime(2020, 6, 23, 16, 14, 43), id=1275462299843735552, id_str='1275462299843735552', text='@lisastark351 yes that what Trump does  !!\\nthis is why his weight is down😂🤣😅', truncated=False, entities={'hashtags': [], 'symbols': [], 'user_mentions': [{'screen_name': 'lisastark351', 'name': 'lisastark35', 'id': 1034665733005959168, 'id_str': '1034665733005959168', 'indices': [0, 13]}], 'urls': []}, metadata={'iso_language_code': 'en', 'result_type': 'recent'}, source='Twitter for Android', source_url='http://twitter.com/download/android', in_reply_to_status_id=1275441525829169153, in_reply_to_status_id_str='1275441525829169153', in_reply_to_user_id=1034665733005959168, in_reply_to_user_id_str='1034665733005959168', in_reply_to_screen_name='lisastark351', author=User(_api=<tweepy.api.API object at 0x7fa1c6d13490>, _json={'id': 421933415, 'id_str': '421933415', 'name': 'Rosemarie Brown', 'screen_name': 'RosemarieBrown3', 'location': '', 'description': '', 'url': None, 'entities': {'description': {'urls': []}}, 'protected': False, 'followers_count': 4427, 'friends_count': 4522, 'listed_count': 6, 'created_at': 'Sat Nov 26 15:44:38 +0000 2011', 'favourites_count': 426566, 'utc_offset': None, 'time_zone': None, 'geo_enabled': True, 'verified': False, 'statuses_count': 304180, 'lang': None, 'contributors_enabled': False, 'is_translator': False, 'is_translation_enabled': False, 'profile_background_color': 'C0DEED', 'profile_background_image_url': 'http://abs.twimg.com/images/themes/theme1/bg.png', 'profile_background_image_url_https': 'https://abs.twimg.com/images/themes/theme1/bg.png', 'profile_background_tile': False, 'profile_image_url': 'http://pbs.twimg.com/profile_images/1251058334700122113/M9o5HlHs_normal.jpg', 'profile_image_url_https': 'https://pbs.twimg.com/profile_images/1251058334700122113/M9o5HlHs_normal.jpg', 'profile_banner_url': 'https://pbs.twimg.com/profile_banners/421933415/1570170309', 'profile_link_color': '1DA1F2', 'profile_sidebar_border_color': 'C0DEED', 'profile_sidebar_fill_color': 'DDEEF6', 'profile_text_color': '333333', 'profile_use_background_image': True, 'has_extended_profile': True, 'default_profile': True, 'default_profile_image': False, 'following': False, 'follow_request_sent': False, 'notifications': False, 'translator_type': 'none'}, id=421933415, id_str='421933415', name='Rosemarie Brown', screen_name='RosemarieBrown3', location='', description='', url=None, entities={'description': {'urls': []}}, protected=False, followers_count=4427, friends_count=4522, listed_count=6, created_at=datetime.datetime(2011, 11, 26, 15, 44, 38), favourites_count=426566, utc_offset=None, time_zone=None, geo_enabled=True, verified=False, statuses_count=304180, lang=None, contributors_enabled=False, is_translator=False, is_translation_enabled=False, profile_background_color='C0DEED', profile_background_image_url='http://abs.twimg.com/images/themes/theme1/bg.png', profile_background_image_url_https='https://abs.twimg.com/images/themes/theme1/bg.png', profile_background_tile=False, profile_image_url='http://pbs.twimg.com/profile_images/1251058334700122113/M9o5HlHs_normal.jpg', profile_image_url_https='https://pbs.twimg.com/profile_images/1251058334700122113/M9o5HlHs_normal.jpg', profile_banner_url='https://pbs.twimg.com/profile_banners/421933415/1570170309', profile_link_color='1DA1F2', profile_sidebar_border_color='C0DEED', profile_sidebar_fill_color='DDEEF6', profile_text_color='333333', profile_use_background_image=True, has_extended_profile=True, default_profile=True, default_profile_image=False, following=False, follow_request_sent=False, notifications=False, translator_type='none'), user=User(_api=<tweepy.api.API object at 0x7fa1c6d13490>, _json={'id': 421933415, 'id_str': '421933415', 'name': 'Rosemarie Brown', 'screen_name': 'RosemarieBrown3', 'location': '', 'description': '', 'url': None, 'entities': {'description': {'urls': []}}, 'protected': False, 'followers_count': 4427, 'friends_count': 4522, 'listed_count': 6, 'created_at': 'Sat Nov 26 15:44:38 +0000 2011', 'favourites_count': 426566, 'utc_offset': None, 'time_zone': None, 'geo_enabled': True, 'verified': False, 'statuses_count': 304180, 'lang': None, 'contributors_enabled': False, 'is_translator': False, 'is_translation_enabled': False, 'profile_background_color': 'C0DEED', 'profile_background_image_url': 'http://abs.twimg.com/images/themes/theme1/bg.png', 'profile_background_image_url_https': 'https://abs.twimg.com/images/themes/theme1/bg.png', 'profile_background_tile': False, 'profile_image_url': 'http://pbs.twimg.com/profile_images/1251058334700122113/M9o5HlHs_normal.jpg', 'profile_image_url_https': 'https://pbs.twimg.com/profile_images/1251058334700122113/M9o5HlHs_normal.jpg', 'profile_banner_url': 'https://pbs.twimg.com/profile_banners/421933415/1570170309', 'profile_link_color': '1DA1F2', 'profile_sidebar_border_color': 'C0DEED', 'profile_sidebar_fill_color': 'DDEEF6', 'profile_text_color': '333333', 'profile_use_background_image': True, 'has_extended_profile': True, 'default_profile': True, 'default_profile_image': False, 'following': False, 'follow_request_sent': False, 'notifications': False, 'translator_type': 'none'}, id=421933415, id_str='421933415', name='Rosemarie Brown', screen_name='RosemarieBrown3', location='', description='', url=None, entities={'description': {'urls': []}}, protected=False, followers_count=4427, friends_count=4522, listed_count=6, created_at=datetime.datetime(2011, 11, 26, 15, 44, 38), favourites_count=426566, utc_offset=None, time_zone=None, geo_enabled=True, verified=False, statuses_count=304180, lang=None, contributors_enabled=False, is_translator=False, is_translation_enabled=False, profile_background_color='C0DEED', profile_background_image_url='http://abs.twimg.com/images/themes/theme1/bg.png', profile_background_image_url_https='https://abs.twimg.com/images/themes/theme1/bg.png', profile_background_tile=False, profile_image_url='http://pbs.twimg.com/profile_images/1251058334700122113/M9o5HlHs_normal.jpg', profile_image_url_https='https://pbs.twimg.com/profile_images/1251058334700122113/M9o5HlHs_normal.jpg', profile_banner_url='https://pbs.twimg.com/profile_banners/421933415/1570170309', profile_link_color='1DA1F2', profile_sidebar_border_color='C0DEED', profile_sidebar_fill_color='DDEEF6', profile_text_color='333333', profile_use_background_image=True, has_extended_profile=True, default_profile=True, default_profile_image=False, following=False, follow_request_sent=False, notifications=False, translator_type='none'), geo=None, coordinates=None, place=None, contributors=None, is_quote_status=False, retweet_count=0, favorite_count=0, favorited=False, retweeted=False, lang='en'), Status(_api=<tweepy.api.API object at 0x7fa1c6d13490>, _json={'created_at': 'Tue Jun 23 16:14:43 +0000 2020', 'id': 1275462299839541250, 'id_str': '1275462299839541250', 'text': \"RT @CNN: They've helped South Korean stars dominate charts and break records on social media.\\n\\nNow, some K-pop fans are claiming another vi…\", 'truncated': False, 'entities': {'hashtags': [], 'symbols': [], 'user_mentions': [{'screen_name': 'CNN', 'name': 'CNN', 'id': 759251, 'id_str': '759251', 'indices': [3, 7]}], 'urls': []}, 'metadata': {'iso_language_code': 'en', 'result_type': 'recent'}, 'source': '<a href=\"https://mobile.twitter.com\" rel=\"nofollow\">Twitter Web App</a>', 'in_reply_to_status_id': None, 'in_reply_to_status_id_str': None, 'in_reply_to_user_id': None, 'in_reply_to_user_id_str': None, 'in_reply_to_screen_name': None, 'user': {'id': 793600604283305984, 'id_str': '793600604283305984', 'name': 'Mary Ann', 'screen_name': 'MaryAnn92723054', 'location': 'Maryland', 'description': 'This Is A Hodor Moment!! Do what you can with what you have where you are...Llama momma to Obama Llama, Wanda , Dolly, and Notorious RBG aka Baby Ruth.#FBR', 'url': None, 'entities': {'description': {'urls': []}}, 'protected': False, 'followers_count': 555, 'friends_count': 1160, 'listed_count': 0, 'created_at': 'Tue Nov 01 23:48:23 +0000 2016', 'favourites_count': 38089, 'utc_offset': None, 'time_zone': None, 'geo_enabled': False, 'verified': False, 'statuses_count': 13798, 'lang': None, 'contributors_enabled': False, 'is_translator': False, 'is_translation_enabled': False, 'profile_background_color': 'F5F8FA', 'profile_background_image_url': None, 'profile_background_image_url_https': None, 'profile_background_tile': False, 'profile_image_url': 'http://pbs.twimg.com/profile_images/1222263406549442561/ONU1RjN__normal.jpg', 'profile_image_url_https': 'https://pbs.twimg.com/profile_images/1222263406549442561/ONU1RjN__normal.jpg', 'profile_banner_url': 'https://pbs.twimg.com/profile_banners/793600604283305984/1591204703', 'profile_link_color': '1DA1F2', 'profile_sidebar_border_color': 'C0DEED', 'profile_sidebar_fill_color': 'DDEEF6', 'profile_text_color': '333333', 'profile_use_background_image': True, 'has_extended_profile': False, 'default_profile': True, 'default_profile_image': False, 'following': False, 'follow_request_sent': False, 'notifications': False, 'translator_type': 'none'}, 'geo': None, 'coordinates': None, 'place': None, 'contributors': None, 'retweeted_status': {'created_at': 'Tue Jun 23 05:16:05 +0000 2020', 'id': 1275296546033205248, 'id_str': '1275296546033205248', 'text': \"They've helped South Korean stars dominate charts and break records on social media.\\n\\nNow, some K-pop fans are clai… https://t.co/tUO0NYuiu3\", 'truncated': True, 'entities': {'hashtags': [], 'symbols': [], 'user_mentions': [], 'urls': [{'url': 'https://t.co/tUO0NYuiu3', 'expanded_url': 'https://twitter.com/i/web/status/1275296546033205248', 'display_url': 'twitter.com/i/web/status/1…', 'indices': [117, 140]}]}, 'metadata': {'iso_language_code': 'en', 'result_type': 'recent'}, 'source': '<a href=\"http://www.socialflow.com\" rel=\"nofollow\">SocialFlow</a>', 'in_reply_to_status_id': None, 'in_reply_to_status_id_str': None, 'in_reply_to_user_id': None, 'in_reply_to_user_id_str': None, 'in_reply_to_screen_name': None, 'user': {'id': 759251, 'id_str': '759251', 'name': 'CNN', 'screen_name': 'CNN', 'location': '', 'description': 'It’s our job to #GoThere & tell the most difficult stories. Join us! For more breaking news updates follow @CNNBRK & download our app https://t.co/UCHG9M367J', 'url': 'http://t.co/IaghNW8Xm2', 'entities': {'url': {'urls': [{'url': 'http://t.co/IaghNW8Xm2', 'expanded_url': 'http://www.cnn.com', 'display_url': 'cnn.com', 'indices': [0, 22]}]}, 'description': {'urls': [{'url': 'https://t.co/UCHG9M367J', 'expanded_url': 'http://cnn.com/apps', 'display_url': 'cnn.com/apps', 'indices': [134, 157]}]}}, 'protected': False, 'followers_count': 48717877, 'friends_count': 1109, 'listed_count': 139420, 'created_at': 'Fri Feb 09 00:35:02 +0000 2007', 'favourites_count': 1428, 'utc_offset': None, 'time_zone': None, 'geo_enabled': True, 'verified': True, 'statuses_count': 305860, 'lang': None, 'contributors_enabled': False, 'is_translator': False, 'is_translation_enabled': True, 'profile_background_color': '323232', 'profile_background_image_url': 'http://abs.twimg.com/images/themes/theme1/bg.png', 'profile_background_image_url_https': 'https://abs.twimg.com/images/themes/theme1/bg.png', 'profile_background_tile': False, 'profile_image_url': 'http://pbs.twimg.com/profile_images/1267489972002709507/1iNto07U_normal.jpg', 'profile_image_url_https': 'https://pbs.twimg.com/profile_images/1267489972002709507/1iNto07U_normal.jpg', 'profile_banner_url': 'https://pbs.twimg.com/profile_banners/759251/1564637377', 'profile_link_color': '004287', 'profile_sidebar_border_color': '000000', 'profile_sidebar_fill_color': 'EEEEEE', 'profile_text_color': '000000', 'profile_use_background_image': False, 'has_extended_profile': False, 'default_profile': False, 'default_profile_image': False, 'following': False, 'follow_request_sent': False, 'notifications': False, 'translator_type': 'regular'}, 'geo': None, 'coordinates': None, 'place': None, 'contributors': None, 'is_quote_status': False, 'retweet_count': 279, 'favorite_count': 2025, 'favorited': False, 'retweeted': False, 'possibly_sensitive': False, 'lang': 'en'}, 'is_quote_status': False, 'retweet_count': 279, 'favorite_count': 0, 'favorited': False, 'retweeted': False, 'lang': 'en'}, created_at=datetime.datetime(2020, 6, 23, 16, 14, 43), id=1275462299839541250, id_str='1275462299839541250', text=\"RT @CNN: They've helped South Korean stars dominate charts and break records on social media.\\n\\nNow, some K-pop fans are claiming another vi…\", truncated=False, entities={'hashtags': [], 'symbols': [], 'user_mentions': [{'screen_name': 'CNN', 'name': 'CNN', 'id': 759251, 'id_str': '759251', 'indices': [3, 7]}], 'urls': []}, metadata={'iso_language_code': 'en', 'result_type': 'recent'}, source='Twitter Web App', source_url='https://mobile.twitter.com', in_reply_to_status_id=None, in_reply_to_status_id_str=None, in_reply_to_user_id=None, in_reply_to_user_id_str=None, in_reply_to_screen_name=None, author=User(_api=<tweepy.api.API object at 0x7fa1c6d13490>, _json={'id': 793600604283305984, 'id_str': '793600604283305984', 'name': 'Mary Ann', 'screen_name': 'MaryAnn92723054', 'location': 'Maryland', 'description': 'This Is A Hodor Moment!! Do what you can with what you have where you are...Llama momma to Obama Llama, Wanda , Dolly, and Notorious RBG aka Baby Ruth.#FBR', 'url': None, 'entities': {'description': {'urls': []}}, 'protected': False, 'followers_count': 555, 'friends_count': 1160, 'listed_count': 0, 'created_at': 'Tue Nov 01 23:48:23 +0000 2016', 'favourites_count': 38089, 'utc_offset': None, 'time_zone': None, 'geo_enabled': False, 'verified': False, 'statuses_count': 13798, 'lang': None, 'contributors_enabled': False, 'is_translator': False, 'is_translation_enabled': False, 'profile_background_color': 'F5F8FA', 'profile_background_image_url': None, 'profile_background_image_url_https': None, 'profile_background_tile': False, 'profile_image_url': 'http://pbs.twimg.com/profile_images/1222263406549442561/ONU1RjN__normal.jpg', 'profile_image_url_https': 'https://pbs.twimg.com/profile_images/1222263406549442561/ONU1RjN__normal.jpg', 'profile_banner_url': 'https://pbs.twimg.com/profile_banners/793600604283305984/1591204703', 'profile_link_color': '1DA1F2', 'profile_sidebar_border_color': 'C0DEED', 'profile_sidebar_fill_color': 'DDEEF6', 'profile_text_color': '333333', 'profile_use_background_image': True, 'has_extended_profile': False, 'default_profile': True, 'default_profile_image': False, 'following': False, 'follow_request_sent': False, 'notifications': False, 'translator_type': 'none'}, id=793600604283305984, id_str='793600604283305984', name='Mary Ann', screen_name='MaryAnn92723054', location='Maryland', description='This Is A Hodor Moment!! Do what you can with what you have where you are...Llama momma to Obama Llama, Wanda , Dolly, and Notorious RBG aka Baby Ruth.#FBR', url=None, entities={'description': {'urls': []}}, protected=False, followers_count=555, friends_count=1160, listed_count=0, created_at=datetime.datetime(2016, 11, 1, 23, 48, 23), favourites_count=38089, utc_offset=None, time_zone=None, geo_enabled=False, verified=False, statuses_count=13798, lang=None, contributors_enabled=False, is_translator=False, is_translation_enabled=False, profile_background_color='F5F8FA', profile_background_image_url=None, profile_background_image_url_https=None, profile_background_tile=False, profile_image_url='http://pbs.twimg.com/profile_images/1222263406549442561/ONU1RjN__normal.jpg', profile_image_url_https='https://pbs.twimg.com/profile_images/1222263406549442561/ONU1RjN__normal.jpg', profile_banner_url='https://pbs.twimg.com/profile_banners/793600604283305984/1591204703', profile_link_color='1DA1F2', profile_sidebar_border_color='C0DEED', profile_sidebar_fill_color='DDEEF6', profile_text_color='333333', profile_use_background_image=True, has_extended_profile=False, default_profile=True, default_profile_image=False, following=False, follow_request_sent=False, notifications=False, translator_type='none'), user=User(_api=<tweepy.api.API object at 0x7fa1c6d13490>, _json={'id': 793600604283305984, 'id_str': '793600604283305984', 'name': 'Mary Ann', 'screen_name': 'MaryAnn92723054', 'location': 'Maryland', 'description': 'This Is A Hodor Moment!! Do what you can with what you have where you are...Llama momma to Obama Llama, Wanda , Dolly, and Notorious RBG aka Baby Ruth.#FBR', 'url': None, 'entities': {'description': {'urls': []}}, 'protected': False, 'followers_count': 555, 'friends_count': 1160, 'listed_count': 0, 'created_at': 'Tue Nov 01 23:48:23 +0000 2016', 'favourites_count': 38089, 'utc_offset': None, 'time_zone': None, 'geo_enabled': False, 'verified': False, 'statuses_count': 13798, 'lang': None, 'contributors_enabled': False, 'is_translator': False, 'is_translation_enabled': False, 'profile_background_color': 'F5F8FA', 'profile_background_image_url': None, 'profile_background_image_url_https': None, 'profile_background_tile': False, 'profile_image_url': 'http://pbs.twimg.com/profile_images/1222263406549442561/ONU1RjN__normal.jpg', 'profile_image_url_https': 'https://pbs.twimg.com/profile_images/1222263406549442561/ONU1RjN__normal.jpg', 'profile_banner_url': 'https://pbs.twimg.com/profile_banners/793600604283305984/1591204703', 'profile_link_color': '1DA1F2', 'profile_sidebar_border_color': 'C0DEED', 'profile_sidebar_fill_color': 'DDEEF6', 'profile_text_color': '333333', 'profile_use_background_image': True, 'has_extended_profile': False, 'default_profile': True, 'default_profile_image': False, 'following': False, 'follow_request_sent': False, 'notifications': False, 'translator_type': 'none'}, id=793600604283305984, id_str='793600604283305984', name='Mary Ann', screen_name='MaryAnn92723054', location='Maryland', description='This Is A Hodor Moment!! Do what you can with what you have where you are...Llama momma to Obama Llama, Wanda , Dolly, and Notorious RBG aka Baby Ruth.#FBR', url=None, entities={'description': {'urls': []}}, protected=False, followers_count=555, friends_count=1160, listed_count=0, created_at=datetime.datetime(2016, 11, 1, 23, 48, 23), favourites_count=38089, utc_offset=None, time_zone=None, geo_enabled=False, verified=False, statuses_count=13798, lang=None, contributors_enabled=False, is_translator=False, is_translation_enabled=False, profile_background_color='F5F8FA', profile_background_image_url=None, profile_background_image_url_https=None, profile_background_tile=False, profile_image_url='http://pbs.twimg.com/profile_images/1222263406549442561/ONU1RjN__normal.jpg', profile_image_url_https='https://pbs.twimg.com/profile_images/1222263406549442561/ONU1RjN__normal.jpg', profile_banner_url='https://pbs.twimg.com/profile_banners/793600604283305984/1591204703', profile_link_color='1DA1F2', profile_sidebar_border_color='C0DEED', profile_sidebar_fill_color='DDEEF6', profile_text_color='333333', profile_use_background_image=True, has_extended_profile=False, default_profile=True, default_profile_image=False, following=False, follow_request_sent=False, notifications=False, translator_type='none'), geo=None, coordinates=None, place=None, contributors=None, retweeted_status=Status(_api=<tweepy.api.API object at 0x7fa1c6d13490>, _json={'created_at': 'Tue Jun 23 05:16:05 +0000 2020', 'id': 1275296546033205248, 'id_str': '1275296546033205248', 'text': \"They've helped South Korean stars dominate charts and break records on social media.\\n\\nNow, some K-pop fans are clai… https://t.co/tUO0NYuiu3\", 'truncated': True, 'entities': {'hashtags': [], 'symbols': [], 'user_mentions': [], 'urls': [{'url': 'https://t.co/tUO0NYuiu3', 'expanded_url': 'https://twitter.com/i/web/status/1275296546033205248', 'display_url': 'twitter.com/i/web/status/1…', 'indices': [117, 140]}]}, 'metadata': {'iso_language_code': 'en', 'result_type': 'recent'}, 'source': '<a href=\"http://www.socialflow.com\" rel=\"nofollow\">SocialFlow</a>', 'in_reply_to_status_id': None, 'in_reply_to_status_id_str': None, 'in_reply_to_user_id': None, 'in_reply_to_user_id_str': None, 'in_reply_to_screen_name': None, 'user': {'id': 759251, 'id_str': '759251', 'name': 'CNN', 'screen_name': 'CNN', 'location': '', 'description': 'It’s our job to #GoThere & tell the most difficult stories. Join us! For more breaking news updates follow @CNNBRK & download our app https://t.co/UCHG9M367J', 'url': 'http://t.co/IaghNW8Xm2', 'entities': {'url': {'urls': [{'url': 'http://t.co/IaghNW8Xm2', 'expanded_url': 'http://www.cnn.com', 'display_url': 'cnn.com', 'indices': [0, 22]}]}, 'description': {'urls': [{'url': 'https://t.co/UCHG9M367J', 'expanded_url': 'http://cnn.com/apps', 'display_url': 'cnn.com/apps', 'indices': [134, 157]}]}}, 'protected': False, 'followers_count': 48717877, 'friends_count': 1109, 'listed_count': 139420, 'created_at': 'Fri Feb 09 00:35:02 +0000 2007', 'favourites_count': 1428, 'utc_offset': None, 'time_zone': None, 'geo_enabled': True, 'verified': True, 'statuses_count': 305860, 'lang': None, 'contributors_enabled': False, 'is_translator': False, 'is_translation_enabled': True, 'profile_background_color': '323232', 'profile_background_image_url': 'http://abs.twimg.com/images/themes/theme1/bg.png', 'profile_background_image_url_https': 'https://abs.twimg.com/images/themes/theme1/bg.png', 'profile_background_tile': False, 'profile_image_url': 'http://pbs.twimg.com/profile_images/1267489972002709507/1iNto07U_normal.jpg', 'profile_image_url_https': 'https://pbs.twimg.com/profile_images/1267489972002709507/1iNto07U_normal.jpg', 'profile_banner_url': 'https://pbs.twimg.com/profile_banners/759251/1564637377', 'profile_link_color': '004287', 'profile_sidebar_border_color': '000000', 'profile_sidebar_fill_color': 'EEEEEE', 'profile_text_color': '000000', 'profile_use_background_image': False, 'has_extended_profile': False, 'default_profile': False, 'default_profile_image': False, 'following': False, 'follow_request_sent': False, 'notifications': False, 'translator_type': 'regular'}, 'geo': None, 'coordinates': None, 'place': None, 'contributors': None, 'is_quote_status': False, 'retweet_count': 279, 'favorite_count': 2025, 'favorited': False, 'retweeted': False, 'possibly_sensitive': False, 'lang': 'en'}, created_at=datetime.datetime(2020, 6, 23, 5, 16, 5), id=1275296546033205248, id_str='1275296546033205248', text=\"They've helped South Korean stars dominate charts and break records on social media.\\n\\nNow, some K-pop fans are clai… https://t.co/tUO0NYuiu3\", truncated=True, entities={'hashtags': [], 'symbols': [], 'user_mentions': [], 'urls': [{'url': 'https://t.co/tUO0NYuiu3', 'expanded_url': 'https://twitter.com/i/web/status/1275296546033205248', 'display_url': 'twitter.com/i/web/status/1…', 'indices': [117, 140]}]}, metadata={'iso_language_code': 'en', 'result_type': 'recent'}, source='SocialFlow', source_url='http://www.socialflow.com', in_reply_to_status_id=None, in_reply_to_status_id_str=None, in_reply_to_user_id=None, in_reply_to_user_id_str=None, in_reply_to_screen_name=None, author=User(_api=<tweepy.api.API object at 0x7fa1c6d13490>, _json={'id': 759251, 'id_str': '759251', 'name': 'CNN', 'screen_name': 'CNN', 'location': '', 'description': 'It’s our job to #GoThere & tell the most difficult stories. Join us! For more breaking news updates follow @CNNBRK & download our app https://t.co/UCHG9M367J', 'url': 'http://t.co/IaghNW8Xm2', 'entities': {'url': {'urls': [{'url': 'http://t.co/IaghNW8Xm2', 'expanded_url': 'http://www.cnn.com', 'display_url': 'cnn.com', 'indices': [0, 22]}]}, 'description': {'urls': [{'url': 'https://t.co/UCHG9M367J', 'expanded_url': 'http://cnn.com/apps', 'display_url': 'cnn.com/apps', 'indices': [134, 157]}]}}, 'protected': False, 'followers_count': 48717877, 'friends_count': 1109, 'listed_count': 139420, 'created_at': 'Fri Feb 09 00:35:02 +0000 2007', 'favourites_count': 1428, 'utc_offset': None, 'time_zone': None, 'geo_enabled': True, 'verified': True, 'statuses_count': 305860, 'lang': None, 'contributors_enabled': False, 'is_translator': False, 'is_translation_enabled': True, 'profile_background_color': '323232', 'profile_background_image_url': 'http://abs.twimg.com/images/themes/theme1/bg.png', 'profile_background_image_url_https': 'https://abs.twimg.com/images/themes/theme1/bg.png', 'profile_background_tile': False, 'profile_image_url': 'http://pbs.twimg.com/profile_images/1267489972002709507/1iNto07U_normal.jpg', 'profile_image_url_https': 'https://pbs.twimg.com/profile_images/1267489972002709507/1iNto07U_normal.jpg', 'profile_banner_url': 'https://pbs.twimg.com/profile_banners/759251/1564637377', 'profile_link_color': '004287', 'profile_sidebar_border_color': '000000', 'profile_sidebar_fill_color': 'EEEEEE', 'profile_text_color': '000000', 'profile_use_background_image': False, 'has_extended_profile': False, 'default_profile': False, 'default_profile_image': False, 'following': False, 'follow_request_sent': False, 'notifications': False, 'translator_type': 'regular'}, id=759251, id_str='759251', name='CNN', screen_name='CNN', location='', description='It’s our job to #GoThere & tell the most difficult stories. Join us! For more breaking news updates follow @CNNBRK & download our app https://t.co/UCHG9M367J', url='http://t.co/IaghNW8Xm2', entities={'url': {'urls': [{'url': 'http://t.co/IaghNW8Xm2', 'expanded_url': 'http://www.cnn.com', 'display_url': 'cnn.com', 'indices': [0, 22]}]}, 'description': {'urls': [{'url': 'https://t.co/UCHG9M367J', 'expanded_url': 'http://cnn.com/apps', 'display_url': 'cnn.com/apps', 'indices': [134, 157]}]}}, protected=False, followers_count=48717877, friends_count=1109, listed_count=139420, created_at=datetime.datetime(2007, 2, 9, 0, 35, 2), favourites_count=1428, utc_offset=None, time_zone=None, geo_enabled=True, verified=True, statuses_count=305860, lang=None, contributors_enabled=False, is_translator=False, is_translation_enabled=True, profile_background_color='323232', profile_background_image_url='http://abs.twimg.com/images/themes/theme1/bg.png', profile_background_image_url_https='https://abs.twimg.com/images/themes/theme1/bg.png', profile_background_tile=False, profile_image_url='http://pbs.twimg.com/profile_images/1267489972002709507/1iNto07U_normal.jpg', profile_image_url_https='https://pbs.twimg.com/profile_images/1267489972002709507/1iNto07U_normal.jpg', profile_banner_url='https://pbs.twimg.com/profile_banners/759251/1564637377', profile_link_color='004287', profile_sidebar_border_color='000000', profile_sidebar_fill_color='EEEEEE', profile_text_color='000000', profile_use_background_image=False, has_extended_profile=False, default_profile=False, default_profile_image=False, following=False, follow_request_sent=False, notifications=False, translator_type='regular'), user=User(_api=<tweepy.api.API object at 0x7fa1c6d13490>, _json={'id': 759251, 'id_str': '759251', 'name': 'CNN', 'screen_name': 'CNN', 'location': '', 'description': 'It’s our job to #GoThere & tell the most difficult stories. Join us! For more breaking news updates follow @CNNBRK & download our app https://t.co/UCHG9M367J', 'url': 'http://t.co/IaghNW8Xm2', 'entities': {'url': {'urls': [{'url': 'http://t.co/IaghNW8Xm2', 'expanded_url': 'http://www.cnn.com', 'display_url': 'cnn.com', 'indices': [0, 22]}]}, 'description': {'urls': [{'url': 'https://t.co/UCHG9M367J', 'expanded_url': 'http://cnn.com/apps', 'display_url': 'cnn.com/apps', 'indices': [134, 157]}]}}, 'protected': False, 'followers_count': 48717877, 'friends_count': 1109, 'listed_count': 139420, 'created_at': 'Fri Feb 09 00:35:02 +0000 2007', 'favourites_count': 1428, 'utc_offset': None, 'time_zone': None, 'geo_enabled': True, 'verified': True, 'statuses_count': 305860, 'lang': None, 'contributors_enabled': False, 'is_translator': False, 'is_translation_enabled': True, 'profile_background_color': '323232', 'profile_background_image_url': 'http://abs.twimg.com/images/themes/theme1/bg.png', 'profile_background_image_url_https': 'https://abs.twimg.com/images/themes/theme1/bg.png', 'profile_background_tile': False, 'profile_image_url': 'http://pbs.twimg.com/profile_images/1267489972002709507/1iNto07U_normal.jpg', 'profile_image_url_https': 'https://pbs.twimg.com/profile_images/1267489972002709507/1iNto07U_normal.jpg', 'profile_banner_url': 'https://pbs.twimg.com/profile_banners/759251/1564637377', 'profile_link_color': '004287', 'profile_sidebar_border_color': '000000', 'profile_sidebar_fill_color': 'EEEEEE', 'profile_text_color': '000000', 'profile_use_background_image': False, 'has_extended_profile': False, 'default_profile': False, 'default_profile_image': False, 'following': False, 'follow_request_sent': False, 'notifications': False, 'translator_type': 'regular'}, id=759251, id_str='759251', name='CNN', screen_name='CNN', location='', description='It’s our job to #GoThere & tell the most difficult stories. Join us! For more breaking news updates follow @CNNBRK & download our app https://t.co/UCHG9M367J', url='http://t.co/IaghNW8Xm2', entities={'url': {'urls': [{'url': 'http://t.co/IaghNW8Xm2', 'expanded_url': 'http://www.cnn.com', 'display_url': 'cnn.com', 'indices': [0, 22]}]}, 'description': {'urls': [{'url': 'https://t.co/UCHG9M367J', 'expanded_url': 'http://cnn.com/apps', 'display_url': 'cnn.com/apps', 'indices': [134, 157]}]}}, protected=False, followers_count=48717877, friends_count=1109, listed_count=139420, created_at=datetime.datetime(2007, 2, 9, 0, 35, 2), favourites_count=1428, utc_offset=None, time_zone=None, geo_enabled=True, verified=True, statuses_count=305860, lang=None, contributors_enabled=False, is_translator=False, is_translation_enabled=True, profile_background_color='323232', profile_background_image_url='http://abs.twimg.com/images/themes/theme1/bg.png', profile_background_image_url_https='https://abs.twimg.com/images/themes/theme1/bg.png', profile_background_tile=False, profile_image_url='http://pbs.twimg.com/profile_images/1267489972002709507/1iNto07U_normal.jpg', profile_image_url_https='https://pbs.twimg.com/profile_images/1267489972002709507/1iNto07U_normal.jpg', profile_banner_url='https://pbs.twimg.com/profile_banners/759251/1564637377', profile_link_color='004287', profile_sidebar_border_color='000000', profile_sidebar_fill_color='EEEEEE', profile_text_color='000000', profile_use_background_image=False, has_extended_profile=False, default_profile=False, default_profile_image=False, following=False, follow_request_sent=False, notifications=False, translator_type='regular'), geo=None, coordinates=None, place=None, contributors=None, is_quote_status=False, retweet_count=279, favorite_count=2025, favorited=False, retweeted=False, possibly_sensitive=False, lang='en'), is_quote_status=False, retweet_count=279, favorite_count=0, favorited=False, retweeted=False, lang='en'), Status(_api=<tweepy.api.API object at 0x7fa1c6d13490>, _json={'created_at': 'Tue Jun 23 16:14:43 +0000 2020', 'id': 1275462299696787456, 'id_str': '1275462299696787456', 'text': '@JoeyAlan_ep @ToilsomeOlive 3/13/20, by signing The Emergency Powers Act, president Trump Lost total executive cont… https://t.co/UTjm2h8uG5', 'truncated': True, 'entities': {'hashtags': [], 'symbols': [], 'user_mentions': [{'screen_name': 'JoeyAlan_ep', 'name': 'Joseph Reyes-Lawson', 'id': 27894398, 'id_str': '27894398', 'indices': [0, 12]}, {'screen_name': 'ToilsomeOlive', 'name': '🌱 🌱', 'id': 1089076532, 'id_str': '1089076532', 'indices': [13, 27]}], 'urls': [{'url': 'https://t.co/UTjm2h8uG5', 'expanded_url': 'https://twitter.com/i/web/status/1275462299696787456', 'display_url': 'twitter.com/i/web/status/1…', 'indices': [117, 140]}]}, 'metadata': {'iso_language_code': 'en', 'result_type': 'recent'}, 'source': '<a href=\"http://twitter.com/download/android\" rel=\"nofollow\">Twitter for Android</a>', 'in_reply_to_status_id': 1273826877711495169, 'in_reply_to_status_id_str': '1273826877711495169', 'in_reply_to_user_id': 27894398, 'in_reply_to_user_id_str': '27894398', 'in_reply_to_screen_name': 'JoeyAlan_ep', 'user': {'id': 720658737770278912, 'id_str': '720658737770278912', 'name': 'Ingrid lawrence', 'screen_name': 'Ingridlaw19', 'location': '', 'description': '', 'url': None, 'entities': {'description': {'urls': []}}, 'protected': False, 'followers_count': 76, 'friends_count': 0, 'listed_count': 1, 'created_at': 'Thu Apr 14 17:03:27 +0000 2016', 'favourites_count': 0, 'utc_offset': None, 'time_zone': None, 'geo_enabled': False, 'verified': False, 'statuses_count': 2812, 'lang': None, 'contributors_enabled': False, 'is_translator': False, 'is_translation_enabled': False, 'profile_background_color': 'F5F8FA', 'profile_background_image_url': None, 'profile_background_image_url_https': None, 'profile_background_tile': False, 'profile_image_url': 'http://pbs.twimg.com/profile_images/1243969662431289345/9F7vuTVf_normal.jpg', 'profile_image_url_https': 'https://pbs.twimg.com/profile_images/1243969662431289345/9F7vuTVf_normal.jpg', 'profile_banner_url': 'https://pbs.twimg.com/profile_banners/720658737770278912/1585420623', 'profile_link_color': '1DA1F2', 'profile_sidebar_border_color': 'C0DEED', 'profile_sidebar_fill_color': 'DDEEF6', 'profile_text_color': '333333', 'profile_use_background_image': True, 'has_extended_profile': False, 'default_profile': True, 'default_profile_image': False, 'following': False, 'follow_request_sent': False, 'notifications': False, 'translator_type': 'none'}, 'geo': None, 'coordinates': None, 'place': None, 'contributors': None, 'is_quote_status': False, 'retweet_count': 0, 'favorite_count': 0, 'favorited': False, 'retweeted': False, 'possibly_sensitive': False, 'lang': 'en'}, created_at=datetime.datetime(2020, 6, 23, 16, 14, 43), id=1275462299696787456, id_str='1275462299696787456', text='@JoeyAlan_ep @ToilsomeOlive 3/13/20, by signing The Emergency Powers Act, president Trump Lost total executive cont… https://t.co/UTjm2h8uG5', truncated=True, entities={'hashtags': [], 'symbols': [], 'user_mentions': [{'screen_name': 'JoeyAlan_ep', 'name': 'Joseph Reyes-Lawson', 'id': 27894398, 'id_str': '27894398', 'indices': [0, 12]}, {'screen_name': 'ToilsomeOlive', 'name': '🌱 🌱', 'id': 1089076532, 'id_str': '1089076532', 'indices': [13, 27]}], 'urls': [{'url': 'https://t.co/UTjm2h8uG5', 'expanded_url': 'https://twitter.com/i/web/status/1275462299696787456', 'display_url': 'twitter.com/i/web/status/1…', 'indices': [117, 140]}]}, metadata={'iso_language_code': 'en', 'result_type': 'recent'}, source='Twitter for Android', source_url='http://twitter.com/download/android', in_reply_to_status_id=1273826877711495169, in_reply_to_status_id_str='1273826877711495169', in_reply_to_user_id=27894398, in_reply_to_user_id_str='27894398', in_reply_to_screen_name='JoeyAlan_ep', author=User(_api=<tweepy.api.API object at 0x7fa1c6d13490>, _json={'id': 720658737770278912, 'id_str': '720658737770278912', 'name': 'Ingrid lawrence', 'screen_name': 'Ingridlaw19', 'location': '', 'description': '', 'url': None, 'entities': {'description': {'urls': []}}, 'protected': False, 'followers_count': 76, 'friends_count': 0, 'listed_count': 1, 'created_at': 'Thu Apr 14 17:03:27 +0000 2016', 'favourites_count': 0, 'utc_offset': None, 'time_zone': None, 'geo_enabled': False, 'verified': False, 'statuses_count': 2812, 'lang': None, 'contributors_enabled': False, 'is_translator': False, 'is_translation_enabled': False, 'profile_background_color': 'F5F8FA', 'profile_background_image_url': None, 'profile_background_image_url_https': None, 'profile_background_tile': False, 'profile_image_url': 'http://pbs.twimg.com/profile_images/1243969662431289345/9F7vuTVf_normal.jpg', 'profile_image_url_https': 'https://pbs.twimg.com/profile_images/1243969662431289345/9F7vuTVf_normal.jpg', 'profile_banner_url': 'https://pbs.twimg.com/profile_banners/720658737770278912/1585420623', 'profile_link_color': '1DA1F2', 'profile_sidebar_border_color': 'C0DEED', 'profile_sidebar_fill_color': 'DDEEF6', 'profile_text_color': '333333', 'profile_use_background_image': True, 'has_extended_profile': False, 'default_profile': True, 'default_profile_image': False, 'following': False, 'follow_request_sent': False, 'notifications': False, 'translator_type': 'none'}, id=720658737770278912, id_str='720658737770278912', name='Ingrid lawrence', screen_name='Ingridlaw19', location='', description='', url=None, entities={'description': {'urls': []}}, protected=False, followers_count=76, friends_count=0, listed_count=1, created_at=datetime.datetime(2016, 4, 14, 17, 3, 27), favourites_count=0, utc_offset=None, time_zone=None, geo_enabled=False, verified=False, statuses_count=2812, lang=None, contributors_enabled=False, is_translator=False, is_translation_enabled=False, profile_background_color='F5F8FA', profile_background_image_url=None, profile_background_image_url_https=None, profile_background_tile=False, profile_image_url='http://pbs.twimg.com/profile_images/1243969662431289345/9F7vuTVf_normal.jpg', profile_image_url_https='https://pbs.twimg.com/profile_images/1243969662431289345/9F7vuTVf_normal.jpg', profile_banner_url='https://pbs.twimg.com/profile_banners/720658737770278912/1585420623', profile_link_color='1DA1F2', profile_sidebar_border_color='C0DEED', profile_sidebar_fill_color='DDEEF6', profile_text_color='333333', profile_use_background_image=True, has_extended_profile=False, default_profile=True, default_profile_image=False, following=False, follow_request_sent=False, notifications=False, translator_type='none'), user=User(_api=<tweepy.api.API object at 0x7fa1c6d13490>, _json={'id': 720658737770278912, 'id_str': '720658737770278912', 'name': 'Ingrid lawrence', 'screen_name': 'Ingridlaw19', 'location': '', 'description': '', 'url': None, 'entities': {'description': {'urls': []}}, 'protected': False, 'followers_count': 76, 'friends_count': 0, 'listed_count': 1, 'created_at': 'Thu Apr 14 17:03:27 +0000 2016', 'favourites_count': 0, 'utc_offset': None, 'time_zone': None, 'geo_enabled': False, 'verified': False, 'statuses_count': 2812, 'lang': None, 'contributors_enabled': False, 'is_translator': False, 'is_translation_enabled': False, 'profile_background_color': 'F5F8FA', 'profile_background_image_url': None, 'profile_background_image_url_https': None, 'profile_background_tile': False, 'profile_image_url': 'http://pbs.twimg.com/profile_images/1243969662431289345/9F7vuTVf_normal.jpg', 'profile_image_url_https': 'https://pbs.twimg.com/profile_images/1243969662431289345/9F7vuTVf_normal.jpg', 'profile_banner_url': 'https://pbs.twimg.com/profile_banners/720658737770278912/1585420623', 'profile_link_color': '1DA1F2', 'profile_sidebar_border_color': 'C0DEED', 'profile_sidebar_fill_color': 'DDEEF6', 'profile_text_color': '333333', 'profile_use_background_image': True, 'has_extended_profile': False, 'default_profile': True, 'default_profile_image': False, 'following': False, 'follow_request_sent': False, 'notifications': False, 'translator_type': 'none'}, id=720658737770278912, id_str='720658737770278912', name='Ingrid lawrence', screen_name='Ingridlaw19', location='', description='', url=None, entities={'description': {'urls': []}}, protected=False, followers_count=76, friends_count=0, listed_count=1, created_at=datetime.datetime(2016, 4, 14, 17, 3, 27), favourites_count=0, utc_offset=None, time_zone=None, geo_enabled=False, verified=False, statuses_count=2812, lang=None, contributors_enabled=False, is_translator=False, is_translation_enabled=False, profile_background_color='F5F8FA', profile_background_image_url=None, profile_background_image_url_https=None, profile_background_tile=False, profile_image_url='http://pbs.twimg.com/profile_images/1243969662431289345/9F7vuTVf_normal.jpg', profile_image_url_https='https://pbs.twimg.com/profile_images/1243969662431289345/9F7vuTVf_normal.jpg', profile_banner_url='https://pbs.twimg.com/profile_banners/720658737770278912/1585420623', profile_link_color='1DA1F2', profile_sidebar_border_color='C0DEED', profile_sidebar_fill_color='DDEEF6', profile_text_color='333333', profile_use_background_image=True, has_extended_profile=False, default_profile=True, default_profile_image=False, following=False, follow_request_sent=False, notifications=False, translator_type='none'), geo=None, coordinates=None, place=None, contributors=None, is_quote_status=False, retweet_count=0, favorite_count=0, favorited=False, retweeted=False, possibly_sensitive=False, lang='en'), Status(_api=<tweepy.api.API object at 0x7fa1c6d13490>, _json={'created_at': 'Tue Jun 23 16:14:43 +0000 2020', 'id': 1275462299566964739, 'id_str': '1275462299566964739', 'text': 'RT @TommyG: 1/ENDGAME THREAD\\n \\nWanna know what this war is about? Wanna know how this movie ends? Wanna know what Trump’s plan is? \\n\\nI thin…', 'truncated': False, 'entities': {'hashtags': [], 'symbols': [], 'user_mentions': [{'screen_name': 'TommyG', 'name': 'Tommy G', 'id': 376986007, 'id_str': '376986007', 'indices': [3, 10]}], 'urls': []}, 'metadata': {'iso_language_code': 'en', 'result_type': 'recent'}, 'source': '<a href=\"http://twitter.com/download/iphone\" rel=\"nofollow\">Twitter for iPhone</a>', 'in_reply_to_status_id': None, 'in_reply_to_status_id_str': None, 'in_reply_to_user_id': None, 'in_reply_to_user_id_str': None, 'in_reply_to_screen_name': None, 'user': {'id': 3233482285, 'id_str': '3233482285', 'name': 'Eric Ratliff', 'screen_name': 'EricRatliff7', 'location': 'Chicago, IL', 'description': 'DFS', 'url': None, 'entities': {'description': {'urls': []}}, 'protected': False, 'followers_count': 33, 'friends_count': 251, 'listed_count': 0, 'created_at': 'Tue Jun 02 11:16:12 +0000 2015', 'favourites_count': 3651, 'utc_offset': None, 'time_zone': None, 'geo_enabled': False, 'verified': False, 'statuses_count': 666, 'lang': None, 'contributors_enabled': False, 'is_translator': False, 'is_translation_enabled': False, 'profile_background_color': 'C0DEED', 'profile_background_image_url': 'http://abs.twimg.com/images/themes/theme1/bg.png', 'profile_background_image_url_https': 'https://abs.twimg.com/images/themes/theme1/bg.png', 'profile_background_tile': False, 'profile_image_url': 'http://pbs.twimg.com/profile_images/1095136308106797057/ki1N52oM_normal.jpg', 'profile_image_url_https': 'https://pbs.twimg.com/profile_images/1095136308106797057/ki1N52oM_normal.jpg', 'profile_banner_url': 'https://pbs.twimg.com/profile_banners/3233482285/1543893760', 'profile_link_color': '1DA1F2', 'profile_sidebar_border_color': 'C0DEED', 'profile_sidebar_fill_color': 'DDEEF6', 'profile_text_color': '333333', 'profile_use_background_image': True, 'has_extended_profile': False, 'default_profile': True, 'default_profile_image': False, 'following': False, 'follow_request_sent': False, 'notifications': False, 'translator_type': 'none'}, 'geo': None, 'coordinates': None, 'place': None, 'contributors': None, 'retweeted_status': {'created_at': 'Tue Jun 23 02:34:50 +0000 2020', 'id': 1275255967811338240, 'id_str': '1275255967811338240', 'text': '1/ENDGAME THREAD\\n \\nWanna know what this war is about? Wanna know how this movie ends? Wanna know what Trump’s plan… https://t.co/UZyeyfwHSX', 'truncated': True, 'entities': {'hashtags': [], 'symbols': [], 'user_mentions': [], 'urls': [{'url': 'https://t.co/UZyeyfwHSX', 'expanded_url': 'https://twitter.com/i/web/status/1275255967811338240', 'display_url': 'twitter.com/i/web/status/1…', 'indices': [116, 139]}]}, 'metadata': {'iso_language_code': 'en', 'result_type': 'recent'}, 'source': '<a href=\"http://twitter.com/download/iphone\" rel=\"nofollow\">Twitter for iPhone</a>', 'in_reply_to_status_id': None, 'in_reply_to_status_id_str': None, 'in_reply_to_user_id': None, 'in_reply_to_user_id_str': None, 'in_reply_to_screen_name': None, 'user': {'id': 376986007, 'id_str': '376986007', 'name': 'Tommy G', 'screen_name': 'TommyG', 'location': 'WE WON’T BE SILENCED #WWG1WGA', 'description': 'Host @NoMercyPod (link below) - Views are my own, but soon will be yours - BIG ANNOUNCEMENT COMING SOON - https://t.co/HexEmP7ceZ', 'url': 'https://t.co/6l8ZnmCZNF', 'entities': {'url': {'urls': [{'url': 'https://t.co/6l8ZnmCZNF', 'expanded_url': 'https://apple.co/2OUXWHR', 'display_url': 'apple.co/2OUXWHR', 'indices': [0, 23]}]}, 'description': {'urls': [{'url': 'https://t.co/HexEmP7ceZ', 'expanded_url': 'http://www.instagram.com/tommygpatriot', 'display_url': 'instagram.com/tommygpatriot', 'indices': [106, 129]}]}}, 'protected': False, 'followers_count': 142295, 'friends_count': 1584, 'listed_count': 1089, 'created_at': 'Tue Sep 20 20:38:54 +0000 2011', 'favourites_count': 44027, 'utc_offset': None, 'time_zone': None, 'geo_enabled': True, 'verified': True, 'statuses_count': 93418, 'lang': None, 'contributors_enabled': False, 'is_translator': False, 'is_translation_enabled': False, 'profile_background_color': '131516', 'profile_background_image_url': 'http://abs.twimg.com/images/themes/theme14/bg.gif', 'profile_background_image_url_https': 'https://abs.twimg.com/images/themes/theme14/bg.gif', 'profile_background_tile': True, 'profile_image_url': 'http://pbs.twimg.com/profile_images/1274288272181809153/Pj41VQUl_normal.jpg', 'profile_image_url_https': 'https://pbs.twimg.com/profile_images/1274288272181809153/Pj41VQUl_normal.jpg', 'profile_banner_url': 'https://pbs.twimg.com/profile_banners/376986007/1592859012', 'profile_link_color': '610B21', 'profile_sidebar_border_color': '000000', 'profile_sidebar_fill_color': 'EFEFEF', 'profile_text_color': '333333', 'profile_use_background_image': True, 'has_extended_profile': True, 'default_profile': False, 'default_profile_image': False, 'following': False, 'follow_request_sent': False, 'notifications': False, 'translator_type': 'none'}, 'geo': None, 'coordinates': None, 'place': None, 'contributors': None, 'is_quote_status': False, 'retweet_count': 3323, 'favorite_count': 6953, 'favorited': False, 'retweeted': False, 'possibly_sensitive': False, 'lang': 'en'}, 'is_quote_status': False, 'retweet_count': 3323, 'favorite_count': 0, 'favorited': False, 'retweeted': False, 'lang': 'en'}, created_at=datetime.datetime(2020, 6, 23, 16, 14, 43), id=1275462299566964739, id_str='1275462299566964739', text='RT @TommyG: 1/ENDGAME THREAD\\n \\nWanna know what this war is about? Wanna know how this movie ends? Wanna know what Trump’s plan is? \\n\\nI thin…', truncated=False, entities={'hashtags': [], 'symbols': [], 'user_mentions': [{'screen_name': 'TommyG', 'name': 'Tommy G', 'id': 376986007, 'id_str': '376986007', 'indices': [3, 10]}], 'urls': []}, metadata={'iso_language_code': 'en', 'result_type': 'recent'}, source='Twitter for iPhone', source_url='http://twitter.com/download/iphone', in_reply_to_status_id=None, in_reply_to_status_id_str=None, in_reply_to_user_id=None, in_reply_to_user_id_str=None, in_reply_to_screen_name=None, author=User(_api=<tweepy.api.API object at 0x7fa1c6d13490>, _json={'id': 3233482285, 'id_str': '3233482285', 'name': 'Eric Ratliff', 'screen_name': 'EricRatliff7', 'location': 'Chicago, IL', 'description': 'DFS', 'url': None, 'entities': {'description': {'urls': []}}, 'protected': False, 'followers_count': 33, 'friends_count': 251, 'listed_count': 0, 'created_at': 'Tue Jun 02 11:16:12 +0000 2015', 'favourites_count': 3651, 'utc_offset': None, 'time_zone': None, 'geo_enabled': False, 'verified': False, 'statuses_count': 666, 'lang': None, 'contributors_enabled': False, 'is_translator': False, 'is_translation_enabled': False, 'profile_background_color': 'C0DEED', 'profile_background_image_url': 'http://abs.twimg.com/images/themes/theme1/bg.png', 'profile_background_image_url_https': 'https://abs.twimg.com/images/themes/theme1/bg.png', 'profile_background_tile': False, 'profile_image_url': 'http://pbs.twimg.com/profile_images/1095136308106797057/ki1N52oM_normal.jpg', 'profile_image_url_https': 'https://pbs.twimg.com/profile_images/1095136308106797057/ki1N52oM_normal.jpg', 'profile_banner_url': 'https://pbs.twimg.com/profile_banners/3233482285/1543893760', 'profile_link_color': '1DA1F2', 'profile_sidebar_border_color': 'C0DEED', 'profile_sidebar_fill_color': 'DDEEF6', 'profile_text_color': '333333', 'profile_use_background_image': True, 'has_extended_profile': False, 'default_profile': True, 'default_profile_image': False, 'following': False, 'follow_request_sent': False, 'notifications': False, 'translator_type': 'none'}, id=3233482285, id_str='3233482285', name='Eric Ratliff', screen_name='EricRatliff7', location='Chicago, IL', description='DFS', url=None, entities={'description': {'urls': []}}, protected=False, followers_count=33, friends_count=251, listed_count=0, created_at=datetime.datetime(2015, 6, 2, 11, 16, 12), favourites_count=3651, utc_offset=None, time_zone=None, geo_enabled=False, verified=False, statuses_count=666, lang=None, contributors_enabled=False, is_translator=False, is_translation_enabled=False, profile_background_color='C0DEED', profile_background_image_url='http://abs.twimg.com/images/themes/theme1/bg.png', profile_background_image_url_https='https://abs.twimg.com/images/themes/theme1/bg.png', profile_background_tile=False, profile_image_url='http://pbs.twimg.com/profile_images/1095136308106797057/ki1N52oM_normal.jpg', profile_image_url_https='https://pbs.twimg.com/profile_images/1095136308106797057/ki1N52oM_normal.jpg', profile_banner_url='https://pbs.twimg.com/profile_banners/3233482285/1543893760', profile_link_color='1DA1F2', profile_sidebar_border_color='C0DEED', profile_sidebar_fill_color='DDEEF6', profile_text_color='333333', profile_use_background_image=True, has_extended_profile=False, default_profile=True, default_profile_image=False, following=False, follow_request_sent=False, notifications=False, translator_type='none'), user=User(_api=<tweepy.api.API object at 0x7fa1c6d13490>, _json={'id': 3233482285, 'id_str': '3233482285', 'name': 'Eric Ratliff', 'screen_name': 'EricRatliff7', 'location': 'Chicago, IL', 'description': 'DFS', 'url': None, 'entities': {'description': {'urls': []}}, 'protected': False, 'followers_count': 33, 'friends_count': 251, 'listed_count': 0, 'created_at': 'Tue Jun 02 11:16:12 +0000 2015', 'favourites_count': 3651, 'utc_offset': None, 'time_zone': None, 'geo_enabled': False, 'verified': False, 'statuses_count': 666, 'lang': None, 'contributors_enabled': False, 'is_translator': False, 'is_translation_enabled': False, 'profile_background_color': 'C0DEED', 'profile_background_image_url': 'http://abs.twimg.com/images/themes/theme1/bg.png', 'profile_background_image_url_https': 'https://abs.twimg.com/images/themes/theme1/bg.png', 'profile_background_tile': False, 'profile_image_url': 'http://pbs.twimg.com/profile_images/1095136308106797057/ki1N52oM_normal.jpg', 'profile_image_url_https': 'https://pbs.twimg.com/profile_images/1095136308106797057/ki1N52oM_normal.jpg', 'profile_banner_url': 'https://pbs.twimg.com/profile_banners/3233482285/1543893760', 'profile_link_color': '1DA1F2', 'profile_sidebar_border_color': 'C0DEED', 'profile_sidebar_fill_color': 'DDEEF6', 'profile_text_color': '333333', 'profile_use_background_image': True, 'has_extended_profile': False, 'default_profile': True, 'default_profile_image': False, 'following': False, 'follow_request_sent': False, 'notifications': False, 'translator_type': 'none'}, id=3233482285, id_str='3233482285', name='Eric Ratliff', screen_name='EricRatliff7', location='Chicago, IL', description='DFS', url=None, entities={'description': {'urls': []}}, protected=False, followers_count=33, friends_count=251, listed_count=0, created_at=datetime.datetime(2015, 6, 2, 11, 16, 12), favourites_count=3651, utc_offset=None, time_zone=None, geo_enabled=False, verified=False, statuses_count=666, lang=None, contributors_enabled=False, is_translator=False, is_translation_enabled=False, profile_background_color='C0DEED', profile_background_image_url='http://abs.twimg.com/images/themes/theme1/bg.png', profile_background_image_url_https='https://abs.twimg.com/images/themes/theme1/bg.png', profile_background_tile=False, profile_image_url='http://pbs.twimg.com/profile_images/1095136308106797057/ki1N52oM_normal.jpg', profile_image_url_https='https://pbs.twimg.com/profile_images/1095136308106797057/ki1N52oM_normal.jpg', profile_banner_url='https://pbs.twimg.com/profile_banners/3233482285/1543893760', profile_link_color='1DA1F2', profile_sidebar_border_color='C0DEED', profile_sidebar_fill_color='DDEEF6', profile_text_color='333333', profile_use_background_image=True, has_extended_profile=False, default_profile=True, default_profile_image=False, following=False, follow_request_sent=False, notifications=False, translator_type='none'), geo=None, coordinates=None, place=None, contributors=None, retweeted_status=Status(_api=<tweepy.api.API object at 0x7fa1c6d13490>, _json={'created_at': 'Tue Jun 23 02:34:50 +0000 2020', 'id': 1275255967811338240, 'id_str': '1275255967811338240', 'text': '1/ENDGAME THREAD\\n \\nWanna know what this war is about? Wanna know how this movie ends? Wanna know what Trump’s plan… https://t.co/UZyeyfwHSX', 'truncated': True, 'entities': {'hashtags': [], 'symbols': [], 'user_mentions': [], 'urls': [{'url': 'https://t.co/UZyeyfwHSX', 'expanded_url': 'https://twitter.com/i/web/status/1275255967811338240', 'display_url': 'twitter.com/i/web/status/1…', 'indices': [116, 139]}]}, 'metadata': {'iso_language_code': 'en', 'result_type': 'recent'}, 'source': '<a href=\"http://twitter.com/download/iphone\" rel=\"nofollow\">Twitter for iPhone</a>', 'in_reply_to_status_id': None, 'in_reply_to_status_id_str': None, 'in_reply_to_user_id': None, 'in_reply_to_user_id_str': None, 'in_reply_to_screen_name': None, 'user': {'id': 376986007, 'id_str': '376986007', 'name': 'Tommy G', 'screen_name': 'TommyG', 'location': 'WE WON’T BE SILENCED #WWG1WGA', 'description': 'Host @NoMercyPod (link below) - Views are my own, but soon will be yours - BIG ANNOUNCEMENT COMING SOON - https://t.co/HexEmP7ceZ', 'url': 'https://t.co/6l8ZnmCZNF', 'entities': {'url': {'urls': [{'url': 'https://t.co/6l8ZnmCZNF', 'expanded_url': 'https://apple.co/2OUXWHR', 'display_url': 'apple.co/2OUXWHR', 'indices': [0, 23]}]}, 'description': {'urls': [{'url': 'https://t.co/HexEmP7ceZ', 'expanded_url': 'http://www.instagram.com/tommygpatriot', 'display_url': 'instagram.com/tommygpatriot', 'indices': [106, 129]}]}}, 'protected': False, 'followers_count': 142295, 'friends_count': 1584, 'listed_count': 1089, 'created_at': 'Tue Sep 20 20:38:54 +0000 2011', 'favourites_count': 44027, 'utc_offset': None, 'time_zone': None, 'geo_enabled': True, 'verified': True, 'statuses_count': 93418, 'lang': None, 'contributors_enabled': False, 'is_translator': False, 'is_translation_enabled': False, 'profile_background_color': '131516', 'profile_background_image_url': 'http://abs.twimg.com/images/themes/theme14/bg.gif', 'profile_background_image_url_https': 'https://abs.twimg.com/images/themes/theme14/bg.gif', 'profile_background_tile': True, 'profile_image_url': 'http://pbs.twimg.com/profile_images/1274288272181809153/Pj41VQUl_normal.jpg', 'profile_image_url_https': 'https://pbs.twimg.com/profile_images/1274288272181809153/Pj41VQUl_normal.jpg', 'profile_banner_url': 'https://pbs.twimg.com/profile_banners/376986007/1592859012', 'profile_link_color': '610B21', 'profile_sidebar_border_color': '000000', 'profile_sidebar_fill_color': 'EFEFEF', 'profile_text_color': '333333', 'profile_use_background_image': True, 'has_extended_profile': True, 'default_profile': False, 'default_profile_image': False, 'following': False, 'follow_request_sent': False, 'notifications': False, 'translator_type': 'none'}, 'geo': None, 'coordinates': None, 'place': None, 'contributors': None, 'is_quote_status': False, 'retweet_count': 3323, 'favorite_count': 6953, 'favorited': False, 'retweeted': False, 'possibly_sensitive': False, 'lang': 'en'}, created_at=datetime.datetime(2020, 6, 23, 2, 34, 50), id=1275255967811338240, id_str='1275255967811338240', text='1/ENDGAME THREAD\\n \\nWanna know what this war is about? Wanna know how this movie ends? Wanna know what Trump’s plan… https://t.co/UZyeyfwHSX', truncated=True, entities={'hashtags': [], 'symbols': [], 'user_mentions': [], 'urls': [{'url': 'https://t.co/UZyeyfwHSX', 'expanded_url': 'https://twitter.com/i/web/status/1275255967811338240', 'display_url': 'twitter.com/i/web/status/1…', 'indices': [116, 139]}]}, metadata={'iso_language_code': 'en', 'result_type': 'recent'}, source='Twitter for iPhone', source_url='http://twitter.com/download/iphone', in_reply_to_status_id=None, in_reply_to_status_id_str=None, in_reply_to_user_id=None, in_reply_to_user_id_str=None, in_reply_to_screen_name=None, author=User(_api=<tweepy.api.API object at 0x7fa1c6d13490>, _json={'id': 376986007, 'id_str': '376986007', 'name': 'Tommy G', 'screen_name': 'TommyG', 'location': 'WE WON’T BE SILENCED #WWG1WGA', 'description': 'Host @NoMercyPod (link below) - Views are my own, but soon will be yours - BIG ANNOUNCEMENT COMING SOON - https://t.co/HexEmP7ceZ', 'url': 'https://t.co/6l8ZnmCZNF', 'entities': {'url': {'urls': [{'url': 'https://t.co/6l8ZnmCZNF', 'expanded_url': 'https://apple.co/2OUXWHR', 'display_url': 'apple.co/2OUXWHR', 'indices': [0, 23]}]}, 'description': {'urls': [{'url': 'https://t.co/HexEmP7ceZ', 'expanded_url': 'http://www.instagram.com/tommygpatriot', 'display_url': 'instagram.com/tommygpatriot', 'indices': [106, 129]}]}}, 'protected': False, 'followers_count': 142295, 'friends_count': 1584, 'listed_count': 1089, 'created_at': 'Tue Sep 20 20:38:54 +0000 2011', 'favourites_count': 44027, 'utc_offset': None, 'time_zone': None, 'geo_enabled': True, 'verified': True, 'statuses_count': 93418, 'lang': None, 'contributors_enabled': False, 'is_translator': False, 'is_translation_enabled': False, 'profile_background_color': '131516', 'profile_background_image_url': 'http://abs.twimg.com/images/themes/theme14/bg.gif', 'profile_background_image_url_https': 'https://abs.twimg.com/images/themes/theme14/bg.gif', 'profile_background_tile': True, 'profile_image_url': 'http://pbs.twimg.com/profile_images/1274288272181809153/Pj41VQUl_normal.jpg', 'profile_image_url_https': 'https://pbs.twimg.com/profile_images/1274288272181809153/Pj41VQUl_normal.jpg', 'profile_banner_url': 'https://pbs.twimg.com/profile_banners/376986007/1592859012', 'profile_link_color': '610B21', 'profile_sidebar_border_color': '000000', 'profile_sidebar_fill_color': 'EFEFEF', 'profile_text_color': '333333', 'profile_use_background_image': True, 'has_extended_profile': True, 'default_profile': False, 'default_profile_image': False, 'following': False, 'follow_request_sent': False, 'notifications': False, 'translator_type': 'none'}, id=376986007, id_str='376986007', name='Tommy G', screen_name='TommyG', location='WE WON’T BE SILENCED #WWG1WGA', description='Host @NoMercyPod (link below) - Views are my own, but soon will be yours - BIG ANNOUNCEMENT COMING SOON - https://t.co/HexEmP7ceZ', url='https://t.co/6l8ZnmCZNF', entities={'url': {'urls': [{'url': 'https://t.co/6l8ZnmCZNF', 'expanded_url': 'https://apple.co/2OUXWHR', 'display_url': 'apple.co/2OUXWHR', 'indices': [0, 23]}]}, 'description': {'urls': [{'url': 'https://t.co/HexEmP7ceZ', 'expanded_url': 'http://www.instagram.com/tommygpatriot', 'display_url': 'instagram.com/tommygpatriot', 'indices': [106, 129]}]}}, protected=False, followers_count=142295, friends_count=1584, listed_count=1089, created_at=datetime.datetime(2011, 9, 20, 20, 38, 54), favourites_count=44027, utc_offset=None, time_zone=None, geo_enabled=True, verified=True, statuses_count=93418, lang=None, contributors_enabled=False, is_translator=False, is_translation_enabled=False, profile_background_color='131516', profile_background_image_url='http://abs.twimg.com/images/themes/theme14/bg.gif', profile_background_image_url_https='https://abs.twimg.com/images/themes/theme14/bg.gif', profile_background_tile=True, profile_image_url='http://pbs.twimg.com/profile_images/1274288272181809153/Pj41VQUl_normal.jpg', profile_image_url_https='https://pbs.twimg.com/profile_images/1274288272181809153/Pj41VQUl_normal.jpg', profile_banner_url='https://pbs.twimg.com/profile_banners/376986007/1592859012', profile_link_color='610B21', profile_sidebar_border_color='000000', profile_sidebar_fill_color='EFEFEF', profile_text_color='333333', profile_use_background_image=True, has_extended_profile=True, default_profile=False, default_profile_image=False, following=False, follow_request_sent=False, notifications=False, translator_type='none'), user=User(_api=<tweepy.api.API object at 0x7fa1c6d13490>, _json={'id': 376986007, 'id_str': '376986007', 'name': 'Tommy G', 'screen_name': 'TommyG', 'location': 'WE WON’T BE SILENCED #WWG1WGA', 'description': 'Host @NoMercyPod (link below) - Views are my own, but soon will be yours - BIG ANNOUNCEMENT COMING SOON - https://t.co/HexEmP7ceZ', 'url': 'https://t.co/6l8ZnmCZNF', 'entities': {'url': {'urls': [{'url': 'https://t.co/6l8ZnmCZNF', 'expanded_url': 'https://apple.co/2OUXWHR', 'display_url': 'apple.co/2OUXWHR', 'indices': [0, 23]}]}, 'description': {'urls': [{'url': 'https://t.co/HexEmP7ceZ', 'expanded_url': 'http://www.instagram.com/tommygpatriot', 'display_url': 'instagram.com/tommygpatriot', 'indices': [106, 129]}]}}, 'protected': False, 'followers_count': 142295, 'friends_count': 1584, 'listed_count': 1089, 'created_at': 'Tue Sep 20 20:38:54 +0000 2011', 'favourites_count': 44027, 'utc_offset': None, 'time_zone': None, 'geo_enabled': True, 'verified': True, 'statuses_count': 93418, 'lang': None, 'contributors_enabled': False, 'is_translator': False, 'is_translation_enabled': False, 'profile_background_color': '131516', 'profile_background_image_url': 'http://abs.twimg.com/images/themes/theme14/bg.gif', 'profile_background_image_url_https': 'https://abs.twimg.com/images/themes/theme14/bg.gif', 'profile_background_tile': True, 'profile_image_url': 'http://pbs.twimg.com/profile_images/1274288272181809153/Pj41VQUl_normal.jpg', 'profile_image_url_https': 'https://pbs.twimg.com/profile_images/1274288272181809153/Pj41VQUl_normal.jpg', 'profile_banner_url': 'https://pbs.twimg.com/profile_banners/376986007/1592859012', 'profile_link_color': '610B21', 'profile_sidebar_border_color': '000000', 'profile_sidebar_fill_color': 'EFEFEF', 'profile_text_color': '333333', 'profile_use_background_image': True, 'has_extended_profile': True, 'default_profile': False, 'default_profile_image': False, 'following': False, 'follow_request_sent': False, 'notifications': False, 'translator_type': 'none'}, id=376986007, id_str='376986007', name='Tommy G', screen_name='TommyG', location='WE WON’T BE SILENCED #WWG1WGA', description='Host @NoMercyPod (link below) - Views are my own, but soon will be yours - BIG ANNOUNCEMENT COMING SOON - https://t.co/HexEmP7ceZ', url='https://t.co/6l8ZnmCZNF', entities={'url': {'urls': [{'url': 'https://t.co/6l8ZnmCZNF', 'expanded_url': 'https://apple.co/2OUXWHR', 'display_url': 'apple.co/2OUXWHR', 'indices': [0, 23]}]}, 'description': {'urls': [{'url': 'https://t.co/HexEmP7ceZ', 'expanded_url': 'http://www.instagram.com/tommygpatriot', 'display_url': 'instagram.com/tommygpatriot', 'indices': [106, 129]}]}}, protected=False, followers_count=142295, friends_count=1584, listed_count=1089, created_at=datetime.datetime(2011, 9, 20, 20, 38, 54), favourites_count=44027, utc_offset=None, time_zone=None, geo_enabled=True, verified=True, statuses_count=93418, lang=None, contributors_enabled=False, is_translator=False, is_translation_enabled=False, profile_background_color='131516', profile_background_image_url='http://abs.twimg.com/images/themes/theme14/bg.gif', profile_background_image_url_https='https://abs.twimg.com/images/themes/theme14/bg.gif', profile_background_tile=True, profile_image_url='http://pbs.twimg.com/profile_images/1274288272181809153/Pj41VQUl_normal.jpg', profile_image_url_https='https://pbs.twimg.com/profile_images/1274288272181809153/Pj41VQUl_normal.jpg', profile_banner_url='https://pbs.twimg.com/profile_banners/376986007/1592859012', profile_link_color='610B21', profile_sidebar_border_color='000000', profile_sidebar_fill_color='EFEFEF', profile_text_color='333333', profile_use_background_image=True, has_extended_profile=True, default_profile=False, default_profile_image=False, following=False, follow_request_sent=False, notifications=False, translator_type='none'), geo=None, coordinates=None, place=None, contributors=None, is_quote_status=False, retweet_count=3323, favorite_count=6953, favorited=False, retweeted=False, possibly_sensitive=False, lang='en'), is_quote_status=False, retweet_count=3323, favorite_count=0, favorited=False, retweeted=False, lang='en'), Status(_api=<tweepy.api.API object at 0x7fa1c6d13490>, _json={'created_at': 'Tue Jun 23 16:14:43 +0000 2020', 'id': 1275462299336114177, 'id_str': '1275462299336114177', 'text': 'RT @pjbowles4: Our darling friend @Sheerglee1 was on the 1st row at the Tulsa Trump Rally!! Then, she appeared on the front page of the Wal…', 'truncated': False, 'entities': {'hashtags': [], 'symbols': [], 'user_mentions': [{'screen_name': 'pjbowles4', 'name': 'Pj # DJTrumplicans ⭐⭐⭐', 'id': 265245636, 'id_str': '265245636', 'indices': [3, 13]}, {'screen_name': 'Sheerglee1', 'name': '🔥🇺🇸🔥Sheerglee🔥🇺🇸🔥', 'id': 977308541668200448, 'id_str': '977308541668200448', 'indices': [34, 45]}], 'urls': []}, 'metadata': {'iso_language_code': 'en', 'result_type': 'recent'}, 'source': '<a href=\"https://mobile.twitter.com\" rel=\"nofollow\">Twitter Web App</a>', 'in_reply_to_status_id': None, 'in_reply_to_status_id_str': None, 'in_reply_to_user_id': None, 'in_reply_to_user_id_str': None, 'in_reply_to_screen_name': None, 'user': {'id': 923368757803847680, 'id_str': '923368757803847680', 'name': 'MAGABOT #Trump2020 🍀 ⭐⭐⭐', 'screen_name': 'ttocs35', 'location': 'USA', 'description': '#Trump2020, #BuildTheWall, #DrainTheSwamp, #Conservative, #1A, #2A, #MAGA, #KAG, #VETS, #COS, #GoBuckeyes! #FairTrade, #StopTheCensorship', 'url': None, 'entities': {'description': {'urls': []}}, 'protected': False, 'followers_count': 65053, 'friends_count': 65300, 'listed_count': 19, 'created_at': 'Thu Oct 26 02:00:41 +0000 2017', 'favourites_count': 105710, 'utc_offset': None, 'time_zone': None, 'geo_enabled': False, 'verified': False, 'statuses_count': 95370, 'lang': None, 'contributors_enabled': False, 'is_translator': False, 'is_translation_enabled': False, 'profile_background_color': '000000', 'profile_background_image_url': 'http://abs.twimg.com/images/themes/theme1/bg.png', 'profile_background_image_url_https': 'https://abs.twimg.com/images/themes/theme1/bg.png', 'profile_background_tile': False, 'profile_image_url': 'http://pbs.twimg.com/profile_images/975868921562763266/rv0zk7-f_normal.jpg', 'profile_image_url_https': 'https://pbs.twimg.com/profile_images/975868921562763266/rv0zk7-f_normal.jpg', 'profile_banner_url': 'https://pbs.twimg.com/profile_banners/923368757803847680/1558465515', 'profile_link_color': 'ABB8C2', 'profile_sidebar_border_color': '000000', 'profile_sidebar_fill_color': '000000', 'profile_text_color': '000000', 'profile_use_background_image': False, 'has_extended_profile': True, 'default_profile': False, 'default_profile_image': False, 'following': False, 'follow_request_sent': False, 'notifications': False, 'translator_type': 'none'}, 'geo': None, 'coordinates': None, 'place': None, 'contributors': None, 'retweeted_status': {'created_at': 'Tue Jun 23 01:14:57 +0000 2020', 'id': 1275235862532456449, 'id_str': '1275235862532456449', 'text': 'Our darling friend @Sheerglee1 was on the 1st row at the Tulsa Trump Rally!! Then, she appeared on the front page o… https://t.co/RNK3vyGYKq', 'truncated': True, 'entities': {'hashtags': [], 'symbols': [], 'user_mentions': [{'screen_name': 'Sheerglee1', 'name': '🔥🇺🇸🔥Sheerglee🔥🇺🇸🔥', 'id': 977308541668200448, 'id_str': '977308541668200448', 'indices': [19, 30]}], 'urls': [{'url': 'https://t.co/RNK3vyGYKq', 'expanded_url': 'https://twitter.com/i/web/status/1275235862532456449', 'display_url': 'twitter.com/i/web/status/1…', 'indices': [117, 140]}]}, 'metadata': {'iso_language_code': 'en', 'result_type': 'recent'}, 'source': '<a href=\"http://twitter.com/download/android\" rel=\"nofollow\">Twitter for Android</a>', 'in_reply_to_status_id': 1274136159623565317, 'in_reply_to_status_id_str': '1274136159623565317', 'in_reply_to_user_id': 265245636, 'in_reply_to_user_id_str': '265245636', 'in_reply_to_screen_name': 'pjbowles4', 'user': {'id': 265245636, 'id_str': '265245636', 'name': 'Pj # DJTrumplicans ⭐⭐⭐', 'screen_name': 'pjbowles4', 'location': 'Dallas, TX ', 'description': '💙MAGA 💙Cult45 💙Military & Vets👮\\u200d♂️LEO🌷1A🌷2A 💙Texas Teacher 💙6GenerationsOfTexans 💙My President https://t.co/MvGV9k3nz3\\nhttps://t.co/oAuASsbiXQ', 'url': 'https://t.co/oBkZa87Sp8', 'entities': {'url': {'urls': [{'url': 'https://t.co/oBkZa87Sp8', 'expanded_url': 'http://Gab.ai/TXPA', 'display_url': 'Gab.ai/TXPA', 'indices': [0, 23]}]}, 'description': {'urls': [{'url': 'https://t.co/MvGV9k3nz3', 'expanded_url': 'http://Trumpchat.org', 'display_url': 'Trumpchat.org', 'indices': [95, 118]}, {'url': 'https://t.co/oAuASsbiXQ', 'expanded_url': 'http://parler.com/profile/pj', 'display_url': 'parler.com/profile/pj', 'indices': [119, 142]}]}}, 'protected': False, 'followers_count': 93640, 'friends_count': 62656, 'listed_count': 118, 'created_at': 'Sun Mar 13 07:12:14 +0000 2011', 'favourites_count': 237305, 'utc_offset': None, 'time_zone': None, 'geo_enabled': True, 'verified': False, 'statuses_count': 265450, 'lang': None, 'contributors_enabled': False, 'is_translator': False, 'is_translation_enabled': False, 'profile_background_color': 'C0DEED', 'profile_background_image_url': 'http://abs.twimg.com/images/themes/theme1/bg.png', 'profile_background_image_url_https': 'https://abs.twimg.com/images/themes/theme1/bg.png', 'profile_background_tile': False, 'profile_image_url': 'http://pbs.twimg.com/profile_images/1247776801276887040/qWJQxiWb_normal.jpg', 'profile_image_url_https': 'https://pbs.twimg.com/profile_images/1247776801276887040/qWJQxiWb_normal.jpg', 'profile_banner_url': 'https://pbs.twimg.com/profile_banners/265245636/1580024679', 'profile_link_color': '1DA1F2', 'profile_sidebar_border_color': 'C0DEED', 'profile_sidebar_fill_color': 'DDEEF6', 'profile_text_color': '333333', 'profile_use_background_image': True, 'has_extended_profile': True, 'default_profile': True, 'default_profile_image': False, 'following': False, 'follow_request_sent': False, 'notifications': False, 'translator_type': 'none'}, 'geo': None, 'coordinates': None, 'place': None, 'contributors': None, 'is_quote_status': False, 'retweet_count': 167, 'favorite_count': 130, 'favorited': False, 'retweeted': False, 'possibly_sensitive': False, 'lang': 'en'}, 'is_quote_status': False, 'retweet_count': 167, 'favorite_count': 0, 'favorited': False, 'retweeted': False, 'lang': 'en'}, created_at=datetime.datetime(2020, 6, 23, 16, 14, 43), id=1275462299336114177, id_str='1275462299336114177', text='RT @pjbowles4: Our darling friend @Sheerglee1 was on the 1st row at the Tulsa Trump Rally!! Then, she appeared on the front page of the Wal…', truncated=False, entities={'hashtags': [], 'symbols': [], 'user_mentions': [{'screen_name': 'pjbowles4', 'name': 'Pj # DJTrumplicans ⭐⭐⭐', 'id': 265245636, 'id_str': '265245636', 'indices': [3, 13]}, {'screen_name': 'Sheerglee1', 'name': '🔥🇺🇸🔥Sheerglee🔥🇺🇸🔥', 'id': 977308541668200448, 'id_str': '977308541668200448', 'indices': [34, 45]}], 'urls': []}, metadata={'iso_language_code': 'en', 'result_type': 'recent'}, source='Twitter Web App', source_url='https://mobile.twitter.com', in_reply_to_status_id=None, in_reply_to_status_id_str=None, in_reply_to_user_id=None, in_reply_to_user_id_str=None, in_reply_to_screen_name=None, author=User(_api=<tweepy.api.API object at 0x7fa1c6d13490>, _json={'id': 923368757803847680, 'id_str': '923368757803847680', 'name': 'MAGABOT #Trump2020 🍀 ⭐⭐⭐', 'screen_name': 'ttocs35', 'location': 'USA', 'description': '#Trump2020, #BuildTheWall, #DrainTheSwamp, #Conservative, #1A, #2A, #MAGA, #KAG, #VETS, #COS, #GoBuckeyes! #FairTrade, #StopTheCensorship', 'url': None, 'entities': {'description': {'urls': []}}, 'protected': False, 'followers_count': 65053, 'friends_count': 65300, 'listed_count': 19, 'created_at': 'Thu Oct 26 02:00:41 +0000 2017', 'favourites_count': 105710, 'utc_offset': None, 'time_zone': None, 'geo_enabled': False, 'verified': False, 'statuses_count': 95370, 'lang': None, 'contributors_enabled': False, 'is_translator': False, 'is_translation_enabled': False, 'profile_background_color': '000000', 'profile_background_image_url': 'http://abs.twimg.com/images/themes/theme1/bg.png', 'profile_background_image_url_https': 'https://abs.twimg.com/images/themes/theme1/bg.png', 'profile_background_tile': False, 'profile_image_url': 'http://pbs.twimg.com/profile_images/975868921562763266/rv0zk7-f_normal.jpg', 'profile_image_url_https': 'https://pbs.twimg.com/profile_images/975868921562763266/rv0zk7-f_normal.jpg', 'profile_banner_url': 'https://pbs.twimg.com/profile_banners/923368757803847680/1558465515', 'profile_link_color': 'ABB8C2', 'profile_sidebar_border_color': '000000', 'profile_sidebar_fill_color': '000000', 'profile_text_color': '000000', 'profile_use_background_image': False, 'has_extended_profile': True, 'default_profile': False, 'default_profile_image': False, 'following': False, 'follow_request_sent': False, 'notifications': False, 'translator_type': 'none'}, id=923368757803847680, id_str='923368757803847680', name='MAGABOT #Trump2020 🍀 ⭐⭐⭐', screen_name='ttocs35', location='USA', description='#Trump2020, #BuildTheWall, #DrainTheSwamp, #Conservative, #1A, #2A, #MAGA, #KAG, #VETS, #COS, #GoBuckeyes! #FairTrade, #StopTheCensorship', url=None, entities={'description': {'urls': []}}, protected=False, followers_count=65053, friends_count=65300, listed_count=19, created_at=datetime.datetime(2017, 10, 26, 2, 0, 41), favourites_count=105710, utc_offset=None, time_zone=None, geo_enabled=False, verified=False, statuses_count=95370, lang=None, contributors_enabled=False, is_translator=False, is_translation_enabled=False, profile_background_color='000000', profile_background_image_url='http://abs.twimg.com/images/themes/theme1/bg.png', profile_background_image_url_https='https://abs.twimg.com/images/themes/theme1/bg.png', profile_background_tile=False, profile_image_url='http://pbs.twimg.com/profile_images/975868921562763266/rv0zk7-f_normal.jpg', profile_image_url_https='https://pbs.twimg.com/profile_images/975868921562763266/rv0zk7-f_normal.jpg', profile_banner_url='https://pbs.twimg.com/profile_banners/923368757803847680/1558465515', profile_link_color='ABB8C2', profile_sidebar_border_color='000000', profile_sidebar_fill_color='000000', profile_text_color='000000', profile_use_background_image=False, has_extended_profile=True, default_profile=False, default_profile_image=False, following=False, follow_request_sent=False, notifications=False, translator_type='none'), user=User(_api=<tweepy.api.API object at 0x7fa1c6d13490>, _json={'id': 923368757803847680, 'id_str': '923368757803847680', 'name': 'MAGABOT #Trump2020 🍀 ⭐⭐⭐', 'screen_name': 'ttocs35', 'location': 'USA', 'description': '#Trump2020, #BuildTheWall, #DrainTheSwamp, #Conservative, #1A, #2A, #MAGA, #KAG, #VETS, #COS, #GoBuckeyes! #FairTrade, #StopTheCensorship', 'url': None, 'entities': {'description': {'urls': []}}, 'protected': False, 'followers_count': 65053, 'friends_count': 65300, 'listed_count': 19, 'created_at': 'Thu Oct 26 02:00:41 +0000 2017', 'favourites_count': 105710, 'utc_offset': None, 'time_zone': None, 'geo_enabled': False, 'verified': False, 'statuses_count': 95370, 'lang': None, 'contributors_enabled': False, 'is_translator': False, 'is_translation_enabled': False, 'profile_background_color': '000000', 'profile_background_image_url': 'http://abs.twimg.com/images/themes/theme1/bg.png', 'profile_background_image_url_https': 'https://abs.twimg.com/images/themes/theme1/bg.png', 'profile_background_tile': False, 'profile_image_url': 'http://pbs.twimg.com/profile_images/975868921562763266/rv0zk7-f_normal.jpg', 'profile_image_url_https': 'https://pbs.twimg.com/profile_images/975868921562763266/rv0zk7-f_normal.jpg', 'profile_banner_url': 'https://pbs.twimg.com/profile_banners/923368757803847680/1558465515', 'profile_link_color': 'ABB8C2', 'profile_sidebar_border_color': '000000', 'profile_sidebar_fill_color': '000000', 'profile_text_color': '000000', 'profile_use_background_image': False, 'has_extended_profile': True, 'default_profile': False, 'default_profile_image': False, 'following': False, 'follow_request_sent': False, 'notifications': False, 'translator_type': 'none'}, id=923368757803847680, id_str='923368757803847680', name='MAGABOT #Trump2020 🍀 ⭐⭐⭐', screen_name='ttocs35', location='USA', description='#Trump2020, #BuildTheWall, #DrainTheSwamp, #Conservative, #1A, #2A, #MAGA, #KAG, #VETS, #COS, #GoBuckeyes! #FairTrade, #StopTheCensorship', url=None, entities={'description': {'urls': []}}, protected=False, followers_count=65053, friends_count=65300, listed_count=19, created_at=datetime.datetime(2017, 10, 26, 2, 0, 41), favourites_count=105710, utc_offset=None, time_zone=None, geo_enabled=False, verified=False, statuses_count=95370, lang=None, contributors_enabled=False, is_translator=False, is_translation_enabled=False, profile_background_color='000000', profile_background_image_url='http://abs.twimg.com/images/themes/theme1/bg.png', profile_background_image_url_https='https://abs.twimg.com/images/themes/theme1/bg.png', profile_background_tile=False, profile_image_url='http://pbs.twimg.com/profile_images/975868921562763266/rv0zk7-f_normal.jpg', profile_image_url_https='https://pbs.twimg.com/profile_images/975868921562763266/rv0zk7-f_normal.jpg', profile_banner_url='https://pbs.twimg.com/profile_banners/923368757803847680/1558465515', profile_link_color='ABB8C2', profile_sidebar_border_color='000000', profile_sidebar_fill_color='000000', profile_text_color='000000', profile_use_background_image=False, has_extended_profile=True, default_profile=False, default_profile_image=False, following=False, follow_request_sent=False, notifications=False, translator_type='none'), geo=None, coordinates=None, place=None, contributors=None, retweeted_status=Status(_api=<tweepy.api.API object at 0x7fa1c6d13490>, _json={'created_at': 'Tue Jun 23 01:14:57 +0000 2020', 'id': 1275235862532456449, 'id_str': '1275235862532456449', 'text': 'Our darling friend @Sheerglee1 was on the 1st row at the Tulsa Trump Rally!! Then, she appeared on the front page o… https://t.co/RNK3vyGYKq', 'truncated': True, 'entities': {'hashtags': [], 'symbols': [], 'user_mentions': [{'screen_name': 'Sheerglee1', 'name': '🔥🇺🇸🔥Sheerglee🔥🇺🇸🔥', 'id': 977308541668200448, 'id_str': '977308541668200448', 'indices': [19, 30]}], 'urls': [{'url': 'https://t.co/RNK3vyGYKq', 'expanded_url': 'https://twitter.com/i/web/status/1275235862532456449', 'display_url': 'twitter.com/i/web/status/1…', 'indices': [117, 140]}]}, 'metadata': {'iso_language_code': 'en', 'result_type': 'recent'}, 'source': '<a href=\"http://twitter.com/download/android\" rel=\"nofollow\">Twitter for Android</a>', 'in_reply_to_status_id': 1274136159623565317, 'in_reply_to_status_id_str': '1274136159623565317', 'in_reply_to_user_id': 265245636, 'in_reply_to_user_id_str': '265245636', 'in_reply_to_screen_name': 'pjbowles4', 'user': {'id': 265245636, 'id_str': '265245636', 'name': 'Pj # DJTrumplicans ⭐⭐⭐', 'screen_name': 'pjbowles4', 'location': 'Dallas, TX ', 'description': '💙MAGA 💙Cult45 💙Military & Vets👮\\u200d♂️LEO🌷1A🌷2A 💙Texas Teacher 💙6GenerationsOfTexans 💙My President https://t.co/MvGV9k3nz3\\nhttps://t.co/oAuASsbiXQ', 'url': 'https://t.co/oBkZa87Sp8', 'entities': {'url': {'urls': [{'url': 'https://t.co/oBkZa87Sp8', 'expanded_url': 'http://Gab.ai/TXPA', 'display_url': 'Gab.ai/TXPA', 'indices': [0, 23]}]}, 'description': {'urls': [{'url': 'https://t.co/MvGV9k3nz3', 'expanded_url': 'http://Trumpchat.org', 'display_url': 'Trumpchat.org', 'indices': [95, 118]}, {'url': 'https://t.co/oAuASsbiXQ', 'expanded_url': 'http://parler.com/profile/pj', 'display_url': 'parler.com/profile/pj', 'indices': [119, 142]}]}}, 'protected': False, 'followers_count': 93640, 'friends_count': 62656, 'listed_count': 118, 'created_at': 'Sun Mar 13 07:12:14 +0000 2011', 'favourites_count': 237305, 'utc_offset': None, 'time_zone': None, 'geo_enabled': True, 'verified': False, 'statuses_count': 265450, 'lang': None, 'contributors_enabled': False, 'is_translator': False, 'is_translation_enabled': False, 'profile_background_color': 'C0DEED', 'profile_background_image_url': 'http://abs.twimg.com/images/themes/theme1/bg.png', 'profile_background_image_url_https': 'https://abs.twimg.com/images/themes/theme1/bg.png', 'profile_background_tile': False, 'profile_image_url': 'http://pbs.twimg.com/profile_images/1247776801276887040/qWJQxiWb_normal.jpg', 'profile_image_url_https': 'https://pbs.twimg.com/profile_images/1247776801276887040/qWJQxiWb_normal.jpg', 'profile_banner_url': 'https://pbs.twimg.com/profile_banners/265245636/1580024679', 'profile_link_color': '1DA1F2', 'profile_sidebar_border_color': 'C0DEED', 'profile_sidebar_fill_color': 'DDEEF6', 'profile_text_color': '333333', 'profile_use_background_image': True, 'has_extended_profile': True, 'default_profile': True, 'default_profile_image': False, 'following': False, 'follow_request_sent': False, 'notifications': False, 'translator_type': 'none'}, 'geo': None, 'coordinates': None, 'place': None, 'contributors': None, 'is_quote_status': False, 'retweet_count': 167, 'favorite_count': 130, 'favorited': False, 'retweeted': False, 'possibly_sensitive': False, 'lang': 'en'}, created_at=datetime.datetime(2020, 6, 23, 1, 14, 57), id=1275235862532456449, id_str='1275235862532456449', text='Our darling friend @Sheerglee1 was on the 1st row at the Tulsa Trump Rally!! Then, she appeared on the front page o… https://t.co/RNK3vyGYKq', truncated=True, entities={'hashtags': [], 'symbols': [], 'user_mentions': [{'screen_name': 'Sheerglee1', 'name': '🔥🇺🇸🔥Sheerglee🔥🇺🇸🔥', 'id': 977308541668200448, 'id_str': '977308541668200448', 'indices': [19, 30]}], 'urls': [{'url': 'https://t.co/RNK3vyGYKq', 'expanded_url': 'https://twitter.com/i/web/status/1275235862532456449', 'display_url': 'twitter.com/i/web/status/1…', 'indices': [117, 140]}]}, metadata={'iso_language_code': 'en', 'result_type': 'recent'}, source='Twitter for Android', source_url='http://twitter.com/download/android', in_reply_to_status_id=1274136159623565317, in_reply_to_status_id_str='1274136159623565317', in_reply_to_user_id=265245636, in_reply_to_user_id_str='265245636', in_reply_to_screen_name='pjbowles4', author=User(_api=<tweepy.api.API object at 0x7fa1c6d13490>, _json={'id': 265245636, 'id_str': '265245636', 'name': 'Pj # DJTrumplicans ⭐⭐⭐', 'screen_name': 'pjbowles4', 'location': 'Dallas, TX ', 'description': '💙MAGA 💙Cult45 💙Military & Vets👮\\u200d♂️LEO🌷1A🌷2A 💙Texas Teacher 💙6GenerationsOfTexans 💙My President https://t.co/MvGV9k3nz3\\nhttps://t.co/oAuASsbiXQ', 'url': 'https://t.co/oBkZa87Sp8', 'entities': {'url': {'urls': [{'url': 'https://t.co/oBkZa87Sp8', 'expanded_url': 'http://Gab.ai/TXPA', 'display_url': 'Gab.ai/TXPA', 'indices': [0, 23]}]}, 'description': {'urls': [{'url': 'https://t.co/MvGV9k3nz3', 'expanded_url': 'http://Trumpchat.org', 'display_url': 'Trumpchat.org', 'indices': [95, 118]}, {'url': 'https://t.co/oAuASsbiXQ', 'expanded_url': 'http://parler.com/profile/pj', 'display_url': 'parler.com/profile/pj', 'indices': [119, 142]}]}}, 'protected': False, 'followers_count': 93640, 'friends_count': 62656, 'listed_count': 118, 'created_at': 'Sun Mar 13 07:12:14 +0000 2011', 'favourites_count': 237305, 'utc_offset': None, 'time_zone': None, 'geo_enabled': True, 'verified': False, 'statuses_count': 265450, 'lang': None, 'contributors_enabled': False, 'is_translator': False, 'is_translation_enabled': False, 'profile_background_color': 'C0DEED', 'profile_background_image_url': 'http://abs.twimg.com/images/themes/theme1/bg.png', 'profile_background_image_url_https': 'https://abs.twimg.com/images/themes/theme1/bg.png', 'profile_background_tile': False, 'profile_image_url': 'http://pbs.twimg.com/profile_images/1247776801276887040/qWJQxiWb_normal.jpg', 'profile_image_url_https': 'https://pbs.twimg.com/profile_images/1247776801276887040/qWJQxiWb_normal.jpg', 'profile_banner_url': 'https://pbs.twimg.com/profile_banners/265245636/1580024679', 'profile_link_color': '1DA1F2', 'profile_sidebar_border_color': 'C0DEED', 'profile_sidebar_fill_color': 'DDEEF6', 'profile_text_color': '333333', 'profile_use_background_image': True, 'has_extended_profile': True, 'default_profile': True, 'default_profile_image': False, 'following': False, 'follow_request_sent': False, 'notifications': False, 'translator_type': 'none'}, id=265245636, id_str='265245636', name='Pj # DJTrumplicans ⭐⭐⭐', screen_name='pjbowles4', location='Dallas, TX ', description='💙MAGA 💙Cult45 💙Military & Vets👮\\u200d♂️LEO🌷1A🌷2A 💙Texas Teacher 💙6GenerationsOfTexans 💙My President https://t.co/MvGV9k3nz3\\nhttps://t.co/oAuASsbiXQ', url='https://t.co/oBkZa87Sp8', entities={'url': {'urls': [{'url': 'https://t.co/oBkZa87Sp8', 'expanded_url': 'http://Gab.ai/TXPA', 'display_url': 'Gab.ai/TXPA', 'indices': [0, 23]}]}, 'description': {'urls': [{'url': 'https://t.co/MvGV9k3nz3', 'expanded_url': 'http://Trumpchat.org', 'display_url': 'Trumpchat.org', 'indices': [95, 118]}, {'url': 'https://t.co/oAuASsbiXQ', 'expanded_url': 'http://parler.com/profile/pj', 'display_url': 'parler.com/profile/pj', 'indices': [119, 142]}]}}, protected=False, followers_count=93640, friends_count=62656, listed_count=118, created_at=datetime.datetime(2011, 3, 13, 7, 12, 14), favourites_count=237305, utc_offset=None, time_zone=None, geo_enabled=True, verified=False, statuses_count=265450, lang=None, contributors_enabled=False, is_translator=False, is_translation_enabled=False, profile_background_color='C0DEED', profile_background_image_url='http://abs.twimg.com/images/themes/theme1/bg.png', profile_background_image_url_https='https://abs.twimg.com/images/themes/theme1/bg.png', profile_background_tile=False, profile_image_url='http://pbs.twimg.com/profile_images/1247776801276887040/qWJQxiWb_normal.jpg', profile_image_url_https='https://pbs.twimg.com/profile_images/1247776801276887040/qWJQxiWb_normal.jpg', profile_banner_url='https://pbs.twimg.com/profile_banners/265245636/1580024679', profile_link_color='1DA1F2', profile_sidebar_border_color='C0DEED', profile_sidebar_fill_color='DDEEF6', profile_text_color='333333', profile_use_background_image=True, has_extended_profile=True, default_profile=True, default_profile_image=False, following=False, follow_request_sent=False, notifications=False, translator_type='none'), user=User(_api=<tweepy.api.API object at 0x7fa1c6d13490>, _json={'id': 265245636, 'id_str': '265245636', 'name': 'Pj # DJTrumplicans ⭐⭐⭐', 'screen_name': 'pjbowles4', 'location': 'Dallas, TX ', 'description': '💙MAGA 💙Cult45 💙Military & Vets👮\\u200d♂️LEO🌷1A🌷2A 💙Texas Teacher 💙6GenerationsOfTexans 💙My President https://t.co/MvGV9k3nz3\\nhttps://t.co/oAuASsbiXQ', 'url': 'https://t.co/oBkZa87Sp8', 'entities': {'url': {'urls': [{'url': 'https://t.co/oBkZa87Sp8', 'expanded_url': 'http://Gab.ai/TXPA', 'display_url': 'Gab.ai/TXPA', 'indices': [0, 23]}]}, 'description': {'urls': [{'url': 'https://t.co/MvGV9k3nz3', 'expanded_url': 'http://Trumpchat.org', 'display_url': 'Trumpchat.org', 'indices': [95, 118]}, {'url': 'https://t.co/oAuASsbiXQ', 'expanded_url': 'http://parler.com/profile/pj', 'display_url': 'parler.com/profile/pj', 'indices': [119, 142]}]}}, 'protected': False, 'followers_count': 93640, 'friends_count': 62656, 'listed_count': 118, 'created_at': 'Sun Mar 13 07:12:14 +0000 2011', 'favourites_count': 237305, 'utc_offset': None, 'time_zone': None, 'geo_enabled': True, 'verified': False, 'statuses_count': 265450, 'lang': None, 'contributors_enabled': False, 'is_translator': False, 'is_translation_enabled': False, 'profile_background_color': 'C0DEED', 'profile_background_image_url': 'http://abs.twimg.com/images/themes/theme1/bg.png', 'profile_background_image_url_https': 'https://abs.twimg.com/images/themes/theme1/bg.png', 'profile_background_tile': False, 'profile_image_url': 'http://pbs.twimg.com/profile_images/1247776801276887040/qWJQxiWb_normal.jpg', 'profile_image_url_https': 'https://pbs.twimg.com/profile_images/1247776801276887040/qWJQxiWb_normal.jpg', 'profile_banner_url': 'https://pbs.twimg.com/profile_banners/265245636/1580024679', 'profile_link_color': '1DA1F2', 'profile_sidebar_border_color': 'C0DEED', 'profile_sidebar_fill_color': 'DDEEF6', 'profile_text_color': '333333', 'profile_use_background_image': True, 'has_extended_profile': True, 'default_profile': True, 'default_profile_image': False, 'following': False, 'follow_request_sent': False, 'notifications': False, 'translator_type': 'none'}, id=265245636, id_str='265245636', name='Pj # DJTrumplicans ⭐⭐⭐', screen_name='pjbowles4', location='Dallas, TX ', description='💙MAGA 💙Cult45 💙Military & Vets👮\\u200d♂️LEO🌷1A🌷2A 💙Texas Teacher 💙6GenerationsOfTexans 💙My President https://t.co/MvGV9k3nz3\\nhttps://t.co/oAuASsbiXQ', url='https://t.co/oBkZa87Sp8', entities={'url': {'urls': [{'url': 'https://t.co/oBkZa87Sp8', 'expanded_url': 'http://Gab.ai/TXPA', 'display_url': 'Gab.ai/TXPA', 'indices': [0, 23]}]}, 'description': {'urls': [{'url': 'https://t.co/MvGV9k3nz3', 'expanded_url': 'http://Trumpchat.org', 'display_url': 'Trumpchat.org', 'indices': [95, 118]}, {'url': 'https://t.co/oAuASsbiXQ', 'expanded_url': 'http://parler.com/profile/pj', 'display_url': 'parler.com/profile/pj', 'indices': [119, 142]}]}}, protected=False, followers_count=93640, friends_count=62656, listed_count=118, created_at=datetime.datetime(2011, 3, 13, 7, 12, 14), favourites_count=237305, utc_offset=None, time_zone=None, geo_enabled=True, verified=False, statuses_count=265450, lang=None, contributors_enabled=False, is_translator=False, is_translation_enabled=False, profile_background_color='C0DEED', profile_background_image_url='http://abs.twimg.com/images/themes/theme1/bg.png', profile_background_image_url_https='https://abs.twimg.com/images/themes/theme1/bg.png', profile_background_tile=False, profile_image_url='http://pbs.twimg.com/profile_images/1247776801276887040/qWJQxiWb_normal.jpg', profile_image_url_https='https://pbs.twimg.com/profile_images/1247776801276887040/qWJQxiWb_normal.jpg', profile_banner_url='https://pbs.twimg.com/profile_banners/265245636/1580024679', profile_link_color='1DA1F2', profile_sidebar_border_color='C0DEED', profile_sidebar_fill_color='DDEEF6', profile_text_color='333333', profile_use_background_image=True, has_extended_profile=True, default_profile=True, default_profile_image=False, following=False, follow_request_sent=False, notifications=False, translator_type='none'), geo=None, coordinates=None, place=None, contributors=None, is_quote_status=False, retweet_count=167, favorite_count=130, favorited=False, retweeted=False, possibly_sensitive=False, lang='en'), is_quote_status=False, retweet_count=167, favorite_count=0, favorited=False, retweeted=False, lang='en'), Status(_api=<tweepy.api.API object at 0x7fa1c6d13490>, _json={'created_at': 'Tue Jun 23 16:14:43 +0000 2020', 'id': 1275462298958794752, 'id_str': '1275462298958794752', 'text': 'RT @Atrios: trump is bad but i am so mad at all you for promoting these nevertrump conservative assholes who are just less stupid versions…', 'truncated': False, 'entities': {'hashtags': [], 'symbols': [], 'user_mentions': [{'screen_name': 'Atrios', 'name': 'Atrios', 'id': 15691197, 'id_str': '15691197', 'indices': [3, 10]}], 'urls': []}, 'metadata': {'iso_language_code': 'en', 'result_type': 'recent'}, 'source': '<a href=\"http://twitter.com/download/iphone\" rel=\"nofollow\">Twitter for iPhone</a>', 'in_reply_to_status_id': None, 'in_reply_to_status_id_str': None, 'in_reply_to_user_id': None, 'in_reply_to_user_id_str': None, 'in_reply_to_screen_name': None, 'user': {'id': 1185195185858383872, 'id_str': '1185195185858383872', 'name': 'Adambeda', 'screen_name': 'adambede34', 'location': 'Sweden', 'description': '', 'url': None, 'entities': {'description': {'urls': []}}, 'protected': False, 'followers_count': 31, 'friends_count': 232, 'listed_count': 0, 'created_at': 'Fri Oct 18 14:05:36 +0000 2019', 'favourites_count': 19332, 'utc_offset': None, 'time_zone': None, 'geo_enabled': False, 'verified': False, 'statuses_count': 2457, 'lang': None, 'contributors_enabled': False, 'is_translator': False, 'is_translation_enabled': False, 'profile_background_color': 'F5F8FA', 'profile_background_image_url': None, 'profile_background_image_url_https': None, 'profile_background_tile': False, 'profile_image_url': 'http://pbs.twimg.com/profile_images/1189496244663734272/20mHa7tv_normal.jpg', 'profile_image_url_https': 'https://pbs.twimg.com/profile_images/1189496244663734272/20mHa7tv_normal.jpg', 'profile_link_color': '1DA1F2', 'profile_sidebar_border_color': 'C0DEED', 'profile_sidebar_fill_color': 'DDEEF6', 'profile_text_color': '333333', 'profile_use_background_image': True, 'has_extended_profile': False, 'default_profile': True, 'default_profile_image': False, 'following': False, 'follow_request_sent': False, 'notifications': False, 'translator_type': 'none'}, 'geo': None, 'coordinates': None, 'place': None, 'contributors': None, 'retweeted_status': {'created_at': 'Tue Jun 23 12:02:01 +0000 2020', 'id': 1275398705928118273, 'id_str': '1275398705928118273', 'text': 'trump is bad but i am so mad at all you for promoting these nevertrump conservative assholes who are just less stupid versions of trump', 'truncated': False, 'entities': {'hashtags': [], 'symbols': [], 'user_mentions': [], 'urls': []}, 'metadata': {'iso_language_code': 'en', 'result_type': 'recent'}, 'source': '<a href=\"https://about.twitter.com/products/tweetdeck\" rel=\"nofollow\">TweetDeck</a>', 'in_reply_to_status_id': None, 'in_reply_to_status_id_str': None, 'in_reply_to_user_id': None, 'in_reply_to_user_id_str': None, 'in_reply_to_screen_name': None, 'user': {'id': 15691197, 'id_str': '15691197', 'name': 'Atrios', 'screen_name': 'Atrios', 'location': 'Toon', 'description': '2nd hottest bad boy and disrupter in the media game\\n\\nhttps://t.co/HuMX0myRZG', 'url': 'https://t.co/BrGu5vceUe', 'entities': {'url': {'urls': [{'url': 'https://t.co/BrGu5vceUe', 'expanded_url': 'https://www.eschatonblog.com', 'display_url': 'eschatonblog.com', 'indices': [0, 23]}]}, 'description': {'urls': [{'url': 'https://t.co/HuMX0myRZG', 'expanded_url': 'http://patreon.com/Atrios', 'display_url': 'patreon.com/Atrios', 'indices': [53, 76]}]}}, 'protected': False, 'followers_count': 41613, 'friends_count': 2710, 'listed_count': 1650, 'created_at': 'Fri Aug 01 16:45:31 +0000 2008', 'favourites_count': 6101, 'utc_offset': None, 'time_zone': None, 'geo_enabled': True, 'verified': False, 'statuses_count': 19776, 'lang': None, 'contributors_enabled': False, 'is_translator': False, 'is_translation_enabled': False, 'profile_background_color': 'D6E4F0', 'profile_background_image_url': 'http://abs.twimg.com/images/themes/theme1/bg.png', 'profile_background_image_url_https': 'https://abs.twimg.com/images/themes/theme1/bg.png', 'profile_background_tile': True, 'profile_image_url': 'http://pbs.twimg.com/profile_images/1162829414423564288/ZXBRSLW5_normal.jpg', 'profile_image_url_https': 'https://pbs.twimg.com/profile_images/1162829414423564288/ZXBRSLW5_normal.jpg', 'profile_banner_url': 'https://pbs.twimg.com/profile_banners/15691197/1537883274', 'profile_link_color': '0000FF', 'profile_sidebar_border_color': '87BC44', 'profile_sidebar_fill_color': 'E0FF92', 'profile_text_color': '000000', 'profile_use_background_image': True, 'has_extended_profile': True, 'default_profile': False, 'default_profile_image': False, 'following': False, 'follow_request_sent': False, 'notifications': False, 'translator_type': 'none'}, 'geo': None, 'coordinates': None, 'place': None, 'contributors': None, 'is_quote_status': False, 'retweet_count': 120, 'favorite_count': 778, 'favorited': False, 'retweeted': False, 'lang': 'en'}, 'is_quote_status': False, 'retweet_count': 120, 'favorite_count': 0, 'favorited': False, 'retweeted': False, 'lang': 'en'}, created_at=datetime.datetime(2020, 6, 23, 16, 14, 43), id=1275462298958794752, id_str='1275462298958794752', text='RT @Atrios: trump is bad but i am so mad at all you for promoting these nevertrump conservative assholes who are just less stupid versions…', truncated=False, entities={'hashtags': [], 'symbols': [], 'user_mentions': [{'screen_name': 'Atrios', 'name': 'Atrios', 'id': 15691197, 'id_str': '15691197', 'indices': [3, 10]}], 'urls': []}, metadata={'iso_language_code': 'en', 'result_type': 'recent'}, source='Twitter for iPhone', source_url='http://twitter.com/download/iphone', in_reply_to_status_id=None, in_reply_to_status_id_str=None, in_reply_to_user_id=None, in_reply_to_user_id_str=None, in_reply_to_screen_name=None, author=User(_api=<tweepy.api.API object at 0x7fa1c6d13490>, _json={'id': 1185195185858383872, 'id_str': '1185195185858383872', 'name': 'Adambeda', 'screen_name': 'adambede34', 'location': 'Sweden', 'description': '', 'url': None, 'entities': {'description': {'urls': []}}, 'protected': False, 'followers_count': 31, 'friends_count': 232, 'listed_count': 0, 'created_at': 'Fri Oct 18 14:05:36 +0000 2019', 'favourites_count': 19332, 'utc_offset': None, 'time_zone': None, 'geo_enabled': False, 'verified': False, 'statuses_count': 2457, 'lang': None, 'contributors_enabled': False, 'is_translator': False, 'is_translation_enabled': False, 'profile_background_color': 'F5F8FA', 'profile_background_image_url': None, 'profile_background_image_url_https': None, 'profile_background_tile': False, 'profile_image_url': 'http://pbs.twimg.com/profile_images/1189496244663734272/20mHa7tv_normal.jpg', 'profile_image_url_https': 'https://pbs.twimg.com/profile_images/1189496244663734272/20mHa7tv_normal.jpg', 'profile_link_color': '1DA1F2', 'profile_sidebar_border_color': 'C0DEED', 'profile_sidebar_fill_color': 'DDEEF6', 'profile_text_color': '333333', 'profile_use_background_image': True, 'has_extended_profile': False, 'default_profile': True, 'default_profile_image': False, 'following': False, 'follow_request_sent': False, 'notifications': False, 'translator_type': 'none'}, id=1185195185858383872, id_str='1185195185858383872', name='Adambeda', screen_name='adambede34', location='Sweden', description='', url=None, entities={'description': {'urls': []}}, protected=False, followers_count=31, friends_count=232, listed_count=0, created_at=datetime.datetime(2019, 10, 18, 14, 5, 36), favourites_count=19332, utc_offset=None, time_zone=None, geo_enabled=False, verified=False, statuses_count=2457, lang=None, contributors_enabled=False, is_translator=False, is_translation_enabled=False, profile_background_color='F5F8FA', profile_background_image_url=None, profile_background_image_url_https=None, profile_background_tile=False, profile_image_url='http://pbs.twimg.com/profile_images/1189496244663734272/20mHa7tv_normal.jpg', profile_image_url_https='https://pbs.twimg.com/profile_images/1189496244663734272/20mHa7tv_normal.jpg', profile_link_color='1DA1F2', profile_sidebar_border_color='C0DEED', profile_sidebar_fill_color='DDEEF6', profile_text_color='333333', profile_use_background_image=True, has_extended_profile=False, default_profile=True, default_profile_image=False, following=False, follow_request_sent=False, notifications=False, translator_type='none'), user=User(_api=<tweepy.api.API object at 0x7fa1c6d13490>, _json={'id': 1185195185858383872, 'id_str': '1185195185858383872', 'name': 'Adambeda', 'screen_name': 'adambede34', 'location': 'Sweden', 'description': '', 'url': None, 'entities': {'description': {'urls': []}}, 'protected': False, 'followers_count': 31, 'friends_count': 232, 'listed_count': 0, 'created_at': 'Fri Oct 18 14:05:36 +0000 2019', 'favourites_count': 19332, 'utc_offset': None, 'time_zone': None, 'geo_enabled': False, 'verified': False, 'statuses_count': 2457, 'lang': None, 'contributors_enabled': False, 'is_translator': False, 'is_translation_enabled': False, 'profile_background_color': 'F5F8FA', 'profile_background_image_url': None, 'profile_background_image_url_https': None, 'profile_background_tile': False, 'profile_image_url': 'http://pbs.twimg.com/profile_images/1189496244663734272/20mHa7tv_normal.jpg', 'profile_image_url_https': 'https://pbs.twimg.com/profile_images/1189496244663734272/20mHa7tv_normal.jpg', 'profile_link_color': '1DA1F2', 'profile_sidebar_border_color': 'C0DEED', 'profile_sidebar_fill_color': 'DDEEF6', 'profile_text_color': '333333', 'profile_use_background_image': True, 'has_extended_profile': False, 'default_profile': True, 'default_profile_image': False, 'following': False, 'follow_request_sent': False, 'notifications': False, 'translator_type': 'none'}, id=1185195185858383872, id_str='1185195185858383872', name='Adambeda', screen_name='adambede34', location='Sweden', description='', url=None, entities={'description': {'urls': []}}, protected=False, followers_count=31, friends_count=232, listed_count=0, created_at=datetime.datetime(2019, 10, 18, 14, 5, 36), favourites_count=19332, utc_offset=None, time_zone=None, geo_enabled=False, verified=False, statuses_count=2457, lang=None, contributors_enabled=False, is_translator=False, is_translation_enabled=False, profile_background_color='F5F8FA', profile_background_image_url=None, profile_background_image_url_https=None, profile_background_tile=False, profile_image_url='http://pbs.twimg.com/profile_images/1189496244663734272/20mHa7tv_normal.jpg', profile_image_url_https='https://pbs.twimg.com/profile_images/1189496244663734272/20mHa7tv_normal.jpg', profile_link_color='1DA1F2', profile_sidebar_border_color='C0DEED', profile_sidebar_fill_color='DDEEF6', profile_text_color='333333', profile_use_background_image=True, has_extended_profile=False, default_profile=True, default_profile_image=False, following=False, follow_request_sent=False, notifications=False, translator_type='none'), geo=None, coordinates=None, place=None, contributors=None, retweeted_status=Status(_api=<tweepy.api.API object at 0x7fa1c6d13490>, _json={'created_at': 'Tue Jun 23 12:02:01 +0000 2020', 'id': 1275398705928118273, 'id_str': '1275398705928118273', 'text': 'trump is bad but i am so mad at all you for promoting these nevertrump conservative assholes who are just less stupid versions of trump', 'truncated': False, 'entities': {'hashtags': [], 'symbols': [], 'user_mentions': [], 'urls': []}, 'metadata': {'iso_language_code': 'en', 'result_type': 'recent'}, 'source': '<a href=\"https://about.twitter.com/products/tweetdeck\" rel=\"nofollow\">TweetDeck</a>', 'in_reply_to_status_id': None, 'in_reply_to_status_id_str': None, 'in_reply_to_user_id': None, 'in_reply_to_user_id_str': None, 'in_reply_to_screen_name': None, 'user': {'id': 15691197, 'id_str': '15691197', 'name': 'Atrios', 'screen_name': 'Atrios', 'location': 'Toon', 'description': '2nd hottest bad boy and disrupter in the media game\\n\\nhttps://t.co/HuMX0myRZG', 'url': 'https://t.co/BrGu5vceUe', 'entities': {'url': {'urls': [{'url': 'https://t.co/BrGu5vceUe', 'expanded_url': 'https://www.eschatonblog.com', 'display_url': 'eschatonblog.com', 'indices': [0, 23]}]}, 'description': {'urls': [{'url': 'https://t.co/HuMX0myRZG', 'expanded_url': 'http://patreon.com/Atrios', 'display_url': 'patreon.com/Atrios', 'indices': [53, 76]}]}}, 'protected': False, 'followers_count': 41613, 'friends_count': 2710, 'listed_count': 1650, 'created_at': 'Fri Aug 01 16:45:31 +0000 2008', 'favourites_count': 6101, 'utc_offset': None, 'time_zone': None, 'geo_enabled': True, 'verified': False, 'statuses_count': 19776, 'lang': None, 'contributors_enabled': False, 'is_translator': False, 'is_translation_enabled': False, 'profile_background_color': 'D6E4F0', 'profile_background_image_url': 'http://abs.twimg.com/images/themes/theme1/bg.png', 'profile_background_image_url_https': 'https://abs.twimg.com/images/themes/theme1/bg.png', 'profile_background_tile': True, 'profile_image_url': 'http://pbs.twimg.com/profile_images/1162829414423564288/ZXBRSLW5_normal.jpg', 'profile_image_url_https': 'https://pbs.twimg.com/profile_images/1162829414423564288/ZXBRSLW5_normal.jpg', 'profile_banner_url': 'https://pbs.twimg.com/profile_banners/15691197/1537883274', 'profile_link_color': '0000FF', 'profile_sidebar_border_color': '87BC44', 'profile_sidebar_fill_color': 'E0FF92', 'profile_text_color': '000000', 'profile_use_background_image': True, 'has_extended_profile': True, 'default_profile': False, 'default_profile_image': False, 'following': False, 'follow_request_sent': False, 'notifications': False, 'translator_type': 'none'}, 'geo': None, 'coordinates': None, 'place': None, 'contributors': None, 'is_quote_status': False, 'retweet_count': 120, 'favorite_count': 778, 'favorited': False, 'retweeted': False, 'lang': 'en'}, created_at=datetime.datetime(2020, 6, 23, 12, 2, 1), id=1275398705928118273, id_str='1275398705928118273', text='trump is bad but i am so mad at all you for promoting these nevertrump conservative assholes who are just less stupid versions of trump', truncated=False, entities={'hashtags': [], 'symbols': [], 'user_mentions': [], 'urls': []}, metadata={'iso_language_code': 'en', 'result_type': 'recent'}, source='TweetDeck', source_url='https://about.twitter.com/products/tweetdeck', in_reply_to_status_id=None, in_reply_to_status_id_str=None, in_reply_to_user_id=None, in_reply_to_user_id_str=None, in_reply_to_screen_name=None, author=User(_api=<tweepy.api.API object at 0x7fa1c6d13490>, _json={'id': 15691197, 'id_str': '15691197', 'name': 'Atrios', 'screen_name': 'Atrios', 'location': 'Toon', 'description': '2nd hottest bad boy and disrupter in the media game\\n\\nhttps://t.co/HuMX0myRZG', 'url': 'https://t.co/BrGu5vceUe', 'entities': {'url': {'urls': [{'url': 'https://t.co/BrGu5vceUe', 'expanded_url': 'https://www.eschatonblog.com', 'display_url': 'eschatonblog.com', 'indices': [0, 23]}]}, 'description': {'urls': [{'url': 'https://t.co/HuMX0myRZG', 'expanded_url': 'http://patreon.com/Atrios', 'display_url': 'patreon.com/Atrios', 'indices': [53, 76]}]}}, 'protected': False, 'followers_count': 41613, 'friends_count': 2710, 'listed_count': 1650, 'created_at': 'Fri Aug 01 16:45:31 +0000 2008', 'favourites_count': 6101, 'utc_offset': None, 'time_zone': None, 'geo_enabled': True, 'verified': False, 'statuses_count': 19776, 'lang': None, 'contributors_enabled': False, 'is_translator': False, 'is_translation_enabled': False, 'profile_background_color': 'D6E4F0', 'profile_background_image_url': 'http://abs.twimg.com/images/themes/theme1/bg.png', 'profile_background_image_url_https': 'https://abs.twimg.com/images/themes/theme1/bg.png', 'profile_background_tile': True, 'profile_image_url': 'http://pbs.twimg.com/profile_images/1162829414423564288/ZXBRSLW5_normal.jpg', 'profile_image_url_https': 'https://pbs.twimg.com/profile_images/1162829414423564288/ZXBRSLW5_normal.jpg', 'profile_banner_url': 'https://pbs.twimg.com/profile_banners/15691197/1537883274', 'profile_link_color': '0000FF', 'profile_sidebar_border_color': '87BC44', 'profile_sidebar_fill_color': 'E0FF92', 'profile_text_color': '000000', 'profile_use_background_image': True, 'has_extended_profile': True, 'default_profile': False, 'default_profile_image': False, 'following': False, 'follow_request_sent': False, 'notifications': False, 'translator_type': 'none'}, id=15691197, id_str='15691197', name='Atrios', screen_name='Atrios', location='Toon', description='2nd hottest bad boy and disrupter in the media game\\n\\nhttps://t.co/HuMX0myRZG', url='https://t.co/BrGu5vceUe', entities={'url': {'urls': [{'url': 'https://t.co/BrGu5vceUe', 'expanded_url': 'https://www.eschatonblog.com', 'display_url': 'eschatonblog.com', 'indices': [0, 23]}]}, 'description': {'urls': [{'url': 'https://t.co/HuMX0myRZG', 'expanded_url': 'http://patreon.com/Atrios', 'display_url': 'patreon.com/Atrios', 'indices': [53, 76]}]}}, protected=False, followers_count=41613, friends_count=2710, listed_count=1650, created_at=datetime.datetime(2008, 8, 1, 16, 45, 31), favourites_count=6101, utc_offset=None, time_zone=None, geo_enabled=True, verified=False, statuses_count=19776, lang=None, contributors_enabled=False, is_translator=False, is_translation_enabled=False, profile_background_color='D6E4F0', profile_background_image_url='http://abs.twimg.com/images/themes/theme1/bg.png', profile_background_image_url_https='https://abs.twimg.com/images/themes/theme1/bg.png', profile_background_tile=True, profile_image_url='http://pbs.twimg.com/profile_images/1162829414423564288/ZXBRSLW5_normal.jpg', profile_image_url_https='https://pbs.twimg.com/profile_images/1162829414423564288/ZXBRSLW5_normal.jpg', profile_banner_url='https://pbs.twimg.com/profile_banners/15691197/1537883274', profile_link_color='0000FF', profile_sidebar_border_color='87BC44', profile_sidebar_fill_color='E0FF92', profile_text_color='000000', profile_use_background_image=True, has_extended_profile=True, default_profile=False, default_profile_image=False, following=False, follow_request_sent=False, notifications=False, translator_type='none'), user=User(_api=<tweepy.api.API object at 0x7fa1c6d13490>, _json={'id': 15691197, 'id_str': '15691197', 'name': 'Atrios', 'screen_name': 'Atrios', 'location': 'Toon', 'description': '2nd hottest bad boy and disrupter in the media game\\n\\nhttps://t.co/HuMX0myRZG', 'url': 'https://t.co/BrGu5vceUe', 'entities': {'url': {'urls': [{'url': 'https://t.co/BrGu5vceUe', 'expanded_url': 'https://www.eschatonblog.com', 'display_url': 'eschatonblog.com', 'indices': [0, 23]}]}, 'description': {'urls': [{'url': 'https://t.co/HuMX0myRZG', 'expanded_url': 'http://patreon.com/Atrios', 'display_url': 'patreon.com/Atrios', 'indices': [53, 76]}]}}, 'protected': False, 'followers_count': 41613, 'friends_count': 2710, 'listed_count': 1650, 'created_at': 'Fri Aug 01 16:45:31 +0000 2008', 'favourites_count': 6101, 'utc_offset': None, 'time_zone': None, 'geo_enabled': True, 'verified': False, 'statuses_count': 19776, 'lang': None, 'contributors_enabled': False, 'is_translator': False, 'is_translation_enabled': False, 'profile_background_color': 'D6E4F0', 'profile_background_image_url': 'http://abs.twimg.com/images/themes/theme1/bg.png', 'profile_background_image_url_https': 'https://abs.twimg.com/images/themes/theme1/bg.png', 'profile_background_tile': True, 'profile_image_url': 'http://pbs.twimg.com/profile_images/1162829414423564288/ZXBRSLW5_normal.jpg', 'profile_image_url_https': 'https://pbs.twimg.com/profile_images/1162829414423564288/ZXBRSLW5_normal.jpg', 'profile_banner_url': 'https://pbs.twimg.com/profile_banners/15691197/1537883274', 'profile_link_color': '0000FF', 'profile_sidebar_border_color': '87BC44', 'profile_sidebar_fill_color': 'E0FF92', 'profile_text_color': '000000', 'profile_use_background_image': True, 'has_extended_profile': True, 'default_profile': False, 'default_profile_image': False, 'following': False, 'follow_request_sent': False, 'notifications': False, 'translator_type': 'none'}, id=15691197, id_str='15691197', name='Atrios', screen_name='Atrios', location='Toon', description='2nd hottest bad boy and disrupter in the media game\\n\\nhttps://t.co/HuMX0myRZG', url='https://t.co/BrGu5vceUe', entities={'url': {'urls': [{'url': 'https://t.co/BrGu5vceUe', 'expanded_url': 'https://www.eschatonblog.com', 'display_url': 'eschatonblog.com', 'indices': [0, 23]}]}, 'description': {'urls': [{'url': 'https://t.co/HuMX0myRZG', 'expanded_url': 'http://patreon.com/Atrios', 'display_url': 'patreon.com/Atrios', 'indices': [53, 76]}]}}, protected=False, followers_count=41613, friends_count=2710, listed_count=1650, created_at=datetime.datetime(2008, 8, 1, 16, 45, 31), favourites_count=6101, utc_offset=None, time_zone=None, geo_enabled=True, verified=False, statuses_count=19776, lang=None, contributors_enabled=False, is_translator=False, is_translation_enabled=False, profile_background_color='D6E4F0', profile_background_image_url='http://abs.twimg.com/images/themes/theme1/bg.png', profile_background_image_url_https='https://abs.twimg.com/images/themes/theme1/bg.png', profile_background_tile=True, profile_image_url='http://pbs.twimg.com/profile_images/1162829414423564288/ZXBRSLW5_normal.jpg', profile_image_url_https='https://pbs.twimg.com/profile_images/1162829414423564288/ZXBRSLW5_normal.jpg', profile_banner_url='https://pbs.twimg.com/profile_banners/15691197/1537883274', profile_link_color='0000FF', profile_sidebar_border_color='87BC44', profile_sidebar_fill_color='E0FF92', profile_text_color='000000', profile_use_background_image=True, has_extended_profile=True, default_profile=False, default_profile_image=False, following=False, follow_request_sent=False, notifications=False, translator_type='none'), geo=None, coordinates=None, place=None, contributors=None, is_quote_status=False, retweet_count=120, favorite_count=778, favorited=False, retweeted=False, lang='en'), is_quote_status=False, retweet_count=120, favorite_count=0, favorited=False, retweeted=False, lang='en'), Status(_api=<tweepy.api.API object at 0x7fa1c6d13490>, _json={'created_at': 'Tue Jun 23 16:14:43 +0000 2020', 'id': 1275462298707116037, 'id_str': '1275462298707116037', 'text': '@ChaiMike26 @craigmelvin @Yamiche He is highlighting the fact that media likes to highlight the # of confirmed case… https://t.co/97sSPxxmoY', 'truncated': True, 'entities': {'hashtags': [], 'symbols': [], 'user_mentions': [{'screen_name': 'ChaiMike26', 'name': 'Mike', 'id': 169716201, 'id_str': '169716201', 'indices': [0, 11]}, {'screen_name': 'craigmelvin', 'name': 'Craig Melvin', 'id': 33972882, 'id_str': '33972882', 'indices': [12, 24]}, {'screen_name': 'Yamiche', 'name': 'Yamiche Alcindor', 'id': 89887215, 'id_str': '89887215', 'indices': [25, 33]}], 'urls': [{'url': 'https://t.co/97sSPxxmoY', 'expanded_url': 'https://twitter.com/i/web/status/1275462298707116037', 'display_url': 'twitter.com/i/web/status/1…', 'indices': [117, 140]}]}, 'metadata': {'iso_language_code': 'en', 'result_type': 'recent'}, 'source': '<a href=\"http://twitter.com/download/android\" rel=\"nofollow\">Twitter for Android</a>', 'in_reply_to_status_id': 1275460614924709888, 'in_reply_to_status_id_str': '1275460614924709888', 'in_reply_to_user_id': 169716201, 'in_reply_to_user_id_str': '169716201', 'in_reply_to_screen_name': 'ChaiMike26', 'user': {'id': 1029532000518950912, 'id_str': '1029532000518950912', 'name': 'Mom.at.work', 'screen_name': 'Momatwork3', 'location': '', 'description': '', 'url': None, 'entities': {'description': {'urls': []}}, 'protected': False, 'followers_count': 14, 'friends_count': 168, 'listed_count': 0, 'created_at': 'Wed Aug 15 00:55:31 +0000 2018', 'favourites_count': 3982, 'utc_offset': None, 'time_zone': None, 'geo_enabled': False, 'verified': False, 'statuses_count': 1462, 'lang': None, 'contributors_enabled': False, 'is_translator': False, 'is_translation_enabled': False, 'profile_background_color': 'F5F8FA', 'profile_background_image_url': None, 'profile_background_image_url_https': None, 'profile_background_tile': False, 'profile_image_url': 'http://pbs.twimg.com/profile_images/1260975614368063489/0fhjjbVA_normal.jpg', 'profile_image_url_https': 'https://pbs.twimg.com/profile_images/1260975614368063489/0fhjjbVA_normal.jpg', 'profile_banner_url': 'https://pbs.twimg.com/profile_banners/1029532000518950912/1589475067', 'profile_link_color': '1DA1F2', 'profile_sidebar_border_color': 'C0DEED', 'profile_sidebar_fill_color': 'DDEEF6', 'profile_text_color': '333333', 'profile_use_background_image': True, 'has_extended_profile': False, 'default_profile': True, 'default_profile_image': False, 'following': False, 'follow_request_sent': False, 'notifications': False, 'translator_type': 'none'}, 'geo': None, 'coordinates': None, 'place': None, 'contributors': None, 'is_quote_status': False, 'retweet_count': 0, 'favorite_count': 0, 'favorited': False, 'retweeted': False, 'lang': 'en'}, created_at=datetime.datetime(2020, 6, 23, 16, 14, 43), id=1275462298707116037, id_str='1275462298707116037', text='@ChaiMike26 @craigmelvin @Yamiche He is highlighting the fact that media likes to highlight the # of confirmed case… https://t.co/97sSPxxmoY', truncated=True, entities={'hashtags': [], 'symbols': [], 'user_mentions': [{'screen_name': 'ChaiMike26', 'name': 'Mike', 'id': 169716201, 'id_str': '169716201', 'indices': [0, 11]}, {'screen_name': 'craigmelvin', 'name': 'Craig Melvin', 'id': 33972882, 'id_str': '33972882', 'indices': [12, 24]}, {'screen_name': 'Yamiche', 'name': 'Yamiche Alcindor', 'id': 89887215, 'id_str': '89887215', 'indices': [25, 33]}], 'urls': [{'url': 'https://t.co/97sSPxxmoY', 'expanded_url': 'https://twitter.com/i/web/status/1275462298707116037', 'display_url': 'twitter.com/i/web/status/1…', 'indices': [117, 140]}]}, metadata={'iso_language_code': 'en', 'result_type': 'recent'}, source='Twitter for Android', source_url='http://twitter.com/download/android', in_reply_to_status_id=1275460614924709888, in_reply_to_status_id_str='1275460614924709888', in_reply_to_user_id=169716201, in_reply_to_user_id_str='169716201', in_reply_to_screen_name='ChaiMike26', author=User(_api=<tweepy.api.API object at 0x7fa1c6d13490>, _json={'id': 1029532000518950912, 'id_str': '1029532000518950912', 'name': 'Mom.at.work', 'screen_name': 'Momatwork3', 'location': '', 'description': '', 'url': None, 'entities': {'description': {'urls': []}}, 'protected': False, 'followers_count': 14, 'friends_count': 168, 'listed_count': 0, 'created_at': 'Wed Aug 15 00:55:31 +0000 2018', 'favourites_count': 3982, 'utc_offset': None, 'time_zone': None, 'geo_enabled': False, 'verified': False, 'statuses_count': 1462, 'lang': None, 'contributors_enabled': False, 'is_translator': False, 'is_translation_enabled': False, 'profile_background_color': 'F5F8FA', 'profile_background_image_url': None, 'profile_background_image_url_https': None, 'profile_background_tile': False, 'profile_image_url': 'http://pbs.twimg.com/profile_images/1260975614368063489/0fhjjbVA_normal.jpg', 'profile_image_url_https': 'https://pbs.twimg.com/profile_images/1260975614368063489/0fhjjbVA_normal.jpg', 'profile_banner_url': 'https://pbs.twimg.com/profile_banners/1029532000518950912/1589475067', 'profile_link_color': '1DA1F2', 'profile_sidebar_border_color': 'C0DEED', 'profile_sidebar_fill_color': 'DDEEF6', 'profile_text_color': '333333', 'profile_use_background_image': True, 'has_extended_profile': False, 'default_profile': True, 'default_profile_image': False, 'following': False, 'follow_request_sent': False, 'notifications': False, 'translator_type': 'none'}, id=1029532000518950912, id_str='1029532000518950912', name='Mom.at.work', screen_name='Momatwork3', location='', description='', url=None, entities={'description': {'urls': []}}, protected=False, followers_count=14, friends_count=168, listed_count=0, created_at=datetime.datetime(2018, 8, 15, 0, 55, 31), favourites_count=3982, utc_offset=None, time_zone=None, geo_enabled=False, verified=False, statuses_count=1462, lang=None, contributors_enabled=False, is_translator=False, is_translation_enabled=False, profile_background_color='F5F8FA', profile_background_image_url=None, profile_background_image_url_https=None, profile_background_tile=False, profile_image_url='http://pbs.twimg.com/profile_images/1260975614368063489/0fhjjbVA_normal.jpg', profile_image_url_https='https://pbs.twimg.com/profile_images/1260975614368063489/0fhjjbVA_normal.jpg', profile_banner_url='https://pbs.twimg.com/profile_banners/1029532000518950912/1589475067', profile_link_color='1DA1F2', profile_sidebar_border_color='C0DEED', profile_sidebar_fill_color='DDEEF6', profile_text_color='333333', profile_use_background_image=True, has_extended_profile=False, default_profile=True, default_profile_image=False, following=False, follow_request_sent=False, notifications=False, translator_type='none'), user=User(_api=<tweepy.api.API object at 0x7fa1c6d13490>, _json={'id': 1029532000518950912, 'id_str': '1029532000518950912', 'name': 'Mom.at.work', 'screen_name': 'Momatwork3', 'location': '', 'description': '', 'url': None, 'entities': {'description': {'urls': []}}, 'protected': False, 'followers_count': 14, 'friends_count': 168, 'listed_count': 0, 'created_at': 'Wed Aug 15 00:55:31 +0000 2018', 'favourites_count': 3982, 'utc_offset': None, 'time_zone': None, 'geo_enabled': False, 'verified': False, 'statuses_count': 1462, 'lang': None, 'contributors_enabled': False, 'is_translator': False, 'is_translation_enabled': False, 'profile_background_color': 'F5F8FA', 'profile_background_image_url': None, 'profile_background_image_url_https': None, 'profile_background_tile': False, 'profile_image_url': 'http://pbs.twimg.com/profile_images/1260975614368063489/0fhjjbVA_normal.jpg', 'profile_image_url_https': 'https://pbs.twimg.com/profile_images/1260975614368063489/0fhjjbVA_normal.jpg', 'profile_banner_url': 'https://pbs.twimg.com/profile_banners/1029532000518950912/1589475067', 'profile_link_color': '1DA1F2', 'profile_sidebar_border_color': 'C0DEED', 'profile_sidebar_fill_color': 'DDEEF6', 'profile_text_color': '333333', 'profile_use_background_image': True, 'has_extended_profile': False, 'default_profile': True, 'default_profile_image': False, 'following': False, 'follow_request_sent': False, 'notifications': False, 'translator_type': 'none'}, id=1029532000518950912, id_str='1029532000518950912', name='Mom.at.work', screen_name='Momatwork3', location='', description='', url=None, entities={'description': {'urls': []}}, protected=False, followers_count=14, friends_count=168, listed_count=0, created_at=datetime.datetime(2018, 8, 15, 0, 55, 31), favourites_count=3982, utc_offset=None, time_zone=None, geo_enabled=False, verified=False, statuses_count=1462, lang=None, contributors_enabled=False, is_translator=False, is_translation_enabled=False, profile_background_color='F5F8FA', profile_background_image_url=None, profile_background_image_url_https=None, profile_background_tile=False, profile_image_url='http://pbs.twimg.com/profile_images/1260975614368063489/0fhjjbVA_normal.jpg', profile_image_url_https='https://pbs.twimg.com/profile_images/1260975614368063489/0fhjjbVA_normal.jpg', profile_banner_url='https://pbs.twimg.com/profile_banners/1029532000518950912/1589475067', profile_link_color='1DA1F2', profile_sidebar_border_color='C0DEED', profile_sidebar_fill_color='DDEEF6', profile_text_color='333333', profile_use_background_image=True, has_extended_profile=False, default_profile=True, default_profile_image=False, following=False, follow_request_sent=False, notifications=False, translator_type='none'), geo=None, coordinates=None, place=None, contributors=None, is_quote_status=False, retweet_count=0, favorite_count=0, favorited=False, retweeted=False, lang='en'), Status(_api=<tweepy.api.API object at 0x7fa1c6d13490>, _json={'created_at': 'Tue Jun 23 16:14:43 +0000 2020', 'id': 1275462298673598464, 'id_str': '1275462298673598464', 'text': 'RT @VanityFair: Trump campaign manager Brad Parscale is planning to step down, @GabrielSherman reports: “He knows he can’t survive,” says a…', 'truncated': False, 'entities': {'hashtags': [], 'symbols': [], 'user_mentions': [{'screen_name': 'VanityFair', 'name': 'VANITY FAIR', 'id': 15279429, 'id_str': '15279429', 'indices': [3, 14]}, {'screen_name': 'gabrielsherman', 'name': 'Gabriel Sherman', 'id': 34036358, 'id_str': '34036358', 'indices': [79, 94]}], 'urls': []}, 'metadata': {'iso_language_code': 'en', 'result_type': 'recent'}, 'source': '<a href=\"http://twitter.com/download/iphone\" rel=\"nofollow\">Twitter for iPhone</a>', 'in_reply_to_status_id': None, 'in_reply_to_status_id_str': None, 'in_reply_to_user_id': None, 'in_reply_to_user_id_str': None, 'in_reply_to_screen_name': None, 'user': {'id': 1251566471311917063, 'id_str': '1251566471311917063', 'name': 'Diana', 'screen_name': 'Diana80582015', 'location': '', 'description': 'Politics, History, fun, vote blue ,vote BIDEN', 'url': None, 'entities': {'description': {'urls': []}}, 'protected': False, 'followers_count': 1076, 'friends_count': 2354, 'listed_count': 1, 'created_at': 'Sat Apr 18 17:41:39 +0000 2020', 'favourites_count': 1968, 'utc_offset': None, 'time_zone': None, 'geo_enabled': False, 'verified': False, 'statuses_count': 23827, 'lang': None, 'contributors_enabled': False, 'is_translator': False, 'is_translation_enabled': False, 'profile_background_color': 'F5F8FA', 'profile_background_image_url': None, 'profile_background_image_url_https': None, 'profile_background_tile': False, 'profile_image_url': 'http://pbs.twimg.com/profile_images/1251569826092417025/2NSq6w_x_normal.jpg', 'profile_image_url_https': 'https://pbs.twimg.com/profile_images/1251569826092417025/2NSq6w_x_normal.jpg', 'profile_banner_url': 'https://pbs.twimg.com/profile_banners/1251566471311917063/1587232536', 'profile_link_color': '1DA1F2', 'profile_sidebar_border_color': 'C0DEED', 'profile_sidebar_fill_color': 'DDEEF6', 'profile_text_color': '333333', 'profile_use_background_image': True, 'has_extended_profile': True, 'default_profile': True, 'default_profile_image': False, 'following': False, 'follow_request_sent': False, 'notifications': False, 'translator_type': 'none'}, 'geo': None, 'coordinates': None, 'place': None, 'contributors': None, 'retweeted_status': {'created_at': 'Tue Jun 23 02:04:40 +0000 2020', 'id': 1275248374422306816, 'id_str': '1275248374422306816', 'text': 'Trump campaign manager Brad Parscale is planning to step down, @GabrielSherman reports: “He knows he can’t survive,… https://t.co/uMLESCDuPv', 'truncated': True, 'entities': {'hashtags': [], 'symbols': [], 'user_mentions': [{'screen_name': 'gabrielsherman', 'name': 'Gabriel Sherman', 'id': 34036358, 'id_str': '34036358', 'indices': [63, 78]}], 'urls': [{'url': 'https://t.co/uMLESCDuPv', 'expanded_url': 'https://twitter.com/i/web/status/1275248374422306816', 'display_url': 'twitter.com/i/web/status/1…', 'indices': [117, 140]}]}, 'metadata': {'iso_language_code': 'en', 'result_type': 'recent'}, 'source': '<a href=\"http://www.socialflow.com\" rel=\"nofollow\">SocialFlow</a>', 'in_reply_to_status_id': None, 'in_reply_to_status_id_str': None, 'in_reply_to_user_id': None, 'in_reply_to_user_id_str': None, 'in_reply_to_screen_name': None, 'user': {'id': 15279429, 'id_str': '15279429', 'name': 'VANITY FAIR', 'screen_name': 'VanityFair', 'location': 'New York, NY', 'description': '\"phony & boring\" - the president of the united states', 'url': 'http://t.co/THwtnNR9Wy', 'entities': {'url': {'urls': [{'url': 'http://t.co/THwtnNR9Wy', 'expanded_url': 'http://www.vanityfair.com', 'display_url': 'vanityfair.com', 'indices': [0, 22]}]}, 'description': {'urls': []}}, 'protected': False, 'followers_count': 4859255, 'friends_count': 1207, 'listed_count': 18777, 'created_at': 'Mon Jun 30 14:17:35 +0000 2008', 'favourites_count': 5084, 'utc_offset': None, 'time_zone': None, 'geo_enabled': False, 'verified': True, 'statuses_count': 124533, 'lang': None, 'contributors_enabled': False, 'is_translator': False, 'is_translation_enabled': False, 'profile_background_color': '000000', 'profile_background_image_url': 'http://abs.twimg.com/images/themes/theme1/bg.png', 'profile_background_image_url_https': 'https://abs.twimg.com/images/themes/theme1/bg.png', 'profile_background_tile': False, 'profile_image_url': 'http://pbs.twimg.com/profile_images/1029450446212083713/Pp8tHBFj_normal.jpg', 'profile_image_url_https': 'https://pbs.twimg.com/profile_images/1029450446212083713/Pp8tHBFj_normal.jpg', 'profile_banner_url': 'https://pbs.twimg.com/profile_banners/15279429/1434576586', 'profile_link_color': '990000', 'profile_sidebar_border_color': '000000', 'profile_sidebar_fill_color': 'DDFFCC', 'profile_text_color': '333333', 'profile_use_background_image': True, 'has_extended_profile': False, 'default_profile': False, 'default_profile_image': False, 'following': False, 'follow_request_sent': False, 'notifications': False, 'translator_type': 'none'}, 'geo': None, 'coordinates': None, 'place': None, 'contributors': None, 'is_quote_status': False, 'retweet_count': 4360, 'favorite_count': 12014, 'favorited': False, 'retweeted': False, 'possibly_sensitive': False, 'lang': 'en'}, 'is_quote_status': False, 'retweet_count': 4360, 'favorite_count': 0, 'favorited': False, 'retweeted': False, 'lang': 'en'}, created_at=datetime.datetime(2020, 6, 23, 16, 14, 43), id=1275462298673598464, id_str='1275462298673598464', text='RT @VanityFair: Trump campaign manager Brad Parscale is planning to step down, @GabrielSherman reports: “He knows he can’t survive,” says a…', truncated=False, entities={'hashtags': [], 'symbols': [], 'user_mentions': [{'screen_name': 'VanityFair', 'name': 'VANITY FAIR', 'id': 15279429, 'id_str': '15279429', 'indices': [3, 14]}, {'screen_name': 'gabrielsherman', 'name': 'Gabriel Sherman', 'id': 34036358, 'id_str': '34036358', 'indices': [79, 94]}], 'urls': []}, metadata={'iso_language_code': 'en', 'result_type': 'recent'}, source='Twitter for iPhone', source_url='http://twitter.com/download/iphone', in_reply_to_status_id=None, in_reply_to_status_id_str=None, in_reply_to_user_id=None, in_reply_to_user_id_str=None, in_reply_to_screen_name=None, author=User(_api=<tweepy.api.API object at 0x7fa1c6d13490>, _json={'id': 1251566471311917063, 'id_str': '1251566471311917063', 'name': 'Diana', 'screen_name': 'Diana80582015', 'location': '', 'description': 'Politics, History, fun, vote blue ,vote BIDEN', 'url': None, 'entities': {'description': {'urls': []}}, 'protected': False, 'followers_count': 1076, 'friends_count': 2354, 'listed_count': 1, 'created_at': 'Sat Apr 18 17:41:39 +0000 2020', 'favourites_count': 1968, 'utc_offset': None, 'time_zone': None, 'geo_enabled': False, 'verified': False, 'statuses_count': 23827, 'lang': None, 'contributors_enabled': False, 'is_translator': False, 'is_translation_enabled': False, 'profile_background_color': 'F5F8FA', 'profile_background_image_url': None, 'profile_background_image_url_https': None, 'profile_background_tile': False, 'profile_image_url': 'http://pbs.twimg.com/profile_images/1251569826092417025/2NSq6w_x_normal.jpg', 'profile_image_url_https': 'https://pbs.twimg.com/profile_images/1251569826092417025/2NSq6w_x_normal.jpg', 'profile_banner_url': 'https://pbs.twimg.com/profile_banners/1251566471311917063/1587232536', 'profile_link_color': '1DA1F2', 'profile_sidebar_border_color': 'C0DEED', 'profile_sidebar_fill_color': 'DDEEF6', 'profile_text_color': '333333', 'profile_use_background_image': True, 'has_extended_profile': True, 'default_profile': True, 'default_profile_image': False, 'following': False, 'follow_request_sent': False, 'notifications': False, 'translator_type': 'none'}, id=1251566471311917063, id_str='1251566471311917063', name='Diana', screen_name='Diana80582015', location='', description='Politics, History, fun, vote blue ,vote BIDEN', url=None, entities={'description': {'urls': []}}, protected=False, followers_count=1076, friends_count=2354, listed_count=1, created_at=datetime.datetime(2020, 4, 18, 17, 41, 39), favourites_count=1968, utc_offset=None, time_zone=None, geo_enabled=False, verified=False, statuses_count=23827, lang=None, contributors_enabled=False, is_translator=False, is_translation_enabled=False, profile_background_color='F5F8FA', profile_background_image_url=None, profile_background_image_url_https=None, profile_background_tile=False, profile_image_url='http://pbs.twimg.com/profile_images/1251569826092417025/2NSq6w_x_normal.jpg', profile_image_url_https='https://pbs.twimg.com/profile_images/1251569826092417025/2NSq6w_x_normal.jpg', profile_banner_url='https://pbs.twimg.com/profile_banners/1251566471311917063/1587232536', profile_link_color='1DA1F2', profile_sidebar_border_color='C0DEED', profile_sidebar_fill_color='DDEEF6', profile_text_color='333333', profile_use_background_image=True, has_extended_profile=True, default_profile=True, default_profile_image=False, following=False, follow_request_sent=False, notifications=False, translator_type='none'), user=User(_api=<tweepy.api.API object at 0x7fa1c6d13490>, _json={'id': 1251566471311917063, 'id_str': '1251566471311917063', 'name': 'Diana', 'screen_name': 'Diana80582015', 'location': '', 'description': 'Politics, History, fun, vote blue ,vote BIDEN', 'url': None, 'entities': {'description': {'urls': []}}, 'protected': False, 'followers_count': 1076, 'friends_count': 2354, 'listed_count': 1, 'created_at': 'Sat Apr 18 17:41:39 +0000 2020', 'favourites_count': 1968, 'utc_offset': None, 'time_zone': None, 'geo_enabled': False, 'verified': False, 'statuses_count': 23827, 'lang': None, 'contributors_enabled': False, 'is_translator': False, 'is_translation_enabled': False, 'profile_background_color': 'F5F8FA', 'profile_background_image_url': None, 'profile_background_image_url_https': None, 'profile_background_tile': False, 'profile_image_url': 'http://pbs.twimg.com/profile_images/1251569826092417025/2NSq6w_x_normal.jpg', 'profile_image_url_https': 'https://pbs.twimg.com/profile_images/1251569826092417025/2NSq6w_x_normal.jpg', 'profile_banner_url': 'https://pbs.twimg.com/profile_banners/1251566471311917063/1587232536', 'profile_link_color': '1DA1F2', 'profile_sidebar_border_color': 'C0DEED', 'profile_sidebar_fill_color': 'DDEEF6', 'profile_text_color': '333333', 'profile_use_background_image': True, 'has_extended_profile': True, 'default_profile': True, 'default_profile_image': False, 'following': False, 'follow_request_sent': False, 'notifications': False, 'translator_type': 'none'}, id=1251566471311917063, id_str='1251566471311917063', name='Diana', screen_name='Diana80582015', location='', description='Politics, History, fun, vote blue ,vote BIDEN', url=None, entities={'description': {'urls': []}}, protected=False, followers_count=1076, friends_count=2354, listed_count=1, created_at=datetime.datetime(2020, 4, 18, 17, 41, 39), favourites_count=1968, utc_offset=None, time_zone=None, geo_enabled=False, verified=False, statuses_count=23827, lang=None, contributors_enabled=False, is_translator=False, is_translation_enabled=False, profile_background_color='F5F8FA', profile_background_image_url=None, profile_background_image_url_https=None, profile_background_tile=False, profile_image_url='http://pbs.twimg.com/profile_images/1251569826092417025/2NSq6w_x_normal.jpg', profile_image_url_https='https://pbs.twimg.com/profile_images/1251569826092417025/2NSq6w_x_normal.jpg', profile_banner_url='https://pbs.twimg.com/profile_banners/1251566471311917063/1587232536', profile_link_color='1DA1F2', profile_sidebar_border_color='C0DEED', profile_sidebar_fill_color='DDEEF6', profile_text_color='333333', profile_use_background_image=True, has_extended_profile=True, default_profile=True, default_profile_image=False, following=False, follow_request_sent=False, notifications=False, translator_type='none'), geo=None, coordinates=None, place=None, contributors=None, retweeted_status=Status(_api=<tweepy.api.API object at 0x7fa1c6d13490>, _json={'created_at': 'Tue Jun 23 02:04:40 +0000 2020', 'id': 1275248374422306816, 'id_str': '1275248374422306816', 'text': 'Trump campaign manager Brad Parscale is planning to step down, @GabrielSherman reports: “He knows he can’t survive,… https://t.co/uMLESCDuPv', 'truncated': True, 'entities': {'hashtags': [], 'symbols': [], 'user_mentions': [{'screen_name': 'gabrielsherman', 'name': 'Gabriel Sherman', 'id': 34036358, 'id_str': '34036358', 'indices': [63, 78]}], 'urls': [{'url': 'https://t.co/uMLESCDuPv', 'expanded_url': 'https://twitter.com/i/web/status/1275248374422306816', 'display_url': 'twitter.com/i/web/status/1…', 'indices': [117, 140]}]}, 'metadata': {'iso_language_code': 'en', 'result_type': 'recent'}, 'source': '<a href=\"http://www.socialflow.com\" rel=\"nofollow\">SocialFlow</a>', 'in_reply_to_status_id': None, 'in_reply_to_status_id_str': None, 'in_reply_to_user_id': None, 'in_reply_to_user_id_str': None, 'in_reply_to_screen_name': None, 'user': {'id': 15279429, 'id_str': '15279429', 'name': 'VANITY FAIR', 'screen_name': 'VanityFair', 'location': 'New York, NY', 'description': '\"phony & boring\" - the president of the united states', 'url': 'http://t.co/THwtnNR9Wy', 'entities': {'url': {'urls': [{'url': 'http://t.co/THwtnNR9Wy', 'expanded_url': 'http://www.vanityfair.com', 'display_url': 'vanityfair.com', 'indices': [0, 22]}]}, 'description': {'urls': []}}, 'protected': False, 'followers_count': 4859255, 'friends_count': 1207, 'listed_count': 18777, 'created_at': 'Mon Jun 30 14:17:35 +0000 2008', 'favourites_count': 5084, 'utc_offset': None, 'time_zone': None, 'geo_enabled': False, 'verified': True, 'statuses_count': 124533, 'lang': None, 'contributors_enabled': False, 'is_translator': False, 'is_translation_enabled': False, 'profile_background_color': '000000', 'profile_background_image_url': 'http://abs.twimg.com/images/themes/theme1/bg.png', 'profile_background_image_url_https': 'https://abs.twimg.com/images/themes/theme1/bg.png', 'profile_background_tile': False, 'profile_image_url': 'http://pbs.twimg.com/profile_images/1029450446212083713/Pp8tHBFj_normal.jpg', 'profile_image_url_https': 'https://pbs.twimg.com/profile_images/1029450446212083713/Pp8tHBFj_normal.jpg', 'profile_banner_url': 'https://pbs.twimg.com/profile_banners/15279429/1434576586', 'profile_link_color': '990000', 'profile_sidebar_border_color': '000000', 'profile_sidebar_fill_color': 'DDFFCC', 'profile_text_color': '333333', 'profile_use_background_image': True, 'has_extended_profile': False, 'default_profile': False, 'default_profile_image': False, 'following': False, 'follow_request_sent': False, 'notifications': False, 'translator_type': 'none'}, 'geo': None, 'coordinates': None, 'place': None, 'contributors': None, 'is_quote_status': False, 'retweet_count': 4360, 'favorite_count': 12014, 'favorited': False, 'retweeted': False, 'possibly_sensitive': False, 'lang': 'en'}, created_at=datetime.datetime(2020, 6, 23, 2, 4, 40), id=1275248374422306816, id_str='1275248374422306816', text='Trump campaign manager Brad Parscale is planning to step down, @GabrielSherman reports: “He knows he can’t survive,… https://t.co/uMLESCDuPv', truncated=True, entities={'hashtags': [], 'symbols': [], 'user_mentions': [{'screen_name': 'gabrielsherman', 'name': 'Gabriel Sherman', 'id': 34036358, 'id_str': '34036358', 'indices': [63, 78]}], 'urls': [{'url': 'https://t.co/uMLESCDuPv', 'expanded_url': 'https://twitter.com/i/web/status/1275248374422306816', 'display_url': 'twitter.com/i/web/status/1…', 'indices': [117, 140]}]}, metadata={'iso_language_code': 'en', 'result_type': 'recent'}, source='SocialFlow', source_url='http://www.socialflow.com', in_reply_to_status_id=None, in_reply_to_status_id_str=None, in_reply_to_user_id=None, in_reply_to_user_id_str=None, in_reply_to_screen_name=None, author=User(_api=<tweepy.api.API object at 0x7fa1c6d13490>, _json={'id': 15279429, 'id_str': '15279429', 'name': 'VANITY FAIR', 'screen_name': 'VanityFair', 'location': 'New York, NY', 'description': '\"phony & boring\" - the president of the united states', 'url': 'http://t.co/THwtnNR9Wy', 'entities': {'url': {'urls': [{'url': 'http://t.co/THwtnNR9Wy', 'expanded_url': 'http://www.vanityfair.com', 'display_url': 'vanityfair.com', 'indices': [0, 22]}]}, 'description': {'urls': []}}, 'protected': False, 'followers_count': 4859255, 'friends_count': 1207, 'listed_count': 18777, 'created_at': 'Mon Jun 30 14:17:35 +0000 2008', 'favourites_count': 5084, 'utc_offset': None, 'time_zone': None, 'geo_enabled': False, 'verified': True, 'statuses_count': 124533, 'lang': None, 'contributors_enabled': False, 'is_translator': False, 'is_translation_enabled': False, 'profile_background_color': '000000', 'profile_background_image_url': 'http://abs.twimg.com/images/themes/theme1/bg.png', 'profile_background_image_url_https': 'https://abs.twimg.com/images/themes/theme1/bg.png', 'profile_background_tile': False, 'profile_image_url': 'http://pbs.twimg.com/profile_images/1029450446212083713/Pp8tHBFj_normal.jpg', 'profile_image_url_https': 'https://pbs.twimg.com/profile_images/1029450446212083713/Pp8tHBFj_normal.jpg', 'profile_banner_url': 'https://pbs.twimg.com/profile_banners/15279429/1434576586', 'profile_link_color': '990000', 'profile_sidebar_border_color': '000000', 'profile_sidebar_fill_color': 'DDFFCC', 'profile_text_color': '333333', 'profile_use_background_image': True, 'has_extended_profile': False, 'default_profile': False, 'default_profile_image': False, 'following': False, 'follow_request_sent': False, 'notifications': False, 'translator_type': 'none'}, id=15279429, id_str='15279429', name='VANITY FAIR', screen_name='VanityFair', location='New York, NY', description='\"phony & boring\" - the president of the united states', url='http://t.co/THwtnNR9Wy', entities={'url': {'urls': [{'url': 'http://t.co/THwtnNR9Wy', 'expanded_url': 'http://www.vanityfair.com', 'display_url': 'vanityfair.com', 'indices': [0, 22]}]}, 'description': {'urls': []}}, protected=False, followers_count=4859255, friends_count=1207, listed_count=18777, created_at=datetime.datetime(2008, 6, 30, 14, 17, 35), favourites_count=5084, utc_offset=None, time_zone=None, geo_enabled=False, verified=True, statuses_count=124533, lang=None, contributors_enabled=False, is_translator=False, is_translation_enabled=False, profile_background_color='000000', profile_background_image_url='http://abs.twimg.com/images/themes/theme1/bg.png', profile_background_image_url_https='https://abs.twimg.com/images/themes/theme1/bg.png', profile_background_tile=False, profile_image_url='http://pbs.twimg.com/profile_images/1029450446212083713/Pp8tHBFj_normal.jpg', profile_image_url_https='https://pbs.twimg.com/profile_images/1029450446212083713/Pp8tHBFj_normal.jpg', profile_banner_url='https://pbs.twimg.com/profile_banners/15279429/1434576586', profile_link_color='990000', profile_sidebar_border_color='000000', profile_sidebar_fill_color='DDFFCC', profile_text_color='333333', profile_use_background_image=True, has_extended_profile=False, default_profile=False, default_profile_image=False, following=False, follow_request_sent=False, notifications=False, translator_type='none'), user=User(_api=<tweepy.api.API object at 0x7fa1c6d13490>, _json={'id': 15279429, 'id_str': '15279429', 'name': 'VANITY FAIR', 'screen_name': 'VanityFair', 'location': 'New York, NY', 'description': '\"phony & boring\" - the president of the united states', 'url': 'http://t.co/THwtnNR9Wy', 'entities': {'url': {'urls': [{'url': 'http://t.co/THwtnNR9Wy', 'expanded_url': 'http://www.vanityfair.com', 'display_url': 'vanityfair.com', 'indices': [0, 22]}]}, 'description': {'urls': []}}, 'protected': False, 'followers_count': 4859255, 'friends_count': 1207, 'listed_count': 18777, 'created_at': 'Mon Jun 30 14:17:35 +0000 2008', 'favourites_count': 5084, 'utc_offset': None, 'time_zone': None, 'geo_enabled': False, 'verified': True, 'statuses_count': 124533, 'lang': None, 'contributors_enabled': False, 'is_translator': False, 'is_translation_enabled': False, 'profile_background_color': '000000', 'profile_background_image_url': 'http://abs.twimg.com/images/themes/theme1/bg.png', 'profile_background_image_url_https': 'https://abs.twimg.com/images/themes/theme1/bg.png', 'profile_background_tile': False, 'profile_image_url': 'http://pbs.twimg.com/profile_images/1029450446212083713/Pp8tHBFj_normal.jpg', 'profile_image_url_https': 'https://pbs.twimg.com/profile_images/1029450446212083713/Pp8tHBFj_normal.jpg', 'profile_banner_url': 'https://pbs.twimg.com/profile_banners/15279429/1434576586', 'profile_link_color': '990000', 'profile_sidebar_border_color': '000000', 'profile_sidebar_fill_color': 'DDFFCC', 'profile_text_color': '333333', 'profile_use_background_image': True, 'has_extended_profile': False, 'default_profile': False, 'default_profile_image': False, 'following': False, 'follow_request_sent': False, 'notifications': False, 'translator_type': 'none'}, id=15279429, id_str='15279429', name='VANITY FAIR', screen_name='VanityFair', location='New York, NY', description='\"phony & boring\" - the president of the united states', url='http://t.co/THwtnNR9Wy', entities={'url': {'urls': [{'url': 'http://t.co/THwtnNR9Wy', 'expanded_url': 'http://www.vanityfair.com', 'display_url': 'vanityfair.com', 'indices': [0, 22]}]}, 'description': {'urls': []}}, protected=False, followers_count=4859255, friends_count=1207, listed_count=18777, created_at=datetime.datetime(2008, 6, 30, 14, 17, 35), favourites_count=5084, utc_offset=None, time_zone=None, geo_enabled=False, verified=True, statuses_count=124533, lang=None, contributors_enabled=False, is_translator=False, is_translation_enabled=False, profile_background_color='000000', profile_background_image_url='http://abs.twimg.com/images/themes/theme1/bg.png', profile_background_image_url_https='https://abs.twimg.com/images/themes/theme1/bg.png', profile_background_tile=False, profile_image_url='http://pbs.twimg.com/profile_images/1029450446212083713/Pp8tHBFj_normal.jpg', profile_image_url_https='https://pbs.twimg.com/profile_images/1029450446212083713/Pp8tHBFj_normal.jpg', profile_banner_url='https://pbs.twimg.com/profile_banners/15279429/1434576586', profile_link_color='990000', profile_sidebar_border_color='000000', profile_sidebar_fill_color='DDFFCC', profile_text_color='333333', profile_use_background_image=True, has_extended_profile=False, default_profile=False, default_profile_image=False, following=False, follow_request_sent=False, notifications=False, translator_type='none'), geo=None, coordinates=None, place=None, contributors=None, is_quote_status=False, retweet_count=4360, favorite_count=12014, favorited=False, retweeted=False, possibly_sensitive=False, lang='en'), is_quote_status=False, retweet_count=4360, favorite_count=0, favorited=False, retweeted=False, lang='en'), Status(_api=<tweepy.api.API object at 0x7fa1c6d13490>, _json={'created_at': 'Tue Jun 23 16:14:43 +0000 2020', 'id': 1275462298656665605, 'id_str': '1275462298656665605', 'text': 'RT @mmmnavarr0: People who know that certain companies are supporting Trump’s campaign and still decide to buy from them blows my fucking m…', 'truncated': False, 'entities': {'hashtags': [], 'symbols': [], 'user_mentions': [{'screen_name': 'mmmnavarr0', 'name': 'Mireya Navarro', 'id': 365170052, 'id_str': '365170052', 'indices': [3, 14]}], 'urls': []}, 'metadata': {'iso_language_code': 'en', 'result_type': 'recent'}, 'source': '<a href=\"http://twitter.com/download/iphone\" rel=\"nofollow\">Twitter for iPhone</a>', 'in_reply_to_status_id': None, 'in_reply_to_status_id_str': None, 'in_reply_to_user_id': None, 'in_reply_to_user_id_str': None, 'in_reply_to_screen_name': None, 'user': {'id': 1011485415331659776, 'id_str': '1011485415331659776', 'name': '✰ jassel real', 'screen_name': 'yvettexo__', 'location': '', 'description': '', 'url': 'https://t.co/ScNVY4VxD2', 'entities': {'url': {'urls': [{'url': 'https://t.co/ScNVY4VxD2', 'expanded_url': 'https://blacklivesmatters.carrd.co/', 'display_url': 'blacklivesmatters.carrd.co', 'indices': [0, 23]}]}, 'description': {'urls': []}}, 'protected': False, 'followers_count': 239, 'friends_count': 187, 'listed_count': 1, 'created_at': 'Tue Jun 26 05:44:50 +0000 2018', 'favourites_count': 8056, 'utc_offset': None, 'time_zone': None, 'geo_enabled': True, 'verified': False, 'statuses_count': 2145, 'lang': None, 'contributors_enabled': False, 'is_translator': False, 'is_translation_enabled': False, 'profile_background_color': 'F5F8FA', 'profile_background_image_url': None, 'profile_background_image_url_https': None, 'profile_background_tile': False, 'profile_image_url': 'http://pbs.twimg.com/profile_images/1272002397565411328/hIKJPF-7_normal.jpg', 'profile_image_url_https': 'https://pbs.twimg.com/profile_images/1272002397565411328/hIKJPF-7_normal.jpg', 'profile_banner_url': 'https://pbs.twimg.com/profile_banners/1011485415331659776/1592705974', 'profile_link_color': '1DA1F2', 'profile_sidebar_border_color': 'C0DEED', 'profile_sidebar_fill_color': 'DDEEF6', 'profile_text_color': '333333', 'profile_use_background_image': True, 'has_extended_profile': False, 'default_profile': True, 'default_profile_image': False, 'following': False, 'follow_request_sent': False, 'notifications': False, 'translator_type': 'none'}, 'geo': None, 'coordinates': None, 'place': None, 'contributors': None, 'retweeted_status': {'created_at': 'Tue Jun 23 05:57:44 +0000 2020', 'id': 1275307027808436224, 'id_str': '1275307027808436224', 'text': 'People who know that certain companies are supporting Trump’s campaign and still decide to buy from them blows my f… https://t.co/QBRs3frXsf', 'truncated': True, 'entities': {'hashtags': [], 'symbols': [], 'user_mentions': [], 'urls': [{'url': 'https://t.co/QBRs3frXsf', 'expanded_url': 'https://twitter.com/i/web/status/1275307027808436224', 'display_url': 'twitter.com/i/web/status/1…', 'indices': [117, 140]}]}, 'metadata': {'iso_language_code': 'en', 'result_type': 'recent'}, 'source': '<a href=\"http://twitter.com/download/iphone\" rel=\"nofollow\">Twitter for iPhone</a>', 'in_reply_to_status_id': None, 'in_reply_to_status_id_str': None, 'in_reply_to_user_id': None, 'in_reply_to_user_id_str': None, 'in_reply_to_screen_name': None, 'user': {'id': 365170052, 'id_str': '365170052', 'name': 'Mireya Navarro', 'screen_name': 'mmmnavarr0', 'location': 'Downey, CA', 'description': 'just rub CBD on it | ⚢', 'url': 'https://t.co/YfOlKUeoYk', 'entities': {'url': {'urls': [{'url': 'https://t.co/YfOlKUeoYk', 'expanded_url': 'https://m.youtube.com/mireyanavarro', 'display_url': 'm.youtube.com/mireyanavarro', 'indices': [0, 23]}]}, 'description': {'urls': []}}, 'protected': False, 'followers_count': 963, 'friends_count': 540, 'listed_count': 3, 'created_at': 'Tue Aug 30 23:57:26 +0000 2011', 'favourites_count': 16393, 'utc_offset': None, 'time_zone': None, 'geo_enabled': True, 'verified': False, 'statuses_count': 37979, 'lang': None, 'contributors_enabled': False, 'is_translator': False, 'is_translation_enabled': False, 'profile_background_color': 'C0DEED', 'profile_background_image_url': 'http://abs.twimg.com/images/themes/theme1/bg.png', 'profile_background_image_url_https': 'https://abs.twimg.com/images/themes/theme1/bg.png', 'profile_background_tile': True, 'profile_image_url': 'http://pbs.twimg.com/profile_images/1247695189428146177/1M_oaAkH_normal.jpg', 'profile_image_url_https': 'https://pbs.twimg.com/profile_images/1247695189428146177/1M_oaAkH_normal.jpg', 'profile_banner_url': 'https://pbs.twimg.com/profile_banners/365170052/1534455589', 'profile_link_color': 'F50808', 'profile_sidebar_border_color': 'FF7B00', 'profile_sidebar_fill_color': 'B3B3B3', 'profile_text_color': 'FA0303', 'profile_use_background_image': True, 'has_extended_profile': True, 'default_profile': False, 'default_profile_image': False, 'following': False, 'follow_request_sent': False, 'notifications': False, 'translator_type': 'none'}, 'geo': None, 'coordinates': None, 'place': None, 'contributors': None, 'is_quote_status': False, 'retweet_count': 7, 'favorite_count': 7, 'favorited': False, 'retweeted': False, 'lang': 'en'}, 'is_quote_status': False, 'retweet_count': 7, 'favorite_count': 0, 'favorited': False, 'retweeted': False, 'lang': 'en'}, created_at=datetime.datetime(2020, 6, 23, 16, 14, 43), id=1275462298656665605, id_str='1275462298656665605', text='RT @mmmnavarr0: People who know that certain companies are supporting Trump’s campaign and still decide to buy from them blows my fucking m…', truncated=False, entities={'hashtags': [], 'symbols': [], 'user_mentions': [{'screen_name': 'mmmnavarr0', 'name': 'Mireya Navarro', 'id': 365170052, 'id_str': '365170052', 'indices': [3, 14]}], 'urls': []}, metadata={'iso_language_code': 'en', 'result_type': 'recent'}, source='Twitter for iPhone', source_url='http://twitter.com/download/iphone', in_reply_to_status_id=None, in_reply_to_status_id_str=None, in_reply_to_user_id=None, in_reply_to_user_id_str=None, in_reply_to_screen_name=None, author=User(_api=<tweepy.api.API object at 0x7fa1c6d13490>, _json={'id': 1011485415331659776, 'id_str': '1011485415331659776', 'name': '✰ jassel real', 'screen_name': 'yvettexo__', 'location': '', 'description': '', 'url': 'https://t.co/ScNVY4VxD2', 'entities': {'url': {'urls': [{'url': 'https://t.co/ScNVY4VxD2', 'expanded_url': 'https://blacklivesmatters.carrd.co/', 'display_url': 'blacklivesmatters.carrd.co', 'indices': [0, 23]}]}, 'description': {'urls': []}}, 'protected': False, 'followers_count': 239, 'friends_count': 187, 'listed_count': 1, 'created_at': 'Tue Jun 26 05:44:50 +0000 2018', 'favourites_count': 8056, 'utc_offset': None, 'time_zone': None, 'geo_enabled': True, 'verified': False, 'statuses_count': 2145, 'lang': None, 'contributors_enabled': False, 'is_translator': False, 'is_translation_enabled': False, 'profile_background_color': 'F5F8FA', 'profile_background_image_url': None, 'profile_background_image_url_https': None, 'profile_background_tile': False, 'profile_image_url': 'http://pbs.twimg.com/profile_images/1272002397565411328/hIKJPF-7_normal.jpg', 'profile_image_url_https': 'https://pbs.twimg.com/profile_images/1272002397565411328/hIKJPF-7_normal.jpg', 'profile_banner_url': 'https://pbs.twimg.com/profile_banners/1011485415331659776/1592705974', 'profile_link_color': '1DA1F2', 'profile_sidebar_border_color': 'C0DEED', 'profile_sidebar_fill_color': 'DDEEF6', 'profile_text_color': '333333', 'profile_use_background_image': True, 'has_extended_profile': False, 'default_profile': True, 'default_profile_image': False, 'following': False, 'follow_request_sent': False, 'notifications': False, 'translator_type': 'none'}, id=1011485415331659776, id_str='1011485415331659776', name='✰ jassel real', screen_name='yvettexo__', location='', description='', url='https://t.co/ScNVY4VxD2', entities={'url': {'urls': [{'url': 'https://t.co/ScNVY4VxD2', 'expanded_url': 'https://blacklivesmatters.carrd.co/', 'display_url': 'blacklivesmatters.carrd.co', 'indices': [0, 23]}]}, 'description': {'urls': []}}, protected=False, followers_count=239, friends_count=187, listed_count=1, created_at=datetime.datetime(2018, 6, 26, 5, 44, 50), favourites_count=8056, utc_offset=None, time_zone=None, geo_enabled=True, verified=False, statuses_count=2145, lang=None, contributors_enabled=False, is_translator=False, is_translation_enabled=False, profile_background_color='F5F8FA', profile_background_image_url=None, profile_background_image_url_https=None, profile_background_tile=False, profile_image_url='http://pbs.twimg.com/profile_images/1272002397565411328/hIKJPF-7_normal.jpg', profile_image_url_https='https://pbs.twimg.com/profile_images/1272002397565411328/hIKJPF-7_normal.jpg', profile_banner_url='https://pbs.twimg.com/profile_banners/1011485415331659776/1592705974', profile_link_color='1DA1F2', profile_sidebar_border_color='C0DEED', profile_sidebar_fill_color='DDEEF6', profile_text_color='333333', profile_use_background_image=True, has_extended_profile=False, default_profile=True, default_profile_image=False, following=False, follow_request_sent=False, notifications=False, translator_type='none'), user=User(_api=<tweepy.api.API object at 0x7fa1c6d13490>, _json={'id': 1011485415331659776, 'id_str': '1011485415331659776', 'name': '✰ jassel real', 'screen_name': 'yvettexo__', 'location': '', 'description': '', 'url': 'https://t.co/ScNVY4VxD2', 'entities': {'url': {'urls': [{'url': 'https://t.co/ScNVY4VxD2', 'expanded_url': 'https://blacklivesmatters.carrd.co/', 'display_url': 'blacklivesmatters.carrd.co', 'indices': [0, 23]}]}, 'description': {'urls': []}}, 'protected': False, 'followers_count': 239, 'friends_count': 187, 'listed_count': 1, 'created_at': 'Tue Jun 26 05:44:50 +0000 2018', 'favourites_count': 8056, 'utc_offset': None, 'time_zone': None, 'geo_enabled': True, 'verified': False, 'statuses_count': 2145, 'lang': None, 'contributors_enabled': False, 'is_translator': False, 'is_translation_enabled': False, 'profile_background_color': 'F5F8FA', 'profile_background_image_url': None, 'profile_background_image_url_https': None, 'profile_background_tile': False, 'profile_image_url': 'http://pbs.twimg.com/profile_images/1272002397565411328/hIKJPF-7_normal.jpg', 'profile_image_url_https': 'https://pbs.twimg.com/profile_images/1272002397565411328/hIKJPF-7_normal.jpg', 'profile_banner_url': 'https://pbs.twimg.com/profile_banners/1011485415331659776/1592705974', 'profile_link_color': '1DA1F2', 'profile_sidebar_border_color': 'C0DEED', 'profile_sidebar_fill_color': 'DDEEF6', 'profile_text_color': '333333', 'profile_use_background_image': True, 'has_extended_profile': False, 'default_profile': True, 'default_profile_image': False, 'following': False, 'follow_request_sent': False, 'notifications': False, 'translator_type': 'none'}, id=1011485415331659776, id_str='1011485415331659776', name='✰ jassel real', screen_name='yvettexo__', location='', description='', url='https://t.co/ScNVY4VxD2', entities={'url': {'urls': [{'url': 'https://t.co/ScNVY4VxD2', 'expanded_url': 'https://blacklivesmatters.carrd.co/', 'display_url': 'blacklivesmatters.carrd.co', 'indices': [0, 23]}]}, 'description': {'urls': []}}, protected=False, followers_count=239, friends_count=187, listed_count=1, created_at=datetime.datetime(2018, 6, 26, 5, 44, 50), favourites_count=8056, utc_offset=None, time_zone=None, geo_enabled=True, verified=False, statuses_count=2145, lang=None, contributors_enabled=False, is_translator=False, is_translation_enabled=False, profile_background_color='F5F8FA', profile_background_image_url=None, profile_background_image_url_https=None, profile_background_tile=False, profile_image_url='http://pbs.twimg.com/profile_images/1272002397565411328/hIKJPF-7_normal.jpg', profile_image_url_https='https://pbs.twimg.com/profile_images/1272002397565411328/hIKJPF-7_normal.jpg', profile_banner_url='https://pbs.twimg.com/profile_banners/1011485415331659776/1592705974', profile_link_color='1DA1F2', profile_sidebar_border_color='C0DEED', profile_sidebar_fill_color='DDEEF6', profile_text_color='333333', profile_use_background_image=True, has_extended_profile=False, default_profile=True, default_profile_image=False, following=False, follow_request_sent=False, notifications=False, translator_type='none'), geo=None, coordinates=None, place=None, contributors=None, retweeted_status=Status(_api=<tweepy.api.API object at 0x7fa1c6d13490>, _json={'created_at': 'Tue Jun 23 05:57:44 +0000 2020', 'id': 1275307027808436224, 'id_str': '1275307027808436224', 'text': 'People who know that certain companies are supporting Trump’s campaign and still decide to buy from them blows my f… https://t.co/QBRs3frXsf', 'truncated': True, 'entities': {'hashtags': [], 'symbols': [], 'user_mentions': [], 'urls': [{'url': 'https://t.co/QBRs3frXsf', 'expanded_url': 'https://twitter.com/i/web/status/1275307027808436224', 'display_url': 'twitter.com/i/web/status/1…', 'indices': [117, 140]}]}, 'metadata': {'iso_language_code': 'en', 'result_type': 'recent'}, 'source': '<a href=\"http://twitter.com/download/iphone\" rel=\"nofollow\">Twitter for iPhone</a>', 'in_reply_to_status_id': None, 'in_reply_to_status_id_str': None, 'in_reply_to_user_id': None, 'in_reply_to_user_id_str': None, 'in_reply_to_screen_name': None, 'user': {'id': 365170052, 'id_str': '365170052', 'name': 'Mireya Navarro', 'screen_name': 'mmmnavarr0', 'location': 'Downey, CA', 'description': 'just rub CBD on it | ⚢', 'url': 'https://t.co/YfOlKUeoYk', 'entities': {'url': {'urls': [{'url': 'https://t.co/YfOlKUeoYk', 'expanded_url': 'https://m.youtube.com/mireyanavarro', 'display_url': 'm.youtube.com/mireyanavarro', 'indices': [0, 23]}]}, 'description': {'urls': []}}, 'protected': False, 'followers_count': 963, 'friends_count': 540, 'listed_count': 3, 'created_at': 'Tue Aug 30 23:57:26 +0000 2011', 'favourites_count': 16393, 'utc_offset': None, 'time_zone': None, 'geo_enabled': True, 'verified': False, 'statuses_count': 37979, 'lang': None, 'contributors_enabled': False, 'is_translator': False, 'is_translation_enabled': False, 'profile_background_color': 'C0DEED', 'profile_background_image_url': 'http://abs.twimg.com/images/themes/theme1/bg.png', 'profile_background_image_url_https': 'https://abs.twimg.com/images/themes/theme1/bg.png', 'profile_background_tile': True, 'profile_image_url': 'http://pbs.twimg.com/profile_images/1247695189428146177/1M_oaAkH_normal.jpg', 'profile_image_url_https': 'https://pbs.twimg.com/profile_images/1247695189428146177/1M_oaAkH_normal.jpg', 'profile_banner_url': 'https://pbs.twimg.com/profile_banners/365170052/1534455589', 'profile_link_color': 'F50808', 'profile_sidebar_border_color': 'FF7B00', 'profile_sidebar_fill_color': 'B3B3B3', 'profile_text_color': 'FA0303', 'profile_use_background_image': True, 'has_extended_profile': True, 'default_profile': False, 'default_profile_image': False, 'following': False, 'follow_request_sent': False, 'notifications': False, 'translator_type': 'none'}, 'geo': None, 'coordinates': None, 'place': None, 'contributors': None, 'is_quote_status': False, 'retweet_count': 7, 'favorite_count': 7, 'favorited': False, 'retweeted': False, 'lang': 'en'}, created_at=datetime.datetime(2020, 6, 23, 5, 57, 44), id=1275307027808436224, id_str='1275307027808436224', text='People who know that certain companies are supporting Trump’s campaign and still decide to buy from them blows my f… https://t.co/QBRs3frXsf', truncated=True, entities={'hashtags': [], 'symbols': [], 'user_mentions': [], 'urls': [{'url': 'https://t.co/QBRs3frXsf', 'expanded_url': 'https://twitter.com/i/web/status/1275307027808436224', 'display_url': 'twitter.com/i/web/status/1…', 'indices': [117, 140]}]}, metadata={'iso_language_code': 'en', 'result_type': 'recent'}, source='Twitter for iPhone', source_url='http://twitter.com/download/iphone', in_reply_to_status_id=None, in_reply_to_status_id_str=None, in_reply_to_user_id=None, in_reply_to_user_id_str=None, in_reply_to_screen_name=None, author=User(_api=<tweepy.api.API object at 0x7fa1c6d13490>, _json={'id': 365170052, 'id_str': '365170052', 'name': 'Mireya Navarro', 'screen_name': 'mmmnavarr0', 'location': 'Downey, CA', 'description': 'just rub CBD on it | ⚢', 'url': 'https://t.co/YfOlKUeoYk', 'entities': {'url': {'urls': [{'url': 'https://t.co/YfOlKUeoYk', 'expanded_url': 'https://m.youtube.com/mireyanavarro', 'display_url': 'm.youtube.com/mireyanavarro', 'indices': [0, 23]}]}, 'description': {'urls': []}}, 'protected': False, 'followers_count': 963, 'friends_count': 540, 'listed_count': 3, 'created_at': 'Tue Aug 30 23:57:26 +0000 2011', 'favourites_count': 16393, 'utc_offset': None, 'time_zone': None, 'geo_enabled': True, 'verified': False, 'statuses_count': 37979, 'lang': None, 'contributors_enabled': False, 'is_translator': False, 'is_translation_enabled': False, 'profile_background_color': 'C0DEED', 'profile_background_image_url': 'http://abs.twimg.com/images/themes/theme1/bg.png', 'profile_background_image_url_https': 'https://abs.twimg.com/images/themes/theme1/bg.png', 'profile_background_tile': True, 'profile_image_url': 'http://pbs.twimg.com/profile_images/1247695189428146177/1M_oaAkH_normal.jpg', 'profile_image_url_https': 'https://pbs.twimg.com/profile_images/1247695189428146177/1M_oaAkH_normal.jpg', 'profile_banner_url': 'https://pbs.twimg.com/profile_banners/365170052/1534455589', 'profile_link_color': 'F50808', 'profile_sidebar_border_color': 'FF7B00', 'profile_sidebar_fill_color': 'B3B3B3', 'profile_text_color': 'FA0303', 'profile_use_background_image': True, 'has_extended_profile': True, 'default_profile': False, 'default_profile_image': False, 'following': False, 'follow_request_sent': False, 'notifications': False, 'translator_type': 'none'}, id=365170052, id_str='365170052', name='Mireya Navarro', screen_name='mmmnavarr0', location='Downey, CA', description='just rub CBD on it | ⚢', url='https://t.co/YfOlKUeoYk', entities={'url': {'urls': [{'url': 'https://t.co/YfOlKUeoYk', 'expanded_url': 'https://m.youtube.com/mireyanavarro', 'display_url': 'm.youtube.com/mireyanavarro', 'indices': [0, 23]}]}, 'description': {'urls': []}}, protected=False, followers_count=963, friends_count=540, listed_count=3, created_at=datetime.datetime(2011, 8, 30, 23, 57, 26), favourites_count=16393, utc_offset=None, time_zone=None, geo_enabled=True, verified=False, statuses_count=37979, lang=None, contributors_enabled=False, is_translator=False, is_translation_enabled=False, profile_background_color='C0DEED', profile_background_image_url='http://abs.twimg.com/images/themes/theme1/bg.png', profile_background_image_url_https='https://abs.twimg.com/images/themes/theme1/bg.png', profile_background_tile=True, profile_image_url='http://pbs.twimg.com/profile_images/1247695189428146177/1M_oaAkH_normal.jpg', profile_image_url_https='https://pbs.twimg.com/profile_images/1247695189428146177/1M_oaAkH_normal.jpg', profile_banner_url='https://pbs.twimg.com/profile_banners/365170052/1534455589', profile_link_color='F50808', profile_sidebar_border_color='FF7B00', profile_sidebar_fill_color='B3B3B3', profile_text_color='FA0303', profile_use_background_image=True, has_extended_profile=True, default_profile=False, default_profile_image=False, following=False, follow_request_sent=False, notifications=False, translator_type='none'), user=User(_api=<tweepy.api.API object at 0x7fa1c6d13490>, _json={'id': 365170052, 'id_str': '365170052', 'name': 'Mireya Navarro', 'screen_name': 'mmmnavarr0', 'location': 'Downey, CA', 'description': 'just rub CBD on it | ⚢', 'url': 'https://t.co/YfOlKUeoYk', 'entities': {'url': {'urls': [{'url': 'https://t.co/YfOlKUeoYk', 'expanded_url': 'https://m.youtube.com/mireyanavarro', 'display_url': 'm.youtube.com/mireyanavarro', 'indices': [0, 23]}]}, 'description': {'urls': []}}, 'protected': False, 'followers_count': 963, 'friends_count': 540, 'listed_count': 3, 'created_at': 'Tue Aug 30 23:57:26 +0000 2011', 'favourites_count': 16393, 'utc_offset': None, 'time_zone': None, 'geo_enabled': True, 'verified': False, 'statuses_count': 37979, 'lang': None, 'contributors_enabled': False, 'is_translator': False, 'is_translation_enabled': False, 'profile_background_color': 'C0DEED', 'profile_background_image_url': 'http://abs.twimg.com/images/themes/theme1/bg.png', 'profile_background_image_url_https': 'https://abs.twimg.com/images/themes/theme1/bg.png', 'profile_background_tile': True, 'profile_image_url': 'http://pbs.twimg.com/profile_images/1247695189428146177/1M_oaAkH_normal.jpg', 'profile_image_url_https': 'https://pbs.twimg.com/profile_images/1247695189428146177/1M_oaAkH_normal.jpg', 'profile_banner_url': 'https://pbs.twimg.com/profile_banners/365170052/1534455589', 'profile_link_color': 'F50808', 'profile_sidebar_border_color': 'FF7B00', 'profile_sidebar_fill_color': 'B3B3B3', 'profile_text_color': 'FA0303', 'profile_use_background_image': True, 'has_extended_profile': True, 'default_profile': False, 'default_profile_image': False, 'following': False, 'follow_request_sent': False, 'notifications': False, 'translator_type': 'none'}, id=365170052, id_str='365170052', name='Mireya Navarro', screen_name='mmmnavarr0', location='Downey, CA', description='just rub CBD on it | ⚢', url='https://t.co/YfOlKUeoYk', entities={'url': {'urls': [{'url': 'https://t.co/YfOlKUeoYk', 'expanded_url': 'https://m.youtube.com/mireyanavarro', 'display_url': 'm.youtube.com/mireyanavarro', 'indices': [0, 23]}]}, 'description': {'urls': []}}, protected=False, followers_count=963, friends_count=540, listed_count=3, created_at=datetime.datetime(2011, 8, 30, 23, 57, 26), favourites_count=16393, utc_offset=None, time_zone=None, geo_enabled=True, verified=False, statuses_count=37979, lang=None, contributors_enabled=False, is_translator=False, is_translation_enabled=False, profile_background_color='C0DEED', profile_background_image_url='http://abs.twimg.com/images/themes/theme1/bg.png', profile_background_image_url_https='https://abs.twimg.com/images/themes/theme1/bg.png', profile_background_tile=True, profile_image_url='http://pbs.twimg.com/profile_images/1247695189428146177/1M_oaAkH_normal.jpg', profile_image_url_https='https://pbs.twimg.com/profile_images/1247695189428146177/1M_oaAkH_normal.jpg', profile_banner_url='https://pbs.twimg.com/profile_banners/365170052/1534455589', profile_link_color='F50808', profile_sidebar_border_color='FF7B00', profile_sidebar_fill_color='B3B3B3', profile_text_color='FA0303', profile_use_background_image=True, has_extended_profile=True, default_profile=False, default_profile_image=False, following=False, follow_request_sent=False, notifications=False, translator_type='none'), geo=None, coordinates=None, place=None, contributors=None, is_quote_status=False, retweet_count=7, favorite_count=7, favorited=False, retweeted=False, lang='en'), is_quote_status=False, retweet_count=7, favorite_count=0, favorited=False, retweeted=False, lang='en'), Status(_api=<tweepy.api.API object at 0x7fa1c6d13490>, _json={'created_at': 'Tue Jun 23 16:14:43 +0000 2020', 'id': 1275462298598064131, 'id_str': '1275462298598064131', 'text': 'RT @Yamiche: President Trump is confirming that he wants coronavirus testing to be slowed. He said, \"By having more tests we have more case…', 'truncated': False, 'entities': {'hashtags': [], 'symbols': [], 'user_mentions': [{'screen_name': 'Yamiche', 'name': 'Yamiche Alcindor', 'id': 89887215, 'id_str': '89887215', 'indices': [3, 11]}], 'urls': []}, 'metadata': {'iso_language_code': 'en', 'result_type': 'recent'}, 'source': '<a href=\"http://twitter.com/download/iphone\" rel=\"nofollow\">Twitter for iPhone</a>', 'in_reply_to_status_id': None, 'in_reply_to_status_id_str': None, 'in_reply_to_user_id': None, 'in_reply_to_user_id_str': None, 'in_reply_to_screen_name': None, 'user': {'id': 325291661, 'id_str': '325291661', 'name': 'Janet Caruthers', 'screen_name': 'jazejan', 'location': '', 'description': '', 'url': None, 'entities': {'description': {'urls': []}}, 'protected': False, 'followers_count': 52, 'friends_count': 291, 'listed_count': 4, 'created_at': 'Tue Jun 28 01:59:07 +0000 2011', 'favourites_count': 29150, 'utc_offset': None, 'time_zone': None, 'geo_enabled': True, 'verified': False, 'statuses_count': 19747, 'lang': None, 'contributors_enabled': False, 'is_translator': False, 'is_translation_enabled': False, 'profile_background_color': 'C0DEED', 'profile_background_image_url': 'http://abs.twimg.com/images/themes/theme1/bg.png', 'profile_background_image_url_https': 'https://abs.twimg.com/images/themes/theme1/bg.png', 'profile_background_tile': False, 'profile_image_url': 'http://abs.twimg.com/sticky/default_profile_images/default_profile_normal.png', 'profile_image_url_https': 'https://abs.twimg.com/sticky/default_profile_images/default_profile_normal.png', 'profile_link_color': '1DA1F2', 'profile_sidebar_border_color': 'C0DEED', 'profile_sidebar_fill_color': 'DDEEF6', 'profile_text_color': '333333', 'profile_use_background_image': True, 'has_extended_profile': True, 'default_profile': True, 'default_profile_image': True, 'following': False, 'follow_request_sent': False, 'notifications': False, 'translator_type': 'none'}, 'geo': None, 'coordinates': None, 'place': None, 'contributors': None, 'retweeted_status': {'created_at': 'Tue Jun 23 13:49:06 +0000 2020', 'id': 1275425653249265664, 'id_str': '1275425653249265664', 'text': 'President Trump is confirming that he wants coronavirus testing to be slowed. He said, \"By having more tests we hav… https://t.co/ABKTP6DASB', 'truncated': True, 'entities': {'hashtags': [], 'symbols': [], 'user_mentions': [], 'urls': [{'url': 'https://t.co/ABKTP6DASB', 'expanded_url': 'https://twitter.com/i/web/status/1275425653249265664', 'display_url': 'twitter.com/i/web/status/1…', 'indices': [117, 140]}]}, 'metadata': {'iso_language_code': 'en', 'result_type': 'recent'}, 'source': '<a href=\"https://mobile.twitter.com\" rel=\"nofollow\">Twitter Web App</a>', 'in_reply_to_status_id': None, 'in_reply_to_status_id_str': None, 'in_reply_to_user_id': None, 'in_reply_to_user_id_str': None, 'in_reply_to_screen_name': None, 'user': {'id': 89887215, 'id_str': '89887215', 'name': 'Yamiche Alcindor', 'screen_name': 'Yamiche', 'location': 'Washington, DC', 'description': '@PBS @NewsHour White House correspondent. @NBCNews & @MSNBC contributor. Formerly of @NYTimes & @USATODAY. Email: yamiche@newshour.org', 'url': 'https://t.co/MUiamBtq28', 'entities': {'url': {'urls': [{'url': 'https://t.co/MUiamBtq28', 'expanded_url': 'https://www.pbs.org/newshour/', 'display_url': 'pbs.org/newshour/', 'indices': [0, 23]}]}, 'description': {'urls': []}}, 'protected': False, 'followers_count': 1012262, 'friends_count': 6923, 'listed_count': 6417, 'created_at': 'Sat Nov 14 06:37:11 +0000 2009', 'favourites_count': 4483, 'utc_offset': None, 'time_zone': None, 'geo_enabled': False, 'verified': True, 'statuses_count': 34141, 'lang': None, 'contributors_enabled': False, 'is_translator': False, 'is_translation_enabled': False, 'profile_background_color': '131516', 'profile_background_image_url': 'http://abs.twimg.com/images/themes/theme14/bg.gif', 'profile_background_image_url_https': 'https://abs.twimg.com/images/themes/theme14/bg.gif', 'profile_background_tile': True, 'profile_image_url': 'http://pbs.twimg.com/profile_images/877338240180785152/u54wLMme_normal.jpg', 'profile_image_url_https': 'https://pbs.twimg.com/profile_images/877338240180785152/u54wLMme_normal.jpg', 'profile_banner_url': 'https://pbs.twimg.com/profile_banners/89887215/1417998203', 'profile_link_color': '009999', 'profile_sidebar_border_color': 'EEEEEE', 'profile_sidebar_fill_color': 'EFEFEF', 'profile_text_color': '333333', 'profile_use_background_image': True, 'has_extended_profile': False, 'default_profile': False, 'default_profile_image': False, 'following': False, 'follow_request_sent': False, 'notifications': False, 'translator_type': 'none'}, 'geo': None, 'coordinates': None, 'place': None, 'contributors': None, 'is_quote_status': False, 'retweet_count': 2908, 'favorite_count': 8244, 'favorited': False, 'retweeted': False, 'lang': 'en'}, 'is_quote_status': False, 'retweet_count': 2908, 'favorite_count': 0, 'favorited': False, 'retweeted': False, 'lang': 'en'}, created_at=datetime.datetime(2020, 6, 23, 16, 14, 43), id=1275462298598064131, id_str='1275462298598064131', text='RT @Yamiche: President Trump is confirming that he wants coronavirus testing to be slowed. He said, \"By having more tests we have more case…', truncated=False, entities={'hashtags': [], 'symbols': [], 'user_mentions': [{'screen_name': 'Yamiche', 'name': 'Yamiche Alcindor', 'id': 89887215, 'id_str': '89887215', 'indices': [3, 11]}], 'urls': []}, metadata={'iso_language_code': 'en', 'result_type': 'recent'}, source='Twitter for iPhone', source_url='http://twitter.com/download/iphone', in_reply_to_status_id=None, in_reply_to_status_id_str=None, in_reply_to_user_id=None, in_reply_to_user_id_str=None, in_reply_to_screen_name=None, author=User(_api=<tweepy.api.API object at 0x7fa1c6d13490>, _json={'id': 325291661, 'id_str': '325291661', 'name': 'Janet Caruthers', 'screen_name': 'jazejan', 'location': '', 'description': '', 'url': None, 'entities': {'description': {'urls': []}}, 'protected': False, 'followers_count': 52, 'friends_count': 291, 'listed_count': 4, 'created_at': 'Tue Jun 28 01:59:07 +0000 2011', 'favourites_count': 29150, 'utc_offset': None, 'time_zone': None, 'geo_enabled': True, 'verified': False, 'statuses_count': 19747, 'lang': None, 'contributors_enabled': False, 'is_translator': False, 'is_translation_enabled': False, 'profile_background_color': 'C0DEED', 'profile_background_image_url': 'http://abs.twimg.com/images/themes/theme1/bg.png', 'profile_background_image_url_https': 'https://abs.twimg.com/images/themes/theme1/bg.png', 'profile_background_tile': False, 'profile_image_url': 'http://abs.twimg.com/sticky/default_profile_images/default_profile_normal.png', 'profile_image_url_https': 'https://abs.twimg.com/sticky/default_profile_images/default_profile_normal.png', 'profile_link_color': '1DA1F2', 'profile_sidebar_border_color': 'C0DEED', 'profile_sidebar_fill_color': 'DDEEF6', 'profile_text_color': '333333', 'profile_use_background_image': True, 'has_extended_profile': True, 'default_profile': True, 'default_profile_image': True, 'following': False, 'follow_request_sent': False, 'notifications': False, 'translator_type': 'none'}, id=325291661, id_str='325291661', name='Janet Caruthers', screen_name='jazejan', location='', description='', url=None, entities={'description': {'urls': []}}, protected=False, followers_count=52, friends_count=291, listed_count=4, created_at=datetime.datetime(2011, 6, 28, 1, 59, 7), favourites_count=29150, utc_offset=None, time_zone=None, geo_enabled=True, verified=False, statuses_count=19747, lang=None, contributors_enabled=False, is_translator=False, is_translation_enabled=False, profile_background_color='C0DEED', profile_background_image_url='http://abs.twimg.com/images/themes/theme1/bg.png', profile_background_image_url_https='https://abs.twimg.com/images/themes/theme1/bg.png', profile_background_tile=False, profile_image_url='http://abs.twimg.com/sticky/default_profile_images/default_profile_normal.png', profile_image_url_https='https://abs.twimg.com/sticky/default_profile_images/default_profile_normal.png', profile_link_color='1DA1F2', profile_sidebar_border_color='C0DEED', profile_sidebar_fill_color='DDEEF6', profile_text_color='333333', profile_use_background_image=True, has_extended_profile=True, default_profile=True, default_profile_image=True, following=False, follow_request_sent=False, notifications=False, translator_type='none'), user=User(_api=<tweepy.api.API object at 0x7fa1c6d13490>, _json={'id': 325291661, 'id_str': '325291661', 'name': 'Janet Caruthers', 'screen_name': 'jazejan', 'location': '', 'description': '', 'url': None, 'entities': {'description': {'urls': []}}, 'protected': False, 'followers_count': 52, 'friends_count': 291, 'listed_count': 4, 'created_at': 'Tue Jun 28 01:59:07 +0000 2011', 'favourites_count': 29150, 'utc_offset': None, 'time_zone': None, 'geo_enabled': True, 'verified': False, 'statuses_count': 19747, 'lang': None, 'contributors_enabled': False, 'is_translator': False, 'is_translation_enabled': False, 'profile_background_color': 'C0DEED', 'profile_background_image_url': 'http://abs.twimg.com/images/themes/theme1/bg.png', 'profile_background_image_url_https': 'https://abs.twimg.com/images/themes/theme1/bg.png', 'profile_background_tile': False, 'profile_image_url': 'http://abs.twimg.com/sticky/default_profile_images/default_profile_normal.png', 'profile_image_url_https': 'https://abs.twimg.com/sticky/default_profile_images/default_profile_normal.png', 'profile_link_color': '1DA1F2', 'profile_sidebar_border_color': 'C0DEED', 'profile_sidebar_fill_color': 'DDEEF6', 'profile_text_color': '333333', 'profile_use_background_image': True, 'has_extended_profile': True, 'default_profile': True, 'default_profile_image': True, 'following': False, 'follow_request_sent': False, 'notifications': False, 'translator_type': 'none'}, id=325291661, id_str='325291661', name='Janet Caruthers', screen_name='jazejan', location='', description='', url=None, entities={'description': {'urls': []}}, protected=False, followers_count=52, friends_count=291, listed_count=4, created_at=datetime.datetime(2011, 6, 28, 1, 59, 7), favourites_count=29150, utc_offset=None, time_zone=None, geo_enabled=True, verified=False, statuses_count=19747, lang=None, contributors_enabled=False, is_translator=False, is_translation_enabled=False, profile_background_color='C0DEED', profile_background_image_url='http://abs.twimg.com/images/themes/theme1/bg.png', profile_background_image_url_https='https://abs.twimg.com/images/themes/theme1/bg.png', profile_background_tile=False, profile_image_url='http://abs.twimg.com/sticky/default_profile_images/default_profile_normal.png', profile_image_url_https='https://abs.twimg.com/sticky/default_profile_images/default_profile_normal.png', profile_link_color='1DA1F2', profile_sidebar_border_color='C0DEED', profile_sidebar_fill_color='DDEEF6', profile_text_color='333333', profile_use_background_image=True, has_extended_profile=True, default_profile=True, default_profile_image=True, following=False, follow_request_sent=False, notifications=False, translator_type='none'), geo=None, coordinates=None, place=None, contributors=None, retweeted_status=Status(_api=<tweepy.api.API object at 0x7fa1c6d13490>, _json={'created_at': 'Tue Jun 23 13:49:06 +0000 2020', 'id': 1275425653249265664, 'id_str': '1275425653249265664', 'text': 'President Trump is confirming that he wants coronavirus testing to be slowed. He said, \"By having more tests we hav… https://t.co/ABKTP6DASB', 'truncated': True, 'entities': {'hashtags': [], 'symbols': [], 'user_mentions': [], 'urls': [{'url': 'https://t.co/ABKTP6DASB', 'expanded_url': 'https://twitter.com/i/web/status/1275425653249265664', 'display_url': 'twitter.com/i/web/status/1…', 'indices': [117, 140]}]}, 'metadata': {'iso_language_code': 'en', 'result_type': 'recent'}, 'source': '<a href=\"https://mobile.twitter.com\" rel=\"nofollow\">Twitter Web App</a>', 'in_reply_to_status_id': None, 'in_reply_to_status_id_str': None, 'in_reply_to_user_id': None, 'in_reply_to_user_id_str': None, 'in_reply_to_screen_name': None, 'user': {'id': 89887215, 'id_str': '89887215', 'name': 'Yamiche Alcindor', 'screen_name': 'Yamiche', 'location': 'Washington, DC', 'description': '@PBS @NewsHour White House correspondent. @NBCNews & @MSNBC contributor. Formerly of @NYTimes & @USATODAY. Email: yamiche@newshour.org', 'url': 'https://t.co/MUiamBtq28', 'entities': {'url': {'urls': [{'url': 'https://t.co/MUiamBtq28', 'expanded_url': 'https://www.pbs.org/newshour/', 'display_url': 'pbs.org/newshour/', 'indices': [0, 23]}]}, 'description': {'urls': []}}, 'protected': False, 'followers_count': 1012262, 'friends_count': 6923, 'listed_count': 6417, 'created_at': 'Sat Nov 14 06:37:11 +0000 2009', 'favourites_count': 4483, 'utc_offset': None, 'time_zone': None, 'geo_enabled': False, 'verified': True, 'statuses_count': 34141, 'lang': None, 'contributors_enabled': False, 'is_translator': False, 'is_translation_enabled': False, 'profile_background_color': '131516', 'profile_background_image_url': 'http://abs.twimg.com/images/themes/theme14/bg.gif', 'profile_background_image_url_https': 'https://abs.twimg.com/images/themes/theme14/bg.gif', 'profile_background_tile': True, 'profile_image_url': 'http://pbs.twimg.com/profile_images/877338240180785152/u54wLMme_normal.jpg', 'profile_image_url_https': 'https://pbs.twimg.com/profile_images/877338240180785152/u54wLMme_normal.jpg', 'profile_banner_url': 'https://pbs.twimg.com/profile_banners/89887215/1417998203', 'profile_link_color': '009999', 'profile_sidebar_border_color': 'EEEEEE', 'profile_sidebar_fill_color': 'EFEFEF', 'profile_text_color': '333333', 'profile_use_background_image': True, 'has_extended_profile': False, 'default_profile': False, 'default_profile_image': False, 'following': False, 'follow_request_sent': False, 'notifications': False, 'translator_type': 'none'}, 'geo': None, 'coordinates': None, 'place': None, 'contributors': None, 'is_quote_status': False, 'retweet_count': 2908, 'favorite_count': 8244, 'favorited': False, 'retweeted': False, 'lang': 'en'}, created_at=datetime.datetime(2020, 6, 23, 13, 49, 6), id=1275425653249265664, id_str='1275425653249265664', text='President Trump is confirming that he wants coronavirus testing to be slowed. He said, \"By having more tests we hav… https://t.co/ABKTP6DASB', truncated=True, entities={'hashtags': [], 'symbols': [], 'user_mentions': [], 'urls': [{'url': 'https://t.co/ABKTP6DASB', 'expanded_url': 'https://twitter.com/i/web/status/1275425653249265664', 'display_url': 'twitter.com/i/web/status/1…', 'indices': [117, 140]}]}, metadata={'iso_language_code': 'en', 'result_type': 'recent'}, source='Twitter Web App', source_url='https://mobile.twitter.com', in_reply_to_status_id=None, in_reply_to_status_id_str=None, in_reply_to_user_id=None, in_reply_to_user_id_str=None, in_reply_to_screen_name=None, author=User(_api=<tweepy.api.API object at 0x7fa1c6d13490>, _json={'id': 89887215, 'id_str': '89887215', 'name': 'Yamiche Alcindor', 'screen_name': 'Yamiche', 'location': 'Washington, DC', 'description': '@PBS @NewsHour White House correspondent. @NBCNews & @MSNBC contributor. Formerly of @NYTimes & @USATODAY. Email: yamiche@newshour.org', 'url': 'https://t.co/MUiamBtq28', 'entities': {'url': {'urls': [{'url': 'https://t.co/MUiamBtq28', 'expanded_url': 'https://www.pbs.org/newshour/', 'display_url': 'pbs.org/newshour/', 'indices': [0, 23]}]}, 'description': {'urls': []}}, 'protected': False, 'followers_count': 1012262, 'friends_count': 6923, 'listed_count': 6417, 'created_at': 'Sat Nov 14 06:37:11 +0000 2009', 'favourites_count': 4483, 'utc_offset': None, 'time_zone': None, 'geo_enabled': False, 'verified': True, 'statuses_count': 34141, 'lang': None, 'contributors_enabled': False, 'is_translator': False, 'is_translation_enabled': False, 'profile_background_color': '131516', 'profile_background_image_url': 'http://abs.twimg.com/images/themes/theme14/bg.gif', 'profile_background_image_url_https': 'https://abs.twimg.com/images/themes/theme14/bg.gif', 'profile_background_tile': True, 'profile_image_url': 'http://pbs.twimg.com/profile_images/877338240180785152/u54wLMme_normal.jpg', 'profile_image_url_https': 'https://pbs.twimg.com/profile_images/877338240180785152/u54wLMme_normal.jpg', 'profile_banner_url': 'https://pbs.twimg.com/profile_banners/89887215/1417998203', 'profile_link_color': '009999', 'profile_sidebar_border_color': 'EEEEEE', 'profile_sidebar_fill_color': 'EFEFEF', 'profile_text_color': '333333', 'profile_use_background_image': True, 'has_extended_profile': False, 'default_profile': False, 'default_profile_image': False, 'following': False, 'follow_request_sent': False, 'notifications': False, 'translator_type': 'none'}, id=89887215, id_str='89887215', name='Yamiche Alcindor', screen_name='Yamiche', location='Washington, DC', description='@PBS @NewsHour White House correspondent. @NBCNews & @MSNBC contributor. Formerly of @NYTimes & @USATODAY. Email: yamiche@newshour.org', url='https://t.co/MUiamBtq28', entities={'url': {'urls': [{'url': 'https://t.co/MUiamBtq28', 'expanded_url': 'https://www.pbs.org/newshour/', 'display_url': 'pbs.org/newshour/', 'indices': [0, 23]}]}, 'description': {'urls': []}}, protected=False, followers_count=1012262, friends_count=6923, listed_count=6417, created_at=datetime.datetime(2009, 11, 14, 6, 37, 11), favourites_count=4483, utc_offset=None, time_zone=None, geo_enabled=False, verified=True, statuses_count=34141, lang=None, contributors_enabled=False, is_translator=False, is_translation_enabled=False, profile_background_color='131516', profile_background_image_url='http://abs.twimg.com/images/themes/theme14/bg.gif', profile_background_image_url_https='https://abs.twimg.com/images/themes/theme14/bg.gif', profile_background_tile=True, profile_image_url='http://pbs.twimg.com/profile_images/877338240180785152/u54wLMme_normal.jpg', profile_image_url_https='https://pbs.twimg.com/profile_images/877338240180785152/u54wLMme_normal.jpg', profile_banner_url='https://pbs.twimg.com/profile_banners/89887215/1417998203', profile_link_color='009999', profile_sidebar_border_color='EEEEEE', profile_sidebar_fill_color='EFEFEF', profile_text_color='333333', profile_use_background_image=True, has_extended_profile=False, default_profile=False, default_profile_image=False, following=False, follow_request_sent=False, notifications=False, translator_type='none'), user=User(_api=<tweepy.api.API object at 0x7fa1c6d13490>, _json={'id': 89887215, 'id_str': '89887215', 'name': 'Yamiche Alcindor', 'screen_name': 'Yamiche', 'location': 'Washington, DC', 'description': '@PBS @NewsHour White House correspondent. @NBCNews & @MSNBC contributor. Formerly of @NYTimes & @USATODAY. Email: yamiche@newshour.org', 'url': 'https://t.co/MUiamBtq28', 'entities': {'url': {'urls': [{'url': 'https://t.co/MUiamBtq28', 'expanded_url': 'https://www.pbs.org/newshour/', 'display_url': 'pbs.org/newshour/', 'indices': [0, 23]}]}, 'description': {'urls': []}}, 'protected': False, 'followers_count': 1012262, 'friends_count': 6923, 'listed_count': 6417, 'created_at': 'Sat Nov 14 06:37:11 +0000 2009', 'favourites_count': 4483, 'utc_offset': None, 'time_zone': None, 'geo_enabled': False, 'verified': True, 'statuses_count': 34141, 'lang': None, 'contributors_enabled': False, 'is_translator': False, 'is_translation_enabled': False, 'profile_background_color': '131516', 'profile_background_image_url': 'http://abs.twimg.com/images/themes/theme14/bg.gif', 'profile_background_image_url_https': 'https://abs.twimg.com/images/themes/theme14/bg.gif', 'profile_background_tile': True, 'profile_image_url': 'http://pbs.twimg.com/profile_images/877338240180785152/u54wLMme_normal.jpg', 'profile_image_url_https': 'https://pbs.twimg.com/profile_images/877338240180785152/u54wLMme_normal.jpg', 'profile_banner_url': 'https://pbs.twimg.com/profile_banners/89887215/1417998203', 'profile_link_color': '009999', 'profile_sidebar_border_color': 'EEEEEE', 'profile_sidebar_fill_color': 'EFEFEF', 'profile_text_color': '333333', 'profile_use_background_image': True, 'has_extended_profile': False, 'default_profile': False, 'default_profile_image': False, 'following': False, 'follow_request_sent': False, 'notifications': False, 'translator_type': 'none'}, id=89887215, id_str='89887215', name='Yamiche Alcindor', screen_name='Yamiche', location='Washington, DC', description='@PBS @NewsHour White House correspondent. @NBCNews & @MSNBC contributor. Formerly of @NYTimes & @USATODAY. Email: yamiche@newshour.org', url='https://t.co/MUiamBtq28', entities={'url': {'urls': [{'url': 'https://t.co/MUiamBtq28', 'expanded_url': 'https://www.pbs.org/newshour/', 'display_url': 'pbs.org/newshour/', 'indices': [0, 23]}]}, 'description': {'urls': []}}, protected=False, followers_count=1012262, friends_count=6923, listed_count=6417, created_at=datetime.datetime(2009, 11, 14, 6, 37, 11), favourites_count=4483, utc_offset=None, time_zone=None, geo_enabled=False, verified=True, statuses_count=34141, lang=None, contributors_enabled=False, is_translator=False, is_translation_enabled=False, profile_background_color='131516', profile_background_image_url='http://abs.twimg.com/images/themes/theme14/bg.gif', profile_background_image_url_https='https://abs.twimg.com/images/themes/theme14/bg.gif', profile_background_tile=True, profile_image_url='http://pbs.twimg.com/profile_images/877338240180785152/u54wLMme_normal.jpg', profile_image_url_https='https://pbs.twimg.com/profile_images/877338240180785152/u54wLMme_normal.jpg', profile_banner_url='https://pbs.twimg.com/profile_banners/89887215/1417998203', profile_link_color='009999', profile_sidebar_border_color='EEEEEE', profile_sidebar_fill_color='EFEFEF', profile_text_color='333333', profile_use_background_image=True, has_extended_profile=False, default_profile=False, default_profile_image=False, following=False, follow_request_sent=False, notifications=False, translator_type='none'), geo=None, coordinates=None, place=None, contributors=None, is_quote_status=False, retweet_count=2908, favorite_count=8244, favorited=False, retweeted=False, lang='en'), is_quote_status=False, retweet_count=2908, favorite_count=0, favorited=False, retweeted=False, lang='en'), Status(_api=<tweepy.api.API object at 0x7fa1c6d13490>, _json={'created_at': 'Tue Jun 23 16:14:43 +0000 2020', 'id': 1275462298593714177, 'id_str': '1275462298593714177', 'text': '@MollyJongFast Just like families and friends polarized by Trump.  It is the people in the group, not the issue, deciding to separate.', 'truncated': False, 'entities': {'hashtags': [], 'symbols': [], 'user_mentions': [{'screen_name': 'MollyJongFast', 'name': 'Molly Jong-Fast🏡', 'id': 14298769, 'id_str': '14298769', 'indices': [0, 14]}], 'urls': []}, 'metadata': {'iso_language_code': 'en', 'result_type': 'recent'}, 'source': '<a href=\"http://twitter.com/download/android\" rel=\"nofollow\">Twitter for Android</a>', 'in_reply_to_status_id': 1275424938384637954, 'in_reply_to_status_id_str': '1275424938384637954', 'in_reply_to_user_id': 14298769, 'in_reply_to_user_id_str': '14298769', 'in_reply_to_screen_name': 'MollyJongFast', 'user': {'id': 1268188544192794624, 'id_str': '1268188544192794624', 'name': 'Stacey An', 'screen_name': 'StaceyAn4', 'location': '', 'description': '', 'url': None, 'entities': {'description': {'urls': []}}, 'protected': False, 'followers_count': 4, 'friends_count': 63, 'listed_count': 0, 'created_at': 'Wed Jun 03 14:31:56 +0000 2020', 'favourites_count': 2096, 'utc_offset': None, 'time_zone': None, 'geo_enabled': False, 'verified': False, 'statuses_count': 1134, 'lang': None, 'contributors_enabled': False, 'is_translator': False, 'is_translation_enabled': False, 'profile_background_color': 'F5F8FA', 'profile_background_image_url': None, 'profile_background_image_url_https': None, 'profile_background_tile': False, 'profile_image_url': 'http://pbs.twimg.com/profile_images/1268189101636763649/3Ol0708v_normal.jpg', 'profile_image_url_https': 'https://pbs.twimg.com/profile_images/1268189101636763649/3Ol0708v_normal.jpg', 'profile_link_color': '1DA1F2', 'profile_sidebar_border_color': 'C0DEED', 'profile_sidebar_fill_color': 'DDEEF6', 'profile_text_color': '333333', 'profile_use_background_image': True, 'has_extended_profile': True, 'default_profile': True, 'default_profile_image': False, 'following': False, 'follow_request_sent': False, 'notifications': False, 'translator_type': 'none'}, 'geo': None, 'coordinates': None, 'place': None, 'contributors': None, 'is_quote_status': False, 'retweet_count': 0, 'favorite_count': 0, 'favorited': False, 'retweeted': False, 'lang': 'en'}, created_at=datetime.datetime(2020, 6, 23, 16, 14, 43), id=1275462298593714177, id_str='1275462298593714177', text='@MollyJongFast Just like families and friends polarized by Trump.  It is the people in the group, not the issue, deciding to separate.', truncated=False, entities={'hashtags': [], 'symbols': [], 'user_mentions': [{'screen_name': 'MollyJongFast', 'name': 'Molly Jong-Fast🏡', 'id': 14298769, 'id_str': '14298769', 'indices': [0, 14]}], 'urls': []}, metadata={'iso_language_code': 'en', 'result_type': 'recent'}, source='Twitter for Android', source_url='http://twitter.com/download/android', in_reply_to_status_id=1275424938384637954, in_reply_to_status_id_str='1275424938384637954', in_reply_to_user_id=14298769, in_reply_to_user_id_str='14298769', in_reply_to_screen_name='MollyJongFast', author=User(_api=<tweepy.api.API object at 0x7fa1c6d13490>, _json={'id': 1268188544192794624, 'id_str': '1268188544192794624', 'name': 'Stacey An', 'screen_name': 'StaceyAn4', 'location': '', 'description': '', 'url': None, 'entities': {'description': {'urls': []}}, 'protected': False, 'followers_count': 4, 'friends_count': 63, 'listed_count': 0, 'created_at': 'Wed Jun 03 14:31:56 +0000 2020', 'favourites_count': 2096, 'utc_offset': None, 'time_zone': None, 'geo_enabled': False, 'verified': False, 'statuses_count': 1134, 'lang': None, 'contributors_enabled': False, 'is_translator': False, 'is_translation_enabled': False, 'profile_background_color': 'F5F8FA', 'profile_background_image_url': None, 'profile_background_image_url_https': None, 'profile_background_tile': False, 'profile_image_url': 'http://pbs.twimg.com/profile_images/1268189101636763649/3Ol0708v_normal.jpg', 'profile_image_url_https': 'https://pbs.twimg.com/profile_images/1268189101636763649/3Ol0708v_normal.jpg', 'profile_link_color': '1DA1F2', 'profile_sidebar_border_color': 'C0DEED', 'profile_sidebar_fill_color': 'DDEEF6', 'profile_text_color': '333333', 'profile_use_background_image': True, 'has_extended_profile': True, 'default_profile': True, 'default_profile_image': False, 'following': False, 'follow_request_sent': False, 'notifications': False, 'translator_type': 'none'}, id=1268188544192794624, id_str='1268188544192794624', name='Stacey An', screen_name='StaceyAn4', location='', description='', url=None, entities={'description': {'urls': []}}, protected=False, followers_count=4, friends_count=63, listed_count=0, created_at=datetime.datetime(2020, 6, 3, 14, 31, 56), favourites_count=2096, utc_offset=None, time_zone=None, geo_enabled=False, verified=False, statuses_count=1134, lang=None, contributors_enabled=False, is_translator=False, is_translation_enabled=False, profile_background_color='F5F8FA', profile_background_image_url=None, profile_background_image_url_https=None, profile_background_tile=False, profile_image_url='http://pbs.twimg.com/profile_images/1268189101636763649/3Ol0708v_normal.jpg', profile_image_url_https='https://pbs.twimg.com/profile_images/1268189101636763649/3Ol0708v_normal.jpg', profile_link_color='1DA1F2', profile_sidebar_border_color='C0DEED', profile_sidebar_fill_color='DDEEF6', profile_text_color='333333', profile_use_background_image=True, has_extended_profile=True, default_profile=True, default_profile_image=False, following=False, follow_request_sent=False, notifications=False, translator_type='none'), user=User(_api=<tweepy.api.API object at 0x7fa1c6d13490>, _json={'id': 1268188544192794624, 'id_str': '1268188544192794624', 'name': 'Stacey An', 'screen_name': 'StaceyAn4', 'location': '', 'description': '', 'url': None, 'entities': {'description': {'urls': []}}, 'protected': False, 'followers_count': 4, 'friends_count': 63, 'listed_count': 0, 'created_at': 'Wed Jun 03 14:31:56 +0000 2020', 'favourites_count': 2096, 'utc_offset': None, 'time_zone': None, 'geo_enabled': False, 'verified': False, 'statuses_count': 1134, 'lang': None, 'contributors_enabled': False, 'is_translator': False, 'is_translation_enabled': False, 'profile_background_color': 'F5F8FA', 'profile_background_image_url': None, 'profile_background_image_url_https': None, 'profile_background_tile': False, 'profile_image_url': 'http://pbs.twimg.com/profile_images/1268189101636763649/3Ol0708v_normal.jpg', 'profile_image_url_https': 'https://pbs.twimg.com/profile_images/1268189101636763649/3Ol0708v_normal.jpg', 'profile_link_color': '1DA1F2', 'profile_sidebar_border_color': 'C0DEED', 'profile_sidebar_fill_color': 'DDEEF6', 'profile_text_color': '333333', 'profile_use_background_image': True, 'has_extended_profile': True, 'default_profile': True, 'default_profile_image': False, 'following': False, 'follow_request_sent': False, 'notifications': False, 'translator_type': 'none'}, id=1268188544192794624, id_str='1268188544192794624', name='Stacey An', screen_name='StaceyAn4', location='', description='', url=None, entities={'description': {'urls': []}}, protected=False, followers_count=4, friends_count=63, listed_count=0, created_at=datetime.datetime(2020, 6, 3, 14, 31, 56), favourites_count=2096, utc_offset=None, time_zone=None, geo_enabled=False, verified=False, statuses_count=1134, lang=None, contributors_enabled=False, is_translator=False, is_translation_enabled=False, profile_background_color='F5F8FA', profile_background_image_url=None, profile_background_image_url_https=None, profile_background_tile=False, profile_image_url='http://pbs.twimg.com/profile_images/1268189101636763649/3Ol0708v_normal.jpg', profile_image_url_https='https://pbs.twimg.com/profile_images/1268189101636763649/3Ol0708v_normal.jpg', profile_link_color='1DA1F2', profile_sidebar_border_color='C0DEED', profile_sidebar_fill_color='DDEEF6', profile_text_color='333333', profile_use_background_image=True, has_extended_profile=True, default_profile=True, default_profile_image=False, following=False, follow_request_sent=False, notifications=False, translator_type='none'), geo=None, coordinates=None, place=None, contributors=None, is_quote_status=False, retweet_count=0, favorite_count=0, favorited=False, retweeted=False, lang='en'), Status(_api=<tweepy.api.API object at 0x7fa1c6d13490>, _json={'created_at': 'Tue Jun 23 16:14:43 +0000 2020', 'id': 1275462298509832192, 'id_str': '1275462298509832192', 'text': \"@DeAnna4Congress You know the funny thing, I don't get along with rich people. I get along with the middle class an… https://t.co/M3cXxbRvzZ\", 'truncated': True, 'entities': {'hashtags': [], 'symbols': [], 'user_mentions': [{'screen_name': 'DeAnna4Congress', 'name': 'DeAnna Lorraine 🇺🇸', 'id': 16740433, 'id_str': '16740433', 'indices': [0, 16]}], 'urls': [{'url': 'https://t.co/M3cXxbRvzZ', 'expanded_url': 'https://twitter.com/i/web/status/1275462298509832192', 'display_url': 'twitter.com/i/web/status/1…', 'indices': [117, 140]}]}, 'metadata': {'iso_language_code': 'en', 'result_type': 'recent'}, 'source': '<a href=\"http://twitter.com/download/iphone\" rel=\"nofollow\">Twitter for iPhone</a>', 'in_reply_to_status_id': 1275419973935083525, 'in_reply_to_status_id_str': '1275419973935083525', 'in_reply_to_user_id': 16740433, 'in_reply_to_user_id_str': '16740433', 'in_reply_to_screen_name': 'DeAnna4Congress', 'user': {'id': 1106417432, 'id_str': '1106417432', 'name': 'I’m Not Trying to be Mean Q', 'screen_name': 'VlutherLuther', 'location': 'Washington State', 'description': 'Just a girl in the world. 61yrs. Single. Christian. Conservative. Patriot. RED is my favorite. No DM’s The Great Awakening. WWG1WGA. ❤️🇺🇸💙 #MAGA #Trump2020', 'url': None, 'entities': {'description': {'urls': []}}, 'protected': False, 'followers_count': 264, 'friends_count': 368, 'listed_count': 0, 'created_at': 'Sun Jan 20 14:42:01 +0000 2013', 'favourites_count': 4368, 'utc_offset': None, 'time_zone': None, 'geo_enabled': False, 'verified': False, 'statuses_count': 2775, 'lang': None, 'contributors_enabled': False, 'is_translator': False, 'is_translation_enabled': False, 'profile_background_color': 'C0DEED', 'profile_background_image_url': 'http://abs.twimg.com/images/themes/theme1/bg.png', 'profile_background_image_url_https': 'https://abs.twimg.com/images/themes/theme1/bg.png', 'profile_background_tile': False, 'profile_image_url': 'http://pbs.twimg.com/profile_images/1273273661760262145/Y5bsQ2qC_normal.jpg', 'profile_image_url_https': 'https://pbs.twimg.com/profile_images/1273273661760262145/Y5bsQ2qC_normal.jpg', 'profile_banner_url': 'https://pbs.twimg.com/profile_banners/1106417432/1588559040', 'profile_link_color': '1DA1F2', 'profile_sidebar_border_color': 'C0DEED', 'profile_sidebar_fill_color': 'DDEEF6', 'profile_text_color': '333333', 'profile_use_background_image': True, 'has_extended_profile': False, 'default_profile': True, 'default_profile_image': False, 'following': False, 'follow_request_sent': False, 'notifications': False, 'translator_type': 'none'}, 'geo': None, 'coordinates': None, 'place': None, 'contributors': None, 'is_quote_status': False, 'retweet_count': 0, 'favorite_count': 0, 'favorited': False, 'retweeted': False, 'lang': 'en'}, created_at=datetime.datetime(2020, 6, 23, 16, 14, 43), id=1275462298509832192, id_str='1275462298509832192', text=\"@DeAnna4Congress You know the funny thing, I don't get along with rich people. I get along with the middle class an… https://t.co/M3cXxbRvzZ\", truncated=True, entities={'hashtags': [], 'symbols': [], 'user_mentions': [{'screen_name': 'DeAnna4Congress', 'name': 'DeAnna Lorraine 🇺🇸', 'id': 16740433, 'id_str': '16740433', 'indices': [0, 16]}], 'urls': [{'url': 'https://t.co/M3cXxbRvzZ', 'expanded_url': 'https://twitter.com/i/web/status/1275462298509832192', 'display_url': 'twitter.com/i/web/status/1…', 'indices': [117, 140]}]}, metadata={'iso_language_code': 'en', 'result_type': 'recent'}, source='Twitter for iPhone', source_url='http://twitter.com/download/iphone', in_reply_to_status_id=1275419973935083525, in_reply_to_status_id_str='1275419973935083525', in_reply_to_user_id=16740433, in_reply_to_user_id_str='16740433', in_reply_to_screen_name='DeAnna4Congress', author=User(_api=<tweepy.api.API object at 0x7fa1c6d13490>, _json={'id': 1106417432, 'id_str': '1106417432', 'name': 'I’m Not Trying to be Mean Q', 'screen_name': 'VlutherLuther', 'location': 'Washington State', 'description': 'Just a girl in the world. 61yrs. Single. Christian. Conservative. Patriot. RED is my favorite. No DM’s The Great Awakening. WWG1WGA. ❤️🇺🇸💙 #MAGA #Trump2020', 'url': None, 'entities': {'description': {'urls': []}}, 'protected': False, 'followers_count': 264, 'friends_count': 368, 'listed_count': 0, 'created_at': 'Sun Jan 20 14:42:01 +0000 2013', 'favourites_count': 4368, 'utc_offset': None, 'time_zone': None, 'geo_enabled': False, 'verified': False, 'statuses_count': 2775, 'lang': None, 'contributors_enabled': False, 'is_translator': False, 'is_translation_enabled': False, 'profile_background_color': 'C0DEED', 'profile_background_image_url': 'http://abs.twimg.com/images/themes/theme1/bg.png', 'profile_background_image_url_https': 'https://abs.twimg.com/images/themes/theme1/bg.png', 'profile_background_tile': False, 'profile_image_url': 'http://pbs.twimg.com/profile_images/1273273661760262145/Y5bsQ2qC_normal.jpg', 'profile_image_url_https': 'https://pbs.twimg.com/profile_images/1273273661760262145/Y5bsQ2qC_normal.jpg', 'profile_banner_url': 'https://pbs.twimg.com/profile_banners/1106417432/1588559040', 'profile_link_color': '1DA1F2', 'profile_sidebar_border_color': 'C0DEED', 'profile_sidebar_fill_color': 'DDEEF6', 'profile_text_color': '333333', 'profile_use_background_image': True, 'has_extended_profile': False, 'default_profile': True, 'default_profile_image': False, 'following': False, 'follow_request_sent': False, 'notifications': False, 'translator_type': 'none'}, id=1106417432, id_str='1106417432', name='I’m Not Trying to be Mean Q', screen_name='VlutherLuther', location='Washington State', description='Just a girl in the world. 61yrs. Single. Christian. Conservative. Patriot. RED is my favorite. No DM’s The Great Awakening. WWG1WGA. ❤️🇺🇸💙 #MAGA #Trump2020', url=None, entities={'description': {'urls': []}}, protected=False, followers_count=264, friends_count=368, listed_count=0, created_at=datetime.datetime(2013, 1, 20, 14, 42, 1), favourites_count=4368, utc_offset=None, time_zone=None, geo_enabled=False, verified=False, statuses_count=2775, lang=None, contributors_enabled=False, is_translator=False, is_translation_enabled=False, profile_background_color='C0DEED', profile_background_image_url='http://abs.twimg.com/images/themes/theme1/bg.png', profile_background_image_url_https='https://abs.twimg.com/images/themes/theme1/bg.png', profile_background_tile=False, profile_image_url='http://pbs.twimg.com/profile_images/1273273661760262145/Y5bsQ2qC_normal.jpg', profile_image_url_https='https://pbs.twimg.com/profile_images/1273273661760262145/Y5bsQ2qC_normal.jpg', profile_banner_url='https://pbs.twimg.com/profile_banners/1106417432/1588559040', profile_link_color='1DA1F2', profile_sidebar_border_color='C0DEED', profile_sidebar_fill_color='DDEEF6', profile_text_color='333333', profile_use_background_image=True, has_extended_profile=False, default_profile=True, default_profile_image=False, following=False, follow_request_sent=False, notifications=False, translator_type='none'), user=User(_api=<tweepy.api.API object at 0x7fa1c6d13490>, _json={'id': 1106417432, 'id_str': '1106417432', 'name': 'I’m Not Trying to be Mean Q', 'screen_name': 'VlutherLuther', 'location': 'Washington State', 'description': 'Just a girl in the world. 61yrs. Single. Christian. Conservative. Patriot. RED is my favorite. No DM’s The Great Awakening. WWG1WGA. ❤️🇺🇸💙 #MAGA #Trump2020', 'url': None, 'entities': {'description': {'urls': []}}, 'protected': False, 'followers_count': 264, 'friends_count': 368, 'listed_count': 0, 'created_at': 'Sun Jan 20 14:42:01 +0000 2013', 'favourites_count': 4368, 'utc_offset': None, 'time_zone': None, 'geo_enabled': False, 'verified': False, 'statuses_count': 2775, 'lang': None, 'contributors_enabled': False, 'is_translator': False, 'is_translation_enabled': False, 'profile_background_color': 'C0DEED', 'profile_background_image_url': 'http://abs.twimg.com/images/themes/theme1/bg.png', 'profile_background_image_url_https': 'https://abs.twimg.com/images/themes/theme1/bg.png', 'profile_background_tile': False, 'profile_image_url': 'http://pbs.twimg.com/profile_images/1273273661760262145/Y5bsQ2qC_normal.jpg', 'profile_image_url_https': 'https://pbs.twimg.com/profile_images/1273273661760262145/Y5bsQ2qC_normal.jpg', 'profile_banner_url': 'https://pbs.twimg.com/profile_banners/1106417432/1588559040', 'profile_link_color': '1DA1F2', 'profile_sidebar_border_color': 'C0DEED', 'profile_sidebar_fill_color': 'DDEEF6', 'profile_text_color': '333333', 'profile_use_background_image': True, 'has_extended_profile': False, 'default_profile': True, 'default_profile_image': False, 'following': False, 'follow_request_sent': False, 'notifications': False, 'translator_type': 'none'}, id=1106417432, id_str='1106417432', name='I’m Not Trying to be Mean Q', screen_name='VlutherLuther', location='Washington State', description='Just a girl in the world. 61yrs. Single. Christian. Conservative. Patriot. RED is my favorite. No DM’s The Great Awakening. WWG1WGA. ❤️🇺🇸💙 #MAGA #Trump2020', url=None, entities={'description': {'urls': []}}, protected=False, followers_count=264, friends_count=368, listed_count=0, created_at=datetime.datetime(2013, 1, 20, 14, 42, 1), favourites_count=4368, utc_offset=None, time_zone=None, geo_enabled=False, verified=False, statuses_count=2775, lang=None, contributors_enabled=False, is_translator=False, is_translation_enabled=False, profile_background_color='C0DEED', profile_background_image_url='http://abs.twimg.com/images/themes/theme1/bg.png', profile_background_image_url_https='https://abs.twimg.com/images/themes/theme1/bg.png', profile_background_tile=False, profile_image_url='http://pbs.twimg.com/profile_images/1273273661760262145/Y5bsQ2qC_normal.jpg', profile_image_url_https='https://pbs.twimg.com/profile_images/1273273661760262145/Y5bsQ2qC_normal.jpg', profile_banner_url='https://pbs.twimg.com/profile_banners/1106417432/1588559040', profile_link_color='1DA1F2', profile_sidebar_border_color='C0DEED', profile_sidebar_fill_color='DDEEF6', profile_text_color='333333', profile_use_background_image=True, has_extended_profile=False, default_profile=True, default_profile_image=False, following=False, follow_request_sent=False, notifications=False, translator_type='none'), geo=None, coordinates=None, place=None, contributors=None, is_quote_status=False, retweet_count=0, favorite_count=0, favorited=False, retweeted=False, lang='en'), Status(_api=<tweepy.api.API object at 0x7fa1c6d13490>, _json={'created_at': 'Tue Jun 23 16:14:43 +0000 2020', 'id': 1275462298505752584, 'id_str': '1275462298505752584', 'text': 'RT @KamalaHarris: It’s critical we get to the bottom of why Trump and his crony Barr wanted former U.S. attorney Berman out so badly. What…', 'truncated': False, 'entities': {'hashtags': [], 'symbols': [], 'user_mentions': [{'screen_name': 'KamalaHarris', 'name': 'Kamala Harris', 'id': 30354991, 'id_str': '30354991', 'indices': [3, 16]}], 'urls': []}, 'metadata': {'iso_language_code': 'en', 'result_type': 'recent'}, 'source': '<a href=\"http://twitter.com/download/iphone\" rel=\"nofollow\">Twitter for iPhone</a>', 'in_reply_to_status_id': None, 'in_reply_to_status_id_str': None, 'in_reply_to_user_id': None, 'in_reply_to_user_id_str': None, 'in_reply_to_screen_name': None, 'user': {'id': 29324393, 'id_str': '29324393', 'name': 'FlourishPres', 'screen_name': 'Tito211', 'location': 'iPhone:', 'description': 'Flourish president, Sith Lord', 'url': None, 'entities': {'description': {'urls': []}}, 'protected': False, 'followers_count': 262, 'friends_count': 291, 'listed_count': 12, 'created_at': 'Mon Apr 06 23:25:24 +0000 2009', 'favourites_count': 8417, 'utc_offset': None, 'time_zone': None, 'geo_enabled': True, 'verified': False, 'statuses_count': 19228, 'lang': None, 'contributors_enabled': False, 'is_translator': False, 'is_translation_enabled': False, 'profile_background_color': '1A1B1F', 'profile_background_image_url': 'http://abs.twimg.com/images/themes/theme9/bg.gif', 'profile_background_image_url_https': 'https://abs.twimg.com/images/themes/theme9/bg.gif', 'profile_background_tile': False, 'profile_image_url': 'http://pbs.twimg.com/profile_images/1233521928088031235/m9C3V2Qs_normal.jpg', 'profile_image_url_https': 'https://pbs.twimg.com/profile_images/1233521928088031235/m9C3V2Qs_normal.jpg', 'profile_banner_url': 'https://pbs.twimg.com/profile_banners/29324393/1551967378', 'profile_link_color': '2FC2EF', 'profile_sidebar_border_color': '181A1E', 'profile_sidebar_fill_color': '252429', 'profile_text_color': '666666', 'profile_use_background_image': True, 'has_extended_profile': False, 'default_profile': False, 'default_profile_image': False, 'following': False, 'follow_request_sent': False, 'notifications': False, 'translator_type': 'none'}, 'geo': None, 'coordinates': None, 'place': None, 'contributors': None, 'retweeted_status': {'created_at': 'Tue Jun 23 00:12:01 +0000 2020', 'id': 1275220026132480001, 'id_str': '1275220026132480001', 'text': 'It’s critical we get to the bottom of why Trump and his crony Barr wanted former U.S. attorney Berman out so badly.… https://t.co/yV4RGmDOws', 'truncated': True, 'entities': {'hashtags': [], 'symbols': [], 'user_mentions': [], 'urls': [{'url': 'https://t.co/yV4RGmDOws', 'expanded_url': 'https://twitter.com/i/web/status/1275220026132480001', 'display_url': 'twitter.com/i/web/status/1…', 'indices': [117, 140]}]}, 'metadata': {'iso_language_code': 'en', 'result_type': 'recent'}, 'source': '<a href=\"https://sproutsocial.com\" rel=\"nofollow\">Sprout Social</a>', 'in_reply_to_status_id': None, 'in_reply_to_status_id_str': None, 'in_reply_to_user_id': None, 'in_reply_to_user_id_str': None, 'in_reply_to_screen_name': None, 'user': {'id': 30354991, 'id_str': '30354991', 'name': 'Kamala Harris', 'screen_name': 'KamalaHarris', 'location': 'California', 'description': 'U.S. Senator. Wife, Momala, Auntie. Still fighting for the people. She/her.', 'url': 'http://t.co/IbL01p7pYJ', 'entities': {'url': {'urls': [{'url': 'http://t.co/IbL01p7pYJ', 'expanded_url': 'http://KamalaHarris.org', 'display_url': 'KamalaHarris.org', 'indices': [0, 22]}]}, 'description': {'urls': []}}, 'protected': False, 'followers_count': 3868984, 'friends_count': 733, 'listed_count': 13457, 'created_at': 'Sat Apr 11 00:42:07 +0000 2009', 'favourites_count': 340, 'utc_offset': None, 'time_zone': None, 'geo_enabled': False, 'verified': True, 'statuses_count': 13806, 'lang': None, 'contributors_enabled': False, 'is_translator': False, 'is_translation_enabled': False, 'profile_background_color': 'FFFFFF', 'profile_background_image_url': 'http://abs.twimg.com/images/themes/theme8/bg.gif', 'profile_background_image_url_https': 'https://abs.twimg.com/images/themes/theme8/bg.gif', 'profile_background_tile': False, 'profile_image_url': 'http://pbs.twimg.com/profile_images/1093306247766515712/MBaqSY2M_normal.jpg', 'profile_image_url_https': 'https://pbs.twimg.com/profile_images/1093306247766515712/MBaqSY2M_normal.jpg', 'profile_banner_url': 'https://pbs.twimg.com/profile_banners/30354991/1553004657', 'profile_link_color': '4468A6', 'profile_sidebar_border_color': 'FFFFFF', 'profile_sidebar_fill_color': 'FFFFFF', 'profile_text_color': '333333', 'profile_use_background_image': False, 'has_extended_profile': False, 'default_profile': False, 'default_profile_image': False, 'following': False, 'follow_request_sent': False, 'notifications': False, 'translator_type': 'none'}, 'geo': None, 'coordinates': None, 'place': None, 'contributors': None, 'is_quote_status': False, 'retweet_count': 16673, 'favorite_count': 84866, 'favorited': False, 'retweeted': False, 'lang': 'en'}, 'is_quote_status': False, 'retweet_count': 16673, 'favorite_count': 0, 'favorited': False, 'retweeted': False, 'lang': 'en'}, created_at=datetime.datetime(2020, 6, 23, 16, 14, 43), id=1275462298505752584, id_str='1275462298505752584', text='RT @KamalaHarris: It’s critical we get to the bottom of why Trump and his crony Barr wanted former U.S. attorney Berman out so badly. What…', truncated=False, entities={'hashtags': [], 'symbols': [], 'user_mentions': [{'screen_name': 'KamalaHarris', 'name': 'Kamala Harris', 'id': 30354991, 'id_str': '30354991', 'indices': [3, 16]}], 'urls': []}, metadata={'iso_language_code': 'en', 'result_type': 'recent'}, source='Twitter for iPhone', source_url='http://twitter.com/download/iphone', in_reply_to_status_id=None, in_reply_to_status_id_str=None, in_reply_to_user_id=None, in_reply_to_user_id_str=None, in_reply_to_screen_name=None, author=User(_api=<tweepy.api.API object at 0x7fa1c6d13490>, _json={'id': 29324393, 'id_str': '29324393', 'name': 'FlourishPres', 'screen_name': 'Tito211', 'location': 'iPhone:', 'description': 'Flourish president, Sith Lord', 'url': None, 'entities': {'description': {'urls': []}}, 'protected': False, 'followers_count': 262, 'friends_count': 291, 'listed_count': 12, 'created_at': 'Mon Apr 06 23:25:24 +0000 2009', 'favourites_count': 8417, 'utc_offset': None, 'time_zone': None, 'geo_enabled': True, 'verified': False, 'statuses_count': 19228, 'lang': None, 'contributors_enabled': False, 'is_translator': False, 'is_translation_enabled': False, 'profile_background_color': '1A1B1F', 'profile_background_image_url': 'http://abs.twimg.com/images/themes/theme9/bg.gif', 'profile_background_image_url_https': 'https://abs.twimg.com/images/themes/theme9/bg.gif', 'profile_background_tile': False, 'profile_image_url': 'http://pbs.twimg.com/profile_images/1233521928088031235/m9C3V2Qs_normal.jpg', 'profile_image_url_https': 'https://pbs.twimg.com/profile_images/1233521928088031235/m9C3V2Qs_normal.jpg', 'profile_banner_url': 'https://pbs.twimg.com/profile_banners/29324393/1551967378', 'profile_link_color': '2FC2EF', 'profile_sidebar_border_color': '181A1E', 'profile_sidebar_fill_color': '252429', 'profile_text_color': '666666', 'profile_use_background_image': True, 'has_extended_profile': False, 'default_profile': False, 'default_profile_image': False, 'following': False, 'follow_request_sent': False, 'notifications': False, 'translator_type': 'none'}, id=29324393, id_str='29324393', name='FlourishPres', screen_name='Tito211', location='iPhone:', description='Flourish president, Sith Lord', url=None, entities={'description': {'urls': []}}, protected=False, followers_count=262, friends_count=291, listed_count=12, created_at=datetime.datetime(2009, 4, 6, 23, 25, 24), favourites_count=8417, utc_offset=None, time_zone=None, geo_enabled=True, verified=False, statuses_count=19228, lang=None, contributors_enabled=False, is_translator=False, is_translation_enabled=False, profile_background_color='1A1B1F', profile_background_image_url='http://abs.twimg.com/images/themes/theme9/bg.gif', profile_background_image_url_https='https://abs.twimg.com/images/themes/theme9/bg.gif', profile_background_tile=False, profile_image_url='http://pbs.twimg.com/profile_images/1233521928088031235/m9C3V2Qs_normal.jpg', profile_image_url_https='https://pbs.twimg.com/profile_images/1233521928088031235/m9C3V2Qs_normal.jpg', profile_banner_url='https://pbs.twimg.com/profile_banners/29324393/1551967378', profile_link_color='2FC2EF', profile_sidebar_border_color='181A1E', profile_sidebar_fill_color='252429', profile_text_color='666666', profile_use_background_image=True, has_extended_profile=False, default_profile=False, default_profile_image=False, following=False, follow_request_sent=False, notifications=False, translator_type='none'), user=User(_api=<tweepy.api.API object at 0x7fa1c6d13490>, _json={'id': 29324393, 'id_str': '29324393', 'name': 'FlourishPres', 'screen_name': 'Tito211', 'location': 'iPhone:', 'description': 'Flourish president, Sith Lord', 'url': None, 'entities': {'description': {'urls': []}}, 'protected': False, 'followers_count': 262, 'friends_count': 291, 'listed_count': 12, 'created_at': 'Mon Apr 06 23:25:24 +0000 2009', 'favourites_count': 8417, 'utc_offset': None, 'time_zone': None, 'geo_enabled': True, 'verified': False, 'statuses_count': 19228, 'lang': None, 'contributors_enabled': False, 'is_translator': False, 'is_translation_enabled': False, 'profile_background_color': '1A1B1F', 'profile_background_image_url': 'http://abs.twimg.com/images/themes/theme9/bg.gif', 'profile_background_image_url_https': 'https://abs.twimg.com/images/themes/theme9/bg.gif', 'profile_background_tile': False, 'profile_image_url': 'http://pbs.twimg.com/profile_images/1233521928088031235/m9C3V2Qs_normal.jpg', 'profile_image_url_https': 'https://pbs.twimg.com/profile_images/1233521928088031235/m9C3V2Qs_normal.jpg', 'profile_banner_url': 'https://pbs.twimg.com/profile_banners/29324393/1551967378', 'profile_link_color': '2FC2EF', 'profile_sidebar_border_color': '181A1E', 'profile_sidebar_fill_color': '252429', 'profile_text_color': '666666', 'profile_use_background_image': True, 'has_extended_profile': False, 'default_profile': False, 'default_profile_image': False, 'following': False, 'follow_request_sent': False, 'notifications': False, 'translator_type': 'none'}, id=29324393, id_str='29324393', name='FlourishPres', screen_name='Tito211', location='iPhone:', description='Flourish president, Sith Lord', url=None, entities={'description': {'urls': []}}, protected=False, followers_count=262, friends_count=291, listed_count=12, created_at=datetime.datetime(2009, 4, 6, 23, 25, 24), favourites_count=8417, utc_offset=None, time_zone=None, geo_enabled=True, verified=False, statuses_count=19228, lang=None, contributors_enabled=False, is_translator=False, is_translation_enabled=False, profile_background_color='1A1B1F', profile_background_image_url='http://abs.twimg.com/images/themes/theme9/bg.gif', profile_background_image_url_https='https://abs.twimg.com/images/themes/theme9/bg.gif', profile_background_tile=False, profile_image_url='http://pbs.twimg.com/profile_images/1233521928088031235/m9C3V2Qs_normal.jpg', profile_image_url_https='https://pbs.twimg.com/profile_images/1233521928088031235/m9C3V2Qs_normal.jpg', profile_banner_url='https://pbs.twimg.com/profile_banners/29324393/1551967378', profile_link_color='2FC2EF', profile_sidebar_border_color='181A1E', profile_sidebar_fill_color='252429', profile_text_color='666666', profile_use_background_image=True, has_extended_profile=False, default_profile=False, default_profile_image=False, following=False, follow_request_sent=False, notifications=False, translator_type='none'), geo=None, coordinates=None, place=None, contributors=None, retweeted_status=Status(_api=<tweepy.api.API object at 0x7fa1c6d13490>, _json={'created_at': 'Tue Jun 23 00:12:01 +0000 2020', 'id': 1275220026132480001, 'id_str': '1275220026132480001', 'text': 'It’s critical we get to the bottom of why Trump and his crony Barr wanted former U.S. attorney Berman out so badly.… https://t.co/yV4RGmDOws', 'truncated': True, 'entities': {'hashtags': [], 'symbols': [], 'user_mentions': [], 'urls': [{'url': 'https://t.co/yV4RGmDOws', 'expanded_url': 'https://twitter.com/i/web/status/1275220026132480001', 'display_url': 'twitter.com/i/web/status/1…', 'indices': [117, 140]}]}, 'metadata': {'iso_language_code': 'en', 'result_type': 'recent'}, 'source': '<a href=\"https://sproutsocial.com\" rel=\"nofollow\">Sprout Social</a>', 'in_reply_to_status_id': None, 'in_reply_to_status_id_str': None, 'in_reply_to_user_id': None, 'in_reply_to_user_id_str': None, 'in_reply_to_screen_name': None, 'user': {'id': 30354991, 'id_str': '30354991', 'name': 'Kamala Harris', 'screen_name': 'KamalaHarris', 'location': 'California', 'description': 'U.S. Senator. Wife, Momala, Auntie. Still fighting for the people. She/her.', 'url': 'http://t.co/IbL01p7pYJ', 'entities': {'url': {'urls': [{'url': 'http://t.co/IbL01p7pYJ', 'expanded_url': 'http://KamalaHarris.org', 'display_url': 'KamalaHarris.org', 'indices': [0, 22]}]}, 'description': {'urls': []}}, 'protected': False, 'followers_count': 3868984, 'friends_count': 733, 'listed_count': 13457, 'created_at': 'Sat Apr 11 00:42:07 +0000 2009', 'favourites_count': 340, 'utc_offset': None, 'time_zone': None, 'geo_enabled': False, 'verified': True, 'statuses_count': 13806, 'lang': None, 'contributors_enabled': False, 'is_translator': False, 'is_translation_enabled': False, 'profile_background_color': 'FFFFFF', 'profile_background_image_url': 'http://abs.twimg.com/images/themes/theme8/bg.gif', 'profile_background_image_url_https': 'https://abs.twimg.com/images/themes/theme8/bg.gif', 'profile_background_tile': False, 'profile_image_url': 'http://pbs.twimg.com/profile_images/1093306247766515712/MBaqSY2M_normal.jpg', 'profile_image_url_https': 'https://pbs.twimg.com/profile_images/1093306247766515712/MBaqSY2M_normal.jpg', 'profile_banner_url': 'https://pbs.twimg.com/profile_banners/30354991/1553004657', 'profile_link_color': '4468A6', 'profile_sidebar_border_color': 'FFFFFF', 'profile_sidebar_fill_color': 'FFFFFF', 'profile_text_color': '333333', 'profile_use_background_image': False, 'has_extended_profile': False, 'default_profile': False, 'default_profile_image': False, 'following': False, 'follow_request_sent': False, 'notifications': False, 'translator_type': 'none'}, 'geo': None, 'coordinates': None, 'place': None, 'contributors': None, 'is_quote_status': False, 'retweet_count': 16673, 'favorite_count': 84866, 'favorited': False, 'retweeted': False, 'lang': 'en'}, created_at=datetime.datetime(2020, 6, 23, 0, 12, 1), id=1275220026132480001, id_str='1275220026132480001', text='It’s critical we get to the bottom of why Trump and his crony Barr wanted former U.S. attorney Berman out so badly.… https://t.co/yV4RGmDOws', truncated=True, entities={'hashtags': [], 'symbols': [], 'user_mentions': [], 'urls': [{'url': 'https://t.co/yV4RGmDOws', 'expanded_url': 'https://twitter.com/i/web/status/1275220026132480001', 'display_url': 'twitter.com/i/web/status/1…', 'indices': [117, 140]}]}, metadata={'iso_language_code': 'en', 'result_type': 'recent'}, source='Sprout Social', source_url='https://sproutsocial.com', in_reply_to_status_id=None, in_reply_to_status_id_str=None, in_reply_to_user_id=None, in_reply_to_user_id_str=None, in_reply_to_screen_name=None, author=User(_api=<tweepy.api.API object at 0x7fa1c6d13490>, _json={'id': 30354991, 'id_str': '30354991', 'name': 'Kamala Harris', 'screen_name': 'KamalaHarris', 'location': 'California', 'description': 'U.S. Senator. Wife, Momala, Auntie. Still fighting for the people. She/her.', 'url': 'http://t.co/IbL01p7pYJ', 'entities': {'url': {'urls': [{'url': 'http://t.co/IbL01p7pYJ', 'expanded_url': 'http://KamalaHarris.org', 'display_url': 'KamalaHarris.org', 'indices': [0, 22]}]}, 'description': {'urls': []}}, 'protected': False, 'followers_count': 3868984, 'friends_count': 733, 'listed_count': 13457, 'created_at': 'Sat Apr 11 00:42:07 +0000 2009', 'favourites_count': 340, 'utc_offset': None, 'time_zone': None, 'geo_enabled': False, 'verified': True, 'statuses_count': 13806, 'lang': None, 'contributors_enabled': False, 'is_translator': False, 'is_translation_enabled': False, 'profile_background_color': 'FFFFFF', 'profile_background_image_url': 'http://abs.twimg.com/images/themes/theme8/bg.gif', 'profile_background_image_url_https': 'https://abs.twimg.com/images/themes/theme8/bg.gif', 'profile_background_tile': False, 'profile_image_url': 'http://pbs.twimg.com/profile_images/1093306247766515712/MBaqSY2M_normal.jpg', 'profile_image_url_https': 'https://pbs.twimg.com/profile_images/1093306247766515712/MBaqSY2M_normal.jpg', 'profile_banner_url': 'https://pbs.twimg.com/profile_banners/30354991/1553004657', 'profile_link_color': '4468A6', 'profile_sidebar_border_color': 'FFFFFF', 'profile_sidebar_fill_color': 'FFFFFF', 'profile_text_color': '333333', 'profile_use_background_image': False, 'has_extended_profile': False, 'default_profile': False, 'default_profile_image': False, 'following': False, 'follow_request_sent': False, 'notifications': False, 'translator_type': 'none'}, id=30354991, id_str='30354991', name='Kamala Harris', screen_name='KamalaHarris', location='California', description='U.S. Senator. Wife, Momala, Auntie. Still fighting for the people. She/her.', url='http://t.co/IbL01p7pYJ', entities={'url': {'urls': [{'url': 'http://t.co/IbL01p7pYJ', 'expanded_url': 'http://KamalaHarris.org', 'display_url': 'KamalaHarris.org', 'indices': [0, 22]}]}, 'description': {'urls': []}}, protected=False, followers_count=3868984, friends_count=733, listed_count=13457, created_at=datetime.datetime(2009, 4, 11, 0, 42, 7), favourites_count=340, utc_offset=None, time_zone=None, geo_enabled=False, verified=True, statuses_count=13806, lang=None, contributors_enabled=False, is_translator=False, is_translation_enabled=False, profile_background_color='FFFFFF', profile_background_image_url='http://abs.twimg.com/images/themes/theme8/bg.gif', profile_background_image_url_https='https://abs.twimg.com/images/themes/theme8/bg.gif', profile_background_tile=False, profile_image_url='http://pbs.twimg.com/profile_images/1093306247766515712/MBaqSY2M_normal.jpg', profile_image_url_https='https://pbs.twimg.com/profile_images/1093306247766515712/MBaqSY2M_normal.jpg', profile_banner_url='https://pbs.twimg.com/profile_banners/30354991/1553004657', profile_link_color='4468A6', profile_sidebar_border_color='FFFFFF', profile_sidebar_fill_color='FFFFFF', profile_text_color='333333', profile_use_background_image=False, has_extended_profile=False, default_profile=False, default_profile_image=False, following=False, follow_request_sent=False, notifications=False, translator_type='none'), user=User(_api=<tweepy.api.API object at 0x7fa1c6d13490>, _json={'id': 30354991, 'id_str': '30354991', 'name': 'Kamala Harris', 'screen_name': 'KamalaHarris', 'location': 'California', 'description': 'U.S. Senator. Wife, Momala, Auntie. Still fighting for the people. She/her.', 'url': 'http://t.co/IbL01p7pYJ', 'entities': {'url': {'urls': [{'url': 'http://t.co/IbL01p7pYJ', 'expanded_url': 'http://KamalaHarris.org', 'display_url': 'KamalaHarris.org', 'indices': [0, 22]}]}, 'description': {'urls': []}}, 'protected': False, 'followers_count': 3868984, 'friends_count': 733, 'listed_count': 13457, 'created_at': 'Sat Apr 11 00:42:07 +0000 2009', 'favourites_count': 340, 'utc_offset': None, 'time_zone': None, 'geo_enabled': False, 'verified': True, 'statuses_count': 13806, 'lang': None, 'contributors_enabled': False, 'is_translator': False, 'is_translation_enabled': False, 'profile_background_color': 'FFFFFF', 'profile_background_image_url': 'http://abs.twimg.com/images/themes/theme8/bg.gif', 'profile_background_image_url_https': 'https://abs.twimg.com/images/themes/theme8/bg.gif', 'profile_background_tile': False, 'profile_image_url': 'http://pbs.twimg.com/profile_images/1093306247766515712/MBaqSY2M_normal.jpg', 'profile_image_url_https': 'https://pbs.twimg.com/profile_images/1093306247766515712/MBaqSY2M_normal.jpg', 'profile_banner_url': 'https://pbs.twimg.com/profile_banners/30354991/1553004657', 'profile_link_color': '4468A6', 'profile_sidebar_border_color': 'FFFFFF', 'profile_sidebar_fill_color': 'FFFFFF', 'profile_text_color': '333333', 'profile_use_background_image': False, 'has_extended_profile': False, 'default_profile': False, 'default_profile_image': False, 'following': False, 'follow_request_sent': False, 'notifications': False, 'translator_type': 'none'}, id=30354991, id_str='30354991', name='Kamala Harris', screen_name='KamalaHarris', location='California', description='U.S. Senator. Wife, Momala, Auntie. Still fighting for the people. She/her.', url='http://t.co/IbL01p7pYJ', entities={'url': {'urls': [{'url': 'http://t.co/IbL01p7pYJ', 'expanded_url': 'http://KamalaHarris.org', 'display_url': 'KamalaHarris.org', 'indices': [0, 22]}]}, 'description': {'urls': []}}, protected=False, followers_count=3868984, friends_count=733, listed_count=13457, created_at=datetime.datetime(2009, 4, 11, 0, 42, 7), favourites_count=340, utc_offset=None, time_zone=None, geo_enabled=False, verified=True, statuses_count=13806, lang=None, contributors_enabled=False, is_translator=False, is_translation_enabled=False, profile_background_color='FFFFFF', profile_background_image_url='http://abs.twimg.com/images/themes/theme8/bg.gif', profile_background_image_url_https='https://abs.twimg.com/images/themes/theme8/bg.gif', profile_background_tile=False, profile_image_url='http://pbs.twimg.com/profile_images/1093306247766515712/MBaqSY2M_normal.jpg', profile_image_url_https='https://pbs.twimg.com/profile_images/1093306247766515712/MBaqSY2M_normal.jpg', profile_banner_url='https://pbs.twimg.com/profile_banners/30354991/1553004657', profile_link_color='4468A6', profile_sidebar_border_color='FFFFFF', profile_sidebar_fill_color='FFFFFF', profile_text_color='333333', profile_use_background_image=False, has_extended_profile=False, default_profile=False, default_profile_image=False, following=False, follow_request_sent=False, notifications=False, translator_type='none'), geo=None, coordinates=None, place=None, contributors=None, is_quote_status=False, retweet_count=16673, favorite_count=84866, favorited=False, retweeted=False, lang='en'), is_quote_status=False, retweet_count=16673, favorite_count=0, favorited=False, retweeted=False, lang='en')]\n"
     ]
    }
   ],
   "source": [
    "print(public_tweets)"
   ]
  },
  {
   "cell_type": "code",
   "execution_count": 11,
   "metadata": {},
   "outputs": [
    {
     "name": "stdout",
     "output_type": "stream",
     "text": [
      "@GOP @TeamTrump Enthusiasm for Trump ??? ah ah ah  !!!! https://t.co/jW9QTqQQOu\n",
      "RT @PetrSvab: Some @Facebook content moderators were recorded as saying that they delete anything #conservative or pro-#Trump.\n",
      "Some, it app…\n",
      "@lisastark351 yes that what Trump does  !!\n",
      "this is why his weight is down😂🤣😅\n",
      "RT @CNN: They've helped South Korean stars dominate charts and break records on social media.\n",
      "\n",
      "Now, some K-pop fans are claiming another vi…\n",
      "@JoeyAlan_ep @ToilsomeOlive 3/13/20, by signing The Emergency Powers Act, president Trump Lost total executive cont… https://t.co/UTjm2h8uG5\n",
      "RT @TommyG: 1/ENDGAME THREAD\n",
      " \n",
      "Wanna know what this war is about? Wanna know how this movie ends? Wanna know what Trump’s plan is? \n",
      "\n",
      "I thin…\n",
      "RT @pjbowles4: Our darling friend @Sheerglee1 was on the 1st row at the Tulsa Trump Rally!! Then, she appeared on the front page of the Wal…\n",
      "RT @Atrios: trump is bad but i am so mad at all you for promoting these nevertrump conservative assholes who are just less stupid versions…\n",
      "@ChaiMike26 @craigmelvin @Yamiche He is highlighting the fact that media likes to highlight the # of confirmed case… https://t.co/97sSPxxmoY\n",
      "RT @VanityFair: Trump campaign manager Brad Parscale is planning to step down, @GabrielSherman reports: “He knows he can’t survive,” says a…\n",
      "RT @mmmnavarr0: People who know that certain companies are supporting Trump’s campaign and still decide to buy from them blows my fucking m…\n",
      "RT @Yamiche: President Trump is confirming that he wants coronavirus testing to be slowed. He said, \"By having more tests we have more case…\n",
      "@MollyJongFast Just like families and friends polarized by Trump.  It is the people in the group, not the issue, deciding to separate.\n",
      "@DeAnna4Congress You know the funny thing, I don't get along with rich people. I get along with the middle class an… https://t.co/M3cXxbRvzZ\n",
      "RT @KamalaHarris: It’s critical we get to the bottom of why Trump and his crony Barr wanted former U.S. attorney Berman out so badly. What…\n"
     ]
    }
   ],
   "source": [
    "for tweet in public_tweets:\n",
    "    print(tweet.text)"
   ]
  },
  {
   "cell_type": "code",
   "execution_count": 12,
   "metadata": {},
   "outputs": [],
   "source": [
    "from textblob import TextBlob"
   ]
  },
  {
   "cell_type": "code",
   "execution_count": 13,
   "metadata": {},
   "outputs": [
    {
     "name": "stdout",
     "output_type": "stream",
     "text": [
      "@GOP @TeamTrump Enthusiasm for Trump ??? ah ah ah  !!!! https://t.co/jW9QTqQQOu\n",
      "Sentiment(polarity=0.0, subjectivity=0.0)\n",
      "\n",
      "RT @PetrSvab: Some @Facebook content moderators were recorded as saying that they delete anything #conservative or pro-#Trump.\n",
      "Some, it app…\n",
      "Sentiment(polarity=0.0, subjectivity=0.0)\n",
      "\n",
      "@lisastark351 yes that what Trump does  !!\n",
      "this is why his weight is down😂🤣😅\n",
      "Sentiment(polarity=0.0, subjectivity=0.0)\n",
      "\n",
      "RT @CNN: They've helped South Korean stars dominate charts and break records on social media.\n",
      "\n",
      "Now, some K-pop fans are claiming another vi…\n",
      "Sentiment(polarity=0.03333333333333333, subjectivity=0.06666666666666667)\n",
      "\n",
      "@JoeyAlan_ep @ToilsomeOlive 3/13/20, by signing The Emergency Powers Act, president Trump Lost total executive cont… https://t.co/UTjm2h8uG5\n",
      "Sentiment(polarity=0.0, subjectivity=0.75)\n",
      "\n",
      "RT @TommyG: 1/ENDGAME THREAD\n",
      " \n",
      "Wanna know what this war is about? Wanna know how this movie ends? Wanna know what Trump’s plan is? \n",
      "\n",
      "I thin…\n",
      "Sentiment(polarity=0.0, subjectivity=0.0)\n",
      "\n",
      "RT @pjbowles4: Our darling friend @Sheerglee1 was on the 1st row at the Tulsa Trump Rally!! Then, she appeared on the front page of the Wal…\n",
      "Sentiment(polarity=0.0, subjectivity=0.0)\n",
      "\n",
      "RT @Atrios: trump is bad but i am so mad at all you for promoting these nevertrump conservative assholes who are just less stupid versions…\n",
      "Sentiment(polarity=-0.5729166666666666, subjectivity=0.6833333333333333)\n",
      "\n",
      "@ChaiMike26 @craigmelvin @Yamiche He is highlighting the fact that media likes to highlight the # of confirmed case… https://t.co/97sSPxxmoY\n",
      "Sentiment(polarity=0.4, subjectivity=1.0)\n",
      "\n",
      "RT @VanityFair: Trump campaign manager Brad Parscale is planning to step down, @GabrielSherman reports: “He knows he can’t survive,” says a…\n",
      "Sentiment(polarity=-0.15555555555555559, subjectivity=0.2888888888888889)\n",
      "\n",
      "RT @mmmnavarr0: People who know that certain companies are supporting Trump’s campaign and still decide to buy from them blows my fucking m…\n",
      "Sentiment(polarity=-0.04523809523809522, subjectivity=0.5404761904761904)\n",
      "\n",
      "RT @Yamiche: President Trump is confirming that he wants coronavirus testing to be slowed. He said, \"By having more tests we have more case…\n",
      "Sentiment(polarity=0.39999999999999997, subjectivity=0.3666666666666667)\n",
      "\n",
      "@MollyJongFast Just like families and friends polarized by Trump.  It is the people in the group, not the issue, deciding to separate.\n",
      "Sentiment(polarity=0.0, subjectivity=0.0)\n",
      "\n",
      "@DeAnna4Congress You know the funny thing, I don't get along with rich people. I get along with the middle class an… https://t.co/M3cXxbRvzZ\n",
      "Sentiment(polarity=0.20833333333333334, subjectivity=0.5833333333333334)\n",
      "\n",
      "RT @KamalaHarris: It’s critical we get to the bottom of why Trump and his crony Barr wanted former U.S. attorney Berman out so badly. What…\n",
      "Sentiment(polarity=-0.23333333333333328, subjectivity=0.48888888888888893)\n",
      "\n"
     ]
    }
   ],
   "source": [
    "for tweet in public_tweets:\n",
    "    print(tweet.text)\n",
    "    \n",
    "    #Step 4 Perform Sentiment Analysis on Tweets\n",
    "    analysis = TextBlob(tweet.text)\n",
    "    print(analysis.sentiment)\n",
    "    print(\"\")"
   ]
  },
  {
   "cell_type": "code",
   "execution_count": 14,
   "metadata": {},
   "outputs": [],
   "source": [
    "posts = api.user_timeline(screen_name=\"wesmckinn\",count = 100, lang =\"en\", tweet_mode=\"extended\")"
   ]
  },
  {
   "cell_type": "code",
   "execution_count": 15,
   "metadata": {},
   "outputs": [
    {
     "name": "stdout",
     "output_type": "stream",
     "text": [
      "0 @Mmm_JuicyFruit @ApacheArrow Faster data access, faster + more efficient data processing, fast interop with non-R systems (including Python), expanded native data types, and plenty more\n",
      "\n",
      "1 LOL about some tech journo writing a news article about a benchmark blog post\n",
      "\n",
      "https://t.co/S5Kg7BOtId\n",
      "\n",
      "2 More evidence that the future of high performance analytics will be built with @ApacheArrow. Congrats to the RAPIDS developers! https://t.co/BMAJnbQSZ3\n",
      "\n",
      "3 You know that feeling in a video game when you acquire the \"Double Jump\" and can now go to many previously unreachable parts of the castle?\n",
      "\n",
      "This happened recently in @ApacheArrow with our compute engine work, suddenly making rapid progress on many different fronts. I'm excited!\n",
      "\n",
      "4 RT @TimTeaFan: I just discovered this quote from pandas creator @wesmckinn on the back cover of @hadleywickham's “R Packages”. Nice to see…\n",
      "\n",
      "5 I'm excited about this! 4 years ago I hoped to see an open source package server, so I'm glad it's finally happening\n",
      "\n",
      "https://t.co/osIVl4Wuch https://t.co/npeTeI1mlQ\n",
      "\n",
      "6 RT @rstudio: Join us and donate https://t.co/HRTLQn3suL https://t.co/Sf2AYnfPmN\n",
      "\n",
      "7 RT @acmeducation: July 8, join @wesmckinn, creator of @pandas_dev, @IbisData, co-author of @ApacheArrow, for the #ACMTechTalk \"Apache Arrow…\n",
      "\n",
      "8 @pauldix @dhh @jasonfried You are not alone, friend.\n",
      "\n",
      "9 @ulusdd I get why MPL 2.0 is intellectually appealing. But it means that any project that depends on your project has to include an \n",
      "\n",
      "\"* disclaimer: depends on a weak copyleft source dependency\"\n",
      "\n",
      "in its licensing documentation, which gives the lawyers heart palpitations.\n",
      "\n"
     ]
    }
   ],
   "source": [
    "#print(f'MODI Tweets')\n",
    "i=0\n",
    "for tw in posts[:10]:\n",
    "    print(f'{i} {tw.full_text}\\n') \n",
    "    i +=1 \n"
   ]
  },
  {
   "cell_type": "code",
   "execution_count": 16,
   "metadata": {},
   "outputs": [
    {
     "data": {
      "application/javascript": [
       "\n",
       "        if (window._pyforest_update_imports_cell) { window._pyforest_update_imports_cell('import pandas as pd'); }\n",
       "    "
      ],
      "text/plain": [
       "<IPython.core.display.Javascript object>"
      ]
     },
     "metadata": {},
     "output_type": "display_data"
    }
   ],
   "source": [
    "df = pd.DataFrame([tw.full_text for tw in posts],columns=['Tweets'])"
   ]
  },
  {
   "cell_type": "code",
   "execution_count": 17,
   "metadata": {},
   "outputs": [
    {
     "data": {
      "text/html": [
       "<div>\n",
       "<style scoped>\n",
       "    .dataframe tbody tr th:only-of-type {\n",
       "        vertical-align: middle;\n",
       "    }\n",
       "\n",
       "    .dataframe tbody tr th {\n",
       "        vertical-align: top;\n",
       "    }\n",
       "\n",
       "    .dataframe thead th {\n",
       "        text-align: right;\n",
       "    }\n",
       "</style>\n",
       "<table border=\"1\" class=\"dataframe\">\n",
       "  <thead>\n",
       "    <tr style=\"text-align: right;\">\n",
       "      <th></th>\n",
       "      <th>Tweets</th>\n",
       "    </tr>\n",
       "  </thead>\n",
       "  <tbody>\n",
       "    <tr>\n",
       "      <th>0</th>\n",
       "      <td>@Mmm_JuicyFruit @ApacheArrow Faster data acces...</td>\n",
       "    </tr>\n",
       "    <tr>\n",
       "      <th>1</th>\n",
       "      <td>LOL about some tech journo writing a news arti...</td>\n",
       "    </tr>\n",
       "    <tr>\n",
       "      <th>2</th>\n",
       "      <td>More evidence that the future of high performa...</td>\n",
       "    </tr>\n",
       "    <tr>\n",
       "      <th>3</th>\n",
       "      <td>You know that feeling in a video game when you...</td>\n",
       "    </tr>\n",
       "    <tr>\n",
       "      <th>4</th>\n",
       "      <td>RT @TimTeaFan: I just discovered this quote fr...</td>\n",
       "    </tr>\n",
       "    <tr>\n",
       "      <th>...</th>\n",
       "      <td>...</td>\n",
       "    </tr>\n",
       "    <tr>\n",
       "      <th>95</th>\n",
       "      <td>About my feelings about open source \"user enti...</td>\n",
       "    </tr>\n",
       "    <tr>\n",
       "      <th>96</th>\n",
       "      <td>@petdance Generally people use \"Is this on the...</td>\n",
       "    </tr>\n",
       "    <tr>\n",
       "      <th>97</th>\n",
       "      <td>@tlipcon Really anything but expressing the ex...</td>\n",
       "    </tr>\n",
       "    <tr>\n",
       "      <th>98</th>\n",
       "      <td>@tlipcon It's true (and the feedback is helpfu...</td>\n",
       "    </tr>\n",
       "    <tr>\n",
       "      <th>99</th>\n",
       "      <td>RT @AkhmerovAnton: I'm disappointed to see lac...</td>\n",
       "    </tr>\n",
       "  </tbody>\n",
       "</table>\n",
       "<p>100 rows × 1 columns</p>\n",
       "</div>"
      ],
      "text/plain": [
       "                                               Tweets\n",
       "0   @Mmm_JuicyFruit @ApacheArrow Faster data acces...\n",
       "1   LOL about some tech journo writing a news arti...\n",
       "2   More evidence that the future of high performa...\n",
       "3   You know that feeling in a video game when you...\n",
       "4   RT @TimTeaFan: I just discovered this quote fr...\n",
       "..                                                ...\n",
       "95  About my feelings about open source \"user enti...\n",
       "96  @petdance Generally people use \"Is this on the...\n",
       "97  @tlipcon Really anything but expressing the ex...\n",
       "98  @tlipcon It's true (and the feedback is helpfu...\n",
       "99  RT @AkhmerovAnton: I'm disappointed to see lac...\n",
       "\n",
       "[100 rows x 1 columns]"
      ]
     },
     "execution_count": 17,
     "metadata": {},
     "output_type": "execute_result"
    }
   ],
   "source": [
    "df "
   ]
  },
  {
   "cell_type": "code",
   "execution_count": 18,
   "metadata": {},
   "outputs": [],
   "source": [
    "def cleaningText(text):\n",
    "\n",
    "    text = re.sub('@[A-Za-z0–9]+', '', text) #Removing @mentions\n",
    "    text = re.sub('#', '', text) # Removing '#' hash tag\n",
    "    text = re.sub('RT[\\s]+', '', text) # Removing RT\n",
    "    text = re.sub('https?:\\/\\/\\S+', '', text) # Removing hyperlink\n",
    "\n",
    "    return text\n"
   ]
  },
  {
   "cell_type": "code",
   "execution_count": 19,
   "metadata": {},
   "outputs": [
    {
     "data": {
      "application/javascript": [
       "\n",
       "        if (window._pyforest_update_imports_cell) { window._pyforest_update_imports_cell('import pandas as pd\\nimport re'); }\n",
       "    "
      ],
      "text/plain": [
       "<IPython.core.display.Javascript object>"
      ]
     },
     "metadata": {},
     "output_type": "display_data"
    },
    {
     "data": {
      "application/javascript": [
       "\n",
       "        if (window._pyforest_update_imports_cell) { window._pyforest_update_imports_cell('import pandas as pd\\nimport re'); }\n",
       "    "
      ],
      "text/plain": [
       "<IPython.core.display.Javascript object>"
      ]
     },
     "metadata": {},
     "output_type": "display_data"
    },
    {
     "data": {
      "application/javascript": [
       "\n",
       "        if (window._pyforest_update_imports_cell) { window._pyforest_update_imports_cell('import pandas as pd\\nimport re'); }\n",
       "    "
      ],
      "text/plain": [
       "<IPython.core.display.Javascript object>"
      ]
     },
     "metadata": {},
     "output_type": "display_data"
    },
    {
     "data": {
      "application/javascript": [
       "\n",
       "        if (window._pyforest_update_imports_cell) { window._pyforest_update_imports_cell('import pandas as pd\\nimport re'); }\n",
       "    "
      ],
      "text/plain": [
       "<IPython.core.display.Javascript object>"
      ]
     },
     "metadata": {},
     "output_type": "display_data"
    },
    {
     "data": {
      "application/javascript": [
       "\n",
       "        if (window._pyforest_update_imports_cell) { window._pyforest_update_imports_cell('import pandas as pd\\nimport re'); }\n",
       "    "
      ],
      "text/plain": [
       "<IPython.core.display.Javascript object>"
      ]
     },
     "metadata": {},
     "output_type": "display_data"
    },
    {
     "data": {
      "application/javascript": [
       "\n",
       "        if (window._pyforest_update_imports_cell) { window._pyforest_update_imports_cell('import pandas as pd\\nimport re'); }\n",
       "    "
      ],
      "text/plain": [
       "<IPython.core.display.Javascript object>"
      ]
     },
     "metadata": {},
     "output_type": "display_data"
    },
    {
     "data": {
      "application/javascript": [
       "\n",
       "        if (window._pyforest_update_imports_cell) { window._pyforest_update_imports_cell('import pandas as pd\\nimport re'); }\n",
       "    "
      ],
      "text/plain": [
       "<IPython.core.display.Javascript object>"
      ]
     },
     "metadata": {},
     "output_type": "display_data"
    },
    {
     "data": {
      "application/javascript": [
       "\n",
       "        if (window._pyforest_update_imports_cell) { window._pyforest_update_imports_cell('import pandas as pd\\nimport re'); }\n",
       "    "
      ],
      "text/plain": [
       "<IPython.core.display.Javascript object>"
      ]
     },
     "metadata": {},
     "output_type": "display_data"
    },
    {
     "data": {
      "application/javascript": [
       "\n",
       "        if (window._pyforest_update_imports_cell) { window._pyforest_update_imports_cell('import pandas as pd\\nimport re'); }\n",
       "    "
      ],
      "text/plain": [
       "<IPython.core.display.Javascript object>"
      ]
     },
     "metadata": {},
     "output_type": "display_data"
    },
    {
     "data": {
      "application/javascript": [
       "\n",
       "        if (window._pyforest_update_imports_cell) { window._pyforest_update_imports_cell('import pandas as pd\\nimport re'); }\n",
       "    "
      ],
      "text/plain": [
       "<IPython.core.display.Javascript object>"
      ]
     },
     "metadata": {},
     "output_type": "display_data"
    },
    {
     "data": {
      "application/javascript": [
       "\n",
       "        if (window._pyforest_update_imports_cell) { window._pyforest_update_imports_cell('import pandas as pd\\nimport re'); }\n",
       "    "
      ],
      "text/plain": [
       "<IPython.core.display.Javascript object>"
      ]
     },
     "metadata": {},
     "output_type": "display_data"
    },
    {
     "data": {
      "application/javascript": [
       "\n",
       "        if (window._pyforest_update_imports_cell) { window._pyforest_update_imports_cell('import pandas as pd\\nimport re'); }\n",
       "    "
      ],
      "text/plain": [
       "<IPython.core.display.Javascript object>"
      ]
     },
     "metadata": {},
     "output_type": "display_data"
    },
    {
     "data": {
      "application/javascript": [
       "\n",
       "        if (window._pyforest_update_imports_cell) { window._pyforest_update_imports_cell('import pandas as pd\\nimport re'); }\n",
       "    "
      ],
      "text/plain": [
       "<IPython.core.display.Javascript object>"
      ]
     },
     "metadata": {},
     "output_type": "display_data"
    },
    {
     "data": {
      "application/javascript": [
       "\n",
       "        if (window._pyforest_update_imports_cell) { window._pyforest_update_imports_cell('import pandas as pd\\nimport re'); }\n",
       "    "
      ],
      "text/plain": [
       "<IPython.core.display.Javascript object>"
      ]
     },
     "metadata": {},
     "output_type": "display_data"
    },
    {
     "data": {
      "application/javascript": [
       "\n",
       "        if (window._pyforest_update_imports_cell) { window._pyforest_update_imports_cell('import pandas as pd\\nimport re'); }\n",
       "    "
      ],
      "text/plain": [
       "<IPython.core.display.Javascript object>"
      ]
     },
     "metadata": {},
     "output_type": "display_data"
    },
    {
     "data": {
      "application/javascript": [
       "\n",
       "        if (window._pyforest_update_imports_cell) { window._pyforest_update_imports_cell('import pandas as pd\\nimport re'); }\n",
       "    "
      ],
      "text/plain": [
       "<IPython.core.display.Javascript object>"
      ]
     },
     "metadata": {},
     "output_type": "display_data"
    },
    {
     "data": {
      "application/javascript": [
       "\n",
       "        if (window._pyforest_update_imports_cell) { window._pyforest_update_imports_cell('import pandas as pd\\nimport re'); }\n",
       "    "
      ],
      "text/plain": [
       "<IPython.core.display.Javascript object>"
      ]
     },
     "metadata": {},
     "output_type": "display_data"
    },
    {
     "data": {
      "application/javascript": [
       "\n",
       "        if (window._pyforest_update_imports_cell) { window._pyforest_update_imports_cell('import pandas as pd\\nimport re'); }\n",
       "    "
      ],
      "text/plain": [
       "<IPython.core.display.Javascript object>"
      ]
     },
     "metadata": {},
     "output_type": "display_data"
    },
    {
     "data": {
      "application/javascript": [
       "\n",
       "        if (window._pyforest_update_imports_cell) { window._pyforest_update_imports_cell('import pandas as pd\\nimport re'); }\n",
       "    "
      ],
      "text/plain": [
       "<IPython.core.display.Javascript object>"
      ]
     },
     "metadata": {},
     "output_type": "display_data"
    },
    {
     "data": {
      "application/javascript": [
       "\n",
       "        if (window._pyforest_update_imports_cell) { window._pyforest_update_imports_cell('import pandas as pd\\nimport re'); }\n",
       "    "
      ],
      "text/plain": [
       "<IPython.core.display.Javascript object>"
      ]
     },
     "metadata": {},
     "output_type": "display_data"
    },
    {
     "data": {
      "application/javascript": [
       "\n",
       "        if (window._pyforest_update_imports_cell) { window._pyforest_update_imports_cell('import pandas as pd\\nimport re'); }\n",
       "    "
      ],
      "text/plain": [
       "<IPython.core.display.Javascript object>"
      ]
     },
     "metadata": {},
     "output_type": "display_data"
    },
    {
     "data": {
      "application/javascript": [
       "\n",
       "        if (window._pyforest_update_imports_cell) { window._pyforest_update_imports_cell('import pandas as pd\\nimport re'); }\n",
       "    "
      ],
      "text/plain": [
       "<IPython.core.display.Javascript object>"
      ]
     },
     "metadata": {},
     "output_type": "display_data"
    },
    {
     "data": {
      "application/javascript": [
       "\n",
       "        if (window._pyforest_update_imports_cell) { window._pyforest_update_imports_cell('import pandas as pd\\nimport re'); }\n",
       "    "
      ],
      "text/plain": [
       "<IPython.core.display.Javascript object>"
      ]
     },
     "metadata": {},
     "output_type": "display_data"
    },
    {
     "data": {
      "application/javascript": [
       "\n",
       "        if (window._pyforest_update_imports_cell) { window._pyforest_update_imports_cell('import pandas as pd\\nimport re'); }\n",
       "    "
      ],
      "text/plain": [
       "<IPython.core.display.Javascript object>"
      ]
     },
     "metadata": {},
     "output_type": "display_data"
    },
    {
     "data": {
      "application/javascript": [
       "\n",
       "        if (window._pyforest_update_imports_cell) { window._pyforest_update_imports_cell('import pandas as pd\\nimport re'); }\n",
       "    "
      ],
      "text/plain": [
       "<IPython.core.display.Javascript object>"
      ]
     },
     "metadata": {},
     "output_type": "display_data"
    },
    {
     "data": {
      "application/javascript": [
       "\n",
       "        if (window._pyforest_update_imports_cell) { window._pyforest_update_imports_cell('import pandas as pd\\nimport re'); }\n",
       "    "
      ],
      "text/plain": [
       "<IPython.core.display.Javascript object>"
      ]
     },
     "metadata": {},
     "output_type": "display_data"
    },
    {
     "data": {
      "application/javascript": [
       "\n",
       "        if (window._pyforest_update_imports_cell) { window._pyforest_update_imports_cell('import pandas as pd\\nimport re'); }\n",
       "    "
      ],
      "text/plain": [
       "<IPython.core.display.Javascript object>"
      ]
     },
     "metadata": {},
     "output_type": "display_data"
    },
    {
     "data": {
      "application/javascript": [
       "\n",
       "        if (window._pyforest_update_imports_cell) { window._pyforest_update_imports_cell('import pandas as pd\\nimport re'); }\n",
       "    "
      ],
      "text/plain": [
       "<IPython.core.display.Javascript object>"
      ]
     },
     "metadata": {},
     "output_type": "display_data"
    },
    {
     "data": {
      "application/javascript": [
       "\n",
       "        if (window._pyforest_update_imports_cell) { window._pyforest_update_imports_cell('import pandas as pd\\nimport re'); }\n",
       "    "
      ],
      "text/plain": [
       "<IPython.core.display.Javascript object>"
      ]
     },
     "metadata": {},
     "output_type": "display_data"
    },
    {
     "data": {
      "application/javascript": [
       "\n",
       "        if (window._pyforest_update_imports_cell) { window._pyforest_update_imports_cell('import pandas as pd\\nimport re'); }\n",
       "    "
      ],
      "text/plain": [
       "<IPython.core.display.Javascript object>"
      ]
     },
     "metadata": {},
     "output_type": "display_data"
    },
    {
     "data": {
      "application/javascript": [
       "\n",
       "        if (window._pyforest_update_imports_cell) { window._pyforest_update_imports_cell('import pandas as pd\\nimport re'); }\n",
       "    "
      ],
      "text/plain": [
       "<IPython.core.display.Javascript object>"
      ]
     },
     "metadata": {},
     "output_type": "display_data"
    },
    {
     "data": {
      "application/javascript": [
       "\n",
       "        if (window._pyforest_update_imports_cell) { window._pyforest_update_imports_cell('import pandas as pd\\nimport re'); }\n",
       "    "
      ],
      "text/plain": [
       "<IPython.core.display.Javascript object>"
      ]
     },
     "metadata": {},
     "output_type": "display_data"
    },
    {
     "data": {
      "application/javascript": [
       "\n",
       "        if (window._pyforest_update_imports_cell) { window._pyforest_update_imports_cell('import pandas as pd\\nimport re'); }\n",
       "    "
      ],
      "text/plain": [
       "<IPython.core.display.Javascript object>"
      ]
     },
     "metadata": {},
     "output_type": "display_data"
    },
    {
     "data": {
      "application/javascript": [
       "\n",
       "        if (window._pyforest_update_imports_cell) { window._pyforest_update_imports_cell('import pandas as pd\\nimport re'); }\n",
       "    "
      ],
      "text/plain": [
       "<IPython.core.display.Javascript object>"
      ]
     },
     "metadata": {},
     "output_type": "display_data"
    },
    {
     "data": {
      "application/javascript": [
       "\n",
       "        if (window._pyforest_update_imports_cell) { window._pyforest_update_imports_cell('import pandas as pd\\nimport re'); }\n",
       "    "
      ],
      "text/plain": [
       "<IPython.core.display.Javascript object>"
      ]
     },
     "metadata": {},
     "output_type": "display_data"
    },
    {
     "data": {
      "application/javascript": [
       "\n",
       "        if (window._pyforest_update_imports_cell) { window._pyforest_update_imports_cell('import pandas as pd\\nimport re'); }\n",
       "    "
      ],
      "text/plain": [
       "<IPython.core.display.Javascript object>"
      ]
     },
     "metadata": {},
     "output_type": "display_data"
    },
    {
     "data": {
      "application/javascript": [
       "\n",
       "        if (window._pyforest_update_imports_cell) { window._pyforest_update_imports_cell('import pandas as pd\\nimport re'); }\n",
       "    "
      ],
      "text/plain": [
       "<IPython.core.display.Javascript object>"
      ]
     },
     "metadata": {},
     "output_type": "display_data"
    },
    {
     "data": {
      "application/javascript": [
       "\n",
       "        if (window._pyforest_update_imports_cell) { window._pyforest_update_imports_cell('import pandas as pd\\nimport re'); }\n",
       "    "
      ],
      "text/plain": [
       "<IPython.core.display.Javascript object>"
      ]
     },
     "metadata": {},
     "output_type": "display_data"
    },
    {
     "data": {
      "application/javascript": [
       "\n",
       "        if (window._pyforest_update_imports_cell) { window._pyforest_update_imports_cell('import pandas as pd\\nimport re'); }\n",
       "    "
      ],
      "text/plain": [
       "<IPython.core.display.Javascript object>"
      ]
     },
     "metadata": {},
     "output_type": "display_data"
    },
    {
     "data": {
      "application/javascript": [
       "\n",
       "        if (window._pyforest_update_imports_cell) { window._pyforest_update_imports_cell('import pandas as pd\\nimport re'); }\n",
       "    "
      ],
      "text/plain": [
       "<IPython.core.display.Javascript object>"
      ]
     },
     "metadata": {},
     "output_type": "display_data"
    },
    {
     "data": {
      "application/javascript": [
       "\n",
       "        if (window._pyforest_update_imports_cell) { window._pyforest_update_imports_cell('import pandas as pd\\nimport re'); }\n",
       "    "
      ],
      "text/plain": [
       "<IPython.core.display.Javascript object>"
      ]
     },
     "metadata": {},
     "output_type": "display_data"
    },
    {
     "data": {
      "application/javascript": [
       "\n",
       "        if (window._pyforest_update_imports_cell) { window._pyforest_update_imports_cell('import pandas as pd\\nimport re'); }\n",
       "    "
      ],
      "text/plain": [
       "<IPython.core.display.Javascript object>"
      ]
     },
     "metadata": {},
     "output_type": "display_data"
    },
    {
     "data": {
      "application/javascript": [
       "\n",
       "        if (window._pyforest_update_imports_cell) { window._pyforest_update_imports_cell('import pandas as pd\\nimport re'); }\n",
       "    "
      ],
      "text/plain": [
       "<IPython.core.display.Javascript object>"
      ]
     },
     "metadata": {},
     "output_type": "display_data"
    },
    {
     "data": {
      "application/javascript": [
       "\n",
       "        if (window._pyforest_update_imports_cell) { window._pyforest_update_imports_cell('import pandas as pd\\nimport re'); }\n",
       "    "
      ],
      "text/plain": [
       "<IPython.core.display.Javascript object>"
      ]
     },
     "metadata": {},
     "output_type": "display_data"
    },
    {
     "data": {
      "application/javascript": [
       "\n",
       "        if (window._pyforest_update_imports_cell) { window._pyforest_update_imports_cell('import pandas as pd\\nimport re'); }\n",
       "    "
      ],
      "text/plain": [
       "<IPython.core.display.Javascript object>"
      ]
     },
     "metadata": {},
     "output_type": "display_data"
    },
    {
     "data": {
      "application/javascript": [
       "\n",
       "        if (window._pyforest_update_imports_cell) { window._pyforest_update_imports_cell('import pandas as pd\\nimport re'); }\n",
       "    "
      ],
      "text/plain": [
       "<IPython.core.display.Javascript object>"
      ]
     },
     "metadata": {},
     "output_type": "display_data"
    },
    {
     "data": {
      "application/javascript": [
       "\n",
       "        if (window._pyforest_update_imports_cell) { window._pyforest_update_imports_cell('import pandas as pd\\nimport re'); }\n",
       "    "
      ],
      "text/plain": [
       "<IPython.core.display.Javascript object>"
      ]
     },
     "metadata": {},
     "output_type": "display_data"
    },
    {
     "data": {
      "application/javascript": [
       "\n",
       "        if (window._pyforest_update_imports_cell) { window._pyforest_update_imports_cell('import pandas as pd\\nimport re'); }\n",
       "    "
      ],
      "text/plain": [
       "<IPython.core.display.Javascript object>"
      ]
     },
     "metadata": {},
     "output_type": "display_data"
    },
    {
     "data": {
      "application/javascript": [
       "\n",
       "        if (window._pyforest_update_imports_cell) { window._pyforest_update_imports_cell('import pandas as pd\\nimport re'); }\n",
       "    "
      ],
      "text/plain": [
       "<IPython.core.display.Javascript object>"
      ]
     },
     "metadata": {},
     "output_type": "display_data"
    },
    {
     "data": {
      "application/javascript": [
       "\n",
       "        if (window._pyforest_update_imports_cell) { window._pyforest_update_imports_cell('import pandas as pd\\nimport re'); }\n",
       "    "
      ],
      "text/plain": [
       "<IPython.core.display.Javascript object>"
      ]
     },
     "metadata": {},
     "output_type": "display_data"
    },
    {
     "data": {
      "application/javascript": [
       "\n",
       "        if (window._pyforest_update_imports_cell) { window._pyforest_update_imports_cell('import pandas as pd\\nimport re'); }\n",
       "    "
      ],
      "text/plain": [
       "<IPython.core.display.Javascript object>"
      ]
     },
     "metadata": {},
     "output_type": "display_data"
    },
    {
     "data": {
      "application/javascript": [
       "\n",
       "        if (window._pyforest_update_imports_cell) { window._pyforest_update_imports_cell('import pandas as pd\\nimport re'); }\n",
       "    "
      ],
      "text/plain": [
       "<IPython.core.display.Javascript object>"
      ]
     },
     "metadata": {},
     "output_type": "display_data"
    },
    {
     "data": {
      "application/javascript": [
       "\n",
       "        if (window._pyforest_update_imports_cell) { window._pyforest_update_imports_cell('import pandas as pd\\nimport re'); }\n",
       "    "
      ],
      "text/plain": [
       "<IPython.core.display.Javascript object>"
      ]
     },
     "metadata": {},
     "output_type": "display_data"
    },
    {
     "data": {
      "application/javascript": [
       "\n",
       "        if (window._pyforest_update_imports_cell) { window._pyforest_update_imports_cell('import pandas as pd\\nimport re'); }\n",
       "    "
      ],
      "text/plain": [
       "<IPython.core.display.Javascript object>"
      ]
     },
     "metadata": {},
     "output_type": "display_data"
    },
    {
     "data": {
      "application/javascript": [
       "\n",
       "        if (window._pyforest_update_imports_cell) { window._pyforest_update_imports_cell('import pandas as pd\\nimport re'); }\n",
       "    "
      ],
      "text/plain": [
       "<IPython.core.display.Javascript object>"
      ]
     },
     "metadata": {},
     "output_type": "display_data"
    },
    {
     "data": {
      "application/javascript": [
       "\n",
       "        if (window._pyforest_update_imports_cell) { window._pyforest_update_imports_cell('import pandas as pd\\nimport re'); }\n",
       "    "
      ],
      "text/plain": [
       "<IPython.core.display.Javascript object>"
      ]
     },
     "metadata": {},
     "output_type": "display_data"
    },
    {
     "data": {
      "application/javascript": [
       "\n",
       "        if (window._pyforest_update_imports_cell) { window._pyforest_update_imports_cell('import pandas as pd\\nimport re'); }\n",
       "    "
      ],
      "text/plain": [
       "<IPython.core.display.Javascript object>"
      ]
     },
     "metadata": {},
     "output_type": "display_data"
    },
    {
     "data": {
      "application/javascript": [
       "\n",
       "        if (window._pyforest_update_imports_cell) { window._pyforest_update_imports_cell('import pandas as pd\\nimport re'); }\n",
       "    "
      ],
      "text/plain": [
       "<IPython.core.display.Javascript object>"
      ]
     },
     "metadata": {},
     "output_type": "display_data"
    },
    {
     "data": {
      "application/javascript": [
       "\n",
       "        if (window._pyforest_update_imports_cell) { window._pyforest_update_imports_cell('import pandas as pd\\nimport re'); }\n",
       "    "
      ],
      "text/plain": [
       "<IPython.core.display.Javascript object>"
      ]
     },
     "metadata": {},
     "output_type": "display_data"
    },
    {
     "data": {
      "application/javascript": [
       "\n",
       "        if (window._pyforest_update_imports_cell) { window._pyforest_update_imports_cell('import pandas as pd\\nimport re'); }\n",
       "    "
      ],
      "text/plain": [
       "<IPython.core.display.Javascript object>"
      ]
     },
     "metadata": {},
     "output_type": "display_data"
    },
    {
     "data": {
      "application/javascript": [
       "\n",
       "        if (window._pyforest_update_imports_cell) { window._pyforest_update_imports_cell('import pandas as pd\\nimport re'); }\n",
       "    "
      ],
      "text/plain": [
       "<IPython.core.display.Javascript object>"
      ]
     },
     "metadata": {},
     "output_type": "display_data"
    },
    {
     "data": {
      "application/javascript": [
       "\n",
       "        if (window._pyforest_update_imports_cell) { window._pyforest_update_imports_cell('import pandas as pd\\nimport re'); }\n",
       "    "
      ],
      "text/plain": [
       "<IPython.core.display.Javascript object>"
      ]
     },
     "metadata": {},
     "output_type": "display_data"
    },
    {
     "data": {
      "application/javascript": [
       "\n",
       "        if (window._pyforest_update_imports_cell) { window._pyforest_update_imports_cell('import pandas as pd\\nimport re'); }\n",
       "    "
      ],
      "text/plain": [
       "<IPython.core.display.Javascript object>"
      ]
     },
     "metadata": {},
     "output_type": "display_data"
    },
    {
     "data": {
      "application/javascript": [
       "\n",
       "        if (window._pyforest_update_imports_cell) { window._pyforest_update_imports_cell('import pandas as pd\\nimport re'); }\n",
       "    "
      ],
      "text/plain": [
       "<IPython.core.display.Javascript object>"
      ]
     },
     "metadata": {},
     "output_type": "display_data"
    },
    {
     "data": {
      "application/javascript": [
       "\n",
       "        if (window._pyforest_update_imports_cell) { window._pyforest_update_imports_cell('import pandas as pd\\nimport re'); }\n",
       "    "
      ],
      "text/plain": [
       "<IPython.core.display.Javascript object>"
      ]
     },
     "metadata": {},
     "output_type": "display_data"
    },
    {
     "data": {
      "application/javascript": [
       "\n",
       "        if (window._pyforest_update_imports_cell) { window._pyforest_update_imports_cell('import pandas as pd\\nimport re'); }\n",
       "    "
      ],
      "text/plain": [
       "<IPython.core.display.Javascript object>"
      ]
     },
     "metadata": {},
     "output_type": "display_data"
    },
    {
     "data": {
      "application/javascript": [
       "\n",
       "        if (window._pyforest_update_imports_cell) { window._pyforest_update_imports_cell('import pandas as pd\\nimport re'); }\n",
       "    "
      ],
      "text/plain": [
       "<IPython.core.display.Javascript object>"
      ]
     },
     "metadata": {},
     "output_type": "display_data"
    },
    {
     "data": {
      "application/javascript": [
       "\n",
       "        if (window._pyforest_update_imports_cell) { window._pyforest_update_imports_cell('import pandas as pd\\nimport re'); }\n",
       "    "
      ],
      "text/plain": [
       "<IPython.core.display.Javascript object>"
      ]
     },
     "metadata": {},
     "output_type": "display_data"
    },
    {
     "data": {
      "application/javascript": [
       "\n",
       "        if (window._pyforest_update_imports_cell) { window._pyforest_update_imports_cell('import pandas as pd\\nimport re'); }\n",
       "    "
      ],
      "text/plain": [
       "<IPython.core.display.Javascript object>"
      ]
     },
     "metadata": {},
     "output_type": "display_data"
    },
    {
     "data": {
      "application/javascript": [
       "\n",
       "        if (window._pyforest_update_imports_cell) { window._pyforest_update_imports_cell('import pandas as pd\\nimport re'); }\n",
       "    "
      ],
      "text/plain": [
       "<IPython.core.display.Javascript object>"
      ]
     },
     "metadata": {},
     "output_type": "display_data"
    },
    {
     "data": {
      "application/javascript": [
       "\n",
       "        if (window._pyforest_update_imports_cell) { window._pyforest_update_imports_cell('import pandas as pd\\nimport re'); }\n",
       "    "
      ],
      "text/plain": [
       "<IPython.core.display.Javascript object>"
      ]
     },
     "metadata": {},
     "output_type": "display_data"
    },
    {
     "data": {
      "application/javascript": [
       "\n",
       "        if (window._pyforest_update_imports_cell) { window._pyforest_update_imports_cell('import pandas as pd\\nimport re'); }\n",
       "    "
      ],
      "text/plain": [
       "<IPython.core.display.Javascript object>"
      ]
     },
     "metadata": {},
     "output_type": "display_data"
    },
    {
     "data": {
      "application/javascript": [
       "\n",
       "        if (window._pyforest_update_imports_cell) { window._pyforest_update_imports_cell('import pandas as pd\\nimport re'); }\n",
       "    "
      ],
      "text/plain": [
       "<IPython.core.display.Javascript object>"
      ]
     },
     "metadata": {},
     "output_type": "display_data"
    },
    {
     "data": {
      "application/javascript": [
       "\n",
       "        if (window._pyforest_update_imports_cell) { window._pyforest_update_imports_cell('import pandas as pd\\nimport re'); }\n",
       "    "
      ],
      "text/plain": [
       "<IPython.core.display.Javascript object>"
      ]
     },
     "metadata": {},
     "output_type": "display_data"
    },
    {
     "data": {
      "application/javascript": [
       "\n",
       "        if (window._pyforest_update_imports_cell) { window._pyforest_update_imports_cell('import pandas as pd\\nimport re'); }\n",
       "    "
      ],
      "text/plain": [
       "<IPython.core.display.Javascript object>"
      ]
     },
     "metadata": {},
     "output_type": "display_data"
    },
    {
     "data": {
      "application/javascript": [
       "\n",
       "        if (window._pyforest_update_imports_cell) { window._pyforest_update_imports_cell('import pandas as pd\\nimport re'); }\n",
       "    "
      ],
      "text/plain": [
       "<IPython.core.display.Javascript object>"
      ]
     },
     "metadata": {},
     "output_type": "display_data"
    },
    {
     "data": {
      "application/javascript": [
       "\n",
       "        if (window._pyforest_update_imports_cell) { window._pyforest_update_imports_cell('import pandas as pd\\nimport re'); }\n",
       "    "
      ],
      "text/plain": [
       "<IPython.core.display.Javascript object>"
      ]
     },
     "metadata": {},
     "output_type": "display_data"
    },
    {
     "data": {
      "application/javascript": [
       "\n",
       "        if (window._pyforest_update_imports_cell) { window._pyforest_update_imports_cell('import pandas as pd\\nimport re'); }\n",
       "    "
      ],
      "text/plain": [
       "<IPython.core.display.Javascript object>"
      ]
     },
     "metadata": {},
     "output_type": "display_data"
    },
    {
     "data": {
      "application/javascript": [
       "\n",
       "        if (window._pyforest_update_imports_cell) { window._pyforest_update_imports_cell('import pandas as pd\\nimport re'); }\n",
       "    "
      ],
      "text/plain": [
       "<IPython.core.display.Javascript object>"
      ]
     },
     "metadata": {},
     "output_type": "display_data"
    },
    {
     "data": {
      "application/javascript": [
       "\n",
       "        if (window._pyforest_update_imports_cell) { window._pyforest_update_imports_cell('import pandas as pd\\nimport re'); }\n",
       "    "
      ],
      "text/plain": [
       "<IPython.core.display.Javascript object>"
      ]
     },
     "metadata": {},
     "output_type": "display_data"
    },
    {
     "data": {
      "application/javascript": [
       "\n",
       "        if (window._pyforest_update_imports_cell) { window._pyforest_update_imports_cell('import pandas as pd\\nimport re'); }\n",
       "    "
      ],
      "text/plain": [
       "<IPython.core.display.Javascript object>"
      ]
     },
     "metadata": {},
     "output_type": "display_data"
    },
    {
     "data": {
      "application/javascript": [
       "\n",
       "        if (window._pyforest_update_imports_cell) { window._pyforest_update_imports_cell('import pandas as pd\\nimport re'); }\n",
       "    "
      ],
      "text/plain": [
       "<IPython.core.display.Javascript object>"
      ]
     },
     "metadata": {},
     "output_type": "display_data"
    },
    {
     "data": {
      "application/javascript": [
       "\n",
       "        if (window._pyforest_update_imports_cell) { window._pyforest_update_imports_cell('import pandas as pd\\nimport re'); }\n",
       "    "
      ],
      "text/plain": [
       "<IPython.core.display.Javascript object>"
      ]
     },
     "metadata": {},
     "output_type": "display_data"
    },
    {
     "data": {
      "application/javascript": [
       "\n",
       "        if (window._pyforest_update_imports_cell) { window._pyforest_update_imports_cell('import pandas as pd\\nimport re'); }\n",
       "    "
      ],
      "text/plain": [
       "<IPython.core.display.Javascript object>"
      ]
     },
     "metadata": {},
     "output_type": "display_data"
    },
    {
     "data": {
      "application/javascript": [
       "\n",
       "        if (window._pyforest_update_imports_cell) { window._pyforest_update_imports_cell('import pandas as pd\\nimport re'); }\n",
       "    "
      ],
      "text/plain": [
       "<IPython.core.display.Javascript object>"
      ]
     },
     "metadata": {},
     "output_type": "display_data"
    },
    {
     "data": {
      "application/javascript": [
       "\n",
       "        if (window._pyforest_update_imports_cell) { window._pyforest_update_imports_cell('import pandas as pd\\nimport re'); }\n",
       "    "
      ],
      "text/plain": [
       "<IPython.core.display.Javascript object>"
      ]
     },
     "metadata": {},
     "output_type": "display_data"
    },
    {
     "data": {
      "application/javascript": [
       "\n",
       "        if (window._pyforest_update_imports_cell) { window._pyforest_update_imports_cell('import pandas as pd\\nimport re'); }\n",
       "    "
      ],
      "text/plain": [
       "<IPython.core.display.Javascript object>"
      ]
     },
     "metadata": {},
     "output_type": "display_data"
    },
    {
     "data": {
      "application/javascript": [
       "\n",
       "        if (window._pyforest_update_imports_cell) { window._pyforest_update_imports_cell('import pandas as pd\\nimport re'); }\n",
       "    "
      ],
      "text/plain": [
       "<IPython.core.display.Javascript object>"
      ]
     },
     "metadata": {},
     "output_type": "display_data"
    },
    {
     "data": {
      "application/javascript": [
       "\n",
       "        if (window._pyforest_update_imports_cell) { window._pyforest_update_imports_cell('import pandas as pd\\nimport re'); }\n",
       "    "
      ],
      "text/plain": [
       "<IPython.core.display.Javascript object>"
      ]
     },
     "metadata": {},
     "output_type": "display_data"
    },
    {
     "data": {
      "application/javascript": [
       "\n",
       "        if (window._pyforest_update_imports_cell) { window._pyforest_update_imports_cell('import pandas as pd\\nimport re'); }\n",
       "    "
      ],
      "text/plain": [
       "<IPython.core.display.Javascript object>"
      ]
     },
     "metadata": {},
     "output_type": "display_data"
    },
    {
     "data": {
      "application/javascript": [
       "\n",
       "        if (window._pyforest_update_imports_cell) { window._pyforest_update_imports_cell('import pandas as pd\\nimport re'); }\n",
       "    "
      ],
      "text/plain": [
       "<IPython.core.display.Javascript object>"
      ]
     },
     "metadata": {},
     "output_type": "display_data"
    },
    {
     "data": {
      "application/javascript": [
       "\n",
       "        if (window._pyforest_update_imports_cell) { window._pyforest_update_imports_cell('import pandas as pd\\nimport re'); }\n",
       "    "
      ],
      "text/plain": [
       "<IPython.core.display.Javascript object>"
      ]
     },
     "metadata": {},
     "output_type": "display_data"
    },
    {
     "data": {
      "application/javascript": [
       "\n",
       "        if (window._pyforest_update_imports_cell) { window._pyforest_update_imports_cell('import pandas as pd\\nimport re'); }\n",
       "    "
      ],
      "text/plain": [
       "<IPython.core.display.Javascript object>"
      ]
     },
     "metadata": {},
     "output_type": "display_data"
    },
    {
     "data": {
      "application/javascript": [
       "\n",
       "        if (window._pyforest_update_imports_cell) { window._pyforest_update_imports_cell('import pandas as pd\\nimport re'); }\n",
       "    "
      ],
      "text/plain": [
       "<IPython.core.display.Javascript object>"
      ]
     },
     "metadata": {},
     "output_type": "display_data"
    },
    {
     "data": {
      "application/javascript": [
       "\n",
       "        if (window._pyforest_update_imports_cell) { window._pyforest_update_imports_cell('import pandas as pd\\nimport re'); }\n",
       "    "
      ],
      "text/plain": [
       "<IPython.core.display.Javascript object>"
      ]
     },
     "metadata": {},
     "output_type": "display_data"
    },
    {
     "data": {
      "application/javascript": [
       "\n",
       "        if (window._pyforest_update_imports_cell) { window._pyforest_update_imports_cell('import pandas as pd\\nimport re'); }\n",
       "    "
      ],
      "text/plain": [
       "<IPython.core.display.Javascript object>"
      ]
     },
     "metadata": {},
     "output_type": "display_data"
    },
    {
     "data": {
      "application/javascript": [
       "\n",
       "        if (window._pyforest_update_imports_cell) { window._pyforest_update_imports_cell('import pandas as pd\\nimport re'); }\n",
       "    "
      ],
      "text/plain": [
       "<IPython.core.display.Javascript object>"
      ]
     },
     "metadata": {},
     "output_type": "display_data"
    },
    {
     "data": {
      "application/javascript": [
       "\n",
       "        if (window._pyforest_update_imports_cell) { window._pyforest_update_imports_cell('import pandas as pd\\nimport re'); }\n",
       "    "
      ],
      "text/plain": [
       "<IPython.core.display.Javascript object>"
      ]
     },
     "metadata": {},
     "output_type": "display_data"
    },
    {
     "data": {
      "application/javascript": [
       "\n",
       "        if (window._pyforest_update_imports_cell) { window._pyforest_update_imports_cell('import pandas as pd\\nimport re'); }\n",
       "    "
      ],
      "text/plain": [
       "<IPython.core.display.Javascript object>"
      ]
     },
     "metadata": {},
     "output_type": "display_data"
    },
    {
     "data": {
      "application/javascript": [
       "\n",
       "        if (window._pyforest_update_imports_cell) { window._pyforest_update_imports_cell('import pandas as pd\\nimport re'); }\n",
       "    "
      ],
      "text/plain": [
       "<IPython.core.display.Javascript object>"
      ]
     },
     "metadata": {},
     "output_type": "display_data"
    },
    {
     "data": {
      "application/javascript": [
       "\n",
       "        if (window._pyforest_update_imports_cell) { window._pyforest_update_imports_cell('import pandas as pd\\nimport re'); }\n",
       "    "
      ],
      "text/plain": [
       "<IPython.core.display.Javascript object>"
      ]
     },
     "metadata": {},
     "output_type": "display_data"
    },
    {
     "data": {
      "application/javascript": [
       "\n",
       "        if (window._pyforest_update_imports_cell) { window._pyforest_update_imports_cell('import pandas as pd\\nimport re'); }\n",
       "    "
      ],
      "text/plain": [
       "<IPython.core.display.Javascript object>"
      ]
     },
     "metadata": {},
     "output_type": "display_data"
    },
    {
     "data": {
      "application/javascript": [
       "\n",
       "        if (window._pyforest_update_imports_cell) { window._pyforest_update_imports_cell('import pandas as pd\\nimport re'); }\n",
       "    "
      ],
      "text/plain": [
       "<IPython.core.display.Javascript object>"
      ]
     },
     "metadata": {},
     "output_type": "display_data"
    },
    {
     "data": {
      "application/javascript": [
       "\n",
       "        if (window._pyforest_update_imports_cell) { window._pyforest_update_imports_cell('import pandas as pd\\nimport re'); }\n",
       "    "
      ],
      "text/plain": [
       "<IPython.core.display.Javascript object>"
      ]
     },
     "metadata": {},
     "output_type": "display_data"
    },
    {
     "data": {
      "application/javascript": [
       "\n",
       "        if (window._pyforest_update_imports_cell) { window._pyforest_update_imports_cell('import pandas as pd\\nimport re'); }\n",
       "    "
      ],
      "text/plain": [
       "<IPython.core.display.Javascript object>"
      ]
     },
     "metadata": {},
     "output_type": "display_data"
    },
    {
     "data": {
      "application/javascript": [
       "\n",
       "        if (window._pyforest_update_imports_cell) { window._pyforest_update_imports_cell('import pandas as pd\\nimport re'); }\n",
       "    "
      ],
      "text/plain": [
       "<IPython.core.display.Javascript object>"
      ]
     },
     "metadata": {},
     "output_type": "display_data"
    },
    {
     "data": {
      "application/javascript": [
       "\n",
       "        if (window._pyforest_update_imports_cell) { window._pyforest_update_imports_cell('import pandas as pd\\nimport re'); }\n",
       "    "
      ],
      "text/plain": [
       "<IPython.core.display.Javascript object>"
      ]
     },
     "metadata": {},
     "output_type": "display_data"
    },
    {
     "data": {
      "application/javascript": [
       "\n",
       "        if (window._pyforest_update_imports_cell) { window._pyforest_update_imports_cell('import pandas as pd\\nimport re'); }\n",
       "    "
      ],
      "text/plain": [
       "<IPython.core.display.Javascript object>"
      ]
     },
     "metadata": {},
     "output_type": "display_data"
    },
    {
     "data": {
      "application/javascript": [
       "\n",
       "        if (window._pyforest_update_imports_cell) { window._pyforest_update_imports_cell('import pandas as pd\\nimport re'); }\n",
       "    "
      ],
      "text/plain": [
       "<IPython.core.display.Javascript object>"
      ]
     },
     "metadata": {},
     "output_type": "display_data"
    },
    {
     "data": {
      "application/javascript": [
       "\n",
       "        if (window._pyforest_update_imports_cell) { window._pyforest_update_imports_cell('import pandas as pd\\nimport re'); }\n",
       "    "
      ],
      "text/plain": [
       "<IPython.core.display.Javascript object>"
      ]
     },
     "metadata": {},
     "output_type": "display_data"
    },
    {
     "data": {
      "application/javascript": [
       "\n",
       "        if (window._pyforest_update_imports_cell) { window._pyforest_update_imports_cell('import pandas as pd\\nimport re'); }\n",
       "    "
      ],
      "text/plain": [
       "<IPython.core.display.Javascript object>"
      ]
     },
     "metadata": {},
     "output_type": "display_data"
    },
    {
     "data": {
      "application/javascript": [
       "\n",
       "        if (window._pyforest_update_imports_cell) { window._pyforest_update_imports_cell('import pandas as pd\\nimport re'); }\n",
       "    "
      ],
      "text/plain": [
       "<IPython.core.display.Javascript object>"
      ]
     },
     "metadata": {},
     "output_type": "display_data"
    },
    {
     "data": {
      "application/javascript": [
       "\n",
       "        if (window._pyforest_update_imports_cell) { window._pyforest_update_imports_cell('import pandas as pd\\nimport re'); }\n",
       "    "
      ],
      "text/plain": [
       "<IPython.core.display.Javascript object>"
      ]
     },
     "metadata": {},
     "output_type": "display_data"
    },
    {
     "data": {
      "application/javascript": [
       "\n",
       "        if (window._pyforest_update_imports_cell) { window._pyforest_update_imports_cell('import pandas as pd\\nimport re'); }\n",
       "    "
      ],
      "text/plain": [
       "<IPython.core.display.Javascript object>"
      ]
     },
     "metadata": {},
     "output_type": "display_data"
    },
    {
     "data": {
      "application/javascript": [
       "\n",
       "        if (window._pyforest_update_imports_cell) { window._pyforest_update_imports_cell('import pandas as pd\\nimport re'); }\n",
       "    "
      ],
      "text/plain": [
       "<IPython.core.display.Javascript object>"
      ]
     },
     "metadata": {},
     "output_type": "display_data"
    },
    {
     "data": {
      "application/javascript": [
       "\n",
       "        if (window._pyforest_update_imports_cell) { window._pyforest_update_imports_cell('import pandas as pd\\nimport re'); }\n",
       "    "
      ],
      "text/plain": [
       "<IPython.core.display.Javascript object>"
      ]
     },
     "metadata": {},
     "output_type": "display_data"
    },
    {
     "data": {
      "application/javascript": [
       "\n",
       "        if (window._pyforest_update_imports_cell) { window._pyforest_update_imports_cell('import pandas as pd\\nimport re'); }\n",
       "    "
      ],
      "text/plain": [
       "<IPython.core.display.Javascript object>"
      ]
     },
     "metadata": {},
     "output_type": "display_data"
    },
    {
     "data": {
      "application/javascript": [
       "\n",
       "        if (window._pyforest_update_imports_cell) { window._pyforest_update_imports_cell('import pandas as pd\\nimport re'); }\n",
       "    "
      ],
      "text/plain": [
       "<IPython.core.display.Javascript object>"
      ]
     },
     "metadata": {},
     "output_type": "display_data"
    },
    {
     "data": {
      "application/javascript": [
       "\n",
       "        if (window._pyforest_update_imports_cell) { window._pyforest_update_imports_cell('import pandas as pd\\nimport re'); }\n",
       "    "
      ],
      "text/plain": [
       "<IPython.core.display.Javascript object>"
      ]
     },
     "metadata": {},
     "output_type": "display_data"
    },
    {
     "data": {
      "application/javascript": [
       "\n",
       "        if (window._pyforest_update_imports_cell) { window._pyforest_update_imports_cell('import pandas as pd\\nimport re'); }\n",
       "    "
      ],
      "text/plain": [
       "<IPython.core.display.Javascript object>"
      ]
     },
     "metadata": {},
     "output_type": "display_data"
    },
    {
     "data": {
      "application/javascript": [
       "\n",
       "        if (window._pyforest_update_imports_cell) { window._pyforest_update_imports_cell('import pandas as pd\\nimport re'); }\n",
       "    "
      ],
      "text/plain": [
       "<IPython.core.display.Javascript object>"
      ]
     },
     "metadata": {},
     "output_type": "display_data"
    },
    {
     "data": {
      "application/javascript": [
       "\n",
       "        if (window._pyforest_update_imports_cell) { window._pyforest_update_imports_cell('import pandas as pd\\nimport re'); }\n",
       "    "
      ],
      "text/plain": [
       "<IPython.core.display.Javascript object>"
      ]
     },
     "metadata": {},
     "output_type": "display_data"
    },
    {
     "data": {
      "application/javascript": [
       "\n",
       "        if (window._pyforest_update_imports_cell) { window._pyforest_update_imports_cell('import pandas as pd\\nimport re'); }\n",
       "    "
      ],
      "text/plain": [
       "<IPython.core.display.Javascript object>"
      ]
     },
     "metadata": {},
     "output_type": "display_data"
    },
    {
     "data": {
      "application/javascript": [
       "\n",
       "        if (window._pyforest_update_imports_cell) { window._pyforest_update_imports_cell('import pandas as pd\\nimport re'); }\n",
       "    "
      ],
      "text/plain": [
       "<IPython.core.display.Javascript object>"
      ]
     },
     "metadata": {},
     "output_type": "display_data"
    },
    {
     "data": {
      "application/javascript": [
       "\n",
       "        if (window._pyforest_update_imports_cell) { window._pyforest_update_imports_cell('import pandas as pd\\nimport re'); }\n",
       "    "
      ],
      "text/plain": [
       "<IPython.core.display.Javascript object>"
      ]
     },
     "metadata": {},
     "output_type": "display_data"
    },
    {
     "data": {
      "application/javascript": [
       "\n",
       "        if (window._pyforest_update_imports_cell) { window._pyforest_update_imports_cell('import pandas as pd\\nimport re'); }\n",
       "    "
      ],
      "text/plain": [
       "<IPython.core.display.Javascript object>"
      ]
     },
     "metadata": {},
     "output_type": "display_data"
    },
    {
     "data": {
      "application/javascript": [
       "\n",
       "        if (window._pyforest_update_imports_cell) { window._pyforest_update_imports_cell('import pandas as pd\\nimport re'); }\n",
       "    "
      ],
      "text/plain": [
       "<IPython.core.display.Javascript object>"
      ]
     },
     "metadata": {},
     "output_type": "display_data"
    },
    {
     "data": {
      "application/javascript": [
       "\n",
       "        if (window._pyforest_update_imports_cell) { window._pyforest_update_imports_cell('import pandas as pd\\nimport re'); }\n",
       "    "
      ],
      "text/plain": [
       "<IPython.core.display.Javascript object>"
      ]
     },
     "metadata": {},
     "output_type": "display_data"
    },
    {
     "data": {
      "application/javascript": [
       "\n",
       "        if (window._pyforest_update_imports_cell) { window._pyforest_update_imports_cell('import pandas as pd\\nimport re'); }\n",
       "    "
      ],
      "text/plain": [
       "<IPython.core.display.Javascript object>"
      ]
     },
     "metadata": {},
     "output_type": "display_data"
    },
    {
     "data": {
      "application/javascript": [
       "\n",
       "        if (window._pyforest_update_imports_cell) { window._pyforest_update_imports_cell('import pandas as pd\\nimport re'); }\n",
       "    "
      ],
      "text/plain": [
       "<IPython.core.display.Javascript object>"
      ]
     },
     "metadata": {},
     "output_type": "display_data"
    },
    {
     "data": {
      "application/javascript": [
       "\n",
       "        if (window._pyforest_update_imports_cell) { window._pyforest_update_imports_cell('import pandas as pd\\nimport re'); }\n",
       "    "
      ],
      "text/plain": [
       "<IPython.core.display.Javascript object>"
      ]
     },
     "metadata": {},
     "output_type": "display_data"
    },
    {
     "data": {
      "application/javascript": [
       "\n",
       "        if (window._pyforest_update_imports_cell) { window._pyforest_update_imports_cell('import pandas as pd\\nimport re'); }\n",
       "    "
      ],
      "text/plain": [
       "<IPython.core.display.Javascript object>"
      ]
     },
     "metadata": {},
     "output_type": "display_data"
    },
    {
     "data": {
      "application/javascript": [
       "\n",
       "        if (window._pyforest_update_imports_cell) { window._pyforest_update_imports_cell('import pandas as pd\\nimport re'); }\n",
       "    "
      ],
      "text/plain": [
       "<IPython.core.display.Javascript object>"
      ]
     },
     "metadata": {},
     "output_type": "display_data"
    },
    {
     "data": {
      "application/javascript": [
       "\n",
       "        if (window._pyforest_update_imports_cell) { window._pyforest_update_imports_cell('import pandas as pd\\nimport re'); }\n",
       "    "
      ],
      "text/plain": [
       "<IPython.core.display.Javascript object>"
      ]
     },
     "metadata": {},
     "output_type": "display_data"
    },
    {
     "data": {
      "application/javascript": [
       "\n",
       "        if (window._pyforest_update_imports_cell) { window._pyforest_update_imports_cell('import pandas as pd\\nimport re'); }\n",
       "    "
      ],
      "text/plain": [
       "<IPython.core.display.Javascript object>"
      ]
     },
     "metadata": {},
     "output_type": "display_data"
    },
    {
     "data": {
      "application/javascript": [
       "\n",
       "        if (window._pyforest_update_imports_cell) { window._pyforest_update_imports_cell('import pandas as pd\\nimport re'); }\n",
       "    "
      ],
      "text/plain": [
       "<IPython.core.display.Javascript object>"
      ]
     },
     "metadata": {},
     "output_type": "display_data"
    },
    {
     "data": {
      "application/javascript": [
       "\n",
       "        if (window._pyforest_update_imports_cell) { window._pyforest_update_imports_cell('import pandas as pd\\nimport re'); }\n",
       "    "
      ],
      "text/plain": [
       "<IPython.core.display.Javascript object>"
      ]
     },
     "metadata": {},
     "output_type": "display_data"
    },
    {
     "data": {
      "application/javascript": [
       "\n",
       "        if (window._pyforest_update_imports_cell) { window._pyforest_update_imports_cell('import pandas as pd\\nimport re'); }\n",
       "    "
      ],
      "text/plain": [
       "<IPython.core.display.Javascript object>"
      ]
     },
     "metadata": {},
     "output_type": "display_data"
    },
    {
     "data": {
      "application/javascript": [
       "\n",
       "        if (window._pyforest_update_imports_cell) { window._pyforest_update_imports_cell('import pandas as pd\\nimport re'); }\n",
       "    "
      ],
      "text/plain": [
       "<IPython.core.display.Javascript object>"
      ]
     },
     "metadata": {},
     "output_type": "display_data"
    },
    {
     "data": {
      "application/javascript": [
       "\n",
       "        if (window._pyforest_update_imports_cell) { window._pyforest_update_imports_cell('import pandas as pd\\nimport re'); }\n",
       "    "
      ],
      "text/plain": [
       "<IPython.core.display.Javascript object>"
      ]
     },
     "metadata": {},
     "output_type": "display_data"
    },
    {
     "data": {
      "application/javascript": [
       "\n",
       "        if (window._pyforest_update_imports_cell) { window._pyforest_update_imports_cell('import pandas as pd\\nimport re'); }\n",
       "    "
      ],
      "text/plain": [
       "<IPython.core.display.Javascript object>"
      ]
     },
     "metadata": {},
     "output_type": "display_data"
    },
    {
     "data": {
      "application/javascript": [
       "\n",
       "        if (window._pyforest_update_imports_cell) { window._pyforest_update_imports_cell('import pandas as pd\\nimport re'); }\n",
       "    "
      ],
      "text/plain": [
       "<IPython.core.display.Javascript object>"
      ]
     },
     "metadata": {},
     "output_type": "display_data"
    },
    {
     "data": {
      "application/javascript": [
       "\n",
       "        if (window._pyforest_update_imports_cell) { window._pyforest_update_imports_cell('import pandas as pd\\nimport re'); }\n",
       "    "
      ],
      "text/plain": [
       "<IPython.core.display.Javascript object>"
      ]
     },
     "metadata": {},
     "output_type": "display_data"
    },
    {
     "data": {
      "application/javascript": [
       "\n",
       "        if (window._pyforest_update_imports_cell) { window._pyforest_update_imports_cell('import pandas as pd\\nimport re'); }\n",
       "    "
      ],
      "text/plain": [
       "<IPython.core.display.Javascript object>"
      ]
     },
     "metadata": {},
     "output_type": "display_data"
    },
    {
     "data": {
      "application/javascript": [
       "\n",
       "        if (window._pyforest_update_imports_cell) { window._pyforest_update_imports_cell('import pandas as pd\\nimport re'); }\n",
       "    "
      ],
      "text/plain": [
       "<IPython.core.display.Javascript object>"
      ]
     },
     "metadata": {},
     "output_type": "display_data"
    },
    {
     "data": {
      "application/javascript": [
       "\n",
       "        if (window._pyforest_update_imports_cell) { window._pyforest_update_imports_cell('import pandas as pd\\nimport re'); }\n",
       "    "
      ],
      "text/plain": [
       "<IPython.core.display.Javascript object>"
      ]
     },
     "metadata": {},
     "output_type": "display_data"
    },
    {
     "data": {
      "application/javascript": [
       "\n",
       "        if (window._pyforest_update_imports_cell) { window._pyforest_update_imports_cell('import pandas as pd\\nimport re'); }\n",
       "    "
      ],
      "text/plain": [
       "<IPython.core.display.Javascript object>"
      ]
     },
     "metadata": {},
     "output_type": "display_data"
    },
    {
     "data": {
      "application/javascript": [
       "\n",
       "        if (window._pyforest_update_imports_cell) { window._pyforest_update_imports_cell('import pandas as pd\\nimport re'); }\n",
       "    "
      ],
      "text/plain": [
       "<IPython.core.display.Javascript object>"
      ]
     },
     "metadata": {},
     "output_type": "display_data"
    },
    {
     "data": {
      "application/javascript": [
       "\n",
       "        if (window._pyforest_update_imports_cell) { window._pyforest_update_imports_cell('import pandas as pd\\nimport re'); }\n",
       "    "
      ],
      "text/plain": [
       "<IPython.core.display.Javascript object>"
      ]
     },
     "metadata": {},
     "output_type": "display_data"
    },
    {
     "data": {
      "application/javascript": [
       "\n",
       "        if (window._pyforest_update_imports_cell) { window._pyforest_update_imports_cell('import pandas as pd\\nimport re'); }\n",
       "    "
      ],
      "text/plain": [
       "<IPython.core.display.Javascript object>"
      ]
     },
     "metadata": {},
     "output_type": "display_data"
    },
    {
     "data": {
      "application/javascript": [
       "\n",
       "        if (window._pyforest_update_imports_cell) { window._pyforest_update_imports_cell('import pandas as pd\\nimport re'); }\n",
       "    "
      ],
      "text/plain": [
       "<IPython.core.display.Javascript object>"
      ]
     },
     "metadata": {},
     "output_type": "display_data"
    },
    {
     "data": {
      "application/javascript": [
       "\n",
       "        if (window._pyforest_update_imports_cell) { window._pyforest_update_imports_cell('import pandas as pd\\nimport re'); }\n",
       "    "
      ],
      "text/plain": [
       "<IPython.core.display.Javascript object>"
      ]
     },
     "metadata": {},
     "output_type": "display_data"
    },
    {
     "data": {
      "application/javascript": [
       "\n",
       "        if (window._pyforest_update_imports_cell) { window._pyforest_update_imports_cell('import pandas as pd\\nimport re'); }\n",
       "    "
      ],
      "text/plain": [
       "<IPython.core.display.Javascript object>"
      ]
     },
     "metadata": {},
     "output_type": "display_data"
    },
    {
     "data": {
      "application/javascript": [
       "\n",
       "        if (window._pyforest_update_imports_cell) { window._pyforest_update_imports_cell('import pandas as pd\\nimport re'); }\n",
       "    "
      ],
      "text/plain": [
       "<IPython.core.display.Javascript object>"
      ]
     },
     "metadata": {},
     "output_type": "display_data"
    },
    {
     "data": {
      "application/javascript": [
       "\n",
       "        if (window._pyforest_update_imports_cell) { window._pyforest_update_imports_cell('import pandas as pd\\nimport re'); }\n",
       "    "
      ],
      "text/plain": [
       "<IPython.core.display.Javascript object>"
      ]
     },
     "metadata": {},
     "output_type": "display_data"
    },
    {
     "data": {
      "application/javascript": [
       "\n",
       "        if (window._pyforest_update_imports_cell) { window._pyforest_update_imports_cell('import pandas as pd\\nimport re'); }\n",
       "    "
      ],
      "text/plain": [
       "<IPython.core.display.Javascript object>"
      ]
     },
     "metadata": {},
     "output_type": "display_data"
    },
    {
     "data": {
      "application/javascript": [
       "\n",
       "        if (window._pyforest_update_imports_cell) { window._pyforest_update_imports_cell('import pandas as pd\\nimport re'); }\n",
       "    "
      ],
      "text/plain": [
       "<IPython.core.display.Javascript object>"
      ]
     },
     "metadata": {},
     "output_type": "display_data"
    },
    {
     "data": {
      "application/javascript": [
       "\n",
       "        if (window._pyforest_update_imports_cell) { window._pyforest_update_imports_cell('import pandas as pd\\nimport re'); }\n",
       "    "
      ],
      "text/plain": [
       "<IPython.core.display.Javascript object>"
      ]
     },
     "metadata": {},
     "output_type": "display_data"
    },
    {
     "data": {
      "application/javascript": [
       "\n",
       "        if (window._pyforest_update_imports_cell) { window._pyforest_update_imports_cell('import pandas as pd\\nimport re'); }\n",
       "    "
      ],
      "text/plain": [
       "<IPython.core.display.Javascript object>"
      ]
     },
     "metadata": {},
     "output_type": "display_data"
    },
    {
     "data": {
      "application/javascript": [
       "\n",
       "        if (window._pyforest_update_imports_cell) { window._pyforest_update_imports_cell('import pandas as pd\\nimport re'); }\n",
       "    "
      ],
      "text/plain": [
       "<IPython.core.display.Javascript object>"
      ]
     },
     "metadata": {},
     "output_type": "display_data"
    },
    {
     "data": {
      "application/javascript": [
       "\n",
       "        if (window._pyforest_update_imports_cell) { window._pyforest_update_imports_cell('import pandas as pd\\nimport re'); }\n",
       "    "
      ],
      "text/plain": [
       "<IPython.core.display.Javascript object>"
      ]
     },
     "metadata": {},
     "output_type": "display_data"
    },
    {
     "data": {
      "application/javascript": [
       "\n",
       "        if (window._pyforest_update_imports_cell) { window._pyforest_update_imports_cell('import pandas as pd\\nimport re'); }\n",
       "    "
      ],
      "text/plain": [
       "<IPython.core.display.Javascript object>"
      ]
     },
     "metadata": {},
     "output_type": "display_data"
    },
    {
     "data": {
      "application/javascript": [
       "\n",
       "        if (window._pyforest_update_imports_cell) { window._pyforest_update_imports_cell('import pandas as pd\\nimport re'); }\n",
       "    "
      ],
      "text/plain": [
       "<IPython.core.display.Javascript object>"
      ]
     },
     "metadata": {},
     "output_type": "display_data"
    },
    {
     "data": {
      "application/javascript": [
       "\n",
       "        if (window._pyforest_update_imports_cell) { window._pyforest_update_imports_cell('import pandas as pd\\nimport re'); }\n",
       "    "
      ],
      "text/plain": [
       "<IPython.core.display.Javascript object>"
      ]
     },
     "metadata": {},
     "output_type": "display_data"
    },
    {
     "data": {
      "application/javascript": [
       "\n",
       "        if (window._pyforest_update_imports_cell) { window._pyforest_update_imports_cell('import pandas as pd\\nimport re'); }\n",
       "    "
      ],
      "text/plain": [
       "<IPython.core.display.Javascript object>"
      ]
     },
     "metadata": {},
     "output_type": "display_data"
    },
    {
     "data": {
      "application/javascript": [
       "\n",
       "        if (window._pyforest_update_imports_cell) { window._pyforest_update_imports_cell('import pandas as pd\\nimport re'); }\n",
       "    "
      ],
      "text/plain": [
       "<IPython.core.display.Javascript object>"
      ]
     },
     "metadata": {},
     "output_type": "display_data"
    },
    {
     "data": {
      "application/javascript": [
       "\n",
       "        if (window._pyforest_update_imports_cell) { window._pyforest_update_imports_cell('import pandas as pd\\nimport re'); }\n",
       "    "
      ],
      "text/plain": [
       "<IPython.core.display.Javascript object>"
      ]
     },
     "metadata": {},
     "output_type": "display_data"
    },
    {
     "data": {
      "application/javascript": [
       "\n",
       "        if (window._pyforest_update_imports_cell) { window._pyforest_update_imports_cell('import pandas as pd\\nimport re'); }\n",
       "    "
      ],
      "text/plain": [
       "<IPython.core.display.Javascript object>"
      ]
     },
     "metadata": {},
     "output_type": "display_data"
    },
    {
     "data": {
      "application/javascript": [
       "\n",
       "        if (window._pyforest_update_imports_cell) { window._pyforest_update_imports_cell('import pandas as pd\\nimport re'); }\n",
       "    "
      ],
      "text/plain": [
       "<IPython.core.display.Javascript object>"
      ]
     },
     "metadata": {},
     "output_type": "display_data"
    },
    {
     "data": {
      "application/javascript": [
       "\n",
       "        if (window._pyforest_update_imports_cell) { window._pyforest_update_imports_cell('import pandas as pd\\nimport re'); }\n",
       "    "
      ],
      "text/plain": [
       "<IPython.core.display.Javascript object>"
      ]
     },
     "metadata": {},
     "output_type": "display_data"
    },
    {
     "data": {
      "application/javascript": [
       "\n",
       "        if (window._pyforest_update_imports_cell) { window._pyforest_update_imports_cell('import pandas as pd\\nimport re'); }\n",
       "    "
      ],
      "text/plain": [
       "<IPython.core.display.Javascript object>"
      ]
     },
     "metadata": {},
     "output_type": "display_data"
    },
    {
     "data": {
      "application/javascript": [
       "\n",
       "        if (window._pyforest_update_imports_cell) { window._pyforest_update_imports_cell('import pandas as pd\\nimport re'); }\n",
       "    "
      ],
      "text/plain": [
       "<IPython.core.display.Javascript object>"
      ]
     },
     "metadata": {},
     "output_type": "display_data"
    },
    {
     "data": {
      "application/javascript": [
       "\n",
       "        if (window._pyforest_update_imports_cell) { window._pyforest_update_imports_cell('import pandas as pd\\nimport re'); }\n",
       "    "
      ],
      "text/plain": [
       "<IPython.core.display.Javascript object>"
      ]
     },
     "metadata": {},
     "output_type": "display_data"
    },
    {
     "data": {
      "application/javascript": [
       "\n",
       "        if (window._pyforest_update_imports_cell) { window._pyforest_update_imports_cell('import pandas as pd\\nimport re'); }\n",
       "    "
      ],
      "text/plain": [
       "<IPython.core.display.Javascript object>"
      ]
     },
     "metadata": {},
     "output_type": "display_data"
    },
    {
     "data": {
      "application/javascript": [
       "\n",
       "        if (window._pyforest_update_imports_cell) { window._pyforest_update_imports_cell('import pandas as pd\\nimport re'); }\n",
       "    "
      ],
      "text/plain": [
       "<IPython.core.display.Javascript object>"
      ]
     },
     "metadata": {},
     "output_type": "display_data"
    },
    {
     "data": {
      "application/javascript": [
       "\n",
       "        if (window._pyforest_update_imports_cell) { window._pyforest_update_imports_cell('import pandas as pd\\nimport re'); }\n",
       "    "
      ],
      "text/plain": [
       "<IPython.core.display.Javascript object>"
      ]
     },
     "metadata": {},
     "output_type": "display_data"
    },
    {
     "data": {
      "application/javascript": [
       "\n",
       "        if (window._pyforest_update_imports_cell) { window._pyforest_update_imports_cell('import pandas as pd\\nimport re'); }\n",
       "    "
      ],
      "text/plain": [
       "<IPython.core.display.Javascript object>"
      ]
     },
     "metadata": {},
     "output_type": "display_data"
    },
    {
     "data": {
      "application/javascript": [
       "\n",
       "        if (window._pyforest_update_imports_cell) { window._pyforest_update_imports_cell('import pandas as pd\\nimport re'); }\n",
       "    "
      ],
      "text/plain": [
       "<IPython.core.display.Javascript object>"
      ]
     },
     "metadata": {},
     "output_type": "display_data"
    },
    {
     "data": {
      "application/javascript": [
       "\n",
       "        if (window._pyforest_update_imports_cell) { window._pyforest_update_imports_cell('import pandas as pd\\nimport re'); }\n",
       "    "
      ],
      "text/plain": [
       "<IPython.core.display.Javascript object>"
      ]
     },
     "metadata": {},
     "output_type": "display_data"
    },
    {
     "data": {
      "application/javascript": [
       "\n",
       "        if (window._pyforest_update_imports_cell) { window._pyforest_update_imports_cell('import pandas as pd\\nimport re'); }\n",
       "    "
      ],
      "text/plain": [
       "<IPython.core.display.Javascript object>"
      ]
     },
     "metadata": {},
     "output_type": "display_data"
    },
    {
     "data": {
      "application/javascript": [
       "\n",
       "        if (window._pyforest_update_imports_cell) { window._pyforest_update_imports_cell('import pandas as pd\\nimport re'); }\n",
       "    "
      ],
      "text/plain": [
       "<IPython.core.display.Javascript object>"
      ]
     },
     "metadata": {},
     "output_type": "display_data"
    },
    {
     "data": {
      "application/javascript": [
       "\n",
       "        if (window._pyforest_update_imports_cell) { window._pyforest_update_imports_cell('import pandas as pd\\nimport re'); }\n",
       "    "
      ],
      "text/plain": [
       "<IPython.core.display.Javascript object>"
      ]
     },
     "metadata": {},
     "output_type": "display_data"
    },
    {
     "data": {
      "application/javascript": [
       "\n",
       "        if (window._pyforest_update_imports_cell) { window._pyforest_update_imports_cell('import pandas as pd\\nimport re'); }\n",
       "    "
      ],
      "text/plain": [
       "<IPython.core.display.Javascript object>"
      ]
     },
     "metadata": {},
     "output_type": "display_data"
    },
    {
     "data": {
      "application/javascript": [
       "\n",
       "        if (window._pyforest_update_imports_cell) { window._pyforest_update_imports_cell('import pandas as pd\\nimport re'); }\n",
       "    "
      ],
      "text/plain": [
       "<IPython.core.display.Javascript object>"
      ]
     },
     "metadata": {},
     "output_type": "display_data"
    },
    {
     "data": {
      "application/javascript": [
       "\n",
       "        if (window._pyforest_update_imports_cell) { window._pyforest_update_imports_cell('import pandas as pd\\nimport re'); }\n",
       "    "
      ],
      "text/plain": [
       "<IPython.core.display.Javascript object>"
      ]
     },
     "metadata": {},
     "output_type": "display_data"
    },
    {
     "data": {
      "application/javascript": [
       "\n",
       "        if (window._pyforest_update_imports_cell) { window._pyforest_update_imports_cell('import pandas as pd\\nimport re'); }\n",
       "    "
      ],
      "text/plain": [
       "<IPython.core.display.Javascript object>"
      ]
     },
     "metadata": {},
     "output_type": "display_data"
    },
    {
     "data": {
      "application/javascript": [
       "\n",
       "        if (window._pyforest_update_imports_cell) { window._pyforest_update_imports_cell('import pandas as pd\\nimport re'); }\n",
       "    "
      ],
      "text/plain": [
       "<IPython.core.display.Javascript object>"
      ]
     },
     "metadata": {},
     "output_type": "display_data"
    },
    {
     "data": {
      "application/javascript": [
       "\n",
       "        if (window._pyforest_update_imports_cell) { window._pyforest_update_imports_cell('import pandas as pd\\nimport re'); }\n",
       "    "
      ],
      "text/plain": [
       "<IPython.core.display.Javascript object>"
      ]
     },
     "metadata": {},
     "output_type": "display_data"
    },
    {
     "data": {
      "application/javascript": [
       "\n",
       "        if (window._pyforest_update_imports_cell) { window._pyforest_update_imports_cell('import pandas as pd\\nimport re'); }\n",
       "    "
      ],
      "text/plain": [
       "<IPython.core.display.Javascript object>"
      ]
     },
     "metadata": {},
     "output_type": "display_data"
    },
    {
     "data": {
      "application/javascript": [
       "\n",
       "        if (window._pyforest_update_imports_cell) { window._pyforest_update_imports_cell('import pandas as pd\\nimport re'); }\n",
       "    "
      ],
      "text/plain": [
       "<IPython.core.display.Javascript object>"
      ]
     },
     "metadata": {},
     "output_type": "display_data"
    },
    {
     "data": {
      "application/javascript": [
       "\n",
       "        if (window._pyforest_update_imports_cell) { window._pyforest_update_imports_cell('import pandas as pd\\nimport re'); }\n",
       "    "
      ],
      "text/plain": [
       "<IPython.core.display.Javascript object>"
      ]
     },
     "metadata": {},
     "output_type": "display_data"
    },
    {
     "data": {
      "application/javascript": [
       "\n",
       "        if (window._pyforest_update_imports_cell) { window._pyforest_update_imports_cell('import pandas as pd\\nimport re'); }\n",
       "    "
      ],
      "text/plain": [
       "<IPython.core.display.Javascript object>"
      ]
     },
     "metadata": {},
     "output_type": "display_data"
    },
    {
     "data": {
      "application/javascript": [
       "\n",
       "        if (window._pyforest_update_imports_cell) { window._pyforest_update_imports_cell('import pandas as pd\\nimport re'); }\n",
       "    "
      ],
      "text/plain": [
       "<IPython.core.display.Javascript object>"
      ]
     },
     "metadata": {},
     "output_type": "display_data"
    },
    {
     "data": {
      "application/javascript": [
       "\n",
       "        if (window._pyforest_update_imports_cell) { window._pyforest_update_imports_cell('import pandas as pd\\nimport re'); }\n",
       "    "
      ],
      "text/plain": [
       "<IPython.core.display.Javascript object>"
      ]
     },
     "metadata": {},
     "output_type": "display_data"
    },
    {
     "data": {
      "application/javascript": [
       "\n",
       "        if (window._pyforest_update_imports_cell) { window._pyforest_update_imports_cell('import pandas as pd\\nimport re'); }\n",
       "    "
      ],
      "text/plain": [
       "<IPython.core.display.Javascript object>"
      ]
     },
     "metadata": {},
     "output_type": "display_data"
    },
    {
     "data": {
      "application/javascript": [
       "\n",
       "        if (window._pyforest_update_imports_cell) { window._pyforest_update_imports_cell('import pandas as pd\\nimport re'); }\n",
       "    "
      ],
      "text/plain": [
       "<IPython.core.display.Javascript object>"
      ]
     },
     "metadata": {},
     "output_type": "display_data"
    },
    {
     "data": {
      "application/javascript": [
       "\n",
       "        if (window._pyforest_update_imports_cell) { window._pyforest_update_imports_cell('import pandas as pd\\nimport re'); }\n",
       "    "
      ],
      "text/plain": [
       "<IPython.core.display.Javascript object>"
      ]
     },
     "metadata": {},
     "output_type": "display_data"
    },
    {
     "data": {
      "application/javascript": [
       "\n",
       "        if (window._pyforest_update_imports_cell) { window._pyforest_update_imports_cell('import pandas as pd\\nimport re'); }\n",
       "    "
      ],
      "text/plain": [
       "<IPython.core.display.Javascript object>"
      ]
     },
     "metadata": {},
     "output_type": "display_data"
    },
    {
     "data": {
      "application/javascript": [
       "\n",
       "        if (window._pyforest_update_imports_cell) { window._pyforest_update_imports_cell('import pandas as pd\\nimport re'); }\n",
       "    "
      ],
      "text/plain": [
       "<IPython.core.display.Javascript object>"
      ]
     },
     "metadata": {},
     "output_type": "display_data"
    },
    {
     "data": {
      "application/javascript": [
       "\n",
       "        if (window._pyforest_update_imports_cell) { window._pyforest_update_imports_cell('import pandas as pd\\nimport re'); }\n",
       "    "
      ],
      "text/plain": [
       "<IPython.core.display.Javascript object>"
      ]
     },
     "metadata": {},
     "output_type": "display_data"
    },
    {
     "data": {
      "application/javascript": [
       "\n",
       "        if (window._pyforest_update_imports_cell) { window._pyforest_update_imports_cell('import pandas as pd\\nimport re'); }\n",
       "    "
      ],
      "text/plain": [
       "<IPython.core.display.Javascript object>"
      ]
     },
     "metadata": {},
     "output_type": "display_data"
    },
    {
     "data": {
      "application/javascript": [
       "\n",
       "        if (window._pyforest_update_imports_cell) { window._pyforest_update_imports_cell('import pandas as pd\\nimport re'); }\n",
       "    "
      ],
      "text/plain": [
       "<IPython.core.display.Javascript object>"
      ]
     },
     "metadata": {},
     "output_type": "display_data"
    },
    {
     "data": {
      "application/javascript": [
       "\n",
       "        if (window._pyforest_update_imports_cell) { window._pyforest_update_imports_cell('import pandas as pd\\nimport re'); }\n",
       "    "
      ],
      "text/plain": [
       "<IPython.core.display.Javascript object>"
      ]
     },
     "metadata": {},
     "output_type": "display_data"
    },
    {
     "data": {
      "application/javascript": [
       "\n",
       "        if (window._pyforest_update_imports_cell) { window._pyforest_update_imports_cell('import pandas as pd\\nimport re'); }\n",
       "    "
      ],
      "text/plain": [
       "<IPython.core.display.Javascript object>"
      ]
     },
     "metadata": {},
     "output_type": "display_data"
    },
    {
     "data": {
      "application/javascript": [
       "\n",
       "        if (window._pyforest_update_imports_cell) { window._pyforest_update_imports_cell('import pandas as pd\\nimport re'); }\n",
       "    "
      ],
      "text/plain": [
       "<IPython.core.display.Javascript object>"
      ]
     },
     "metadata": {},
     "output_type": "display_data"
    },
    {
     "data": {
      "application/javascript": [
       "\n",
       "        if (window._pyforest_update_imports_cell) { window._pyforest_update_imports_cell('import pandas as pd\\nimport re'); }\n",
       "    "
      ],
      "text/plain": [
       "<IPython.core.display.Javascript object>"
      ]
     },
     "metadata": {},
     "output_type": "display_data"
    },
    {
     "data": {
      "application/javascript": [
       "\n",
       "        if (window._pyforest_update_imports_cell) { window._pyforest_update_imports_cell('import pandas as pd\\nimport re'); }\n",
       "    "
      ],
      "text/plain": [
       "<IPython.core.display.Javascript object>"
      ]
     },
     "metadata": {},
     "output_type": "display_data"
    },
    {
     "data": {
      "application/javascript": [
       "\n",
       "        if (window._pyforest_update_imports_cell) { window._pyforest_update_imports_cell('import pandas as pd\\nimport re'); }\n",
       "    "
      ],
      "text/plain": [
       "<IPython.core.display.Javascript object>"
      ]
     },
     "metadata": {},
     "output_type": "display_data"
    },
    {
     "data": {
      "application/javascript": [
       "\n",
       "        if (window._pyforest_update_imports_cell) { window._pyforest_update_imports_cell('import pandas as pd\\nimport re'); }\n",
       "    "
      ],
      "text/plain": [
       "<IPython.core.display.Javascript object>"
      ]
     },
     "metadata": {},
     "output_type": "display_data"
    },
    {
     "data": {
      "application/javascript": [
       "\n",
       "        if (window._pyforest_update_imports_cell) { window._pyforest_update_imports_cell('import pandas as pd\\nimport re'); }\n",
       "    "
      ],
      "text/plain": [
       "<IPython.core.display.Javascript object>"
      ]
     },
     "metadata": {},
     "output_type": "display_data"
    },
    {
     "data": {
      "application/javascript": [
       "\n",
       "        if (window._pyforest_update_imports_cell) { window._pyforest_update_imports_cell('import pandas as pd\\nimport re'); }\n",
       "    "
      ],
      "text/plain": [
       "<IPython.core.display.Javascript object>"
      ]
     },
     "metadata": {},
     "output_type": "display_data"
    },
    {
     "data": {
      "application/javascript": [
       "\n",
       "        if (window._pyforest_update_imports_cell) { window._pyforest_update_imports_cell('import pandas as pd\\nimport re'); }\n",
       "    "
      ],
      "text/plain": [
       "<IPython.core.display.Javascript object>"
      ]
     },
     "metadata": {},
     "output_type": "display_data"
    },
    {
     "data": {
      "application/javascript": [
       "\n",
       "        if (window._pyforest_update_imports_cell) { window._pyforest_update_imports_cell('import pandas as pd\\nimport re'); }\n",
       "    "
      ],
      "text/plain": [
       "<IPython.core.display.Javascript object>"
      ]
     },
     "metadata": {},
     "output_type": "display_data"
    },
    {
     "data": {
      "application/javascript": [
       "\n",
       "        if (window._pyforest_update_imports_cell) { window._pyforest_update_imports_cell('import pandas as pd\\nimport re'); }\n",
       "    "
      ],
      "text/plain": [
       "<IPython.core.display.Javascript object>"
      ]
     },
     "metadata": {},
     "output_type": "display_data"
    },
    {
     "data": {
      "application/javascript": [
       "\n",
       "        if (window._pyforest_update_imports_cell) { window._pyforest_update_imports_cell('import pandas as pd\\nimport re'); }\n",
       "    "
      ],
      "text/plain": [
       "<IPython.core.display.Javascript object>"
      ]
     },
     "metadata": {},
     "output_type": "display_data"
    },
    {
     "data": {
      "application/javascript": [
       "\n",
       "        if (window._pyforest_update_imports_cell) { window._pyforest_update_imports_cell('import pandas as pd\\nimport re'); }\n",
       "    "
      ],
      "text/plain": [
       "<IPython.core.display.Javascript object>"
      ]
     },
     "metadata": {},
     "output_type": "display_data"
    },
    {
     "data": {
      "application/javascript": [
       "\n",
       "        if (window._pyforest_update_imports_cell) { window._pyforest_update_imports_cell('import pandas as pd\\nimport re'); }\n",
       "    "
      ],
      "text/plain": [
       "<IPython.core.display.Javascript object>"
      ]
     },
     "metadata": {},
     "output_type": "display_data"
    },
    {
     "data": {
      "application/javascript": [
       "\n",
       "        if (window._pyforest_update_imports_cell) { window._pyforest_update_imports_cell('import pandas as pd\\nimport re'); }\n",
       "    "
      ],
      "text/plain": [
       "<IPython.core.display.Javascript object>"
      ]
     },
     "metadata": {},
     "output_type": "display_data"
    },
    {
     "data": {
      "application/javascript": [
       "\n",
       "        if (window._pyforest_update_imports_cell) { window._pyforest_update_imports_cell('import pandas as pd\\nimport re'); }\n",
       "    "
      ],
      "text/plain": [
       "<IPython.core.display.Javascript object>"
      ]
     },
     "metadata": {},
     "output_type": "display_data"
    },
    {
     "data": {
      "application/javascript": [
       "\n",
       "        if (window._pyforest_update_imports_cell) { window._pyforest_update_imports_cell('import pandas as pd\\nimport re'); }\n",
       "    "
      ],
      "text/plain": [
       "<IPython.core.display.Javascript object>"
      ]
     },
     "metadata": {},
     "output_type": "display_data"
    },
    {
     "data": {
      "application/javascript": [
       "\n",
       "        if (window._pyforest_update_imports_cell) { window._pyforest_update_imports_cell('import pandas as pd\\nimport re'); }\n",
       "    "
      ],
      "text/plain": [
       "<IPython.core.display.Javascript object>"
      ]
     },
     "metadata": {},
     "output_type": "display_data"
    },
    {
     "data": {
      "application/javascript": [
       "\n",
       "        if (window._pyforest_update_imports_cell) { window._pyforest_update_imports_cell('import pandas as pd\\nimport re'); }\n",
       "    "
      ],
      "text/plain": [
       "<IPython.core.display.Javascript object>"
      ]
     },
     "metadata": {},
     "output_type": "display_data"
    },
    {
     "data": {
      "application/javascript": [
       "\n",
       "        if (window._pyforest_update_imports_cell) { window._pyforest_update_imports_cell('import pandas as pd\\nimport re'); }\n",
       "    "
      ],
      "text/plain": [
       "<IPython.core.display.Javascript object>"
      ]
     },
     "metadata": {},
     "output_type": "display_data"
    },
    {
     "data": {
      "application/javascript": [
       "\n",
       "        if (window._pyforest_update_imports_cell) { window._pyforest_update_imports_cell('import pandas as pd\\nimport re'); }\n",
       "    "
      ],
      "text/plain": [
       "<IPython.core.display.Javascript object>"
      ]
     },
     "metadata": {},
     "output_type": "display_data"
    },
    {
     "data": {
      "application/javascript": [
       "\n",
       "        if (window._pyforest_update_imports_cell) { window._pyforest_update_imports_cell('import pandas as pd\\nimport re'); }\n",
       "    "
      ],
      "text/plain": [
       "<IPython.core.display.Javascript object>"
      ]
     },
     "metadata": {},
     "output_type": "display_data"
    },
    {
     "data": {
      "application/javascript": [
       "\n",
       "        if (window._pyforest_update_imports_cell) { window._pyforest_update_imports_cell('import pandas as pd\\nimport re'); }\n",
       "    "
      ],
      "text/plain": [
       "<IPython.core.display.Javascript object>"
      ]
     },
     "metadata": {},
     "output_type": "display_data"
    },
    {
     "data": {
      "application/javascript": [
       "\n",
       "        if (window._pyforest_update_imports_cell) { window._pyforest_update_imports_cell('import pandas as pd\\nimport re'); }\n",
       "    "
      ],
      "text/plain": [
       "<IPython.core.display.Javascript object>"
      ]
     },
     "metadata": {},
     "output_type": "display_data"
    },
    {
     "data": {
      "application/javascript": [
       "\n",
       "        if (window._pyforest_update_imports_cell) { window._pyforest_update_imports_cell('import pandas as pd\\nimport re'); }\n",
       "    "
      ],
      "text/plain": [
       "<IPython.core.display.Javascript object>"
      ]
     },
     "metadata": {},
     "output_type": "display_data"
    },
    {
     "data": {
      "application/javascript": [
       "\n",
       "        if (window._pyforest_update_imports_cell) { window._pyforest_update_imports_cell('import pandas as pd\\nimport re'); }\n",
       "    "
      ],
      "text/plain": [
       "<IPython.core.display.Javascript object>"
      ]
     },
     "metadata": {},
     "output_type": "display_data"
    },
    {
     "data": {
      "application/javascript": [
       "\n",
       "        if (window._pyforest_update_imports_cell) { window._pyforest_update_imports_cell('import pandas as pd\\nimport re'); }\n",
       "    "
      ],
      "text/plain": [
       "<IPython.core.display.Javascript object>"
      ]
     },
     "metadata": {},
     "output_type": "display_data"
    },
    {
     "data": {
      "application/javascript": [
       "\n",
       "        if (window._pyforest_update_imports_cell) { window._pyforest_update_imports_cell('import pandas as pd\\nimport re'); }\n",
       "    "
      ],
      "text/plain": [
       "<IPython.core.display.Javascript object>"
      ]
     },
     "metadata": {},
     "output_type": "display_data"
    },
    {
     "data": {
      "application/javascript": [
       "\n",
       "        if (window._pyforest_update_imports_cell) { window._pyforest_update_imports_cell('import pandas as pd\\nimport re'); }\n",
       "    "
      ],
      "text/plain": [
       "<IPython.core.display.Javascript object>"
      ]
     },
     "metadata": {},
     "output_type": "display_data"
    },
    {
     "data": {
      "application/javascript": [
       "\n",
       "        if (window._pyforest_update_imports_cell) { window._pyforest_update_imports_cell('import pandas as pd\\nimport re'); }\n",
       "    "
      ],
      "text/plain": [
       "<IPython.core.display.Javascript object>"
      ]
     },
     "metadata": {},
     "output_type": "display_data"
    },
    {
     "data": {
      "application/javascript": [
       "\n",
       "        if (window._pyforest_update_imports_cell) { window._pyforest_update_imports_cell('import pandas as pd\\nimport re'); }\n",
       "    "
      ],
      "text/plain": [
       "<IPython.core.display.Javascript object>"
      ]
     },
     "metadata": {},
     "output_type": "display_data"
    },
    {
     "data": {
      "application/javascript": [
       "\n",
       "        if (window._pyforest_update_imports_cell) { window._pyforest_update_imports_cell('import pandas as pd\\nimport re'); }\n",
       "    "
      ],
      "text/plain": [
       "<IPython.core.display.Javascript object>"
      ]
     },
     "metadata": {},
     "output_type": "display_data"
    },
    {
     "data": {
      "application/javascript": [
       "\n",
       "        if (window._pyforest_update_imports_cell) { window._pyforest_update_imports_cell('import pandas as pd\\nimport re'); }\n",
       "    "
      ],
      "text/plain": [
       "<IPython.core.display.Javascript object>"
      ]
     },
     "metadata": {},
     "output_type": "display_data"
    },
    {
     "data": {
      "application/javascript": [
       "\n",
       "        if (window._pyforest_update_imports_cell) { window._pyforest_update_imports_cell('import pandas as pd\\nimport re'); }\n",
       "    "
      ],
      "text/plain": [
       "<IPython.core.display.Javascript object>"
      ]
     },
     "metadata": {},
     "output_type": "display_data"
    },
    {
     "data": {
      "application/javascript": [
       "\n",
       "        if (window._pyforest_update_imports_cell) { window._pyforest_update_imports_cell('import pandas as pd\\nimport re'); }\n",
       "    "
      ],
      "text/plain": [
       "<IPython.core.display.Javascript object>"
      ]
     },
     "metadata": {},
     "output_type": "display_data"
    },
    {
     "data": {
      "application/javascript": [
       "\n",
       "        if (window._pyforest_update_imports_cell) { window._pyforest_update_imports_cell('import pandas as pd\\nimport re'); }\n",
       "    "
      ],
      "text/plain": [
       "<IPython.core.display.Javascript object>"
      ]
     },
     "metadata": {},
     "output_type": "display_data"
    },
    {
     "data": {
      "application/javascript": [
       "\n",
       "        if (window._pyforest_update_imports_cell) { window._pyforest_update_imports_cell('import pandas as pd\\nimport re'); }\n",
       "    "
      ],
      "text/plain": [
       "<IPython.core.display.Javascript object>"
      ]
     },
     "metadata": {},
     "output_type": "display_data"
    },
    {
     "data": {
      "application/javascript": [
       "\n",
       "        if (window._pyforest_update_imports_cell) { window._pyforest_update_imports_cell('import pandas as pd\\nimport re'); }\n",
       "    "
      ],
      "text/plain": [
       "<IPython.core.display.Javascript object>"
      ]
     },
     "metadata": {},
     "output_type": "display_data"
    },
    {
     "data": {
      "application/javascript": [
       "\n",
       "        if (window._pyforest_update_imports_cell) { window._pyforest_update_imports_cell('import pandas as pd\\nimport re'); }\n",
       "    "
      ],
      "text/plain": [
       "<IPython.core.display.Javascript object>"
      ]
     },
     "metadata": {},
     "output_type": "display_data"
    },
    {
     "data": {
      "application/javascript": [
       "\n",
       "        if (window._pyforest_update_imports_cell) { window._pyforest_update_imports_cell('import pandas as pd\\nimport re'); }\n",
       "    "
      ],
      "text/plain": [
       "<IPython.core.display.Javascript object>"
      ]
     },
     "metadata": {},
     "output_type": "display_data"
    },
    {
     "data": {
      "application/javascript": [
       "\n",
       "        if (window._pyforest_update_imports_cell) { window._pyforest_update_imports_cell('import pandas as pd\\nimport re'); }\n",
       "    "
      ],
      "text/plain": [
       "<IPython.core.display.Javascript object>"
      ]
     },
     "metadata": {},
     "output_type": "display_data"
    },
    {
     "data": {
      "application/javascript": [
       "\n",
       "        if (window._pyforest_update_imports_cell) { window._pyforest_update_imports_cell('import pandas as pd\\nimport re'); }\n",
       "    "
      ],
      "text/plain": [
       "<IPython.core.display.Javascript object>"
      ]
     },
     "metadata": {},
     "output_type": "display_data"
    },
    {
     "data": {
      "application/javascript": [
       "\n",
       "        if (window._pyforest_update_imports_cell) { window._pyforest_update_imports_cell('import pandas as pd\\nimport re'); }\n",
       "    "
      ],
      "text/plain": [
       "<IPython.core.display.Javascript object>"
      ]
     },
     "metadata": {},
     "output_type": "display_data"
    },
    {
     "data": {
      "application/javascript": [
       "\n",
       "        if (window._pyforest_update_imports_cell) { window._pyforest_update_imports_cell('import pandas as pd\\nimport re'); }\n",
       "    "
      ],
      "text/plain": [
       "<IPython.core.display.Javascript object>"
      ]
     },
     "metadata": {},
     "output_type": "display_data"
    },
    {
     "data": {
      "application/javascript": [
       "\n",
       "        if (window._pyforest_update_imports_cell) { window._pyforest_update_imports_cell('import pandas as pd\\nimport re'); }\n",
       "    "
      ],
      "text/plain": [
       "<IPython.core.display.Javascript object>"
      ]
     },
     "metadata": {},
     "output_type": "display_data"
    },
    {
     "data": {
      "application/javascript": [
       "\n",
       "        if (window._pyforest_update_imports_cell) { window._pyforest_update_imports_cell('import pandas as pd\\nimport re'); }\n",
       "    "
      ],
      "text/plain": [
       "<IPython.core.display.Javascript object>"
      ]
     },
     "metadata": {},
     "output_type": "display_data"
    },
    {
     "data": {
      "application/javascript": [
       "\n",
       "        if (window._pyforest_update_imports_cell) { window._pyforest_update_imports_cell('import pandas as pd\\nimport re'); }\n",
       "    "
      ],
      "text/plain": [
       "<IPython.core.display.Javascript object>"
      ]
     },
     "metadata": {},
     "output_type": "display_data"
    },
    {
     "data": {
      "application/javascript": [
       "\n",
       "        if (window._pyforest_update_imports_cell) { window._pyforest_update_imports_cell('import pandas as pd\\nimport re'); }\n",
       "    "
      ],
      "text/plain": [
       "<IPython.core.display.Javascript object>"
      ]
     },
     "metadata": {},
     "output_type": "display_data"
    },
    {
     "data": {
      "application/javascript": [
       "\n",
       "        if (window._pyforest_update_imports_cell) { window._pyforest_update_imports_cell('import pandas as pd\\nimport re'); }\n",
       "    "
      ],
      "text/plain": [
       "<IPython.core.display.Javascript object>"
      ]
     },
     "metadata": {},
     "output_type": "display_data"
    },
    {
     "data": {
      "application/javascript": [
       "\n",
       "        if (window._pyforest_update_imports_cell) { window._pyforest_update_imports_cell('import pandas as pd\\nimport re'); }\n",
       "    "
      ],
      "text/plain": [
       "<IPython.core.display.Javascript object>"
      ]
     },
     "metadata": {},
     "output_type": "display_data"
    },
    {
     "data": {
      "application/javascript": [
       "\n",
       "        if (window._pyforest_update_imports_cell) { window._pyforest_update_imports_cell('import pandas as pd\\nimport re'); }\n",
       "    "
      ],
      "text/plain": [
       "<IPython.core.display.Javascript object>"
      ]
     },
     "metadata": {},
     "output_type": "display_data"
    },
    {
     "data": {
      "application/javascript": [
       "\n",
       "        if (window._pyforest_update_imports_cell) { window._pyforest_update_imports_cell('import pandas as pd\\nimport re'); }\n",
       "    "
      ],
      "text/plain": [
       "<IPython.core.display.Javascript object>"
      ]
     },
     "metadata": {},
     "output_type": "display_data"
    },
    {
     "data": {
      "application/javascript": [
       "\n",
       "        if (window._pyforest_update_imports_cell) { window._pyforest_update_imports_cell('import pandas as pd\\nimport re'); }\n",
       "    "
      ],
      "text/plain": [
       "<IPython.core.display.Javascript object>"
      ]
     },
     "metadata": {},
     "output_type": "display_data"
    },
    {
     "data": {
      "application/javascript": [
       "\n",
       "        if (window._pyforest_update_imports_cell) { window._pyforest_update_imports_cell('import pandas as pd\\nimport re'); }\n",
       "    "
      ],
      "text/plain": [
       "<IPython.core.display.Javascript object>"
      ]
     },
     "metadata": {},
     "output_type": "display_data"
    },
    {
     "data": {
      "application/javascript": [
       "\n",
       "        if (window._pyforest_update_imports_cell) { window._pyforest_update_imports_cell('import pandas as pd\\nimport re'); }\n",
       "    "
      ],
      "text/plain": [
       "<IPython.core.display.Javascript object>"
      ]
     },
     "metadata": {},
     "output_type": "display_data"
    },
    {
     "data": {
      "application/javascript": [
       "\n",
       "        if (window._pyforest_update_imports_cell) { window._pyforest_update_imports_cell('import pandas as pd\\nimport re'); }\n",
       "    "
      ],
      "text/plain": [
       "<IPython.core.display.Javascript object>"
      ]
     },
     "metadata": {},
     "output_type": "display_data"
    },
    {
     "data": {
      "application/javascript": [
       "\n",
       "        if (window._pyforest_update_imports_cell) { window._pyforest_update_imports_cell('import pandas as pd\\nimport re'); }\n",
       "    "
      ],
      "text/plain": [
       "<IPython.core.display.Javascript object>"
      ]
     },
     "metadata": {},
     "output_type": "display_data"
    },
    {
     "data": {
      "application/javascript": [
       "\n",
       "        if (window._pyforest_update_imports_cell) { window._pyforest_update_imports_cell('import pandas as pd\\nimport re'); }\n",
       "    "
      ],
      "text/plain": [
       "<IPython.core.display.Javascript object>"
      ]
     },
     "metadata": {},
     "output_type": "display_data"
    },
    {
     "data": {
      "application/javascript": [
       "\n",
       "        if (window._pyforest_update_imports_cell) { window._pyforest_update_imports_cell('import pandas as pd\\nimport re'); }\n",
       "    "
      ],
      "text/plain": [
       "<IPython.core.display.Javascript object>"
      ]
     },
     "metadata": {},
     "output_type": "display_data"
    },
    {
     "data": {
      "application/javascript": [
       "\n",
       "        if (window._pyforest_update_imports_cell) { window._pyforest_update_imports_cell('import pandas as pd\\nimport re'); }\n",
       "    "
      ],
      "text/plain": [
       "<IPython.core.display.Javascript object>"
      ]
     },
     "metadata": {},
     "output_type": "display_data"
    },
    {
     "data": {
      "application/javascript": [
       "\n",
       "        if (window._pyforest_update_imports_cell) { window._pyforest_update_imports_cell('import pandas as pd\\nimport re'); }\n",
       "    "
      ],
      "text/plain": [
       "<IPython.core.display.Javascript object>"
      ]
     },
     "metadata": {},
     "output_type": "display_data"
    },
    {
     "data": {
      "application/javascript": [
       "\n",
       "        if (window._pyforest_update_imports_cell) { window._pyforest_update_imports_cell('import pandas as pd\\nimport re'); }\n",
       "    "
      ],
      "text/plain": [
       "<IPython.core.display.Javascript object>"
      ]
     },
     "metadata": {},
     "output_type": "display_data"
    },
    {
     "data": {
      "application/javascript": [
       "\n",
       "        if (window._pyforest_update_imports_cell) { window._pyforest_update_imports_cell('import pandas as pd\\nimport re'); }\n",
       "    "
      ],
      "text/plain": [
       "<IPython.core.display.Javascript object>"
      ]
     },
     "metadata": {},
     "output_type": "display_data"
    },
    {
     "data": {
      "application/javascript": [
       "\n",
       "        if (window._pyforest_update_imports_cell) { window._pyforest_update_imports_cell('import pandas as pd\\nimport re'); }\n",
       "    "
      ],
      "text/plain": [
       "<IPython.core.display.Javascript object>"
      ]
     },
     "metadata": {},
     "output_type": "display_data"
    },
    {
     "data": {
      "application/javascript": [
       "\n",
       "        if (window._pyforest_update_imports_cell) { window._pyforest_update_imports_cell('import pandas as pd\\nimport re'); }\n",
       "    "
      ],
      "text/plain": [
       "<IPython.core.display.Javascript object>"
      ]
     },
     "metadata": {},
     "output_type": "display_data"
    },
    {
     "data": {
      "application/javascript": [
       "\n",
       "        if (window._pyforest_update_imports_cell) { window._pyforest_update_imports_cell('import pandas as pd\\nimport re'); }\n",
       "    "
      ],
      "text/plain": [
       "<IPython.core.display.Javascript object>"
      ]
     },
     "metadata": {},
     "output_type": "display_data"
    },
    {
     "data": {
      "application/javascript": [
       "\n",
       "        if (window._pyforest_update_imports_cell) { window._pyforest_update_imports_cell('import pandas as pd\\nimport re'); }\n",
       "    "
      ],
      "text/plain": [
       "<IPython.core.display.Javascript object>"
      ]
     },
     "metadata": {},
     "output_type": "display_data"
    },
    {
     "data": {
      "application/javascript": [
       "\n",
       "        if (window._pyforest_update_imports_cell) { window._pyforest_update_imports_cell('import pandas as pd\\nimport re'); }\n",
       "    "
      ],
      "text/plain": [
       "<IPython.core.display.Javascript object>"
      ]
     },
     "metadata": {},
     "output_type": "display_data"
    },
    {
     "data": {
      "application/javascript": [
       "\n",
       "        if (window._pyforest_update_imports_cell) { window._pyforest_update_imports_cell('import pandas as pd\\nimport re'); }\n",
       "    "
      ],
      "text/plain": [
       "<IPython.core.display.Javascript object>"
      ]
     },
     "metadata": {},
     "output_type": "display_data"
    },
    {
     "data": {
      "application/javascript": [
       "\n",
       "        if (window._pyforest_update_imports_cell) { window._pyforest_update_imports_cell('import pandas as pd\\nimport re'); }\n",
       "    "
      ],
      "text/plain": [
       "<IPython.core.display.Javascript object>"
      ]
     },
     "metadata": {},
     "output_type": "display_data"
    },
    {
     "data": {
      "application/javascript": [
       "\n",
       "        if (window._pyforest_update_imports_cell) { window._pyforest_update_imports_cell('import pandas as pd\\nimport re'); }\n",
       "    "
      ],
      "text/plain": [
       "<IPython.core.display.Javascript object>"
      ]
     },
     "metadata": {},
     "output_type": "display_data"
    },
    {
     "data": {
      "application/javascript": [
       "\n",
       "        if (window._pyforest_update_imports_cell) { window._pyforest_update_imports_cell('import pandas as pd\\nimport re'); }\n",
       "    "
      ],
      "text/plain": [
       "<IPython.core.display.Javascript object>"
      ]
     },
     "metadata": {},
     "output_type": "display_data"
    },
    {
     "data": {
      "application/javascript": [
       "\n",
       "        if (window._pyforest_update_imports_cell) { window._pyforest_update_imports_cell('import pandas as pd\\nimport re'); }\n",
       "    "
      ],
      "text/plain": [
       "<IPython.core.display.Javascript object>"
      ]
     },
     "metadata": {},
     "output_type": "display_data"
    },
    {
     "data": {
      "application/javascript": [
       "\n",
       "        if (window._pyforest_update_imports_cell) { window._pyforest_update_imports_cell('import pandas as pd\\nimport re'); }\n",
       "    "
      ],
      "text/plain": [
       "<IPython.core.display.Javascript object>"
      ]
     },
     "metadata": {},
     "output_type": "display_data"
    },
    {
     "data": {
      "application/javascript": [
       "\n",
       "        if (window._pyforest_update_imports_cell) { window._pyforest_update_imports_cell('import pandas as pd\\nimport re'); }\n",
       "    "
      ],
      "text/plain": [
       "<IPython.core.display.Javascript object>"
      ]
     },
     "metadata": {},
     "output_type": "display_data"
    },
    {
     "data": {
      "application/javascript": [
       "\n",
       "        if (window._pyforest_update_imports_cell) { window._pyforest_update_imports_cell('import pandas as pd\\nimport re'); }\n",
       "    "
      ],
      "text/plain": [
       "<IPython.core.display.Javascript object>"
      ]
     },
     "metadata": {},
     "output_type": "display_data"
    },
    {
     "data": {
      "application/javascript": [
       "\n",
       "        if (window._pyforest_update_imports_cell) { window._pyforest_update_imports_cell('import pandas as pd\\nimport re'); }\n",
       "    "
      ],
      "text/plain": [
       "<IPython.core.display.Javascript object>"
      ]
     },
     "metadata": {},
     "output_type": "display_data"
    },
    {
     "data": {
      "application/javascript": [
       "\n",
       "        if (window._pyforest_update_imports_cell) { window._pyforest_update_imports_cell('import pandas as pd\\nimport re'); }\n",
       "    "
      ],
      "text/plain": [
       "<IPython.core.display.Javascript object>"
      ]
     },
     "metadata": {},
     "output_type": "display_data"
    },
    {
     "data": {
      "application/javascript": [
       "\n",
       "        if (window._pyforest_update_imports_cell) { window._pyforest_update_imports_cell('import pandas as pd\\nimport re'); }\n",
       "    "
      ],
      "text/plain": [
       "<IPython.core.display.Javascript object>"
      ]
     },
     "metadata": {},
     "output_type": "display_data"
    },
    {
     "data": {
      "application/javascript": [
       "\n",
       "        if (window._pyforest_update_imports_cell) { window._pyforest_update_imports_cell('import pandas as pd\\nimport re'); }\n",
       "    "
      ],
      "text/plain": [
       "<IPython.core.display.Javascript object>"
      ]
     },
     "metadata": {},
     "output_type": "display_data"
    },
    {
     "data": {
      "application/javascript": [
       "\n",
       "        if (window._pyforest_update_imports_cell) { window._pyforest_update_imports_cell('import pandas as pd\\nimport re'); }\n",
       "    "
      ],
      "text/plain": [
       "<IPython.core.display.Javascript object>"
      ]
     },
     "metadata": {},
     "output_type": "display_data"
    },
    {
     "data": {
      "application/javascript": [
       "\n",
       "        if (window._pyforest_update_imports_cell) { window._pyforest_update_imports_cell('import pandas as pd\\nimport re'); }\n",
       "    "
      ],
      "text/plain": [
       "<IPython.core.display.Javascript object>"
      ]
     },
     "metadata": {},
     "output_type": "display_data"
    },
    {
     "data": {
      "application/javascript": [
       "\n",
       "        if (window._pyforest_update_imports_cell) { window._pyforest_update_imports_cell('import pandas as pd\\nimport re'); }\n",
       "    "
      ],
      "text/plain": [
       "<IPython.core.display.Javascript object>"
      ]
     },
     "metadata": {},
     "output_type": "display_data"
    },
    {
     "data": {
      "application/javascript": [
       "\n",
       "        if (window._pyforest_update_imports_cell) { window._pyforest_update_imports_cell('import pandas as pd\\nimport re'); }\n",
       "    "
      ],
      "text/plain": [
       "<IPython.core.display.Javascript object>"
      ]
     },
     "metadata": {},
     "output_type": "display_data"
    },
    {
     "data": {
      "application/javascript": [
       "\n",
       "        if (window._pyforest_update_imports_cell) { window._pyforest_update_imports_cell('import pandas as pd\\nimport re'); }\n",
       "    "
      ],
      "text/plain": [
       "<IPython.core.display.Javascript object>"
      ]
     },
     "metadata": {},
     "output_type": "display_data"
    },
    {
     "data": {
      "application/javascript": [
       "\n",
       "        if (window._pyforest_update_imports_cell) { window._pyforest_update_imports_cell('import pandas as pd\\nimport re'); }\n",
       "    "
      ],
      "text/plain": [
       "<IPython.core.display.Javascript object>"
      ]
     },
     "metadata": {},
     "output_type": "display_data"
    },
    {
     "data": {
      "application/javascript": [
       "\n",
       "        if (window._pyforest_update_imports_cell) { window._pyforest_update_imports_cell('import pandas as pd\\nimport re'); }\n",
       "    "
      ],
      "text/plain": [
       "<IPython.core.display.Javascript object>"
      ]
     },
     "metadata": {},
     "output_type": "display_data"
    },
    {
     "data": {
      "application/javascript": [
       "\n",
       "        if (window._pyforest_update_imports_cell) { window._pyforest_update_imports_cell('import pandas as pd\\nimport re'); }\n",
       "    "
      ],
      "text/plain": [
       "<IPython.core.display.Javascript object>"
      ]
     },
     "metadata": {},
     "output_type": "display_data"
    },
    {
     "data": {
      "application/javascript": [
       "\n",
       "        if (window._pyforest_update_imports_cell) { window._pyforest_update_imports_cell('import pandas as pd\\nimport re'); }\n",
       "    "
      ],
      "text/plain": [
       "<IPython.core.display.Javascript object>"
      ]
     },
     "metadata": {},
     "output_type": "display_data"
    },
    {
     "data": {
      "application/javascript": [
       "\n",
       "        if (window._pyforest_update_imports_cell) { window._pyforest_update_imports_cell('import pandas as pd\\nimport re'); }\n",
       "    "
      ],
      "text/plain": [
       "<IPython.core.display.Javascript object>"
      ]
     },
     "metadata": {},
     "output_type": "display_data"
    },
    {
     "data": {
      "application/javascript": [
       "\n",
       "        if (window._pyforest_update_imports_cell) { window._pyforest_update_imports_cell('import pandas as pd\\nimport re'); }\n",
       "    "
      ],
      "text/plain": [
       "<IPython.core.display.Javascript object>"
      ]
     },
     "metadata": {},
     "output_type": "display_data"
    },
    {
     "data": {
      "application/javascript": [
       "\n",
       "        if (window._pyforest_update_imports_cell) { window._pyforest_update_imports_cell('import pandas as pd\\nimport re'); }\n",
       "    "
      ],
      "text/plain": [
       "<IPython.core.display.Javascript object>"
      ]
     },
     "metadata": {},
     "output_type": "display_data"
    },
    {
     "data": {
      "application/javascript": [
       "\n",
       "        if (window._pyforest_update_imports_cell) { window._pyforest_update_imports_cell('import pandas as pd\\nimport re'); }\n",
       "    "
      ],
      "text/plain": [
       "<IPython.core.display.Javascript object>"
      ]
     },
     "metadata": {},
     "output_type": "display_data"
    },
    {
     "data": {
      "application/javascript": [
       "\n",
       "        if (window._pyforest_update_imports_cell) { window._pyforest_update_imports_cell('import pandas as pd\\nimport re'); }\n",
       "    "
      ],
      "text/plain": [
       "<IPython.core.display.Javascript object>"
      ]
     },
     "metadata": {},
     "output_type": "display_data"
    },
    {
     "data": {
      "application/javascript": [
       "\n",
       "        if (window._pyforest_update_imports_cell) { window._pyforest_update_imports_cell('import pandas as pd\\nimport re'); }\n",
       "    "
      ],
      "text/plain": [
       "<IPython.core.display.Javascript object>"
      ]
     },
     "metadata": {},
     "output_type": "display_data"
    },
    {
     "data": {
      "application/javascript": [
       "\n",
       "        if (window._pyforest_update_imports_cell) { window._pyforest_update_imports_cell('import pandas as pd\\nimport re'); }\n",
       "    "
      ],
      "text/plain": [
       "<IPython.core.display.Javascript object>"
      ]
     },
     "metadata": {},
     "output_type": "display_data"
    },
    {
     "data": {
      "application/javascript": [
       "\n",
       "        if (window._pyforest_update_imports_cell) { window._pyforest_update_imports_cell('import pandas as pd\\nimport re'); }\n",
       "    "
      ],
      "text/plain": [
       "<IPython.core.display.Javascript object>"
      ]
     },
     "metadata": {},
     "output_type": "display_data"
    },
    {
     "data": {
      "application/javascript": [
       "\n",
       "        if (window._pyforest_update_imports_cell) { window._pyforest_update_imports_cell('import pandas as pd\\nimport re'); }\n",
       "    "
      ],
      "text/plain": [
       "<IPython.core.display.Javascript object>"
      ]
     },
     "metadata": {},
     "output_type": "display_data"
    },
    {
     "data": {
      "application/javascript": [
       "\n",
       "        if (window._pyforest_update_imports_cell) { window._pyforest_update_imports_cell('import pandas as pd\\nimport re'); }\n",
       "    "
      ],
      "text/plain": [
       "<IPython.core.display.Javascript object>"
      ]
     },
     "metadata": {},
     "output_type": "display_data"
    },
    {
     "data": {
      "application/javascript": [
       "\n",
       "        if (window._pyforest_update_imports_cell) { window._pyforest_update_imports_cell('import pandas as pd\\nimport re'); }\n",
       "    "
      ],
      "text/plain": [
       "<IPython.core.display.Javascript object>"
      ]
     },
     "metadata": {},
     "output_type": "display_data"
    },
    {
     "data": {
      "application/javascript": [
       "\n",
       "        if (window._pyforest_update_imports_cell) { window._pyforest_update_imports_cell('import pandas as pd\\nimport re'); }\n",
       "    "
      ],
      "text/plain": [
       "<IPython.core.display.Javascript object>"
      ]
     },
     "metadata": {},
     "output_type": "display_data"
    },
    {
     "data": {
      "application/javascript": [
       "\n",
       "        if (window._pyforest_update_imports_cell) { window._pyforest_update_imports_cell('import pandas as pd\\nimport re'); }\n",
       "    "
      ],
      "text/plain": [
       "<IPython.core.display.Javascript object>"
      ]
     },
     "metadata": {},
     "output_type": "display_data"
    },
    {
     "data": {
      "application/javascript": [
       "\n",
       "        if (window._pyforest_update_imports_cell) { window._pyforest_update_imports_cell('import pandas as pd\\nimport re'); }\n",
       "    "
      ],
      "text/plain": [
       "<IPython.core.display.Javascript object>"
      ]
     },
     "metadata": {},
     "output_type": "display_data"
    },
    {
     "data": {
      "application/javascript": [
       "\n",
       "        if (window._pyforest_update_imports_cell) { window._pyforest_update_imports_cell('import pandas as pd\\nimport re'); }\n",
       "    "
      ],
      "text/plain": [
       "<IPython.core.display.Javascript object>"
      ]
     },
     "metadata": {},
     "output_type": "display_data"
    },
    {
     "data": {
      "application/javascript": [
       "\n",
       "        if (window._pyforest_update_imports_cell) { window._pyforest_update_imports_cell('import pandas as pd\\nimport re'); }\n",
       "    "
      ],
      "text/plain": [
       "<IPython.core.display.Javascript object>"
      ]
     },
     "metadata": {},
     "output_type": "display_data"
    },
    {
     "data": {
      "application/javascript": [
       "\n",
       "        if (window._pyforest_update_imports_cell) { window._pyforest_update_imports_cell('import pandas as pd\\nimport re'); }\n",
       "    "
      ],
      "text/plain": [
       "<IPython.core.display.Javascript object>"
      ]
     },
     "metadata": {},
     "output_type": "display_data"
    },
    {
     "data": {
      "application/javascript": [
       "\n",
       "        if (window._pyforest_update_imports_cell) { window._pyforest_update_imports_cell('import pandas as pd\\nimport re'); }\n",
       "    "
      ],
      "text/plain": [
       "<IPython.core.display.Javascript object>"
      ]
     },
     "metadata": {},
     "output_type": "display_data"
    },
    {
     "data": {
      "application/javascript": [
       "\n",
       "        if (window._pyforest_update_imports_cell) { window._pyforest_update_imports_cell('import pandas as pd\\nimport re'); }\n",
       "    "
      ],
      "text/plain": [
       "<IPython.core.display.Javascript object>"
      ]
     },
     "metadata": {},
     "output_type": "display_data"
    },
    {
     "data": {
      "application/javascript": [
       "\n",
       "        if (window._pyforest_update_imports_cell) { window._pyforest_update_imports_cell('import pandas as pd\\nimport re'); }\n",
       "    "
      ],
      "text/plain": [
       "<IPython.core.display.Javascript object>"
      ]
     },
     "metadata": {},
     "output_type": "display_data"
    },
    {
     "data": {
      "application/javascript": [
       "\n",
       "        if (window._pyforest_update_imports_cell) { window._pyforest_update_imports_cell('import pandas as pd\\nimport re'); }\n",
       "    "
      ],
      "text/plain": [
       "<IPython.core.display.Javascript object>"
      ]
     },
     "metadata": {},
     "output_type": "display_data"
    },
    {
     "data": {
      "application/javascript": [
       "\n",
       "        if (window._pyforest_update_imports_cell) { window._pyforest_update_imports_cell('import pandas as pd\\nimport re'); }\n",
       "    "
      ],
      "text/plain": [
       "<IPython.core.display.Javascript object>"
      ]
     },
     "metadata": {},
     "output_type": "display_data"
    },
    {
     "data": {
      "application/javascript": [
       "\n",
       "        if (window._pyforest_update_imports_cell) { window._pyforest_update_imports_cell('import pandas as pd\\nimport re'); }\n",
       "    "
      ],
      "text/plain": [
       "<IPython.core.display.Javascript object>"
      ]
     },
     "metadata": {},
     "output_type": "display_data"
    },
    {
     "data": {
      "application/javascript": [
       "\n",
       "        if (window._pyforest_update_imports_cell) { window._pyforest_update_imports_cell('import pandas as pd\\nimport re'); }\n",
       "    "
      ],
      "text/plain": [
       "<IPython.core.display.Javascript object>"
      ]
     },
     "metadata": {},
     "output_type": "display_data"
    },
    {
     "data": {
      "application/javascript": [
       "\n",
       "        if (window._pyforest_update_imports_cell) { window._pyforest_update_imports_cell('import pandas as pd\\nimport re'); }\n",
       "    "
      ],
      "text/plain": [
       "<IPython.core.display.Javascript object>"
      ]
     },
     "metadata": {},
     "output_type": "display_data"
    },
    {
     "data": {
      "application/javascript": [
       "\n",
       "        if (window._pyforest_update_imports_cell) { window._pyforest_update_imports_cell('import pandas as pd\\nimport re'); }\n",
       "    "
      ],
      "text/plain": [
       "<IPython.core.display.Javascript object>"
      ]
     },
     "metadata": {},
     "output_type": "display_data"
    },
    {
     "data": {
      "application/javascript": [
       "\n",
       "        if (window._pyforest_update_imports_cell) { window._pyforest_update_imports_cell('import pandas as pd\\nimport re'); }\n",
       "    "
      ],
      "text/plain": [
       "<IPython.core.display.Javascript object>"
      ]
     },
     "metadata": {},
     "output_type": "display_data"
    },
    {
     "data": {
      "application/javascript": [
       "\n",
       "        if (window._pyforest_update_imports_cell) { window._pyforest_update_imports_cell('import pandas as pd\\nimport re'); }\n",
       "    "
      ],
      "text/plain": [
       "<IPython.core.display.Javascript object>"
      ]
     },
     "metadata": {},
     "output_type": "display_data"
    },
    {
     "data": {
      "application/javascript": [
       "\n",
       "        if (window._pyforest_update_imports_cell) { window._pyforest_update_imports_cell('import pandas as pd\\nimport re'); }\n",
       "    "
      ],
      "text/plain": [
       "<IPython.core.display.Javascript object>"
      ]
     },
     "metadata": {},
     "output_type": "display_data"
    },
    {
     "data": {
      "application/javascript": [
       "\n",
       "        if (window._pyforest_update_imports_cell) { window._pyforest_update_imports_cell('import pandas as pd\\nimport re'); }\n",
       "    "
      ],
      "text/plain": [
       "<IPython.core.display.Javascript object>"
      ]
     },
     "metadata": {},
     "output_type": "display_data"
    },
    {
     "data": {
      "application/javascript": [
       "\n",
       "        if (window._pyforest_update_imports_cell) { window._pyforest_update_imports_cell('import pandas as pd\\nimport re'); }\n",
       "    "
      ],
      "text/plain": [
       "<IPython.core.display.Javascript object>"
      ]
     },
     "metadata": {},
     "output_type": "display_data"
    },
    {
     "data": {
      "application/javascript": [
       "\n",
       "        if (window._pyforest_update_imports_cell) { window._pyforest_update_imports_cell('import pandas as pd\\nimport re'); }\n",
       "    "
      ],
      "text/plain": [
       "<IPython.core.display.Javascript object>"
      ]
     },
     "metadata": {},
     "output_type": "display_data"
    },
    {
     "data": {
      "application/javascript": [
       "\n",
       "        if (window._pyforest_update_imports_cell) { window._pyforest_update_imports_cell('import pandas as pd\\nimport re'); }\n",
       "    "
      ],
      "text/plain": [
       "<IPython.core.display.Javascript object>"
      ]
     },
     "metadata": {},
     "output_type": "display_data"
    },
    {
     "data": {
      "application/javascript": [
       "\n",
       "        if (window._pyforest_update_imports_cell) { window._pyforest_update_imports_cell('import pandas as pd\\nimport re'); }\n",
       "    "
      ],
      "text/plain": [
       "<IPython.core.display.Javascript object>"
      ]
     },
     "metadata": {},
     "output_type": "display_data"
    },
    {
     "data": {
      "application/javascript": [
       "\n",
       "        if (window._pyforest_update_imports_cell) { window._pyforest_update_imports_cell('import pandas as pd\\nimport re'); }\n",
       "    "
      ],
      "text/plain": [
       "<IPython.core.display.Javascript object>"
      ]
     },
     "metadata": {},
     "output_type": "display_data"
    },
    {
     "data": {
      "application/javascript": [
       "\n",
       "        if (window._pyforest_update_imports_cell) { window._pyforest_update_imports_cell('import pandas as pd\\nimport re'); }\n",
       "    "
      ],
      "text/plain": [
       "<IPython.core.display.Javascript object>"
      ]
     },
     "metadata": {},
     "output_type": "display_data"
    },
    {
     "data": {
      "application/javascript": [
       "\n",
       "        if (window._pyforest_update_imports_cell) { window._pyforest_update_imports_cell('import pandas as pd\\nimport re'); }\n",
       "    "
      ],
      "text/plain": [
       "<IPython.core.display.Javascript object>"
      ]
     },
     "metadata": {},
     "output_type": "display_data"
    },
    {
     "data": {
      "application/javascript": [
       "\n",
       "        if (window._pyforest_update_imports_cell) { window._pyforest_update_imports_cell('import pandas as pd\\nimport re'); }\n",
       "    "
      ],
      "text/plain": [
       "<IPython.core.display.Javascript object>"
      ]
     },
     "metadata": {},
     "output_type": "display_data"
    },
    {
     "data": {
      "application/javascript": [
       "\n",
       "        if (window._pyforest_update_imports_cell) { window._pyforest_update_imports_cell('import pandas as pd\\nimport re'); }\n",
       "    "
      ],
      "text/plain": [
       "<IPython.core.display.Javascript object>"
      ]
     },
     "metadata": {},
     "output_type": "display_data"
    },
    {
     "data": {
      "application/javascript": [
       "\n",
       "        if (window._pyforest_update_imports_cell) { window._pyforest_update_imports_cell('import pandas as pd\\nimport re'); }\n",
       "    "
      ],
      "text/plain": [
       "<IPython.core.display.Javascript object>"
      ]
     },
     "metadata": {},
     "output_type": "display_data"
    },
    {
     "data": {
      "application/javascript": [
       "\n",
       "        if (window._pyforest_update_imports_cell) { window._pyforest_update_imports_cell('import pandas as pd\\nimport re'); }\n",
       "    "
      ],
      "text/plain": [
       "<IPython.core.display.Javascript object>"
      ]
     },
     "metadata": {},
     "output_type": "display_data"
    },
    {
     "data": {
      "application/javascript": [
       "\n",
       "        if (window._pyforest_update_imports_cell) { window._pyforest_update_imports_cell('import pandas as pd\\nimport re'); }\n",
       "    "
      ],
      "text/plain": [
       "<IPython.core.display.Javascript object>"
      ]
     },
     "metadata": {},
     "output_type": "display_data"
    },
    {
     "data": {
      "application/javascript": [
       "\n",
       "        if (window._pyforest_update_imports_cell) { window._pyforest_update_imports_cell('import pandas as pd\\nimport re'); }\n",
       "    "
      ],
      "text/plain": [
       "<IPython.core.display.Javascript object>"
      ]
     },
     "metadata": {},
     "output_type": "display_data"
    },
    {
     "data": {
      "application/javascript": [
       "\n",
       "        if (window._pyforest_update_imports_cell) { window._pyforest_update_imports_cell('import pandas as pd\\nimport re'); }\n",
       "    "
      ],
      "text/plain": [
       "<IPython.core.display.Javascript object>"
      ]
     },
     "metadata": {},
     "output_type": "display_data"
    },
    {
     "data": {
      "application/javascript": [
       "\n",
       "        if (window._pyforest_update_imports_cell) { window._pyforest_update_imports_cell('import pandas as pd\\nimport re'); }\n",
       "    "
      ],
      "text/plain": [
       "<IPython.core.display.Javascript object>"
      ]
     },
     "metadata": {},
     "output_type": "display_data"
    },
    {
     "data": {
      "application/javascript": [
       "\n",
       "        if (window._pyforest_update_imports_cell) { window._pyforest_update_imports_cell('import pandas as pd\\nimport re'); }\n",
       "    "
      ],
      "text/plain": [
       "<IPython.core.display.Javascript object>"
      ]
     },
     "metadata": {},
     "output_type": "display_data"
    },
    {
     "data": {
      "application/javascript": [
       "\n",
       "        if (window._pyforest_update_imports_cell) { window._pyforest_update_imports_cell('import pandas as pd\\nimport re'); }\n",
       "    "
      ],
      "text/plain": [
       "<IPython.core.display.Javascript object>"
      ]
     },
     "metadata": {},
     "output_type": "display_data"
    },
    {
     "data": {
      "application/javascript": [
       "\n",
       "        if (window._pyforest_update_imports_cell) { window._pyforest_update_imports_cell('import pandas as pd\\nimport re'); }\n",
       "    "
      ],
      "text/plain": [
       "<IPython.core.display.Javascript object>"
      ]
     },
     "metadata": {},
     "output_type": "display_data"
    },
    {
     "data": {
      "application/javascript": [
       "\n",
       "        if (window._pyforest_update_imports_cell) { window._pyforest_update_imports_cell('import pandas as pd\\nimport re'); }\n",
       "    "
      ],
      "text/plain": [
       "<IPython.core.display.Javascript object>"
      ]
     },
     "metadata": {},
     "output_type": "display_data"
    },
    {
     "data": {
      "application/javascript": [
       "\n",
       "        if (window._pyforest_update_imports_cell) { window._pyforest_update_imports_cell('import pandas as pd\\nimport re'); }\n",
       "    "
      ],
      "text/plain": [
       "<IPython.core.display.Javascript object>"
      ]
     },
     "metadata": {},
     "output_type": "display_data"
    },
    {
     "data": {
      "application/javascript": [
       "\n",
       "        if (window._pyforest_update_imports_cell) { window._pyforest_update_imports_cell('import pandas as pd\\nimport re'); }\n",
       "    "
      ],
      "text/plain": [
       "<IPython.core.display.Javascript object>"
      ]
     },
     "metadata": {},
     "output_type": "display_data"
    },
    {
     "data": {
      "application/javascript": [
       "\n",
       "        if (window._pyforest_update_imports_cell) { window._pyforest_update_imports_cell('import pandas as pd\\nimport re'); }\n",
       "    "
      ],
      "text/plain": [
       "<IPython.core.display.Javascript object>"
      ]
     },
     "metadata": {},
     "output_type": "display_data"
    },
    {
     "data": {
      "application/javascript": [
       "\n",
       "        if (window._pyforest_update_imports_cell) { window._pyforest_update_imports_cell('import pandas as pd\\nimport re'); }\n",
       "    "
      ],
      "text/plain": [
       "<IPython.core.display.Javascript object>"
      ]
     },
     "metadata": {},
     "output_type": "display_data"
    },
    {
     "data": {
      "application/javascript": [
       "\n",
       "        if (window._pyforest_update_imports_cell) { window._pyforest_update_imports_cell('import pandas as pd\\nimport re'); }\n",
       "    "
      ],
      "text/plain": [
       "<IPython.core.display.Javascript object>"
      ]
     },
     "metadata": {},
     "output_type": "display_data"
    },
    {
     "data": {
      "application/javascript": [
       "\n",
       "        if (window._pyforest_update_imports_cell) { window._pyforest_update_imports_cell('import pandas as pd\\nimport re'); }\n",
       "    "
      ],
      "text/plain": [
       "<IPython.core.display.Javascript object>"
      ]
     },
     "metadata": {},
     "output_type": "display_data"
    },
    {
     "data": {
      "application/javascript": [
       "\n",
       "        if (window._pyforest_update_imports_cell) { window._pyforest_update_imports_cell('import pandas as pd\\nimport re'); }\n",
       "    "
      ],
      "text/plain": [
       "<IPython.core.display.Javascript object>"
      ]
     },
     "metadata": {},
     "output_type": "display_data"
    },
    {
     "data": {
      "application/javascript": [
       "\n",
       "        if (window._pyforest_update_imports_cell) { window._pyforest_update_imports_cell('import pandas as pd\\nimport re'); }\n",
       "    "
      ],
      "text/plain": [
       "<IPython.core.display.Javascript object>"
      ]
     },
     "metadata": {},
     "output_type": "display_data"
    },
    {
     "data": {
      "application/javascript": [
       "\n",
       "        if (window._pyforest_update_imports_cell) { window._pyforest_update_imports_cell('import pandas as pd\\nimport re'); }\n",
       "    "
      ],
      "text/plain": [
       "<IPython.core.display.Javascript object>"
      ]
     },
     "metadata": {},
     "output_type": "display_data"
    },
    {
     "data": {
      "application/javascript": [
       "\n",
       "        if (window._pyforest_update_imports_cell) { window._pyforest_update_imports_cell('import pandas as pd\\nimport re'); }\n",
       "    "
      ],
      "text/plain": [
       "<IPython.core.display.Javascript object>"
      ]
     },
     "metadata": {},
     "output_type": "display_data"
    },
    {
     "data": {
      "application/javascript": [
       "\n",
       "        if (window._pyforest_update_imports_cell) { window._pyforest_update_imports_cell('import pandas as pd\\nimport re'); }\n",
       "    "
      ],
      "text/plain": [
       "<IPython.core.display.Javascript object>"
      ]
     },
     "metadata": {},
     "output_type": "display_data"
    },
    {
     "data": {
      "application/javascript": [
       "\n",
       "        if (window._pyforest_update_imports_cell) { window._pyforest_update_imports_cell('import pandas as pd\\nimport re'); }\n",
       "    "
      ],
      "text/plain": [
       "<IPython.core.display.Javascript object>"
      ]
     },
     "metadata": {},
     "output_type": "display_data"
    },
    {
     "data": {
      "application/javascript": [
       "\n",
       "        if (window._pyforest_update_imports_cell) { window._pyforest_update_imports_cell('import pandas as pd\\nimport re'); }\n",
       "    "
      ],
      "text/plain": [
       "<IPython.core.display.Javascript object>"
      ]
     },
     "metadata": {},
     "output_type": "display_data"
    },
    {
     "data": {
      "application/javascript": [
       "\n",
       "        if (window._pyforest_update_imports_cell) { window._pyforest_update_imports_cell('import pandas as pd\\nimport re'); }\n",
       "    "
      ],
      "text/plain": [
       "<IPython.core.display.Javascript object>"
      ]
     },
     "metadata": {},
     "output_type": "display_data"
    },
    {
     "data": {
      "application/javascript": [
       "\n",
       "        if (window._pyforest_update_imports_cell) { window._pyforest_update_imports_cell('import pandas as pd\\nimport re'); }\n",
       "    "
      ],
      "text/plain": [
       "<IPython.core.display.Javascript object>"
      ]
     },
     "metadata": {},
     "output_type": "display_data"
    },
    {
     "data": {
      "application/javascript": [
       "\n",
       "        if (window._pyforest_update_imports_cell) { window._pyforest_update_imports_cell('import pandas as pd\\nimport re'); }\n",
       "    "
      ],
      "text/plain": [
       "<IPython.core.display.Javascript object>"
      ]
     },
     "metadata": {},
     "output_type": "display_data"
    },
    {
     "data": {
      "application/javascript": [
       "\n",
       "        if (window._pyforest_update_imports_cell) { window._pyforest_update_imports_cell('import pandas as pd\\nimport re'); }\n",
       "    "
      ],
      "text/plain": [
       "<IPython.core.display.Javascript object>"
      ]
     },
     "metadata": {},
     "output_type": "display_data"
    },
    {
     "data": {
      "application/javascript": [
       "\n",
       "        if (window._pyforest_update_imports_cell) { window._pyforest_update_imports_cell('import pandas as pd\\nimport re'); }\n",
       "    "
      ],
      "text/plain": [
       "<IPython.core.display.Javascript object>"
      ]
     },
     "metadata": {},
     "output_type": "display_data"
    },
    {
     "data": {
      "application/javascript": [
       "\n",
       "        if (window._pyforest_update_imports_cell) { window._pyforest_update_imports_cell('import pandas as pd\\nimport re'); }\n",
       "    "
      ],
      "text/plain": [
       "<IPython.core.display.Javascript object>"
      ]
     },
     "metadata": {},
     "output_type": "display_data"
    },
    {
     "data": {
      "application/javascript": [
       "\n",
       "        if (window._pyforest_update_imports_cell) { window._pyforest_update_imports_cell('import pandas as pd\\nimport re'); }\n",
       "    "
      ],
      "text/plain": [
       "<IPython.core.display.Javascript object>"
      ]
     },
     "metadata": {},
     "output_type": "display_data"
    },
    {
     "data": {
      "application/javascript": [
       "\n",
       "        if (window._pyforest_update_imports_cell) { window._pyforest_update_imports_cell('import pandas as pd\\nimport re'); }\n",
       "    "
      ],
      "text/plain": [
       "<IPython.core.display.Javascript object>"
      ]
     },
     "metadata": {},
     "output_type": "display_data"
    },
    {
     "data": {
      "application/javascript": [
       "\n",
       "        if (window._pyforest_update_imports_cell) { window._pyforest_update_imports_cell('import pandas as pd\\nimport re'); }\n",
       "    "
      ],
      "text/plain": [
       "<IPython.core.display.Javascript object>"
      ]
     },
     "metadata": {},
     "output_type": "display_data"
    },
    {
     "data": {
      "application/javascript": [
       "\n",
       "        if (window._pyforest_update_imports_cell) { window._pyforest_update_imports_cell('import pandas as pd\\nimport re'); }\n",
       "    "
      ],
      "text/plain": [
       "<IPython.core.display.Javascript object>"
      ]
     },
     "metadata": {},
     "output_type": "display_data"
    },
    {
     "data": {
      "application/javascript": [
       "\n",
       "        if (window._pyforest_update_imports_cell) { window._pyforest_update_imports_cell('import pandas as pd\\nimport re'); }\n",
       "    "
      ],
      "text/plain": [
       "<IPython.core.display.Javascript object>"
      ]
     },
     "metadata": {},
     "output_type": "display_data"
    },
    {
     "data": {
      "application/javascript": [
       "\n",
       "        if (window._pyforest_update_imports_cell) { window._pyforest_update_imports_cell('import pandas as pd\\nimport re'); }\n",
       "    "
      ],
      "text/plain": [
       "<IPython.core.display.Javascript object>"
      ]
     },
     "metadata": {},
     "output_type": "display_data"
    },
    {
     "data": {
      "application/javascript": [
       "\n",
       "        if (window._pyforest_update_imports_cell) { window._pyforest_update_imports_cell('import pandas as pd\\nimport re'); }\n",
       "    "
      ],
      "text/plain": [
       "<IPython.core.display.Javascript object>"
      ]
     },
     "metadata": {},
     "output_type": "display_data"
    },
    {
     "data": {
      "application/javascript": [
       "\n",
       "        if (window._pyforest_update_imports_cell) { window._pyforest_update_imports_cell('import pandas as pd\\nimport re'); }\n",
       "    "
      ],
      "text/plain": [
       "<IPython.core.display.Javascript object>"
      ]
     },
     "metadata": {},
     "output_type": "display_data"
    },
    {
     "data": {
      "application/javascript": [
       "\n",
       "        if (window._pyforest_update_imports_cell) { window._pyforest_update_imports_cell('import pandas as pd\\nimport re'); }\n",
       "    "
      ],
      "text/plain": [
       "<IPython.core.display.Javascript object>"
      ]
     },
     "metadata": {},
     "output_type": "display_data"
    },
    {
     "data": {
      "application/javascript": [
       "\n",
       "        if (window._pyforest_update_imports_cell) { window._pyforest_update_imports_cell('import pandas as pd\\nimport re'); }\n",
       "    "
      ],
      "text/plain": [
       "<IPython.core.display.Javascript object>"
      ]
     },
     "metadata": {},
     "output_type": "display_data"
    },
    {
     "data": {
      "application/javascript": [
       "\n",
       "        if (window._pyforest_update_imports_cell) { window._pyforest_update_imports_cell('import pandas as pd\\nimport re'); }\n",
       "    "
      ],
      "text/plain": [
       "<IPython.core.display.Javascript object>"
      ]
     },
     "metadata": {},
     "output_type": "display_data"
    },
    {
     "data": {
      "application/javascript": [
       "\n",
       "        if (window._pyforest_update_imports_cell) { window._pyforest_update_imports_cell('import pandas as pd\\nimport re'); }\n",
       "    "
      ],
      "text/plain": [
       "<IPython.core.display.Javascript object>"
      ]
     },
     "metadata": {},
     "output_type": "display_data"
    },
    {
     "data": {
      "application/javascript": [
       "\n",
       "        if (window._pyforest_update_imports_cell) { window._pyforest_update_imports_cell('import pandas as pd\\nimport re'); }\n",
       "    "
      ],
      "text/plain": [
       "<IPython.core.display.Javascript object>"
      ]
     },
     "metadata": {},
     "output_type": "display_data"
    },
    {
     "data": {
      "application/javascript": [
       "\n",
       "        if (window._pyforest_update_imports_cell) { window._pyforest_update_imports_cell('import pandas as pd\\nimport re'); }\n",
       "    "
      ],
      "text/plain": [
       "<IPython.core.display.Javascript object>"
      ]
     },
     "metadata": {},
     "output_type": "display_data"
    },
    {
     "data": {
      "application/javascript": [
       "\n",
       "        if (window._pyforest_update_imports_cell) { window._pyforest_update_imports_cell('import pandas as pd\\nimport re'); }\n",
       "    "
      ],
      "text/plain": [
       "<IPython.core.display.Javascript object>"
      ]
     },
     "metadata": {},
     "output_type": "display_data"
    },
    {
     "data": {
      "application/javascript": [
       "\n",
       "        if (window._pyforest_update_imports_cell) { window._pyforest_update_imports_cell('import pandas as pd\\nimport re'); }\n",
       "    "
      ],
      "text/plain": [
       "<IPython.core.display.Javascript object>"
      ]
     },
     "metadata": {},
     "output_type": "display_data"
    },
    {
     "data": {
      "application/javascript": [
       "\n",
       "        if (window._pyforest_update_imports_cell) { window._pyforest_update_imports_cell('import pandas as pd\\nimport re'); }\n",
       "    "
      ],
      "text/plain": [
       "<IPython.core.display.Javascript object>"
      ]
     },
     "metadata": {},
     "output_type": "display_data"
    },
    {
     "data": {
      "application/javascript": [
       "\n",
       "        if (window._pyforest_update_imports_cell) { window._pyforest_update_imports_cell('import pandas as pd\\nimport re'); }\n",
       "    "
      ],
      "text/plain": [
       "<IPython.core.display.Javascript object>"
      ]
     },
     "metadata": {},
     "output_type": "display_data"
    },
    {
     "data": {
      "application/javascript": [
       "\n",
       "        if (window._pyforest_update_imports_cell) { window._pyforest_update_imports_cell('import pandas as pd\\nimport re'); }\n",
       "    "
      ],
      "text/plain": [
       "<IPython.core.display.Javascript object>"
      ]
     },
     "metadata": {},
     "output_type": "display_data"
    },
    {
     "data": {
      "application/javascript": [
       "\n",
       "        if (window._pyforest_update_imports_cell) { window._pyforest_update_imports_cell('import pandas as pd\\nimport re'); }\n",
       "    "
      ],
      "text/plain": [
       "<IPython.core.display.Javascript object>"
      ]
     },
     "metadata": {},
     "output_type": "display_data"
    },
    {
     "data": {
      "application/javascript": [
       "\n",
       "        if (window._pyforest_update_imports_cell) { window._pyforest_update_imports_cell('import pandas as pd\\nimport re'); }\n",
       "    "
      ],
      "text/plain": [
       "<IPython.core.display.Javascript object>"
      ]
     },
     "metadata": {},
     "output_type": "display_data"
    },
    {
     "data": {
      "application/javascript": [
       "\n",
       "        if (window._pyforest_update_imports_cell) { window._pyforest_update_imports_cell('import pandas as pd\\nimport re'); }\n",
       "    "
      ],
      "text/plain": [
       "<IPython.core.display.Javascript object>"
      ]
     },
     "metadata": {},
     "output_type": "display_data"
    },
    {
     "data": {
      "application/javascript": [
       "\n",
       "        if (window._pyforest_update_imports_cell) { window._pyforest_update_imports_cell('import pandas as pd\\nimport re'); }\n",
       "    "
      ],
      "text/plain": [
       "<IPython.core.display.Javascript object>"
      ]
     },
     "metadata": {},
     "output_type": "display_data"
    },
    {
     "data": {
      "application/javascript": [
       "\n",
       "        if (window._pyforest_update_imports_cell) { window._pyforest_update_imports_cell('import pandas as pd\\nimport re'); }\n",
       "    "
      ],
      "text/plain": [
       "<IPython.core.display.Javascript object>"
      ]
     },
     "metadata": {},
     "output_type": "display_data"
    },
    {
     "data": {
      "application/javascript": [
       "\n",
       "        if (window._pyforest_update_imports_cell) { window._pyforest_update_imports_cell('import pandas as pd\\nimport re'); }\n",
       "    "
      ],
      "text/plain": [
       "<IPython.core.display.Javascript object>"
      ]
     },
     "metadata": {},
     "output_type": "display_data"
    },
    {
     "data": {
      "application/javascript": [
       "\n",
       "        if (window._pyforest_update_imports_cell) { window._pyforest_update_imports_cell('import pandas as pd\\nimport re'); }\n",
       "    "
      ],
      "text/plain": [
       "<IPython.core.display.Javascript object>"
      ]
     },
     "metadata": {},
     "output_type": "display_data"
    },
    {
     "data": {
      "application/javascript": [
       "\n",
       "        if (window._pyforest_update_imports_cell) { window._pyforest_update_imports_cell('import pandas as pd\\nimport re'); }\n",
       "    "
      ],
      "text/plain": [
       "<IPython.core.display.Javascript object>"
      ]
     },
     "metadata": {},
     "output_type": "display_data"
    },
    {
     "data": {
      "application/javascript": [
       "\n",
       "        if (window._pyforest_update_imports_cell) { window._pyforest_update_imports_cell('import pandas as pd\\nimport re'); }\n",
       "    "
      ],
      "text/plain": [
       "<IPython.core.display.Javascript object>"
      ]
     },
     "metadata": {},
     "output_type": "display_data"
    },
    {
     "data": {
      "application/javascript": [
       "\n",
       "        if (window._pyforest_update_imports_cell) { window._pyforest_update_imports_cell('import pandas as pd\\nimport re'); }\n",
       "    "
      ],
      "text/plain": [
       "<IPython.core.display.Javascript object>"
      ]
     },
     "metadata": {},
     "output_type": "display_data"
    },
    {
     "data": {
      "application/javascript": [
       "\n",
       "        if (window._pyforest_update_imports_cell) { window._pyforest_update_imports_cell('import pandas as pd\\nimport re'); }\n",
       "    "
      ],
      "text/plain": [
       "<IPython.core.display.Javascript object>"
      ]
     },
     "metadata": {},
     "output_type": "display_data"
    },
    {
     "data": {
      "application/javascript": [
       "\n",
       "        if (window._pyforest_update_imports_cell) { window._pyforest_update_imports_cell('import pandas as pd\\nimport re'); }\n",
       "    "
      ],
      "text/plain": [
       "<IPython.core.display.Javascript object>"
      ]
     },
     "metadata": {},
     "output_type": "display_data"
    },
    {
     "data": {
      "application/javascript": [
       "\n",
       "        if (window._pyforest_update_imports_cell) { window._pyforest_update_imports_cell('import pandas as pd\\nimport re'); }\n",
       "    "
      ],
      "text/plain": [
       "<IPython.core.display.Javascript object>"
      ]
     },
     "metadata": {},
     "output_type": "display_data"
    },
    {
     "data": {
      "application/javascript": [
       "\n",
       "        if (window._pyforest_update_imports_cell) { window._pyforest_update_imports_cell('import pandas as pd\\nimport re'); }\n",
       "    "
      ],
      "text/plain": [
       "<IPython.core.display.Javascript object>"
      ]
     },
     "metadata": {},
     "output_type": "display_data"
    },
    {
     "data": {
      "application/javascript": [
       "\n",
       "        if (window._pyforest_update_imports_cell) { window._pyforest_update_imports_cell('import pandas as pd\\nimport re'); }\n",
       "    "
      ],
      "text/plain": [
       "<IPython.core.display.Javascript object>"
      ]
     },
     "metadata": {},
     "output_type": "display_data"
    },
    {
     "data": {
      "application/javascript": [
       "\n",
       "        if (window._pyforest_update_imports_cell) { window._pyforest_update_imports_cell('import pandas as pd\\nimport re'); }\n",
       "    "
      ],
      "text/plain": [
       "<IPython.core.display.Javascript object>"
      ]
     },
     "metadata": {},
     "output_type": "display_data"
    },
    {
     "data": {
      "application/javascript": [
       "\n",
       "        if (window._pyforest_update_imports_cell) { window._pyforest_update_imports_cell('import pandas as pd\\nimport re'); }\n",
       "    "
      ],
      "text/plain": [
       "<IPython.core.display.Javascript object>"
      ]
     },
     "metadata": {},
     "output_type": "display_data"
    },
    {
     "data": {
      "application/javascript": [
       "\n",
       "        if (window._pyforest_update_imports_cell) { window._pyforest_update_imports_cell('import pandas as pd\\nimport re'); }\n",
       "    "
      ],
      "text/plain": [
       "<IPython.core.display.Javascript object>"
      ]
     },
     "metadata": {},
     "output_type": "display_data"
    },
    {
     "data": {
      "application/javascript": [
       "\n",
       "        if (window._pyforest_update_imports_cell) { window._pyforest_update_imports_cell('import pandas as pd\\nimport re'); }\n",
       "    "
      ],
      "text/plain": [
       "<IPython.core.display.Javascript object>"
      ]
     },
     "metadata": {},
     "output_type": "display_data"
    },
    {
     "data": {
      "application/javascript": [
       "\n",
       "        if (window._pyforest_update_imports_cell) { window._pyforest_update_imports_cell('import pandas as pd\\nimport re'); }\n",
       "    "
      ],
      "text/plain": [
       "<IPython.core.display.Javascript object>"
      ]
     },
     "metadata": {},
     "output_type": "display_data"
    },
    {
     "data": {
      "application/javascript": [
       "\n",
       "        if (window._pyforest_update_imports_cell) { window._pyforest_update_imports_cell('import pandas as pd\\nimport re'); }\n",
       "    "
      ],
      "text/plain": [
       "<IPython.core.display.Javascript object>"
      ]
     },
     "metadata": {},
     "output_type": "display_data"
    }
   ],
   "source": [
    "df['Tweets'] = df['Tweets'].apply(cleaningText)"
   ]
  },
  {
   "cell_type": "code",
   "execution_count": 20,
   "metadata": {},
   "outputs": [
    {
     "data": {
      "text/html": [
       "<div>\n",
       "<style scoped>\n",
       "    .dataframe tbody tr th:only-of-type {\n",
       "        vertical-align: middle;\n",
       "    }\n",
       "\n",
       "    .dataframe tbody tr th {\n",
       "        vertical-align: top;\n",
       "    }\n",
       "\n",
       "    .dataframe thead th {\n",
       "        text-align: right;\n",
       "    }\n",
       "</style>\n",
       "<table border=\"1\" class=\"dataframe\">\n",
       "  <thead>\n",
       "    <tr style=\"text-align: right;\">\n",
       "      <th></th>\n",
       "      <th>Tweets</th>\n",
       "    </tr>\n",
       "  </thead>\n",
       "  <tbody>\n",
       "    <tr>\n",
       "      <th>0</th>\n",
       "      <td>_JuicyFruit  Faster data access, faster + more...</td>\n",
       "    </tr>\n",
       "    <tr>\n",
       "      <th>1</th>\n",
       "      <td>LOL about some tech journo writing a news arti...</td>\n",
       "    </tr>\n",
       "    <tr>\n",
       "      <th>2</th>\n",
       "      <td>More evidence that the future of high performa...</td>\n",
       "    </tr>\n",
       "    <tr>\n",
       "      <th>3</th>\n",
       "      <td>You know that feeling in a video game when you...</td>\n",
       "    </tr>\n",
       "    <tr>\n",
       "      <th>4</th>\n",
       "      <td>: I just discovered this quote from pandas cre...</td>\n",
       "    </tr>\n",
       "    <tr>\n",
       "      <th>...</th>\n",
       "      <td>...</td>\n",
       "    </tr>\n",
       "    <tr>\n",
       "      <th>95</th>\n",
       "      <td>About my feelings about open source \"user enti...</td>\n",
       "    </tr>\n",
       "    <tr>\n",
       "      <th>96</th>\n",
       "      <td>Generally people use \"Is this on the roadmap?...</td>\n",
       "    </tr>\n",
       "    <tr>\n",
       "      <th>97</th>\n",
       "      <td>Really anything but expressing the expectatio...</td>\n",
       "    </tr>\n",
       "    <tr>\n",
       "      <th>98</th>\n",
       "      <td>It's true (and the feedback is helpful). I th...</td>\n",
       "    </tr>\n",
       "    <tr>\n",
       "      <th>99</th>\n",
       "      <td>: I'm disappointed to see lack of progress her...</td>\n",
       "    </tr>\n",
       "  </tbody>\n",
       "</table>\n",
       "<p>100 rows × 1 columns</p>\n",
       "</div>"
      ],
      "text/plain": [
       "                                               Tweets\n",
       "0   _JuicyFruit  Faster data access, faster + more...\n",
       "1   LOL about some tech journo writing a news arti...\n",
       "2   More evidence that the future of high performa...\n",
       "3   You know that feeling in a video game when you...\n",
       "4   : I just discovered this quote from pandas cre...\n",
       "..                                                ...\n",
       "95  About my feelings about open source \"user enti...\n",
       "96   Generally people use \"Is this on the roadmap?...\n",
       "97   Really anything but expressing the expectatio...\n",
       "98   It's true (and the feedback is helpful). I th...\n",
       "99  : I'm disappointed to see lack of progress her...\n",
       "\n",
       "[100 rows x 1 columns]"
      ]
     },
     "execution_count": 20,
     "metadata": {},
     "output_type": "execute_result"
    }
   ],
   "source": [
    "df "
   ]
  },
  {
   "cell_type": "code",
   "execution_count": 21,
   "metadata": {},
   "outputs": [],
   "source": [
    "\n",
    "# Create a function to get the subjectivity\n",
    "def getSubjectivity(text):\n",
    "    return TextBlob(text).sentiment.subjectivity\n",
    "\n",
    "# Create a function to get the polarity\n",
    "def getPolarity(text):\n",
    "    return  TextBlob(text).sentiment.polarity"
   ]
  },
  {
   "cell_type": "code",
   "execution_count": 22,
   "metadata": {},
   "outputs": [],
   "source": [
    "df['Subjectivity'] = df['Tweets'].apply(getSubjectivity)"
   ]
  },
  {
   "cell_type": "code",
   "execution_count": 23,
   "metadata": {},
   "outputs": [
    {
     "data": {
      "text/html": [
       "<div>\n",
       "<style scoped>\n",
       "    .dataframe tbody tr th:only-of-type {\n",
       "        vertical-align: middle;\n",
       "    }\n",
       "\n",
       "    .dataframe tbody tr th {\n",
       "        vertical-align: top;\n",
       "    }\n",
       "\n",
       "    .dataframe thead th {\n",
       "        text-align: right;\n",
       "    }\n",
       "</style>\n",
       "<table border=\"1\" class=\"dataframe\">\n",
       "  <thead>\n",
       "    <tr style=\"text-align: right;\">\n",
       "      <th></th>\n",
       "      <th>Tweets</th>\n",
       "      <th>Subjectivity</th>\n",
       "    </tr>\n",
       "  </thead>\n",
       "  <tbody>\n",
       "    <tr>\n",
       "      <th>0</th>\n",
       "      <td>_JuicyFruit  Faster data access, faster + more...</td>\n",
       "      <td>0.533333</td>\n",
       "    </tr>\n",
       "    <tr>\n",
       "      <th>1</th>\n",
       "      <td>LOL about some tech journo writing a news arti...</td>\n",
       "      <td>0.700000</td>\n",
       "    </tr>\n",
       "    <tr>\n",
       "      <th>2</th>\n",
       "      <td>More evidence that the future of high performa...</td>\n",
       "      <td>0.388333</td>\n",
       "    </tr>\n",
       "    <tr>\n",
       "      <th>3</th>\n",
       "      <td>You know that feeling in a video game when you...</td>\n",
       "      <td>0.407407</td>\n",
       "    </tr>\n",
       "    <tr>\n",
       "      <th>4</th>\n",
       "      <td>: I just discovered this quote from pandas cre...</td>\n",
       "      <td>0.500000</td>\n",
       "    </tr>\n",
       "    <tr>\n",
       "      <th>...</th>\n",
       "      <td>...</td>\n",
       "      <td>...</td>\n",
       "    </tr>\n",
       "    <tr>\n",
       "      <th>95</th>\n",
       "      <td>About my feelings about open source \"user enti...</td>\n",
       "      <td>0.540000</td>\n",
       "    </tr>\n",
       "    <tr>\n",
       "      <th>96</th>\n",
       "      <td>Generally people use \"Is this on the roadmap?...</td>\n",
       "      <td>0.500000</td>\n",
       "    </tr>\n",
       "    <tr>\n",
       "      <th>97</th>\n",
       "      <td>Really anything but expressing the expectatio...</td>\n",
       "      <td>0.500000</td>\n",
       "    </tr>\n",
       "    <tr>\n",
       "      <th>98</th>\n",
       "      <td>It's true (and the feedback is helpful). I th...</td>\n",
       "      <td>0.716667</td>\n",
       "    </tr>\n",
       "    <tr>\n",
       "      <th>99</th>\n",
       "      <td>: I'm disappointed to see lack of progress her...</td>\n",
       "      <td>0.750000</td>\n",
       "    </tr>\n",
       "  </tbody>\n",
       "</table>\n",
       "<p>100 rows × 2 columns</p>\n",
       "</div>"
      ],
      "text/plain": [
       "                                               Tweets  Subjectivity\n",
       "0   _JuicyFruit  Faster data access, faster + more...      0.533333\n",
       "1   LOL about some tech journo writing a news arti...      0.700000\n",
       "2   More evidence that the future of high performa...      0.388333\n",
       "3   You know that feeling in a video game when you...      0.407407\n",
       "4   : I just discovered this quote from pandas cre...      0.500000\n",
       "..                                                ...           ...\n",
       "95  About my feelings about open source \"user enti...      0.540000\n",
       "96   Generally people use \"Is this on the roadmap?...      0.500000\n",
       "97   Really anything but expressing the expectatio...      0.500000\n",
       "98   It's true (and the feedback is helpful). I th...      0.716667\n",
       "99  : I'm disappointed to see lack of progress her...      0.750000\n",
       "\n",
       "[100 rows x 2 columns]"
      ]
     },
     "execution_count": 23,
     "metadata": {},
     "output_type": "execute_result"
    }
   ],
   "source": [
    "df "
   ]
  },
  {
   "cell_type": "code",
   "execution_count": 24,
   "metadata": {},
   "outputs": [],
   "source": [
    "df['Polarity'] = df['Tweets'].apply(getPolarity)"
   ]
  },
  {
   "cell_type": "code",
   "execution_count": 25,
   "metadata": {},
   "outputs": [
    {
     "data": {
      "text/html": [
       "<div>\n",
       "<style scoped>\n",
       "    .dataframe tbody tr th:only-of-type {\n",
       "        vertical-align: middle;\n",
       "    }\n",
       "\n",
       "    .dataframe tbody tr th {\n",
       "        vertical-align: top;\n",
       "    }\n",
       "\n",
       "    .dataframe thead th {\n",
       "        text-align: right;\n",
       "    }\n",
       "</style>\n",
       "<table border=\"1\" class=\"dataframe\">\n",
       "  <thead>\n",
       "    <tr style=\"text-align: right;\">\n",
       "      <th></th>\n",
       "      <th>Tweets</th>\n",
       "      <th>Subjectivity</th>\n",
       "      <th>Polarity</th>\n",
       "    </tr>\n",
       "  </thead>\n",
       "  <tbody>\n",
       "    <tr>\n",
       "      <th>0</th>\n",
       "      <td>_JuicyFruit  Faster data access, faster + more...</td>\n",
       "      <td>0.533333</td>\n",
       "      <td>0.400000</td>\n",
       "    </tr>\n",
       "    <tr>\n",
       "      <th>1</th>\n",
       "      <td>LOL about some tech journo writing a news arti...</td>\n",
       "      <td>0.700000</td>\n",
       "      <td>0.800000</td>\n",
       "    </tr>\n",
       "    <tr>\n",
       "      <th>2</th>\n",
       "      <td>More evidence that the future of high performa...</td>\n",
       "      <td>0.388333</td>\n",
       "      <td>0.233333</td>\n",
       "    </tr>\n",
       "    <tr>\n",
       "      <th>3</th>\n",
       "      <td>You know that feeling in a video game when you...</td>\n",
       "      <td>0.407407</td>\n",
       "      <td>0.100231</td>\n",
       "    </tr>\n",
       "    <tr>\n",
       "      <th>4</th>\n",
       "      <td>: I just discovered this quote from pandas cre...</td>\n",
       "      <td>0.500000</td>\n",
       "      <td>0.300000</td>\n",
       "    </tr>\n",
       "    <tr>\n",
       "      <th>...</th>\n",
       "      <td>...</td>\n",
       "      <td>...</td>\n",
       "      <td>...</td>\n",
       "    </tr>\n",
       "    <tr>\n",
       "      <th>95</th>\n",
       "      <td>About my feelings about open source \"user enti...</td>\n",
       "      <td>0.540000</td>\n",
       "      <td>0.240000</td>\n",
       "    </tr>\n",
       "    <tr>\n",
       "      <th>96</th>\n",
       "      <td>Generally people use \"Is this on the roadmap?...</td>\n",
       "      <td>0.500000</td>\n",
       "      <td>0.050000</td>\n",
       "    </tr>\n",
       "    <tr>\n",
       "      <th>97</th>\n",
       "      <td>Really anything but expressing the expectatio...</td>\n",
       "      <td>0.500000</td>\n",
       "      <td>0.300000</td>\n",
       "    </tr>\n",
       "    <tr>\n",
       "      <th>98</th>\n",
       "      <td>It's true (and the feedback is helpful). I th...</td>\n",
       "      <td>0.716667</td>\n",
       "      <td>0.483333</td>\n",
       "    </tr>\n",
       "    <tr>\n",
       "      <th>99</th>\n",
       "      <td>: I'm disappointed to see lack of progress her...</td>\n",
       "      <td>0.750000</td>\n",
       "      <td>-0.750000</td>\n",
       "    </tr>\n",
       "  </tbody>\n",
       "</table>\n",
       "<p>100 rows × 3 columns</p>\n",
       "</div>"
      ],
      "text/plain": [
       "                                               Tweets  Subjectivity  Polarity\n",
       "0   _JuicyFruit  Faster data access, faster + more...      0.533333  0.400000\n",
       "1   LOL about some tech journo writing a news arti...      0.700000  0.800000\n",
       "2   More evidence that the future of high performa...      0.388333  0.233333\n",
       "3   You know that feeling in a video game when you...      0.407407  0.100231\n",
       "4   : I just discovered this quote from pandas cre...      0.500000  0.300000\n",
       "..                                                ...           ...       ...\n",
       "95  About my feelings about open source \"user enti...      0.540000  0.240000\n",
       "96   Generally people use \"Is this on the roadmap?...      0.500000  0.050000\n",
       "97   Really anything but expressing the expectatio...      0.500000  0.300000\n",
       "98   It's true (and the feedback is helpful). I th...      0.716667  0.483333\n",
       "99  : I'm disappointed to see lack of progress her...      0.750000 -0.750000\n",
       "\n",
       "[100 rows x 3 columns]"
      ]
     },
     "execution_count": 25,
     "metadata": {},
     "output_type": "execute_result"
    }
   ],
   "source": [
    "df"
   ]
  },
  {
   "cell_type": "code",
   "execution_count": 26,
   "metadata": {},
   "outputs": [],
   "source": [
    "all_words = ' '.join([tw for tw in df['Tweets']])"
   ]
  },
  {
   "cell_type": "code",
   "execution_count": 27,
   "metadata": {},
   "outputs": [],
   "source": [
    "from wordcloud import WordCloud\n",
    "WordCLOUD = WordCloud(width=500,height=400,random_state=20,max_font_size=100)\n",
    "Wordd = WordCLOUD.generate(all_words)"
   ]
  },
  {
   "cell_type": "code",
   "execution_count": 28,
   "metadata": {},
   "outputs": [
    {
     "data": {
      "application/javascript": [
       "\n",
       "        if (window._pyforest_update_imports_cell) { window._pyforest_update_imports_cell('import pandas as pd\\nimport matplotlib.pyplot as plt\\nimport re'); }\n",
       "    "
      ],
      "text/plain": [
       "<IPython.core.display.Javascript object>"
      ]
     },
     "metadata": {},
     "output_type": "display_data"
    },
    {
     "data": {
      "application/javascript": [
       "\n",
       "        if (window._pyforest_update_imports_cell) { window._pyforest_update_imports_cell('import pandas as pd\\nimport matplotlib.pyplot as plt\\nimport re'); }\n",
       "    "
      ],
      "text/plain": [
       "<IPython.core.display.Javascript object>"
      ]
     },
     "metadata": {},
     "output_type": "display_data"
    },
    {
     "data": {
      "application/javascript": [
       "\n",
       "        if (window._pyforest_update_imports_cell) { window._pyforest_update_imports_cell('import pandas as pd\\nimport matplotlib.pyplot as plt\\nimport re'); }\n",
       "    "
      ],
      "text/plain": [
       "<IPython.core.display.Javascript object>"
      ]
     },
     "metadata": {},
     "output_type": "display_data"
    },
    {
     "data": {
      "image/png": "[encoded data removed]",
      "text/plain": [
       "<Figure size 432x288 with 1 Axes>"
      ]
     },
     "metadata": {
      "needs_background": "light"
     },
     "output_type": "display_data"
    }
   ],
   "source": [
    "plt.imshow(Wordd,interpolation='bicubic')\n",
    "plt.axis('off')\n",
    "plt.show()"
   ]
  },
  {
   "cell_type": "code",
   "execution_count": 29,
   "metadata": {},
   "outputs": [],
   "source": [
    "from PIL import Image"
   ]
  },
  {
   "cell_type": "code",
   "execution_count": 30,
   "metadata": {},
   "outputs": [
    {
     "data": {
      "application/javascript": [
       "\n",
       "        if (window._pyforest_update_imports_cell) { window._pyforest_update_imports_cell('import re\\nimport pandas as pd\\nimport matplotlib.pyplot as plt\\nimport numpy as np'); }\n",
       "    "
      ],
      "text/plain": [
       "<IPython.core.display.Javascript object>"
      ]
     },
     "metadata": {},
     "output_type": "display_data"
    }
   ],
   "source": [
    "mask = np.array(Image.open((\"abc.jpg\")))"
   ]
  },
  {
   "cell_type": "code",
   "execution_count": 32,
   "metadata": {},
   "outputs": [
    {
     "data": {
      "application/javascript": [
       "\n",
       "        if (window._pyforest_update_imports_cell) { window._pyforest_update_imports_cell('import re\\nimport pandas as pd\\nimport matplotlib.pyplot as plt\\nimport numpy as np'); }\n",
       "    "
      ],
      "text/plain": [
       "<IPython.core.display.Javascript object>"
      ]
     },
     "metadata": {},
     "output_type": "display_data"
    },
    {
     "data": {
      "application/javascript": [
       "\n",
       "        if (window._pyforest_update_imports_cell) { window._pyforest_update_imports_cell('import re\\nimport pandas as pd\\nimport matplotlib.pyplot as plt\\nimport numpy as np'); }\n",
       "    "
      ],
      "text/plain": [
       "<IPython.core.display.Javascript object>"
      ]
     },
     "metadata": {},
     "output_type": "display_data"
    },
    {
     "data": {
      "application/javascript": [
       "\n",
       "        if (window._pyforest_update_imports_cell) { window._pyforest_update_imports_cell('import re\\nimport pandas as pd\\nimport matplotlib.pyplot as plt\\nimport numpy as np'); }\n",
       "    "
      ],
      "text/plain": [
       "<IPython.core.display.Javascript object>"
      ]
     },
     "metadata": {},
     "output_type": "display_data"
    },
    {
     "data": {
      "application/javascript": [
       "\n",
       "        if (window._pyforest_update_imports_cell) { window._pyforest_update_imports_cell('import re\\nimport pandas as pd\\nimport matplotlib.pyplot as plt\\nimport numpy as np'); }\n",
       "    "
      ],
      "text/plain": [
       "<IPython.core.display.Javascript object>"
      ]
     },
     "metadata": {},
     "output_type": "display_data"
    },
    {
     "data": {
      "image/png": "[encoded data removed]",
      "text/plain": [
       "<Figure size 1080x864 with 1 Axes>"
      ]
     },
     "metadata": {
      "needs_background": "light"
     },
     "output_type": "display_data"
    }
   ],
   "source": [
    "x = WordCloud(mask=mask,width=700,height=600,random_state=20,max_font_size=120).generate(all_words)\n",
    "plt.figure(figsize=(15,12))\n",
    "plt.imshow(x, interpolation=\"bilinear\")\n",
    "plt.axis(\"off\")\n",
    "plt.show()\n",
    "\n"
   ]
  },
  {
   "cell_type": "code",
   "execution_count": 33,
   "metadata": {},
   "outputs": [],
   "source": [
    "def getAnalysis(score):\n",
    "    if score < 0:\n",
    "        return 'Negative'\n",
    "    elif score == 0:\n",
    "        return 'Neutral'\n",
    "    else:\n",
    "        return 'Positive'\n",
    "    \n",
    "    "
   ]
  },
  {
   "cell_type": "code",
   "execution_count": 34,
   "metadata": {},
   "outputs": [],
   "source": [
    "df['Analysis'] = df['Polarity'].apply(getAnalysis)"
   ]
  },
  {
   "cell_type": "code",
   "execution_count": 35,
   "metadata": {},
   "outputs": [
    {
     "data": {
      "text/html": [
       "<div>\n",
       "<style scoped>\n",
       "    .dataframe tbody tr th:only-of-type {\n",
       "        vertical-align: middle;\n",
       "    }\n",
       "\n",
       "    .dataframe tbody tr th {\n",
       "        vertical-align: top;\n",
       "    }\n",
       "\n",
       "    .dataframe thead th {\n",
       "        text-align: right;\n",
       "    }\n",
       "</style>\n",
       "<table border=\"1\" class=\"dataframe\">\n",
       "  <thead>\n",
       "    <tr style=\"text-align: right;\">\n",
       "      <th></th>\n",
       "      <th>Tweets</th>\n",
       "      <th>Subjectivity</th>\n",
       "      <th>Polarity</th>\n",
       "      <th>Analysis</th>\n",
       "    </tr>\n",
       "  </thead>\n",
       "  <tbody>\n",
       "    <tr>\n",
       "      <th>0</th>\n",
       "      <td>_JuicyFruit  Faster data access, faster + more...</td>\n",
       "      <td>0.533333</td>\n",
       "      <td>0.400000</td>\n",
       "      <td>Positive</td>\n",
       "    </tr>\n",
       "    <tr>\n",
       "      <th>1</th>\n",
       "      <td>LOL about some tech journo writing a news arti...</td>\n",
       "      <td>0.700000</td>\n",
       "      <td>0.800000</td>\n",
       "      <td>Positive</td>\n",
       "    </tr>\n",
       "    <tr>\n",
       "      <th>2</th>\n",
       "      <td>More evidence that the future of high performa...</td>\n",
       "      <td>0.388333</td>\n",
       "      <td>0.233333</td>\n",
       "      <td>Positive</td>\n",
       "    </tr>\n",
       "    <tr>\n",
       "      <th>3</th>\n",
       "      <td>You know that feeling in a video game when you...</td>\n",
       "      <td>0.407407</td>\n",
       "      <td>0.100231</td>\n",
       "      <td>Positive</td>\n",
       "    </tr>\n",
       "    <tr>\n",
       "      <th>4</th>\n",
       "      <td>: I just discovered this quote from pandas cre...</td>\n",
       "      <td>0.500000</td>\n",
       "      <td>0.300000</td>\n",
       "      <td>Positive</td>\n",
       "    </tr>\n",
       "    <tr>\n",
       "      <th>...</th>\n",
       "      <td>...</td>\n",
       "      <td>...</td>\n",
       "      <td>...</td>\n",
       "      <td>...</td>\n",
       "    </tr>\n",
       "    <tr>\n",
       "      <th>95</th>\n",
       "      <td>About my feelings about open source \"user enti...</td>\n",
       "      <td>0.540000</td>\n",
       "      <td>0.240000</td>\n",
       "      <td>Positive</td>\n",
       "    </tr>\n",
       "    <tr>\n",
       "      <th>96</th>\n",
       "      <td>Generally people use \"Is this on the roadmap?...</td>\n",
       "      <td>0.500000</td>\n",
       "      <td>0.050000</td>\n",
       "      <td>Positive</td>\n",
       "    </tr>\n",
       "    <tr>\n",
       "      <th>97</th>\n",
       "      <td>Really anything but expressing the expectatio...</td>\n",
       "      <td>0.500000</td>\n",
       "      <td>0.300000</td>\n",
       "      <td>Positive</td>\n",
       "    </tr>\n",
       "    <tr>\n",
       "      <th>98</th>\n",
       "      <td>It's true (and the feedback is helpful). I th...</td>\n",
       "      <td>0.716667</td>\n",
       "      <td>0.483333</td>\n",
       "      <td>Positive</td>\n",
       "    </tr>\n",
       "    <tr>\n",
       "      <th>99</th>\n",
       "      <td>: I'm disappointed to see lack of progress her...</td>\n",
       "      <td>0.750000</td>\n",
       "      <td>-0.750000</td>\n",
       "      <td>Negative</td>\n",
       "    </tr>\n",
       "  </tbody>\n",
       "</table>\n",
       "<p>100 rows × 4 columns</p>\n",
       "</div>"
      ],
      "text/plain": [
       "                                               Tweets  Subjectivity  Polarity  \\\n",
       "0   _JuicyFruit  Faster data access, faster + more...      0.533333  0.400000   \n",
       "1   LOL about some tech journo writing a news arti...      0.700000  0.800000   \n",
       "2   More evidence that the future of high performa...      0.388333  0.233333   \n",
       "3   You know that feeling in a video game when you...      0.407407  0.100231   \n",
       "4   : I just discovered this quote from pandas cre...      0.500000  0.300000   \n",
       "..                                                ...           ...       ...   \n",
       "95  About my feelings about open source \"user enti...      0.540000  0.240000   \n",
       "96   Generally people use \"Is this on the roadmap?...      0.500000  0.050000   \n",
       "97   Really anything but expressing the expectatio...      0.500000  0.300000   \n",
       "98   It's true (and the feedback is helpful). I th...      0.716667  0.483333   \n",
       "99  : I'm disappointed to see lack of progress her...      0.750000 -0.750000   \n",
       "\n",
       "    Analysis  \n",
       "0   Positive  \n",
       "1   Positive  \n",
       "2   Positive  \n",
       "3   Positive  \n",
       "4   Positive  \n",
       "..       ...  \n",
       "95  Positive  \n",
       "96  Positive  \n",
       "97  Positive  \n",
       "98  Positive  \n",
       "99  Negative  \n",
       "\n",
       "[100 rows x 4 columns]"
      ]
     },
     "execution_count": 35,
     "metadata": {},
     "output_type": "execute_result"
    }
   ],
   "source": [
    "df "
   ]
  },
  {
   "cell_type": "code",
   "execution_count": 36,
   "metadata": {},
   "outputs": [
    {
     "data": {
      "application/javascript": [
       "\n",
       "        if (window._pyforest_update_imports_cell) { window._pyforest_update_imports_cell('import re\\nimport pandas as pd\\nimport matplotlib.pyplot as plt\\nimport numpy as np'); }\n",
       "    "
      ],
      "text/plain": [
       "<IPython.core.display.Javascript object>"
      ]
     },
     "metadata": {},
     "output_type": "display_data"
    },
    {
     "data": {
      "application/javascript": [
       "\n",
       "        if (window._pyforest_update_imports_cell) { window._pyforest_update_imports_cell('import re\\nimport pandas as pd\\nimport matplotlib.pyplot as plt\\nimport numpy as np'); }\n",
       "    "
      ],
      "text/plain": [
       "<IPython.core.display.Javascript object>"
      ]
     },
     "metadata": {},
     "output_type": "display_data"
    },
    {
     "data": {
      "application/javascript": [
       "\n",
       "        if (window._pyforest_update_imports_cell) { window._pyforest_update_imports_cell('import re\\nimport pandas as pd\\nimport matplotlib.pyplot as plt\\nimport numpy as np'); }\n",
       "    "
      ],
      "text/plain": [
       "<IPython.core.display.Javascript object>"
      ]
     },
     "metadata": {},
     "output_type": "display_data"
    },
    {
     "data": {
      "application/javascript": [
       "\n",
       "        if (window._pyforest_update_imports_cell) { window._pyforest_update_imports_cell('import re\\nimport pandas as pd\\nimport matplotlib.pyplot as plt\\nimport numpy as np'); }\n",
       "    "
      ],
      "text/plain": [
       "<IPython.core.display.Javascript object>"
      ]
     },
     "metadata": {},
     "output_type": "display_data"
    },
    {
     "data": {
      "image/png": "[encoded data removed]",
      "text/plain": [
       "<Figure size 432x288 with 1 Axes>"
      ]
     },
     "metadata": {
      "needs_background": "light"
     },
     "output_type": "display_data"
    }
   ],
   "source": [
    "plt.title('Sentiment Analysis')\n",
    "plt.xlabel('Sentiment')\n",
    "plt.ylabel('Counts')\n",
    "df['Analysis'].value_counts().plot(kind = 'bar')\n",
    "plt.show()"
   ]
  },
  {
   "cell_type": "code",
   "execution_count": null,
   "metadata": {},
   "outputs": [],
   "source": []
  }
 ],
 "metadata": {
  "kernelspec": {
   "display_name": "Python 3",
   "language": "python",
   "name": "python3"
  },
  "language_info": {
   "codemirror_mode": {
    "name": "ipython",
    "version": 3
   },
   "file_extension": ".py",
   "mimetype": "text/x-python",
   "name": "python",
   "nbconvert_exporter": "python",
   "pygments_lexer": "ipython3",
   "version": "3.7.7"
  },
  "toc": {
   "base_numbering": 1,
   "nav_menu": {},
   "number_sections": true,
   "sideBar": true,
   "skip_h1_title": false,
   "title_cell": "Table of Contents",
   "title_sidebar": "Contents",
   "toc_cell": false,
   "toc_position": {},
   "toc_section_display": true,
   "toc_window_display": false
  }
 },
 "nbformat": 4,
 "nbformat_minor": 4
}
